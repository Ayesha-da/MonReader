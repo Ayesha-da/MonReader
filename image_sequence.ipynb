{
 "cells": [
  {
   "cell_type": "code",
   "execution_count": 1,
   "id": "cc091306",
   "metadata": {},
   "outputs": [
    {
     "name": "stderr",
     "output_type": "stream",
     "text": [
      "Using TensorFlow backend.\n"
     ]
    }
   ],
   "source": [
    "import os\n",
    "import glob\n",
    "import tensorflow.keras\n",
    "from keras_video import VideoFrameGenerator\n",
    "\n",
    "import tensorflow.keras.utils"
   ]
  },
  {
   "cell_type": "code",
   "execution_count": 2,
   "id": "9e408c17",
   "metadata": {},
   "outputs": [],
   "source": [
    "import cv2\n",
    "\n",
    "\n",
    "image_folder = 'Resources/images/training/flip'\n",
    "video_name = 'video.avi'\n",
    "\n",
    "images = [img for img in os.listdir(image_folder) if img.startswith(\"0001\")]\n",
    "frame = cv2.imread(os.path.join(image_folder, images[0]))\n",
    "height, width, layers = frame.shape\n",
    "\n",
    "video = cv2.VideoWriter(video_name, 0, 1, (width,height))\n",
    "\n",
    "for image in images:\n",
    "    video.write(cv2.imread(os.path.join(image_folder, image)))\n",
    "\n",
    "cv2.destroyAllWindows()\n",
    "video.release()"
   ]
  },
  {
   "cell_type": "code",
   "execution_count": null,
   "id": "ff1dbe20",
   "metadata": {},
   "outputs": [],
   "source": [
    "image_files = [os.path.join(image_folder,img)\n",
    "               for img in os.listdir(image_folder)\n",
    "               if img.startswith(\"0002\")]\n",
    "clip = moviepy.video.io.ImageSequenceClip.ImageSequenceClip(image_files, fps=fps)\n",
    "clip.write_videofile('Resources/videos/flip2.mp4')\n"
   ]
  },
  {
   "cell_type": "code",
   "execution_count": 85,
   "id": "fdd0125f",
   "metadata": {},
   "outputs": [],
   "source": [
    "import os\n",
    "import moviepy.video.io.ImageSequenceClip\n",
    "train_flip='Resources/images/training/flip'\n",
    "train_notflip='Resources/images/training/notflip'\n",
    "test_flip='Resources/images/testing/flip'\n",
    "test_notflip='Resources/images/testing/notflip'\n",
    "\n",
    "tn_flip='Resources/videos/training/flip'\n",
    "tn_np='Resources/videos/training/notflip'\n",
    "ts_flip='Resources/videos/testing/flip'\n",
    "ts_np='Resources/videos/testing/notflip'\n",
    "fps=1\n",
    "\n",
    "\n",
    "def sequence(path,destination):\n",
    "    \n",
    "    \n",
    "   \n",
    "    n=\"0001\"\n",
    "    for img in os.listdir(path):\n",
    "        \n",
    "        \n",
    "        if (img[:4] == n) & (img[:4]<= \"0010\"):\n",
    "                \n",
    "                image_files = [os.path.join(path,img)for img in os.listdir(path) if img.startswith(n)]\n",
    "                clip = moviepy.video.io.ImageSequenceClip.ImageSequenceClip(image_files, fps=fps)\n",
    "                clip.write_videofile(f'{destination}/{n}.mp4')\n",
    "        \n",
    "        else:\n",
    "            n = img[:4]\n",
    "    \n",
    "\n",
    "    return"
   ]
  },
  {
   "cell_type": "code",
   "execution_count": 86,
   "id": "5e79ce44",
   "metadata": {},
   "outputs": [
    {
     "name": "stderr",
     "output_type": "stream",
     "text": [
      "t:   9%|█████▉                                                              | 2/23 [1:19:14<00:01, 17.92it/s, now=None]"
     ]
    },
    {
     "name": "stdout",
     "output_type": "stream",
     "text": [
      "Moviepy - Building video Resources/videos/training/flip/0001.mp4.\n",
      "Moviepy - Writing video Resources/videos/training/flip/0001.mp4\n",
      "\n"
     ]
    },
    {
     "name": "stderr",
     "output_type": "stream",
     "text": [
      "\n",
      "t:   0%|                                                                              | 0/15 [00:00<?, ?it/s, now=None]\u001b[A\n",
      "t:  13%|█████████▎                                                            | 2/15 [00:00<00:00, 19.32it/s, now=None]\u001b[A\n",
      "t:  27%|██████████████████▋                                                   | 4/15 [00:00<00:00, 12.24it/s, now=None]\u001b[A\n",
      "t:  40%|████████████████████████████                                          | 6/15 [00:00<00:00, 11.40it/s, now=None]\u001b[A\n",
      "t:  53%|█████████████████████████████████████▎                                | 8/15 [00:00<00:00, 10.75it/s, now=None]\u001b[A\n",
      "t:  67%|██████████████████████████████████████████████                       | 10/15 [00:00<00:00, 10.30it/s, now=None]\u001b[A\n",
      "t:  80%|███████████████████████████████████████████████████████▏             | 12/15 [00:01<00:00,  9.97it/s, now=None]\u001b[A\n",
      "t:  93%|████████████████████████████████████████████████████████████████▍    | 14/15 [00:01<00:00,  9.69it/s, now=None]\u001b[A\n",
      "t: 100%|█████████████████████████████████████████████████████████████████████| 15/15 [00:01<00:00,  9.36it/s, now=None]\u001b[A\n",
      "t:   9%|█████▉                                                              | 2/23 [1:19:17<00:01, 17.92it/s, now=None]\u001b[A"
     ]
    },
    {
     "name": "stdout",
     "output_type": "stream",
     "text": [
      "Moviepy - Done !\n",
      "Moviepy - video ready Resources/videos/training/flip/0001.mp4\n"
     ]
    },
    {
     "name": "stderr",
     "output_type": "stream",
     "text": [
      "t:   9%|█████▉                                                              | 2/23 [1:19:19<00:01, 17.92it/s, now=None]"
     ]
    },
    {
     "name": "stdout",
     "output_type": "stream",
     "text": [
      "Moviepy - Building video Resources/videos/training/flip/0001.mp4.\n",
      "Moviepy - Writing video Resources/videos/training/flip/0001.mp4\n",
      "\n"
     ]
    },
    {
     "name": "stderr",
     "output_type": "stream",
     "text": [
      "\n",
      "t:   0%|                                                                              | 0/15 [00:00<?, ?it/s, now=None]\u001b[A\n",
      "t:  20%|██████████████                                                        | 3/15 [00:00<00:00, 15.65it/s, now=None]\u001b[A\n",
      "t:  33%|███████████████████████▎                                              | 5/15 [00:00<00:00, 11.92it/s, now=None]\u001b[A\n",
      "t:  47%|████████████████████████████████▋                                     | 7/15 [00:00<00:00, 10.62it/s, now=None]\u001b[A\n",
      "t:  60%|██████████████████████████████████████████                            | 9/15 [00:00<00:00, 10.73it/s, now=None]\u001b[A\n",
      "t:  73%|██████████████████████████████████████████████████▌                  | 11/15 [00:01<00:00, 10.15it/s, now=None]\u001b[A\n",
      "t:  87%|███████████████████████████████████████████████████████████▊         | 13/15 [00:01<00:00,  9.69it/s, now=None]\u001b[A\n",
      "t:  93%|████████████████████████████████████████████████████████████████▍    | 14/15 [00:01<00:00,  9.65it/s, now=None]\u001b[A\n",
      "t: 100%|█████████████████████████████████████████████████████████████████████| 15/15 [00:01<00:00,  9.54it/s, now=None]\u001b[A\n",
      "t:   9%|█████▉                                                              | 2/23 [1:19:23<00:01, 17.92it/s, now=None]\u001b[A"
     ]
    },
    {
     "name": "stdout",
     "output_type": "stream",
     "text": [
      "Moviepy - Done !\n",
      "Moviepy - video ready Resources/videos/training/flip/0001.mp4\n"
     ]
    },
    {
     "name": "stderr",
     "output_type": "stream",
     "text": [
      "t:   9%|█████▉                                                              | 2/23 [1:19:25<00:01, 17.92it/s, now=None]"
     ]
    },
    {
     "name": "stdout",
     "output_type": "stream",
     "text": [
      "Moviepy - Building video Resources/videos/training/flip/0001.mp4.\n",
      "Moviepy - Writing video Resources/videos/training/flip/0001.mp4\n",
      "\n"
     ]
    },
    {
     "name": "stderr",
     "output_type": "stream",
     "text": [
      "\n",
      "t:   0%|                                                                              | 0/15 [00:00<?, ?it/s, now=None]\u001b[A\n",
      "t:  13%|█████████▎                                                            | 2/15 [00:00<00:00, 14.47it/s, now=None]\u001b[A\n",
      "t:  27%|██████████████████▋                                                   | 4/15 [00:00<00:00, 11.45it/s, now=None]\u001b[A\n",
      "t:  40%|████████████████████████████                                          | 6/15 [00:00<00:00, 10.93it/s, now=None]\u001b[A\n",
      "t:  53%|█████████████████████████████████████▎                                | 8/15 [00:00<00:00, 10.09it/s, now=None]\u001b[A\n",
      "t:  67%|██████████████████████████████████████████████                       | 10/15 [00:00<00:00, 10.08it/s, now=None]\u001b[A\n",
      "t:  80%|███████████████████████████████████████████████████████▏             | 12/15 [00:01<00:00, 10.05it/s, now=None]\u001b[A\n",
      "t:  93%|████████████████████████████████████████████████████████████████▍    | 14/15 [00:01<00:00,  9.82it/s, now=None]\u001b[A\n",
      "t:   9%|█████▉                                                              | 2/23 [1:19:28<00:01, 17.92it/s, now=None]\u001b[A"
     ]
    },
    {
     "name": "stdout",
     "output_type": "stream",
     "text": [
      "Moviepy - Done !\n",
      "Moviepy - video ready Resources/videos/training/flip/0001.mp4\n"
     ]
    },
    {
     "name": "stderr",
     "output_type": "stream",
     "text": [
      "t:   9%|█████▉                                                              | 2/23 [1:19:30<00:01, 17.92it/s, now=None]"
     ]
    },
    {
     "name": "stdout",
     "output_type": "stream",
     "text": [
      "Moviepy - Building video Resources/videos/training/flip/0001.mp4.\n",
      "Moviepy - Writing video Resources/videos/training/flip/0001.mp4\n",
      "\n"
     ]
    },
    {
     "name": "stderr",
     "output_type": "stream",
     "text": [
      "\n",
      "t:   0%|                                                                              | 0/15 [00:00<?, ?it/s, now=None]\u001b[A\n",
      "t:  20%|██████████████                                                        | 3/15 [00:00<00:00, 15.46it/s, now=None]\u001b[A\n",
      "t:  33%|███████████████████████▎                                              | 5/15 [00:00<00:00, 12.13it/s, now=None]\u001b[A\n",
      "t:  47%|████████████████████████████████▋                                     | 7/15 [00:00<00:00, 10.69it/s, now=None]\u001b[A\n",
      "t:  60%|██████████████████████████████████████████                            | 9/15 [00:00<00:00, 10.08it/s, now=None]\u001b[A\n",
      "t:  73%|██████████████████████████████████████████████████▌                  | 11/15 [00:01<00:00,  9.97it/s, now=None]\u001b[A\n",
      "t:  87%|███████████████████████████████████████████████████████████▊         | 13/15 [00:01<00:00,  9.85it/s, now=None]\u001b[A\n",
      "t:  93%|████████████████████████████████████████████████████████████████▍    | 14/15 [00:01<00:00,  9.48it/s, now=None]\u001b[A\n",
      "t: 100%|█████████████████████████████████████████████████████████████████████| 15/15 [00:01<00:00,  9.46it/s, now=None]\u001b[A\n",
      "t:   9%|█████▉                                                              | 2/23 [1:19:34<00:01, 17.92it/s, now=None]\u001b[A"
     ]
    },
    {
     "name": "stdout",
     "output_type": "stream",
     "text": [
      "Moviepy - Done !\n",
      "Moviepy - video ready Resources/videos/training/flip/0001.mp4\n"
     ]
    },
    {
     "name": "stderr",
     "output_type": "stream",
     "text": [
      "t:   9%|█████▉                                                              | 2/23 [1:19:36<00:01, 17.92it/s, now=None]"
     ]
    },
    {
     "name": "stdout",
     "output_type": "stream",
     "text": [
      "Moviepy - Building video Resources/videos/training/flip/0001.mp4.\n",
      "Moviepy - Writing video Resources/videos/training/flip/0001.mp4\n",
      "\n"
     ]
    },
    {
     "name": "stderr",
     "output_type": "stream",
     "text": [
      "\n",
      "t:   0%|                                                                              | 0/15 [00:00<?, ?it/s, now=None]\u001b[A\n",
      "t:  13%|█████████▎                                                            | 2/15 [00:00<00:00, 13.77it/s, now=None]\u001b[A\n",
      "t:  27%|██████████████████▋                                                   | 4/15 [00:00<00:00, 11.48it/s, now=None]\u001b[A\n",
      "t:  40%|████████████████████████████                                          | 6/15 [00:00<00:00, 10.78it/s, now=None]\u001b[A\n",
      "t:  53%|█████████████████████████████████████▎                                | 8/15 [00:00<00:00, 10.01it/s, now=None]\u001b[A\n",
      "t:  67%|██████████████████████████████████████████████                       | 10/15 [00:00<00:00,  9.76it/s, now=None]\u001b[A\n",
      "t:  73%|██████████████████████████████████████████████████▌                  | 11/15 [00:01<00:00,  9.49it/s, now=None]\u001b[A\n",
      "t:  80%|███████████████████████████████████████████████████████▏             | 12/15 [00:01<00:00,  9.15it/s, now=None]\u001b[A\n",
      "t:  87%|███████████████████████████████████████████████████████████▊         | 13/15 [00:01<00:00,  9.05it/s, now=None]\u001b[A\n",
      "t:  93%|████████████████████████████████████████████████████████████████▍    | 14/15 [00:01<00:00,  8.66it/s, now=None]\u001b[A\n",
      "t: 100%|█████████████████████████████████████████████████████████████████████| 15/15 [00:01<00:00,  8.29it/s, now=None]\u001b[A\n",
      "t:   9%|█████▉                                                              | 2/23 [1:19:40<00:01, 17.92it/s, now=None]\u001b[A"
     ]
    },
    {
     "name": "stdout",
     "output_type": "stream",
     "text": [
      "Moviepy - Done !\n",
      "Moviepy - video ready Resources/videos/training/flip/0001.mp4\n"
     ]
    },
    {
     "name": "stderr",
     "output_type": "stream",
     "text": [
      "t:   9%|█████▉                                                              | 2/23 [1:19:41<00:01, 17.92it/s, now=None]"
     ]
    },
    {
     "name": "stdout",
     "output_type": "stream",
     "text": [
      "Moviepy - Building video Resources/videos/training/flip/0001.mp4.\n",
      "Moviepy - Writing video Resources/videos/training/flip/0001.mp4\n",
      "\n"
     ]
    },
    {
     "name": "stderr",
     "output_type": "stream",
     "text": [
      "\n",
      "t:   0%|                                                                              | 0/15 [00:00<?, ?it/s, now=None]\u001b[A\n",
      "t:  20%|██████████████                                                        | 3/15 [00:00<00:00, 14.69it/s, now=None]\u001b[A\n",
      "t:  33%|███████████████████████▎                                              | 5/15 [00:00<00:00, 11.77it/s, now=None]\u001b[A\n",
      "t:  47%|████████████████████████████████▋                                     | 7/15 [00:00<00:00, 11.10it/s, now=None]\u001b[A\n",
      "t:  60%|██████████████████████████████████████████                            | 9/15 [00:00<00:00, 10.46it/s, now=None]\u001b[A\n",
      "t:  73%|██████████████████████████████████████████████████▌                  | 11/15 [00:01<00:00, 10.26it/s, now=None]\u001b[A\n",
      "t:  87%|███████████████████████████████████████████████████████████▊         | 13/15 [00:01<00:00,  9.62it/s, now=None]\u001b[A\n",
      "t:  93%|████████████████████████████████████████████████████████████████▍    | 14/15 [00:01<00:00,  9.40it/s, now=None]\u001b[A\n",
      "t: 100%|█████████████████████████████████████████████████████████████████████| 15/15 [00:01<00:00,  8.57it/s, now=None]\u001b[A\n",
      "t:   9%|█████▉                                                              | 2/23 [1:19:45<00:01, 17.92it/s, now=None]\u001b[A"
     ]
    },
    {
     "name": "stdout",
     "output_type": "stream",
     "text": [
      "Moviepy - Done !\n",
      "Moviepy - video ready Resources/videos/training/flip/0001.mp4\n"
     ]
    },
    {
     "name": "stderr",
     "output_type": "stream",
     "text": [
      "t:   9%|█████▉                                                              | 2/23 [1:19:47<00:01, 17.92it/s, now=None]"
     ]
    },
    {
     "name": "stdout",
     "output_type": "stream",
     "text": [
      "Moviepy - Building video Resources/videos/training/flip/0001.mp4.\n",
      "Moviepy - Writing video Resources/videos/training/flip/0001.mp4\n",
      "\n"
     ]
    },
    {
     "name": "stderr",
     "output_type": "stream",
     "text": [
      "\n",
      "t:   0%|                                                                              | 0/15 [00:00<?, ?it/s, now=None]\u001b[A\n",
      "t:  20%|██████████████                                                        | 3/15 [00:00<00:00, 15.27it/s, now=None]\u001b[A\n",
      "t:  33%|███████████████████████▎                                              | 5/15 [00:00<00:00, 12.48it/s, now=None]\u001b[A\n",
      "t:  47%|████████████████████████████████▋                                     | 7/15 [00:00<00:00, 11.35it/s, now=None]\u001b[A\n",
      "t:  60%|██████████████████████████████████████████                            | 9/15 [00:00<00:00, 11.12it/s, now=None]\u001b[A\n",
      "t:  73%|██████████████████████████████████████████████████▌                  | 11/15 [00:00<00:00, 10.64it/s, now=None]\u001b[A\n",
      "t:  87%|███████████████████████████████████████████████████████████▊         | 13/15 [00:01<00:00, 10.00it/s, now=None]\u001b[A\n",
      "t: 100%|█████████████████████████████████████████████████████████████████████| 15/15 [00:01<00:00,  9.96it/s, now=None]\u001b[A\n",
      "t:   9%|█████▉                                                              | 2/23 [1:19:51<00:01, 17.92it/s, now=None]\u001b[A"
     ]
    },
    {
     "name": "stdout",
     "output_type": "stream",
     "text": [
      "Moviepy - Done !\n",
      "Moviepy - video ready Resources/videos/training/flip/0001.mp4\n"
     ]
    },
    {
     "name": "stderr",
     "output_type": "stream",
     "text": [
      "t:   9%|█████▉                                                              | 2/23 [1:19:52<00:01, 17.92it/s, now=None]"
     ]
    },
    {
     "name": "stdout",
     "output_type": "stream",
     "text": [
      "Moviepy - Building video Resources/videos/training/flip/0001.mp4.\n",
      "Moviepy - Writing video Resources/videos/training/flip/0001.mp4\n",
      "\n"
     ]
    },
    {
     "name": "stderr",
     "output_type": "stream",
     "text": [
      "\n",
      "t:   0%|                                                                              | 0/15 [00:00<?, ?it/s, now=None]\u001b[A\n",
      "t:  13%|█████████▎                                                            | 2/15 [00:00<00:00, 14.97it/s, now=None]\u001b[A\n",
      "t:  27%|██████████████████▋                                                   | 4/15 [00:00<00:00, 11.55it/s, now=None]\u001b[A\n",
      "t:  40%|████████████████████████████                                          | 6/15 [00:00<00:00, 10.76it/s, now=None]\u001b[A\n",
      "t:  53%|█████████████████████████████████████▎                                | 8/15 [00:00<00:00, 10.30it/s, now=None]\u001b[A\n",
      "t:  67%|██████████████████████████████████████████████                       | 10/15 [00:00<00:00,  9.98it/s, now=None]\u001b[A\n",
      "t:  80%|███████████████████████████████████████████████████████▏             | 12/15 [00:01<00:00,  9.87it/s, now=None]\u001b[A\n",
      "t:  87%|███████████████████████████████████████████████████████████▊         | 13/15 [00:01<00:00,  9.76it/s, now=None]\u001b[A\n",
      "t: 100%|█████████████████████████████████████████████████████████████████████| 15/15 [00:01<00:00,  9.76it/s, now=None]\u001b[A\n",
      "t:   9%|█████▉                                                              | 2/23 [1:19:56<00:01, 17.92it/s, now=None]\u001b[A"
     ]
    },
    {
     "name": "stdout",
     "output_type": "stream",
     "text": [
      "Moviepy - Done !\n",
      "Moviepy - video ready Resources/videos/training/flip/0001.mp4\n"
     ]
    },
    {
     "name": "stderr",
     "output_type": "stream",
     "text": [
      "t:   9%|█████▉                                                              | 2/23 [1:19:58<00:01, 17.92it/s, now=None]"
     ]
    },
    {
     "name": "stdout",
     "output_type": "stream",
     "text": [
      "Moviepy - Building video Resources/videos/training/flip/0001.mp4.\n",
      "Moviepy - Writing video Resources/videos/training/flip/0001.mp4\n",
      "\n"
     ]
    },
    {
     "name": "stderr",
     "output_type": "stream",
     "text": [
      "\n",
      "t:   0%|                                                                              | 0/15 [00:00<?, ?it/s, now=None]\u001b[A\n",
      "t:  13%|█████████▎                                                            | 2/15 [00:00<00:00, 15.86it/s, now=None]\u001b[A\n",
      "t:  27%|██████████████████▋                                                   | 4/15 [00:00<00:00, 11.59it/s, now=None]\u001b[A\n",
      "t:  40%|████████████████████████████                                          | 6/15 [00:00<00:00, 10.89it/s, now=None]\u001b[A\n",
      "t:  53%|█████████████████████████████████████▎                                | 8/15 [00:00<00:00, 10.18it/s, now=None]\u001b[A\n",
      "t:  67%|██████████████████████████████████████████████                       | 10/15 [00:00<00:00, 10.12it/s, now=None]\u001b[A\n",
      "t:  80%|███████████████████████████████████████████████████████▏             | 12/15 [00:01<00:00,  9.98it/s, now=None]\u001b[A\n",
      "t:  93%|████████████████████████████████████████████████████████████████▍    | 14/15 [00:01<00:00,  9.77it/s, now=None]\u001b[A\n",
      "t: 100%|█████████████████████████████████████████████████████████████████████| 15/15 [00:01<00:00,  9.64it/s, now=None]\u001b[A\n",
      "t:   9%|█████▉                                                              | 2/23 [1:20:02<00:01, 17.92it/s, now=None]\u001b[A"
     ]
    },
    {
     "name": "stdout",
     "output_type": "stream",
     "text": [
      "Moviepy - Done !\n",
      "Moviepy - video ready Resources/videos/training/flip/0001.mp4\n"
     ]
    },
    {
     "name": "stderr",
     "output_type": "stream",
     "text": [
      "t:   9%|█████▉                                                              | 2/23 [1:20:03<00:01, 17.92it/s, now=None]"
     ]
    },
    {
     "name": "stdout",
     "output_type": "stream",
     "text": [
      "Moviepy - Building video Resources/videos/training/flip/0001.mp4.\n",
      "Moviepy - Writing video Resources/videos/training/flip/0001.mp4\n",
      "\n"
     ]
    },
    {
     "name": "stderr",
     "output_type": "stream",
     "text": [
      "\n",
      "t:   0%|                                                                              | 0/15 [00:00<?, ?it/s, now=None]\u001b[A\n",
      "t:  20%|██████████████                                                        | 3/15 [00:00<00:00, 14.06it/s, now=None]\u001b[A\n",
      "t:  33%|███████████████████████▎                                              | 5/15 [00:00<00:00, 11.42it/s, now=None]\u001b[A\n",
      "t:  47%|████████████████████████████████▋                                     | 7/15 [00:00<00:00, 10.69it/s, now=None]\u001b[A\n",
      "t:  60%|██████████████████████████████████████████                            | 9/15 [00:00<00:00, 10.57it/s, now=None]\u001b[A\n",
      "t:  73%|██████████████████████████████████████████████████▌                  | 11/15 [00:01<00:00, 10.37it/s, now=None]\u001b[A\n",
      "t:  87%|███████████████████████████████████████████████████████████▊         | 13/15 [00:01<00:00,  9.54it/s, now=None]\u001b[A\n",
      "t:  93%|████████████████████████████████████████████████████████████████▍    | 14/15 [00:01<00:00,  9.41it/s, now=None]\u001b[A\n",
      "t: 100%|█████████████████████████████████████████████████████████████████████| 15/15 [00:01<00:00,  9.47it/s, now=None]\u001b[A\n",
      "t:   9%|█████▉                                                              | 2/23 [1:20:07<00:01, 17.92it/s, now=None]\u001b[A"
     ]
    },
    {
     "name": "stdout",
     "output_type": "stream",
     "text": [
      "Moviepy - Done !\n",
      "Moviepy - video ready Resources/videos/training/flip/0001.mp4\n"
     ]
    },
    {
     "name": "stderr",
     "output_type": "stream",
     "text": [
      "t:   9%|█████▉                                                              | 2/23 [1:20:09<00:01, 17.92it/s, now=None]"
     ]
    },
    {
     "name": "stdout",
     "output_type": "stream",
     "text": [
      "Moviepy - Building video Resources/videos/training/flip/0001.mp4.\n",
      "Moviepy - Writing video Resources/videos/training/flip/0001.mp4\n",
      "\n"
     ]
    },
    {
     "name": "stderr",
     "output_type": "stream",
     "text": [
      "\n",
      "t:   0%|                                                                              | 0/15 [00:00<?, ?it/s, now=None]\u001b[A\n",
      "t:  13%|█████████▎                                                            | 2/15 [00:00<00:00, 18.93it/s, now=None]\u001b[A\n",
      "t:  27%|██████████████████▋                                                   | 4/15 [00:00<00:00, 12.30it/s, now=None]\u001b[A\n",
      "t:  40%|████████████████████████████                                          | 6/15 [00:00<00:00, 11.21it/s, now=None]\u001b[A\n",
      "t:  53%|█████████████████████████████████████▎                                | 8/15 [00:00<00:00, 10.72it/s, now=None]\u001b[A\n",
      "t:  67%|██████████████████████████████████████████████                       | 10/15 [00:00<00:00, 10.66it/s, now=None]\u001b[A\n",
      "t:  80%|███████████████████████████████████████████████████████▏             | 12/15 [00:01<00:00, 10.34it/s, now=None]\u001b[A\n",
      "t:  93%|████████████████████████████████████████████████████████████████▍    | 14/15 [00:01<00:00,  9.90it/s, now=None]\u001b[A\n",
      "t:   9%|█████▉                                                              | 2/23 [1:20:13<00:01, 17.92it/s, now=None]\u001b[A"
     ]
    },
    {
     "name": "stdout",
     "output_type": "stream",
     "text": [
      "Moviepy - Done !\n",
      "Moviepy - video ready Resources/videos/training/flip/0001.mp4\n"
     ]
    },
    {
     "name": "stderr",
     "output_type": "stream",
     "text": [
      "t:   9%|█████▉                                                              | 2/23 [1:20:14<00:01, 17.92it/s, now=None]"
     ]
    },
    {
     "name": "stdout",
     "output_type": "stream",
     "text": [
      "Moviepy - Building video Resources/videos/training/flip/0001.mp4.\n",
      "Moviepy - Writing video Resources/videos/training/flip/0001.mp4\n",
      "\n"
     ]
    },
    {
     "name": "stderr",
     "output_type": "stream",
     "text": [
      "\n",
      "t:   0%|                                                                              | 0/15 [00:00<?, ?it/s, now=None]\u001b[A\n",
      "t:  13%|█████████▎                                                            | 2/15 [00:00<00:00, 16.12it/s, now=None]\u001b[A\n",
      "t:  27%|██████████████████▋                                                   | 4/15 [00:00<00:00, 11.37it/s, now=None]\u001b[A\n",
      "t:  40%|████████████████████████████                                          | 6/15 [00:00<00:00, 10.42it/s, now=None]\u001b[A\n",
      "t:  53%|█████████████████████████████████████▎                                | 8/15 [00:00<00:00, 10.60it/s, now=None]\u001b[A\n",
      "t:  67%|██████████████████████████████████████████████                       | 10/15 [00:00<00:00, 10.55it/s, now=None]\u001b[A\n",
      "t:  80%|███████████████████████████████████████████████████████▏             | 12/15 [00:01<00:00, 10.45it/s, now=None]\u001b[A\n",
      "t:  93%|████████████████████████████████████████████████████████████████▍    | 14/15 [00:01<00:00,  9.42it/s, now=None]\u001b[A\n",
      "t: 100%|█████████████████████████████████████████████████████████████████████| 15/15 [00:01<00:00,  9.28it/s, now=None]\u001b[A\n",
      "t:   9%|█████▉                                                              | 2/23 [1:20:18<00:01, 17.92it/s, now=None]\u001b[A"
     ]
    },
    {
     "name": "stdout",
     "output_type": "stream",
     "text": [
      "Moviepy - Done !\n",
      "Moviepy - video ready Resources/videos/training/flip/0001.mp4\n"
     ]
    },
    {
     "name": "stderr",
     "output_type": "stream",
     "text": [
      "t:   9%|█████▉                                                              | 2/23 [1:20:20<00:01, 17.92it/s, now=None]"
     ]
    },
    {
     "name": "stdout",
     "output_type": "stream",
     "text": [
      "Moviepy - Building video Resources/videos/training/flip/0001.mp4.\n",
      "Moviepy - Writing video Resources/videos/training/flip/0001.mp4\n",
      "\n"
     ]
    },
    {
     "name": "stderr",
     "output_type": "stream",
     "text": [
      "\n",
      "t:   0%|                                                                              | 0/15 [00:00<?, ?it/s, now=None]\u001b[A\n",
      "t:  13%|█████████▎                                                            | 2/15 [00:00<00:00, 17.37it/s, now=None]\u001b[A\n",
      "t:  27%|██████████████████▋                                                   | 4/15 [00:00<00:00, 12.03it/s, now=None]\u001b[A\n",
      "t:  40%|████████████████████████████                                          | 6/15 [00:00<00:00, 10.46it/s, now=None]\u001b[A\n",
      "t:  53%|█████████████████████████████████████▎                                | 8/15 [00:00<00:00, 10.44it/s, now=None]\u001b[A\n",
      "t:  67%|██████████████████████████████████████████████                       | 10/15 [00:00<00:00, 10.02it/s, now=None]\u001b[A\n",
      "t:  80%|███████████████████████████████████████████████████████▏             | 12/15 [00:01<00:00,  9.87it/s, now=None]\u001b[A\n",
      "t:  93%|████████████████████████████████████████████████████████████████▍    | 14/15 [00:01<00:00,  9.76it/s, now=None]\u001b[A\n",
      "t:   9%|█████▉                                                              | 2/23 [1:20:24<00:01, 17.92it/s, now=None]\u001b[A"
     ]
    },
    {
     "name": "stdout",
     "output_type": "stream",
     "text": [
      "Moviepy - Done !\n",
      "Moviepy - video ready Resources/videos/training/flip/0001.mp4\n"
     ]
    },
    {
     "name": "stderr",
     "output_type": "stream",
     "text": [
      "t:   9%|█████▉                                                              | 2/23 [1:20:26<00:01, 17.92it/s, now=None]"
     ]
    },
    {
     "name": "stdout",
     "output_type": "stream",
     "text": [
      "Moviepy - Building video Resources/videos/training/flip/0001.mp4.\n",
      "Moviepy - Writing video Resources/videos/training/flip/0001.mp4\n",
      "\n"
     ]
    },
    {
     "name": "stderr",
     "output_type": "stream",
     "text": [
      "\n",
      "t:   0%|                                                                              | 0/15 [00:00<?, ?it/s, now=None]\u001b[A\n",
      "t:  13%|█████████▎                                                            | 2/15 [00:00<00:00, 14.52it/s, now=None]\u001b[A\n",
      "t:  27%|██████████████████▋                                                   | 4/15 [00:00<00:00, 11.00it/s, now=None]\u001b[A\n",
      "t:  40%|████████████████████████████                                          | 6/15 [00:00<00:00, 10.32it/s, now=None]\u001b[A\n",
      "t:  53%|█████████████████████████████████████▎                                | 8/15 [00:00<00:00,  9.94it/s, now=None]\u001b[A\n",
      "t:  67%|██████████████████████████████████████████████                       | 10/15 [00:01<00:00,  9.42it/s, now=None]\u001b[A\n",
      "t:  73%|██████████████████████████████████████████████████▌                  | 11/15 [00:01<00:00,  9.14it/s, now=None]\u001b[A\n",
      "t:  80%|███████████████████████████████████████████████████████▏             | 12/15 [00:01<00:00,  8.67it/s, now=None]\u001b[A\n",
      "t:  87%|███████████████████████████████████████████████████████████▊         | 13/15 [00:01<00:00,  8.65it/s, now=None]\u001b[A\n",
      "t:  93%|████████████████████████████████████████████████████████████████▍    | 14/15 [00:01<00:00,  8.14it/s, now=None]\u001b[A\n",
      "t: 100%|█████████████████████████████████████████████████████████████████████| 15/15 [00:01<00:00,  8.05it/s, now=None]\u001b[A\n",
      "t:   9%|█████▉                                                              | 2/23 [1:20:30<00:01, 17.92it/s, now=None]\u001b[A"
     ]
    },
    {
     "name": "stdout",
     "output_type": "stream",
     "text": [
      "Moviepy - Done !\n",
      "Moviepy - video ready Resources/videos/training/flip/0001.mp4\n"
     ]
    },
    {
     "name": "stderr",
     "output_type": "stream",
     "text": [
      "t:   9%|█████▉                                                              | 2/23 [1:20:31<00:01, 17.92it/s, now=None]"
     ]
    },
    {
     "name": "stdout",
     "output_type": "stream",
     "text": [
      "Moviepy - Building video Resources/videos/training/flip/0001.mp4.\n",
      "Moviepy - Writing video Resources/videos/training/flip/0001.mp4\n",
      "\n"
     ]
    },
    {
     "name": "stderr",
     "output_type": "stream",
     "text": [
      "\n",
      "t:   0%|                                                                              | 0/15 [00:00<?, ?it/s, now=None]\u001b[A\n",
      "t:  13%|█████████▎                                                            | 2/15 [00:00<00:00, 13.15it/s, now=None]\u001b[A\n",
      "t:  27%|██████████████████▋                                                   | 4/15 [00:00<00:01, 10.34it/s, now=None]\u001b[A\n",
      "t:  40%|████████████████████████████                                          | 6/15 [00:00<00:00, 10.13it/s, now=None]\u001b[A\n",
      "t:  53%|█████████████████████████████████████▎                                | 8/15 [00:00<00:00, 10.06it/s, now=None]\u001b[A\n",
      "t:  67%|██████████████████████████████████████████████                       | 10/15 [00:00<00:00,  9.83it/s, now=None]\u001b[A\n",
      "t:  73%|██████████████████████████████████████████████████▌                  | 11/15 [00:01<00:00,  9.79it/s, now=None]\u001b[A\n",
      "t:  80%|███████████████████████████████████████████████████████▏             | 12/15 [00:01<00:00,  9.08it/s, now=None]\u001b[A\n",
      "t:  87%|███████████████████████████████████████████████████████████▊         | 13/15 [00:01<00:00,  8.69it/s, now=None]\u001b[A\n",
      "t:  93%|████████████████████████████████████████████████████████████████▍    | 14/15 [00:01<00:00,  8.76it/s, now=None]\u001b[A\n",
      "t: 100%|█████████████████████████████████████████████████████████████████████| 15/15 [00:01<00:00,  8.81it/s, now=None]\u001b[A\n",
      "t:   9%|█████▉                                                              | 2/23 [1:20:35<00:01, 17.92it/s, now=None]\u001b[A"
     ]
    },
    {
     "name": "stdout",
     "output_type": "stream",
     "text": [
      "Moviepy - Done !\n",
      "Moviepy - video ready Resources/videos/training/flip/0001.mp4\n"
     ]
    },
    {
     "name": "stderr",
     "output_type": "stream",
     "text": [
      "t:   9%|█████▉                                                              | 2/23 [1:20:37<00:01, 17.92it/s, now=None]"
     ]
    },
    {
     "name": "stdout",
     "output_type": "stream",
     "text": [
      "Moviepy - Building video Resources/videos/training/flip/0002.mp4.\n",
      "Moviepy - Writing video Resources/videos/training/flip/0002.mp4\n",
      "\n"
     ]
    },
    {
     "name": "stderr",
     "output_type": "stream",
     "text": [
      "\n",
      "t:   0%|                                                                               | 0/9 [00:00<?, ?it/s, now=None]\u001b[A\n",
      "t:  22%|███████████████▊                                                       | 2/9 [00:00<00:00, 15.05it/s, now=None]\u001b[A\n",
      "t:  44%|███████████████████████████████▌                                       | 4/9 [00:00<00:00, 11.77it/s, now=None]\u001b[A\n",
      "t:  67%|███████████████████████████████████████████████▎                       | 6/9 [00:00<00:00, 10.64it/s, now=None]\u001b[A\n",
      "t:  89%|███████████████████████████████████████████████████████████████        | 8/9 [00:00<00:00, 10.42it/s, now=None]\u001b[A\n",
      "t:   9%|█████▉                                                              | 2/23 [1:20:39<00:01, 17.92it/s, now=None]\u001b[A"
     ]
    },
    {
     "name": "stdout",
     "output_type": "stream",
     "text": [
      "Moviepy - Done !\n",
      "Moviepy - video ready Resources/videos/training/flip/0002.mp4\n"
     ]
    },
    {
     "name": "stderr",
     "output_type": "stream",
     "text": [
      "t:   9%|█████▉                                                              | 2/23 [1:20:40<00:01, 17.92it/s, now=None]"
     ]
    },
    {
     "name": "stdout",
     "output_type": "stream",
     "text": [
      "Moviepy - Building video Resources/videos/training/flip/0002.mp4.\n",
      "Moviepy - Writing video Resources/videos/training/flip/0002.mp4\n",
      "\n"
     ]
    },
    {
     "name": "stderr",
     "output_type": "stream",
     "text": [
      "\n",
      "t:   0%|                                                                               | 0/9 [00:00<?, ?it/s, now=None]\u001b[A\n",
      "t:  22%|███████████████▊                                                       | 2/9 [00:00<00:00, 17.08it/s, now=None]\u001b[A\n",
      "t:  44%|███████████████████████████████▌                                       | 4/9 [00:00<00:00, 12.29it/s, now=None]\u001b[A\n",
      "t:  67%|███████████████████████████████████████████████▎                       | 6/9 [00:00<00:00, 10.99it/s, now=None]\u001b[A\n",
      "t:  89%|███████████████████████████████████████████████████████████████        | 8/9 [00:00<00:00, 10.43it/s, now=None]\u001b[A\n",
      "t:   9%|█████▉                                                              | 2/23 [1:20:42<00:01, 17.92it/s, now=None]\u001b[A"
     ]
    },
    {
     "name": "stdout",
     "output_type": "stream",
     "text": [
      "Moviepy - Done !\n",
      "Moviepy - video ready Resources/videos/training/flip/0002.mp4\n"
     ]
    },
    {
     "name": "stderr",
     "output_type": "stream",
     "text": [
      "t:   9%|█████▉                                                              | 2/23 [1:20:43<00:01, 17.92it/s, now=None]"
     ]
    },
    {
     "name": "stdout",
     "output_type": "stream",
     "text": [
      "Moviepy - Building video Resources/videos/training/flip/0002.mp4.\n",
      "Moviepy - Writing video Resources/videos/training/flip/0002.mp4\n",
      "\n"
     ]
    },
    {
     "name": "stderr",
     "output_type": "stream",
     "text": [
      "\n",
      "t:   0%|                                                                               | 0/9 [00:00<?, ?it/s, now=None]\u001b[A\n",
      "t:  22%|███████████████▊                                                       | 2/9 [00:00<00:00, 14.77it/s, now=None]\u001b[A\n",
      "t:  44%|███████████████████████████████▌                                       | 4/9 [00:00<00:00, 11.34it/s, now=None]\u001b[A\n",
      "t:  67%|███████████████████████████████████████████████▎                       | 6/9 [00:00<00:00, 10.72it/s, now=None]\u001b[A\n",
      "t:  89%|███████████████████████████████████████████████████████████████        | 8/9 [00:00<00:00, 10.62it/s, now=None]\u001b[A\n",
      "t:   9%|█████▉                                                              | 2/23 [1:20:46<00:01, 17.92it/s, now=None]\u001b[A"
     ]
    },
    {
     "name": "stdout",
     "output_type": "stream",
     "text": [
      "Moviepy - Done !\n",
      "Moviepy - video ready Resources/videos/training/flip/0002.mp4\n"
     ]
    },
    {
     "name": "stderr",
     "output_type": "stream",
     "text": [
      "t:   9%|█████▉                                                              | 2/23 [1:20:47<00:01, 17.92it/s, now=None]"
     ]
    },
    {
     "name": "stdout",
     "output_type": "stream",
     "text": [
      "Moviepy - Building video Resources/videos/training/flip/0002.mp4.\n",
      "Moviepy - Writing video Resources/videos/training/flip/0002.mp4\n",
      "\n"
     ]
    },
    {
     "name": "stderr",
     "output_type": "stream",
     "text": [
      "\n",
      "t:   0%|                                                                               | 0/9 [00:00<?, ?it/s, now=None]\u001b[A\n",
      "t:  22%|███████████████▊                                                       | 2/9 [00:00<00:00, 16.63it/s, now=None]\u001b[A\n",
      "t:  44%|███████████████████████████████▌                                       | 4/9 [00:00<00:00, 11.28it/s, now=None]\u001b[A\n",
      "t:  67%|███████████████████████████████████████████████▎                       | 6/9 [00:00<00:00, 10.89it/s, now=None]\u001b[A\n",
      "t:  89%|███████████████████████████████████████████████████████████████        | 8/9 [00:00<00:00, 10.31it/s, now=None]\u001b[A\n",
      "t:   9%|█████▉                                                              | 2/23 [1:20:49<00:01, 17.92it/s, now=None]\u001b[A"
     ]
    },
    {
     "name": "stdout",
     "output_type": "stream",
     "text": [
      "Moviepy - Done !\n",
      "Moviepy - video ready Resources/videos/training/flip/0002.mp4\n"
     ]
    },
    {
     "name": "stderr",
     "output_type": "stream",
     "text": [
      "t:   9%|█████▉                                                              | 2/23 [1:20:50<00:01, 17.92it/s, now=None]"
     ]
    },
    {
     "name": "stdout",
     "output_type": "stream",
     "text": [
      "Moviepy - Building video Resources/videos/training/flip/0002.mp4.\n",
      "Moviepy - Writing video Resources/videos/training/flip/0002.mp4\n",
      "\n"
     ]
    },
    {
     "name": "stderr",
     "output_type": "stream",
     "text": [
      "\n",
      "t:   0%|                                                                               | 0/9 [00:00<?, ?it/s, now=None]\u001b[A\n",
      "t:  33%|███████████████████████▋                                               | 3/9 [00:00<00:00, 16.11it/s, now=None]\u001b[A\n",
      "t:  56%|███████████████████████████████████████▍                               | 5/9 [00:00<00:00, 11.95it/s, now=None]\u001b[A\n",
      "t:  78%|███████████████████████████████████████████████████████▏               | 7/9 [00:00<00:00, 11.36it/s, now=None]\u001b[A\n",
      "t: 100%|███████████████████████████████████████████████████████████████████████| 9/9 [00:00<00:00, 11.20it/s, now=None]\u001b[A\n",
      "t:   9%|█████▉                                                              | 2/23 [1:20:53<00:01, 17.92it/s, now=None]\u001b[A"
     ]
    },
    {
     "name": "stdout",
     "output_type": "stream",
     "text": [
      "Moviepy - Done !\n",
      "Moviepy - video ready Resources/videos/training/flip/0002.mp4\n"
     ]
    },
    {
     "name": "stderr",
     "output_type": "stream",
     "text": [
      "t:   9%|█████▉                                                              | 2/23 [1:20:54<00:01, 17.92it/s, now=None]"
     ]
    },
    {
     "name": "stdout",
     "output_type": "stream",
     "text": [
      "Moviepy - Building video Resources/videos/training/flip/0002.mp4.\n",
      "Moviepy - Writing video Resources/videos/training/flip/0002.mp4\n",
      "\n"
     ]
    },
    {
     "name": "stderr",
     "output_type": "stream",
     "text": [
      "\n",
      "t:   0%|                                                                               | 0/9 [00:00<?, ?it/s, now=None]\u001b[A\n",
      "t:  33%|███████████████████████▋                                               | 3/9 [00:00<00:00, 17.12it/s, now=None]\u001b[A\n",
      "t:  56%|███████████████████████████████████████▍                               | 5/9 [00:00<00:00, 12.26it/s, now=None]\u001b[A\n",
      "t:  78%|███████████████████████████████████████████████████████▏               | 7/9 [00:00<00:00, 10.97it/s, now=None]\u001b[A\n",
      "t: 100%|███████████████████████████████████████████████████████████████████████| 9/9 [00:00<00:00, 10.95it/s, now=None]\u001b[A\n",
      "t:   9%|█████▉                                                              | 2/23 [1:20:56<00:01, 17.92it/s, now=None]\u001b[A"
     ]
    },
    {
     "name": "stdout",
     "output_type": "stream",
     "text": [
      "Moviepy - Done !\n",
      "Moviepy - video ready Resources/videos/training/flip/0002.mp4\n"
     ]
    },
    {
     "name": "stderr",
     "output_type": "stream",
     "text": [
      "t:   9%|█████▉                                                              | 2/23 [1:20:57<00:01, 17.92it/s, now=None]"
     ]
    },
    {
     "name": "stdout",
     "output_type": "stream",
     "text": [
      "Moviepy - Building video Resources/videos/training/flip/0002.mp4.\n",
      "Moviepy - Writing video Resources/videos/training/flip/0002.mp4\n",
      "\n"
     ]
    },
    {
     "name": "stderr",
     "output_type": "stream",
     "text": [
      "\n",
      "t:   0%|                                                                               | 0/9 [00:00<?, ?it/s, now=None]\u001b[A\n",
      "t:  22%|███████████████▊                                                       | 2/9 [00:00<00:00, 17.93it/s, now=None]\u001b[A\n",
      "t:  44%|███████████████████████████████▌                                       | 4/9 [00:00<00:00, 11.76it/s, now=None]\u001b[A\n",
      "t:  67%|███████████████████████████████████████████████▎                       | 6/9 [00:00<00:00, 10.61it/s, now=None]\u001b[A\n",
      "t:  89%|███████████████████████████████████████████████████████████████        | 8/9 [00:00<00:00, 10.03it/s, now=None]\u001b[A\n",
      "t:   9%|█████▉                                                              | 2/23 [1:21:00<00:01, 17.92it/s, now=None]\u001b[A"
     ]
    },
    {
     "name": "stdout",
     "output_type": "stream",
     "text": [
      "Moviepy - Done !\n",
      "Moviepy - video ready Resources/videos/training/flip/0002.mp4\n"
     ]
    },
    {
     "name": "stderr",
     "output_type": "stream",
     "text": [
      "t:   9%|█████▉                                                              | 2/23 [1:21:01<00:01, 17.92it/s, now=None]"
     ]
    },
    {
     "name": "stdout",
     "output_type": "stream",
     "text": [
      "Moviepy - Building video Resources/videos/training/flip/0002.mp4.\n",
      "Moviepy - Writing video Resources/videos/training/flip/0002.mp4\n",
      "\n"
     ]
    },
    {
     "name": "stderr",
     "output_type": "stream",
     "text": [
      "\n",
      "t:   0%|                                                                               | 0/9 [00:00<?, ?it/s, now=None]\u001b[A\n",
      "t:  22%|███████████████▊                                                       | 2/9 [00:00<00:00, 16.03it/s, now=None]\u001b[A\n",
      "t:  44%|███████████████████████████████▌                                       | 4/9 [00:00<00:00, 12.01it/s, now=None]\u001b[A\n",
      "t:  67%|███████████████████████████████████████████████▎                       | 6/9 [00:00<00:00, 10.93it/s, now=None]\u001b[A\n",
      "t:  89%|███████████████████████████████████████████████████████████████        | 8/9 [00:00<00:00, 10.50it/s, now=None]\u001b[A\n",
      "t:   9%|█████▉                                                              | 2/23 [1:21:03<00:01, 17.92it/s, now=None]\u001b[A"
     ]
    },
    {
     "name": "stdout",
     "output_type": "stream",
     "text": [
      "Moviepy - Done !\n",
      "Moviepy - video ready Resources/videos/training/flip/0002.mp4\n"
     ]
    },
    {
     "name": "stderr",
     "output_type": "stream",
     "text": [
      "t:   9%|█████▉                                                              | 2/23 [1:21:05<00:01, 17.92it/s, now=None]"
     ]
    },
    {
     "name": "stdout",
     "output_type": "stream",
     "text": [
      "Moviepy - Building video Resources/videos/training/flip/0003.mp4.\n",
      "Moviepy - Writing video Resources/videos/training/flip/0003.mp4\n",
      "\n"
     ]
    },
    {
     "name": "stderr",
     "output_type": "stream",
     "text": [
      "\n",
      "t:   0%|                                                                              | 0/22 [00:00<?, ?it/s, now=None]\u001b[A\n",
      "t:  14%|█████████▌                                                            | 3/22 [00:00<00:01, 15.70it/s, now=None]\u001b[A\n",
      "t:  23%|███████████████▉                                                      | 5/22 [00:00<00:01, 11.61it/s, now=None]\u001b[A\n",
      "t:  32%|██████████████████████▎                                               | 7/22 [00:00<00:01, 10.60it/s, now=None]\u001b[A\n",
      "t:  41%|████████████████████████████▋                                         | 9/22 [00:00<00:01,  9.95it/s, now=None]\u001b[A\n",
      "t:  50%|██████████████████████████████████▌                                  | 11/22 [00:01<00:01,  9.55it/s, now=None]\u001b[A\n",
      "t:  55%|█████████████████████████████████████▋                               | 12/22 [00:01<00:01,  9.56it/s, now=None]\u001b[A\n",
      "t:  59%|████████████████████████████████████████▊                            | 13/22 [00:01<00:00,  9.57it/s, now=None]\u001b[A\n",
      "t:  64%|███████████████████████████████████████████▉                         | 14/22 [00:01<00:00,  9.44it/s, now=None]\u001b[A\n",
      "t:  68%|███████████████████████████████████████████████                      | 15/22 [00:01<00:00,  9.13it/s, now=None]\u001b[A\n",
      "t:  77%|█████████████████████████████████████████████████████▎               | 17/22 [00:01<00:00,  9.67it/s, now=None]\u001b[A\n",
      "t:  82%|████████████████████████████████████████████████████████▍            | 18/22 [00:01<00:00,  9.63it/s, now=None]\u001b[A\n",
      "t:  91%|██████████████████████████████████████████████████████████████▋      | 20/22 [00:01<00:00,  9.97it/s, now=None]\u001b[A\n",
      "t: 100%|█████████████████████████████████████████████████████████████████████| 22/22 [00:02<00:00, 10.22it/s, now=None]\u001b[A\n",
      "t:   9%|█████▉                                                              | 2/23 [1:21:11<00:01, 17.92it/s, now=None]\u001b[A"
     ]
    },
    {
     "name": "stdout",
     "output_type": "stream",
     "text": [
      "Moviepy - Done !\n",
      "Moviepy - video ready Resources/videos/training/flip/0003.mp4\n"
     ]
    },
    {
     "name": "stderr",
     "output_type": "stream",
     "text": [
      "t:   9%|█████▉                                                              | 2/23 [1:21:13<00:01, 17.92it/s, now=None]"
     ]
    },
    {
     "name": "stdout",
     "output_type": "stream",
     "text": [
      "Moviepy - Building video Resources/videos/training/flip/0003.mp4.\n",
      "Moviepy - Writing video Resources/videos/training/flip/0003.mp4\n",
      "\n"
     ]
    },
    {
     "name": "stderr",
     "output_type": "stream",
     "text": [
      "\n",
      "t:   0%|                                                                              | 0/22 [00:00<?, ?it/s, now=None]\u001b[A\n",
      "t:   9%|██████▎                                                               | 2/22 [00:00<00:01, 16.75it/s, now=None]\u001b[A\n",
      "t:  18%|████████████▋                                                         | 4/22 [00:00<00:01, 11.32it/s, now=None]\u001b[A\n",
      "t:  27%|███████████████████                                                   | 6/22 [00:00<00:01, 10.77it/s, now=None]\u001b[A\n",
      "t:  36%|█████████████████████████▍                                            | 8/22 [00:00<00:01, 10.52it/s, now=None]\u001b[A\n",
      "t:  45%|███████████████████████████████▎                                     | 10/22 [00:00<00:01,  9.98it/s, now=None]\u001b[A\n",
      "t:  55%|█████████████████████████████████████▋                               | 12/22 [00:01<00:01,  9.98it/s, now=None]\u001b[A\n",
      "t:  64%|███████████████████████████████████████████▉                         | 14/22 [00:01<00:00,  9.87it/s, now=None]\u001b[A\n",
      "t:  68%|███████████████████████████████████████████████                      | 15/22 [00:01<00:00,  9.78it/s, now=None]\u001b[A\n",
      "t:  77%|█████████████████████████████████████████████████████▎               | 17/22 [00:01<00:00,  9.76it/s, now=None]\u001b[A\n",
      "t:  82%|████████████████████████████████████████████████████████▍            | 18/22 [00:01<00:00,  9.14it/s, now=None]\u001b[A\n",
      "t:  91%|██████████████████████████████████████████████████████████████▋      | 20/22 [00:01<00:00,  9.64it/s, now=None]\u001b[A\n",
      "t:  95%|█████████████████████████████████████████████████████████████████▊   | 21/22 [00:02<00:00,  9.45it/s, now=None]\u001b[A\n",
      "t:   9%|█████▉                                                              | 2/23 [1:21:18<00:01, 17.92it/s, now=None]\u001b[A"
     ]
    },
    {
     "name": "stdout",
     "output_type": "stream",
     "text": [
      "Moviepy - Done !\n",
      "Moviepy - video ready Resources/videos/training/flip/0003.mp4\n"
     ]
    },
    {
     "name": "stderr",
     "output_type": "stream",
     "text": [
      "t:   9%|█████▉                                                              | 2/23 [1:21:21<00:01, 17.92it/s, now=None]"
     ]
    },
    {
     "name": "stdout",
     "output_type": "stream",
     "text": [
      "Moviepy - Building video Resources/videos/training/flip/0003.mp4.\n",
      "Moviepy - Writing video Resources/videos/training/flip/0003.mp4\n",
      "\n"
     ]
    },
    {
     "name": "stderr",
     "output_type": "stream",
     "text": [
      "\n",
      "t:   0%|                                                                              | 0/22 [00:00<?, ?it/s, now=None]\u001b[A\n",
      "t:   9%|██████▎                                                               | 2/22 [00:00<00:01, 17.42it/s, now=None]\u001b[A\n",
      "t:  18%|████████████▋                                                         | 4/22 [00:00<00:01, 11.88it/s, now=None]\u001b[A\n",
      "t:  27%|███████████████████                                                   | 6/22 [00:00<00:01, 10.68it/s, now=None]\u001b[A\n",
      "t:  36%|█████████████████████████▍                                            | 8/22 [00:00<00:01, 10.80it/s, now=None]\u001b[A\n",
      "t:  45%|███████████████████████████████▎                                     | 10/22 [00:00<00:01, 10.44it/s, now=None]\u001b[A\n",
      "t:  55%|█████████████████████████████████████▋                               | 12/22 [00:01<00:01,  9.24it/s, now=None]\u001b[A\n",
      "t:  59%|████████████████████████████████████████▊                            | 13/22 [00:01<00:00,  9.17it/s, now=None]\u001b[A\n",
      "t:  64%|███████████████████████████████████████████▉                         | 14/22 [00:01<00:00,  9.04it/s, now=None]\u001b[A\n",
      "t:  68%|███████████████████████████████████████████████                      | 15/22 [00:01<00:00,  9.23it/s, now=None]\u001b[A\n",
      "t:  73%|██████████████████████████████████████████████████▏                  | 16/22 [00:01<00:00,  9.34it/s, now=None]\u001b[A\n",
      "t:  77%|█████████████████████████████████████████████████████▎               | 17/22 [00:01<00:00,  9.34it/s, now=None]\u001b[A\n",
      "t:  82%|████████████████████████████████████████████████████████▍            | 18/22 [00:01<00:00,  9.18it/s, now=None]\u001b[A\n",
      "t:  86%|███████████████████████████████████████████████████████████▌         | 19/22 [00:01<00:00,  9.17it/s, now=None]\u001b[A\n",
      "t:  91%|██████████████████████████████████████████████████████████████▋      | 20/22 [00:02<00:00,  9.16it/s, now=None]\u001b[A\n",
      "t:  95%|█████████████████████████████████████████████████████████████████▊   | 21/22 [00:02<00:00,  9.23it/s, now=None]\u001b[A\n",
      "t:   9%|█████▉                                                              | 2/23 [1:21:26<00:01, 17.92it/s, now=None]\u001b[A"
     ]
    },
    {
     "name": "stdout",
     "output_type": "stream",
     "text": [
      "Moviepy - Done !\n",
      "Moviepy - video ready Resources/videos/training/flip/0003.mp4\n"
     ]
    },
    {
     "name": "stderr",
     "output_type": "stream",
     "text": [
      "t:   9%|█████▉                                                              | 2/23 [1:21:28<00:01, 17.92it/s, now=None]"
     ]
    },
    {
     "name": "stdout",
     "output_type": "stream",
     "text": [
      "Moviepy - Building video Resources/videos/training/flip/0003.mp4.\n",
      "Moviepy - Writing video Resources/videos/training/flip/0003.mp4\n",
      "\n"
     ]
    },
    {
     "name": "stderr",
     "output_type": "stream",
     "text": [
      "\n",
      "t:   0%|                                                                              | 0/22 [00:00<?, ?it/s, now=None]\u001b[A\n",
      "t:   9%|██████▎                                                               | 2/22 [00:00<00:01, 17.05it/s, now=None]\u001b[A\n",
      "t:  18%|████████████▋                                                         | 4/22 [00:00<00:01, 11.23it/s, now=None]\u001b[A\n",
      "t:  27%|███████████████████                                                   | 6/22 [00:00<00:01, 10.70it/s, now=None]\u001b[A\n",
      "t:  36%|█████████████████████████▍                                            | 8/22 [00:00<00:01,  9.78it/s, now=None]\u001b[A\n",
      "t:  45%|███████████████████████████████▎                                     | 10/22 [00:00<00:01,  9.82it/s, now=None]\u001b[A\n",
      "t:  55%|█████████████████████████████████████▋                               | 12/22 [00:01<00:01,  9.47it/s, now=None]\u001b[A\n",
      "t:  59%|████████████████████████████████████████▊                            | 13/22 [00:01<00:00,  9.30it/s, now=None]\u001b[A\n",
      "t:  64%|███████████████████████████████████████████▉                         | 14/22 [00:01<00:00,  9.34it/s, now=None]\u001b[A\n",
      "t:  68%|███████████████████████████████████████████████                      | 15/22 [00:01<00:00,  9.08it/s, now=None]\u001b[A\n",
      "t:  73%|██████████████████████████████████████████████████▏                  | 16/22 [00:01<00:00,  9.18it/s, now=None]\u001b[A\n",
      "t:  77%|█████████████████████████████████████████████████████▎               | 17/22 [00:01<00:00,  9.33it/s, now=None]\u001b[A\n",
      "t:  82%|████████████████████████████████████████████████████████▍            | 18/22 [00:01<00:00,  9.35it/s, now=None]\u001b[A\n",
      "t:  86%|███████████████████████████████████████████████████████████▌         | 19/22 [00:01<00:00,  9.43it/s, now=None]\u001b[A\n",
      "t:  91%|██████████████████████████████████████████████████████████████▋      | 20/22 [00:02<00:00,  9.24it/s, now=None]\u001b[A\n",
      "t:  95%|█████████████████████████████████████████████████████████████████▊   | 21/22 [00:02<00:00,  9.30it/s, now=None]\u001b[A\n",
      "t: 100%|█████████████████████████████████████████████████████████████████████| 22/22 [00:02<00:00,  8.90it/s, now=None]\u001b[A\n",
      "t:   9%|█████▉                                                              | 2/23 [1:21:34<00:01, 17.92it/s, now=None]\u001b[A"
     ]
    },
    {
     "name": "stdout",
     "output_type": "stream",
     "text": [
      "Moviepy - Done !\n",
      "Moviepy - video ready Resources/videos/training/flip/0003.mp4\n"
     ]
    },
    {
     "name": "stderr",
     "output_type": "stream",
     "text": [
      "t:   9%|█████▉                                                              | 2/23 [1:21:36<00:01, 17.92it/s, now=None]"
     ]
    },
    {
     "name": "stdout",
     "output_type": "stream",
     "text": [
      "Moviepy - Building video Resources/videos/training/flip/0003.mp4.\n",
      "Moviepy - Writing video Resources/videos/training/flip/0003.mp4\n",
      "\n"
     ]
    },
    {
     "name": "stderr",
     "output_type": "stream",
     "text": [
      "\n",
      "t:   0%|                                                                              | 0/22 [00:00<?, ?it/s, now=None]\u001b[A\n",
      "t:  14%|█████████▌                                                            | 3/22 [00:00<00:01, 17.01it/s, now=None]\u001b[A\n",
      "t:  23%|███████████████▉                                                      | 5/22 [00:00<00:01, 12.87it/s, now=None]\u001b[A\n",
      "t:  32%|██████████████████████▎                                               | 7/22 [00:00<00:01, 10.72it/s, now=None]\u001b[A\n",
      "t:  41%|████████████████████████████▋                                         | 9/22 [00:00<00:01, 10.32it/s, now=None]\u001b[A\n",
      "t:  50%|██████████████████████████████████▌                                  | 11/22 [00:01<00:01,  9.95it/s, now=None]\u001b[A\n",
      "t:  59%|████████████████████████████████████████▊                            | 13/22 [00:01<00:00,  9.96it/s, now=None]\u001b[A\n",
      "t:  68%|███████████████████████████████████████████████                      | 15/22 [00:01<00:00,  9.79it/s, now=None]\u001b[A\n",
      "t:  73%|██████████████████████████████████████████████████▏                  | 16/22 [00:01<00:00,  9.54it/s, now=None]\u001b[A\n",
      "t:  82%|████████████████████████████████████████████████████████▍            | 18/22 [00:01<00:00,  9.82it/s, now=None]\u001b[A\n",
      "t:  86%|███████████████████████████████████████████████████████████▌         | 19/22 [00:01<00:00,  9.66it/s, now=None]\u001b[A\n",
      "t:  91%|██████████████████████████████████████████████████████████████▋      | 20/22 [00:01<00:00,  9.60it/s, now=None]\u001b[A\n",
      "t:  95%|█████████████████████████████████████████████████████████████████▊   | 21/22 [00:02<00:00,  9.46it/s, now=None]\u001b[A\n",
      "t: 100%|█████████████████████████████████████████████████████████████████████| 22/22 [00:02<00:00,  9.33it/s, now=None]\u001b[A\n",
      "t:   9%|█████▉                                                              | 2/23 [1:21:42<00:01, 17.92it/s, now=None]\u001b[A"
     ]
    },
    {
     "name": "stdout",
     "output_type": "stream",
     "text": [
      "Moviepy - Done !\n",
      "Moviepy - video ready Resources/videos/training/flip/0003.mp4\n"
     ]
    },
    {
     "name": "stderr",
     "output_type": "stream",
     "text": [
      "t:   9%|█████▉                                                              | 2/23 [1:21:44<00:01, 17.92it/s, now=None]"
     ]
    },
    {
     "name": "stdout",
     "output_type": "stream",
     "text": [
      "Moviepy - Building video Resources/videos/training/flip/0003.mp4.\n",
      "Moviepy - Writing video Resources/videos/training/flip/0003.mp4\n",
      "\n"
     ]
    },
    {
     "name": "stderr",
     "output_type": "stream",
     "text": [
      "\n",
      "t:   0%|                                                                              | 0/22 [00:00<?, ?it/s, now=None]\u001b[A\n",
      "t:   9%|██████▎                                                               | 2/22 [00:00<00:01, 16.64it/s, now=None]\u001b[A\n",
      "t:  18%|████████████▋                                                         | 4/22 [00:00<00:01, 12.47it/s, now=None]\u001b[A\n",
      "t:  27%|███████████████████                                                   | 6/22 [00:00<00:01, 10.65it/s, now=None]\u001b[A\n",
      "t:  36%|█████████████████████████▍                                            | 8/22 [00:00<00:01, 10.20it/s, now=None]\u001b[A\n",
      "t:  45%|███████████████████████████████▎                                     | 10/22 [00:00<00:01,  9.90it/s, now=None]\u001b[A\n",
      "t:  55%|█████████████████████████████████████▋                               | 12/22 [00:01<00:01,  9.83it/s, now=None]\u001b[A\n",
      "t:  64%|███████████████████████████████████████████▉                         | 14/22 [00:01<00:00,  9.98it/s, now=None]\u001b[A\n",
      "t:  73%|██████████████████████████████████████████████████▏                  | 16/22 [00:01<00:00, 10.01it/s, now=None]\u001b[A\n",
      "t:  82%|████████████████████████████████████████████████████████▍            | 18/22 [00:01<00:00,  9.74it/s, now=None]\u001b[A\n",
      "t:  86%|███████████████████████████████████████████████████████████▌         | 19/22 [00:01<00:00,  9.66it/s, now=None]\u001b[A\n",
      "t:  91%|██████████████████████████████████████████████████████████████▋      | 20/22 [00:01<00:00,  9.52it/s, now=None]\u001b[A\n",
      "t: 100%|█████████████████████████████████████████████████████████████████████| 22/22 [00:02<00:00,  9.95it/s, now=None]\u001b[A\n",
      "t:   9%|█████▉                                                              | 2/23 [1:21:49<00:01, 17.92it/s, now=None]\u001b[A"
     ]
    },
    {
     "name": "stdout",
     "output_type": "stream",
     "text": [
      "Moviepy - Done !\n",
      "Moviepy - video ready Resources/videos/training/flip/0003.mp4\n"
     ]
    },
    {
     "name": "stderr",
     "output_type": "stream",
     "text": [
      "t:   9%|█████▉                                                              | 2/23 [1:21:52<00:01, 17.92it/s, now=None]"
     ]
    },
    {
     "name": "stdout",
     "output_type": "stream",
     "text": [
      "Moviepy - Building video Resources/videos/training/flip/0003.mp4.\n",
      "Moviepy - Writing video Resources/videos/training/flip/0003.mp4\n",
      "\n"
     ]
    },
    {
     "name": "stderr",
     "output_type": "stream",
     "text": [
      "\n",
      "t:   0%|                                                                              | 0/22 [00:00<?, ?it/s, now=None]\u001b[A\n",
      "t:  14%|█████████▌                                                            | 3/22 [00:00<00:01, 14.40it/s, now=None]\u001b[A\n",
      "t:  23%|███████████████▉                                                      | 5/22 [00:00<00:01, 12.00it/s, now=None]\u001b[A\n",
      "t:  32%|██████████████████████▎                                               | 7/22 [00:00<00:01, 10.78it/s, now=None]\u001b[A\n",
      "t:  41%|████████████████████████████▋                                         | 9/22 [00:00<00:01, 10.19it/s, now=None]\u001b[A\n",
      "t:  50%|██████████████████████████████████▌                                  | 11/22 [00:01<00:01,  9.90it/s, now=None]\u001b[A\n",
      "t:  59%|████████████████████████████████████████▊                            | 13/22 [00:01<00:00, 10.13it/s, now=None]\u001b[A\n",
      "t:  68%|███████████████████████████████████████████████                      | 15/22 [00:01<00:00,  9.58it/s, now=None]\u001b[A\n",
      "t:  73%|██████████████████████████████████████████████████▏                  | 16/22 [00:01<00:00,  9.56it/s, now=None]\u001b[A\n",
      "t:  77%|█████████████████████████████████████████████████████▎               | 17/22 [00:01<00:00,  9.34it/s, now=None]\u001b[A\n",
      "t:  82%|████████████████████████████████████████████████████████▍            | 18/22 [00:01<00:00,  8.93it/s, now=None]\u001b[A\n",
      "t:  86%|███████████████████████████████████████████████████████████▌         | 19/22 [00:01<00:00,  8.89it/s, now=None]\u001b[A\n",
      "t:  91%|██████████████████████████████████████████████████████████████▋      | 20/22 [00:02<00:00,  8.97it/s, now=None]\u001b[A\n",
      "t:  95%|█████████████████████████████████████████████████████████████████▊   | 21/22 [00:02<00:00,  9.11it/s, now=None]\u001b[A\n",
      "t:   9%|█████▉                                                              | 2/23 [1:21:57<00:01, 17.92it/s, now=None]\u001b[A"
     ]
    },
    {
     "name": "stdout",
     "output_type": "stream",
     "text": [
      "Moviepy - Done !\n",
      "Moviepy - video ready Resources/videos/training/flip/0003.mp4\n"
     ]
    },
    {
     "name": "stderr",
     "output_type": "stream",
     "text": [
      "t:   9%|█████▉                                                              | 2/23 [1:21:59<00:01, 17.92it/s, now=None]"
     ]
    },
    {
     "name": "stdout",
     "output_type": "stream",
     "text": [
      "Moviepy - Building video Resources/videos/training/flip/0003.mp4.\n",
      "Moviepy - Writing video Resources/videos/training/flip/0003.mp4\n",
      "\n"
     ]
    },
    {
     "name": "stderr",
     "output_type": "stream",
     "text": [
      "\n",
      "t:   0%|                                                                              | 0/22 [00:00<?, ?it/s, now=None]\u001b[A\n",
      "t:   9%|██████▎                                                               | 2/22 [00:00<00:01, 19.80it/s, now=None]\u001b[A\n",
      "t:  18%|████████████▋                                                         | 4/22 [00:00<00:01, 12.00it/s, now=None]\u001b[A\n",
      "t:  27%|███████████████████                                                   | 6/22 [00:00<00:01, 10.74it/s, now=None]\u001b[A\n",
      "t:  36%|█████████████████████████▍                                            | 8/22 [00:00<00:01, 10.74it/s, now=None]\u001b[A\n",
      "t:  45%|███████████████████████████████▎                                     | 10/22 [00:00<00:01, 10.31it/s, now=None]\u001b[A\n",
      "t:  55%|█████████████████████████████████████▋                               | 12/22 [00:01<00:01,  9.91it/s, now=None]\u001b[A\n",
      "t:  64%|███████████████████████████████████████████▉                         | 14/22 [00:01<00:00,  9.94it/s, now=None]\u001b[A\n",
      "t:  73%|██████████████████████████████████████████████████▏                  | 16/22 [00:01<00:00,  9.92it/s, now=None]\u001b[A\n",
      "t:  82%|████████████████████████████████████████████████████████▍            | 18/22 [00:01<00:00,  9.97it/s, now=None]\u001b[A\n",
      "t:  91%|██████████████████████████████████████████████████████████████▋      | 20/22 [00:01<00:00,  9.66it/s, now=None]\u001b[A\n",
      "t:  95%|█████████████████████████████████████████████████████████████████▊   | 21/22 [00:02<00:00,  9.59it/s, now=None]\u001b[A\n",
      "t: 100%|█████████████████████████████████████████████████████████████████████| 22/22 [00:02<00:00,  9.66it/s, now=None]\u001b[A\n",
      "t:   9%|█████▉                                                              | 2/23 [1:22:05<00:01, 17.92it/s, now=None]\u001b[A"
     ]
    },
    {
     "name": "stdout",
     "output_type": "stream",
     "text": [
      "Moviepy - Done !\n",
      "Moviepy - video ready Resources/videos/training/flip/0003.mp4\n"
     ]
    },
    {
     "name": "stderr",
     "output_type": "stream",
     "text": [
      "t:   9%|█████▉                                                              | 2/23 [1:22:07<00:01, 17.92it/s, now=None]"
     ]
    },
    {
     "name": "stdout",
     "output_type": "stream",
     "text": [
      "Moviepy - Building video Resources/videos/training/flip/0003.mp4.\n",
      "Moviepy - Writing video Resources/videos/training/flip/0003.mp4\n",
      "\n"
     ]
    },
    {
     "name": "stderr",
     "output_type": "stream",
     "text": [
      "\n",
      "t:   0%|                                                                              | 0/22 [00:00<?, ?it/s, now=None]\u001b[A\n",
      "t:   9%|██████▎                                                               | 2/22 [00:00<00:01, 14.96it/s, now=None]\u001b[A\n",
      "t:  18%|████████████▋                                                         | 4/22 [00:00<00:01, 11.04it/s, now=None]\u001b[A\n",
      "t:  27%|███████████████████                                                   | 6/22 [00:00<00:01, 10.43it/s, now=None]\u001b[A\n",
      "t:  36%|█████████████████████████▍                                            | 8/22 [00:00<00:01, 10.15it/s, now=None]\u001b[A\n",
      "t:  45%|███████████████████████████████▎                                     | 10/22 [00:00<00:01,  9.98it/s, now=None]\u001b[A\n",
      "t:  55%|█████████████████████████████████████▋                               | 12/22 [00:01<00:00, 10.05it/s, now=None]\u001b[A\n",
      "t:  64%|███████████████████████████████████████████▉                         | 14/22 [00:01<00:00,  9.65it/s, now=None]\u001b[A\n",
      "t:  73%|██████████████████████████████████████████████████▏                  | 16/22 [00:01<00:00,  9.70it/s, now=None]\u001b[A\n",
      "t:  82%|████████████████████████████████████████████████████████▍            | 18/22 [00:01<00:00,  9.85it/s, now=None]\u001b[A\n",
      "t:  91%|██████████████████████████████████████████████████████████████▋      | 20/22 [00:01<00:00, 10.18it/s, now=None]\u001b[A\n",
      "t: 100%|█████████████████████████████████████████████████████████████████████| 22/22 [00:02<00:00, 10.11it/s, now=None]\u001b[A\n",
      "t:   9%|█████▉                                                              | 2/23 [1:22:12<00:01, 17.92it/s, now=None]\u001b[A"
     ]
    },
    {
     "name": "stdout",
     "output_type": "stream",
     "text": [
      "Moviepy - Done !\n",
      "Moviepy - video ready Resources/videos/training/flip/0003.mp4\n"
     ]
    },
    {
     "name": "stderr",
     "output_type": "stream",
     "text": [
      "t:   9%|█████▉                                                              | 2/23 [1:22:15<00:01, 17.92it/s, now=None]"
     ]
    },
    {
     "name": "stdout",
     "output_type": "stream",
     "text": [
      "Moviepy - Building video Resources/videos/training/flip/0003.mp4.\n",
      "Moviepy - Writing video Resources/videos/training/flip/0003.mp4\n",
      "\n"
     ]
    },
    {
     "name": "stderr",
     "output_type": "stream",
     "text": [
      "\n",
      "t:   0%|                                                                              | 0/22 [00:00<?, ?it/s, now=None]\u001b[A\n",
      "t:   9%|██████▎                                                               | 2/22 [00:00<00:01, 17.78it/s, now=None]\u001b[A\n",
      "t:  18%|████████████▋                                                         | 4/22 [00:00<00:01, 11.97it/s, now=None]\u001b[A\n",
      "t:  27%|███████████████████                                                   | 6/22 [00:00<00:01, 10.99it/s, now=None]\u001b[A\n",
      "t:  36%|█████████████████████████▍                                            | 8/22 [00:00<00:01, 10.45it/s, now=None]\u001b[A\n",
      "t:  45%|███████████████████████████████▎                                     | 10/22 [00:00<00:01,  9.93it/s, now=None]\u001b[A\n",
      "t:  55%|█████████████████████████████████████▋                               | 12/22 [00:01<00:01,  9.49it/s, now=None]\u001b[A\n",
      "t:  64%|███████████████████████████████████████████▉                         | 14/22 [00:01<00:00,  9.76it/s, now=None]\u001b[A\n",
      "t:  68%|███████████████████████████████████████████████                      | 15/22 [00:01<00:00,  9.64it/s, now=None]\u001b[A\n",
      "t:  73%|██████████████████████████████████████████████████▏                  | 16/22 [00:01<00:00,  9.57it/s, now=None]\u001b[A\n",
      "t:  77%|█████████████████████████████████████████████████████▎               | 17/22 [00:01<00:00,  9.53it/s, now=None]\u001b[A\n",
      "t:  82%|████████████████████████████████████████████████████████▍            | 18/22 [00:01<00:00,  9.43it/s, now=None]\u001b[A\n",
      "t:  86%|███████████████████████████████████████████████████████████▌         | 19/22 [00:01<00:00,  9.01it/s, now=None]\u001b[A\n",
      "t:  91%|██████████████████████████████████████████████████████████████▋      | 20/22 [00:02<00:00,  8.65it/s, now=None]\u001b[A\n",
      "t: 100%|█████████████████████████████████████████████████████████████████████| 22/22 [00:02<00:00,  9.72it/s, now=None]\u001b[A\n",
      "t:   9%|█████▉                                                              | 2/23 [1:22:20<00:01, 17.92it/s, now=None]\u001b[A"
     ]
    },
    {
     "name": "stdout",
     "output_type": "stream",
     "text": [
      "Moviepy - Done !\n",
      "Moviepy - video ready Resources/videos/training/flip/0003.mp4\n"
     ]
    },
    {
     "name": "stderr",
     "output_type": "stream",
     "text": [
      "t:   9%|█████▉                                                              | 2/23 [1:22:22<00:01, 17.92it/s, now=None]"
     ]
    },
    {
     "name": "stdout",
     "output_type": "stream",
     "text": [
      "Moviepy - Building video Resources/videos/training/flip/0003.mp4.\n",
      "Moviepy - Writing video Resources/videos/training/flip/0003.mp4\n",
      "\n"
     ]
    },
    {
     "name": "stderr",
     "output_type": "stream",
     "text": [
      "\n",
      "t:   0%|                                                                              | 0/22 [00:00<?, ?it/s, now=None]\u001b[A\n",
      "t:   9%|██████▎                                                               | 2/22 [00:00<00:01, 19.63it/s, now=None]\u001b[A\n",
      "t:  18%|████████████▋                                                         | 4/22 [00:00<00:01, 12.31it/s, now=None]\u001b[A\n",
      "t:  27%|███████████████████                                                   | 6/22 [00:00<00:01, 11.12it/s, now=None]\u001b[A\n",
      "t:  36%|█████████████████████████▍                                            | 8/22 [00:00<00:01, 10.61it/s, now=None]\u001b[A\n",
      "t:  45%|███████████████████████████████▎                                     | 10/22 [00:00<00:01, 10.32it/s, now=None]\u001b[A\n",
      "t:  55%|█████████████████████████████████████▋                               | 12/22 [00:01<00:01,  9.58it/s, now=None]\u001b[A\n",
      "t:  59%|████████████████████████████████████████▊                            | 13/22 [00:01<00:00,  9.51it/s, now=None]\u001b[A\n",
      "t:  64%|███████████████████████████████████████████▉                         | 14/22 [00:01<00:00,  9.52it/s, now=None]\u001b[A\n",
      "t:  68%|███████████████████████████████████████████████                      | 15/22 [00:01<00:00,  9.40it/s, now=None]\u001b[A\n",
      "t:  77%|█████████████████████████████████████████████████████▎               | 17/22 [00:01<00:00,  9.69it/s, now=None]\u001b[A\n",
      "t:  82%|████████████████████████████████████████████████████████▍            | 18/22 [00:01<00:00,  9.73it/s, now=None]\u001b[A\n",
      "t:  86%|███████████████████████████████████████████████████████████▌         | 19/22 [00:01<00:00,  9.60it/s, now=None]\u001b[A\n",
      "t:  95%|█████████████████████████████████████████████████████████████████▊   | 21/22 [00:02<00:00,  9.65it/s, now=None]\u001b[A\n",
      "t: 100%|█████████████████████████████████████████████████████████████████████| 22/22 [00:02<00:00,  9.51it/s, now=None]\u001b[A\n",
      "t:   9%|█████▉                                                              | 2/23 [1:22:28<00:01, 17.92it/s, now=None]\u001b[A"
     ]
    },
    {
     "name": "stdout",
     "output_type": "stream",
     "text": [
      "Moviepy - Done !\n",
      "Moviepy - video ready Resources/videos/training/flip/0003.mp4\n"
     ]
    },
    {
     "name": "stderr",
     "output_type": "stream",
     "text": [
      "t:   9%|█████▉                                                              | 2/23 [1:22:30<00:01, 17.92it/s, now=None]"
     ]
    },
    {
     "name": "stdout",
     "output_type": "stream",
     "text": [
      "Moviepy - Building video Resources/videos/training/flip/0003.mp4.\n",
      "Moviepy - Writing video Resources/videos/training/flip/0003.mp4\n",
      "\n"
     ]
    },
    {
     "name": "stderr",
     "output_type": "stream",
     "text": [
      "\n",
      "t:   0%|                                                                              | 0/22 [00:00<?, ?it/s, now=None]\u001b[A\n",
      "t:   9%|██████▎                                                               | 2/22 [00:00<00:01, 16.72it/s, now=None]\u001b[A\n",
      "t:  18%|████████████▋                                                         | 4/22 [00:00<00:01, 11.82it/s, now=None]\u001b[A\n",
      "t:  27%|███████████████████                                                   | 6/22 [00:00<00:01,  9.86it/s, now=None]\u001b[A\n",
      "t:  36%|█████████████████████████▍                                            | 8/22 [00:00<00:01,  9.64it/s, now=None]\u001b[A\n",
      "t:  45%|███████████████████████████████▎                                     | 10/22 [00:00<00:01,  9.85it/s, now=None]\u001b[A\n",
      "t:  55%|█████████████████████████████████████▋                               | 12/22 [00:01<00:01,  9.81it/s, now=None]\u001b[A\n",
      "t:  64%|███████████████████████████████████████████▉                         | 14/22 [00:01<00:00,  9.83it/s, now=None]\u001b[A\n",
      "t:  68%|███████████████████████████████████████████████                      | 15/22 [00:01<00:00,  9.69it/s, now=None]\u001b[A\n",
      "t:  73%|██████████████████████████████████████████████████▏                  | 16/22 [00:01<00:00,  9.27it/s, now=None]\u001b[A\n",
      "t:  77%|█████████████████████████████████████████████████████▎               | 17/22 [00:01<00:00,  9.29it/s, now=None]\u001b[A\n",
      "t:  82%|████████████████████████████████████████████████████████▍            | 18/22 [00:01<00:00,  9.25it/s, now=None]\u001b[A\n",
      "t:  91%|██████████████████████████████████████████████████████████████▋      | 20/22 [00:02<00:00,  9.12it/s, now=None]\u001b[A\n",
      "t: 100%|█████████████████████████████████████████████████████████████████████| 22/22 [00:02<00:00,  9.43it/s, now=None]\u001b[A\n",
      "t:   9%|█████▉                                                              | 2/23 [1:22:36<00:01, 17.92it/s, now=None]\u001b[A"
     ]
    },
    {
     "name": "stdout",
     "output_type": "stream",
     "text": [
      "Moviepy - Done !\n",
      "Moviepy - video ready Resources/videos/training/flip/0003.mp4\n"
     ]
    },
    {
     "name": "stderr",
     "output_type": "stream",
     "text": [
      "t:   9%|█████▉                                                              | 2/23 [1:22:38<00:01, 17.92it/s, now=None]"
     ]
    },
    {
     "name": "stdout",
     "output_type": "stream",
     "text": [
      "Moviepy - Building video Resources/videos/training/flip/0003.mp4.\n",
      "Moviepy - Writing video Resources/videos/training/flip/0003.mp4\n",
      "\n"
     ]
    },
    {
     "name": "stderr",
     "output_type": "stream",
     "text": [
      "\n",
      "t:   0%|                                                                              | 0/22 [00:00<?, ?it/s, now=None]\u001b[A\n",
      "t:   9%|██████▎                                                               | 2/22 [00:00<00:01, 19.15it/s, now=None]\u001b[A\n",
      "t:  18%|████████████▋                                                         | 4/22 [00:00<00:01, 12.86it/s, now=None]\u001b[A\n",
      "t:  27%|███████████████████                                                   | 6/22 [00:00<00:01, 11.30it/s, now=None]\u001b[A\n",
      "t:  36%|█████████████████████████▍                                            | 8/22 [00:00<00:01, 10.36it/s, now=None]\u001b[A\n",
      "t:  45%|███████████████████████████████▎                                     | 10/22 [00:00<00:01, 10.09it/s, now=None]\u001b[A\n",
      "t:  55%|█████████████████████████████████████▋                               | 12/22 [00:01<00:01,  9.96it/s, now=None]\u001b[A\n",
      "t:  64%|███████████████████████████████████████████▉                         | 14/22 [00:01<00:00,  9.94it/s, now=None]\u001b[A\n",
      "t:  73%|██████████████████████████████████████████████████▏                  | 16/22 [00:01<00:00,  9.87it/s, now=None]\u001b[A\n",
      "t:  77%|█████████████████████████████████████████████████████▎               | 17/22 [00:01<00:00,  9.53it/s, now=None]\u001b[A\n",
      "t:  82%|████████████████████████████████████████████████████████▍            | 18/22 [00:01<00:00,  9.26it/s, now=None]\u001b[A\n",
      "t:  86%|███████████████████████████████████████████████████████████▌         | 19/22 [00:01<00:00,  9.23it/s, now=None]\u001b[A\n",
      "t:  95%|█████████████████████████████████████████████████████████████████▊   | 21/22 [00:02<00:00,  9.99it/s, now=None]\u001b[A\n",
      "t: 100%|█████████████████████████████████████████████████████████████████████| 22/22 [00:02<00:00,  9.57it/s, now=None]\u001b[A\n",
      "t:   9%|█████▉                                                              | 2/23 [1:22:43<00:01, 17.92it/s, now=None]\u001b[A"
     ]
    },
    {
     "name": "stdout",
     "output_type": "stream",
     "text": [
      "Moviepy - Done !\n",
      "Moviepy - video ready Resources/videos/training/flip/0003.mp4\n"
     ]
    },
    {
     "name": "stderr",
     "output_type": "stream",
     "text": [
      "t:   9%|█████▉                                                              | 2/23 [1:22:46<00:01, 17.92it/s, now=None]"
     ]
    },
    {
     "name": "stdout",
     "output_type": "stream",
     "text": [
      "Moviepy - Building video Resources/videos/training/flip/0003.mp4.\n",
      "Moviepy - Writing video Resources/videos/training/flip/0003.mp4\n",
      "\n"
     ]
    },
    {
     "name": "stderr",
     "output_type": "stream",
     "text": [
      "\n",
      "t:   0%|                                                                              | 0/22 [00:00<?, ?it/s, now=None]\u001b[A\n",
      "t:   9%|██████▎                                                               | 2/22 [00:00<00:01, 12.95it/s, now=None]\u001b[A\n",
      "t:  18%|████████████▋                                                         | 4/22 [00:00<00:01, 10.72it/s, now=None]\u001b[A\n",
      "t:  27%|███████████████████                                                   | 6/22 [00:00<00:01, 10.14it/s, now=None]\u001b[A\n",
      "t:  36%|█████████████████████████▍                                            | 8/22 [00:00<00:01, 10.05it/s, now=None]\u001b[A\n",
      "t:  45%|███████████████████████████████▎                                     | 10/22 [00:00<00:01,  9.92it/s, now=None]\u001b[A\n",
      "t:  50%|██████████████████████████████████▌                                  | 11/22 [00:01<00:01,  9.50it/s, now=None]\u001b[A\n",
      "t:  55%|█████████████████████████████████████▋                               | 12/22 [00:01<00:01,  9.35it/s, now=None]\u001b[A\n",
      "t:  59%|████████████████████████████████████████▊                            | 13/22 [00:01<00:01,  8.97it/s, now=None]\u001b[A\n",
      "t:  68%|███████████████████████████████████████████████                      | 15/22 [00:01<00:00,  9.36it/s, now=None]\u001b[A\n",
      "t:  73%|██████████████████████████████████████████████████▏                  | 16/22 [00:01<00:00,  9.31it/s, now=None]\u001b[A\n",
      "t:  82%|████████████████████████████████████████████████████████▍            | 18/22 [00:01<00:00,  9.81it/s, now=None]\u001b[A\n",
      "t:  86%|███████████████████████████████████████████████████████████▌         | 19/22 [00:01<00:00,  9.41it/s, now=None]\u001b[A\n",
      "t:  91%|██████████████████████████████████████████████████████████████▋      | 20/22 [00:02<00:00,  9.24it/s, now=None]\u001b[A\n",
      "t:  95%|█████████████████████████████████████████████████████████████████▊   | 21/22 [00:02<00:00,  8.92it/s, now=None]\u001b[A\n",
      "t: 100%|█████████████████████████████████████████████████████████████████████| 22/22 [00:02<00:00,  8.94it/s, now=None]\u001b[A\n",
      "t:   9%|█████▉                                                              | 2/23 [1:22:51<00:01, 17.92it/s, now=None]\u001b[A"
     ]
    },
    {
     "name": "stdout",
     "output_type": "stream",
     "text": [
      "Moviepy - Done !\n",
      "Moviepy - video ready Resources/videos/training/flip/0003.mp4\n"
     ]
    },
    {
     "name": "stderr",
     "output_type": "stream",
     "text": [
      "t:   9%|█████▉                                                              | 2/23 [1:22:53<00:01, 17.92it/s, now=None]"
     ]
    },
    {
     "name": "stdout",
     "output_type": "stream",
     "text": [
      "Moviepy - Building video Resources/videos/training/flip/0003.mp4.\n",
      "Moviepy - Writing video Resources/videos/training/flip/0003.mp4\n",
      "\n"
     ]
    },
    {
     "name": "stderr",
     "output_type": "stream",
     "text": [
      "\n",
      "t:   0%|                                                                              | 0/22 [00:00<?, ?it/s, now=None]\u001b[A\n",
      "t:   9%|██████▎                                                               | 2/22 [00:00<00:01, 18.82it/s, now=None]\u001b[A\n",
      "t:  18%|████████████▋                                                         | 4/22 [00:00<00:01, 12.06it/s, now=None]\u001b[A\n",
      "t:  27%|███████████████████                                                   | 6/22 [00:00<00:01, 11.34it/s, now=None]\u001b[A\n",
      "t:  36%|█████████████████████████▍                                            | 8/22 [00:00<00:01, 10.88it/s, now=None]\u001b[A\n",
      "t:  45%|███████████████████████████████▎                                     | 10/22 [00:00<00:01, 10.58it/s, now=None]\u001b[A\n",
      "t:  55%|█████████████████████████████████████▋                               | 12/22 [00:01<00:01,  9.83it/s, now=None]\u001b[A\n",
      "t:  64%|███████████████████████████████████████████▉                         | 14/22 [00:01<00:00,  9.25it/s, now=None]\u001b[A\n",
      "t:  68%|███████████████████████████████████████████████                      | 15/22 [00:01<00:00,  9.24it/s, now=None]\u001b[A\n",
      "t:  77%|█████████████████████████████████████████████████████▎               | 17/22 [00:01<00:00,  9.42it/s, now=None]\u001b[A\n",
      "t:  82%|████████████████████████████████████████████████████████▍            | 18/22 [00:01<00:00,  9.49it/s, now=None]\u001b[A\n",
      "t:  91%|██████████████████████████████████████████████████████████████▋      | 20/22 [00:01<00:00,  9.76it/s, now=None]\u001b[A\n",
      "t:  95%|█████████████████████████████████████████████████████████████████▊   | 21/22 [00:02<00:00,  9.62it/s, now=None]\u001b[A\n",
      "t: 100%|█████████████████████████████████████████████████████████████████████| 22/22 [00:02<00:00,  9.51it/s, now=None]\u001b[A\n",
      "t:   9%|█████▉                                                              | 2/23 [1:22:59<00:01, 17.92it/s, now=None]\u001b[A"
     ]
    },
    {
     "name": "stdout",
     "output_type": "stream",
     "text": [
      "Moviepy - Done !\n",
      "Moviepy - video ready Resources/videos/training/flip/0003.mp4\n"
     ]
    },
    {
     "name": "stderr",
     "output_type": "stream",
     "text": [
      "t:   9%|█████▉                                                              | 2/23 [1:23:01<00:01, 17.92it/s, now=None]"
     ]
    },
    {
     "name": "stdout",
     "output_type": "stream",
     "text": [
      "Moviepy - Building video Resources/videos/training/flip/0003.mp4.\n",
      "Moviepy - Writing video Resources/videos/training/flip/0003.mp4\n",
      "\n"
     ]
    },
    {
     "name": "stderr",
     "output_type": "stream",
     "text": [
      "\n",
      "t:   0%|                                                                              | 0/22 [00:00<?, ?it/s, now=None]\u001b[A\n",
      "t:  14%|█████████▌                                                            | 3/22 [00:00<00:01, 16.11it/s, now=None]\u001b[A\n",
      "t:  23%|███████████████▉                                                      | 5/22 [00:00<00:01, 12.05it/s, now=None]\u001b[A\n",
      "t:  32%|██████████████████████▎                                               | 7/22 [00:00<00:01, 10.40it/s, now=None]\u001b[A\n",
      "t:  41%|████████████████████████████▋                                         | 9/22 [00:00<00:01, 10.52it/s, now=None]\u001b[A\n",
      "t:  50%|██████████████████████████████████▌                                  | 11/22 [00:01<00:01,  9.93it/s, now=None]\u001b[A\n",
      "t:  59%|████████████████████████████████████████▊                            | 13/22 [00:01<00:00,  9.50it/s, now=None]\u001b[A\n",
      "t:  64%|███████████████████████████████████████████▉                         | 14/22 [00:01<00:00,  9.35it/s, now=None]\u001b[A\n",
      "t:  68%|███████████████████████████████████████████████                      | 15/22 [00:01<00:00,  8.76it/s, now=None]\u001b[A\n",
      "t:  77%|█████████████████████████████████████████████████████▎               | 17/22 [00:01<00:00,  9.38it/s, now=None]\u001b[A\n",
      "t:  82%|████████████████████████████████████████████████████████▍            | 18/22 [00:01<00:00,  9.32it/s, now=None]\u001b[A\n",
      "t:  86%|███████████████████████████████████████████████████████████▌         | 19/22 [00:01<00:00,  9.26it/s, now=None]\u001b[A\n",
      "t:  91%|██████████████████████████████████████████████████████████████▋      | 20/22 [00:02<00:00,  9.27it/s, now=None]\u001b[A\n",
      "t: 100%|█████████████████████████████████████████████████████████████████████| 22/22 [00:02<00:00,  9.78it/s, now=None]\u001b[A\n",
      "t:   9%|█████▉                                                              | 2/23 [1:23:07<00:01, 17.92it/s, now=None]\u001b[A"
     ]
    },
    {
     "name": "stdout",
     "output_type": "stream",
     "text": [
      "Moviepy - Done !\n",
      "Moviepy - video ready Resources/videos/training/flip/0003.mp4\n"
     ]
    },
    {
     "name": "stderr",
     "output_type": "stream",
     "text": [
      "t:   9%|█████▉                                                              | 2/23 [1:23:09<00:01, 17.92it/s, now=None]"
     ]
    },
    {
     "name": "stdout",
     "output_type": "stream",
     "text": [
      "Moviepy - Building video Resources/videos/training/flip/0003.mp4.\n",
      "Moviepy - Writing video Resources/videos/training/flip/0003.mp4\n",
      "\n"
     ]
    },
    {
     "name": "stderr",
     "output_type": "stream",
     "text": [
      "\n",
      "t:   0%|                                                                              | 0/22 [00:00<?, ?it/s, now=None]\u001b[A\n",
      "t:  14%|█████████▌                                                            | 3/22 [00:00<00:01, 15.07it/s, now=None]\u001b[A\n",
      "t:  23%|███████████████▉                                                      | 5/22 [00:00<00:01, 11.40it/s, now=None]\u001b[A\n",
      "t:  32%|██████████████████████▎                                               | 7/22 [00:00<00:01, 11.05it/s, now=None]\u001b[A\n",
      "t:  41%|████████████████████████████▋                                         | 9/22 [00:00<00:01,  9.93it/s, now=None]\u001b[A\n",
      "t:  50%|██████████████████████████████████▌                                  | 11/22 [00:01<00:01,  9.90it/s, now=None]\u001b[A\n",
      "t:  59%|████████████████████████████████████████▊                            | 13/22 [00:01<00:00, 10.13it/s, now=None]\u001b[A\n",
      "t:  68%|███████████████████████████████████████████████                      | 15/22 [00:01<00:00, 10.13it/s, now=None]\u001b[A\n",
      "t:  77%|█████████████████████████████████████████████████████▎               | 17/22 [00:01<00:00,  9.93it/s, now=None]\u001b[A\n",
      "t:  82%|████████████████████████████████████████████████████████▍            | 18/22 [00:01<00:00,  9.78it/s, now=None]\u001b[A\n",
      "t:  86%|███████████████████████████████████████████████████████████▌         | 19/22 [00:01<00:00,  9.29it/s, now=None]\u001b[A\n",
      "t:  91%|██████████████████████████████████████████████████████████████▋      | 20/22 [00:01<00:00,  9.41it/s, now=None]\u001b[A\n",
      "t: 100%|█████████████████████████████████████████████████████████████████████| 22/22 [00:02<00:00,  9.83it/s, now=None]\u001b[A\n",
      "t:   9%|█████▉                                                              | 2/23 [1:23:14<00:01, 17.92it/s, now=None]\u001b[A"
     ]
    },
    {
     "name": "stdout",
     "output_type": "stream",
     "text": [
      "Moviepy - Done !\n",
      "Moviepy - video ready Resources/videos/training/flip/0003.mp4\n"
     ]
    },
    {
     "name": "stderr",
     "output_type": "stream",
     "text": [
      "t:   9%|█████▉                                                              | 2/23 [1:23:17<00:01, 17.92it/s, now=None]"
     ]
    },
    {
     "name": "stdout",
     "output_type": "stream",
     "text": [
      "Moviepy - Building video Resources/videos/training/flip/0003.mp4.\n",
      "Moviepy - Writing video Resources/videos/training/flip/0003.mp4\n",
      "\n"
     ]
    },
    {
     "name": "stderr",
     "output_type": "stream",
     "text": [
      "\n",
      "t:   0%|                                                                              | 0/22 [00:00<?, ?it/s, now=None]\u001b[A\n",
      "t:   9%|██████▎                                                               | 2/22 [00:00<00:01, 17.09it/s, now=None]\u001b[A\n",
      "t:  18%|████████████▋                                                         | 4/22 [00:00<00:01, 11.80it/s, now=None]\u001b[A\n",
      "t:  27%|███████████████████                                                   | 6/22 [00:00<00:01, 11.02it/s, now=None]\u001b[A\n",
      "t:  36%|█████████████████████████▍                                            | 8/22 [00:00<00:01, 10.82it/s, now=None]\u001b[A\n",
      "t:  45%|███████████████████████████████▎                                     | 10/22 [00:00<00:01, 10.35it/s, now=None]\u001b[A\n",
      "t:  55%|█████████████████████████████████████▋                               | 12/22 [00:01<00:00, 10.14it/s, now=None]\u001b[A\n",
      "t:  64%|███████████████████████████████████████████▉                         | 14/22 [00:01<00:00,  9.68it/s, now=None]\u001b[A\n",
      "t:  68%|███████████████████████████████████████████████                      | 15/22 [00:01<00:00,  9.71it/s, now=None]\u001b[A\n",
      "t:  73%|██████████████████████████████████████████████████▏                  | 16/22 [00:01<00:00,  9.36it/s, now=None]\u001b[A\n",
      "t:  77%|█████████████████████████████████████████████████████▎               | 17/22 [00:01<00:00,  9.39it/s, now=None]\u001b[A\n",
      "t:  82%|████████████████████████████████████████████████████████▍            | 18/22 [00:01<00:00,  9.26it/s, now=None]\u001b[A\n",
      "t:  86%|███████████████████████████████████████████████████████████▌         | 19/22 [00:01<00:00,  9.35it/s, now=None]\u001b[A\n",
      "t:  91%|██████████████████████████████████████████████████████████████▋      | 20/22 [00:02<00:00,  9.26it/s, now=None]\u001b[A\n",
      "t:  95%|█████████████████████████████████████████████████████████████████▊   | 21/22 [00:02<00:00,  9.15it/s, now=None]\u001b[A\n",
      "t:   9%|█████▉                                                              | 2/23 [1:23:20<00:01, 17.92it/s, now=None]\u001b[A"
     ]
    },
    {
     "name": "stdout",
     "output_type": "stream",
     "text": [
      "Moviepy - Done !\n",
      "Moviepy - video ready Resources/videos/training/flip/0003.mp4\n"
     ]
    },
    {
     "name": "stderr",
     "output_type": "stream",
     "text": [
      "t:   9%|█████▉                                                              | 2/23 [1:23:21<00:01, 17.92it/s, now=None]"
     ]
    },
    {
     "name": "stdout",
     "output_type": "stream",
     "text": [
      "Moviepy - Building video Resources/videos/training/flip/0003.mp4.\n",
      "Moviepy - Writing video Resources/videos/training/flip/0003.mp4\n",
      "\n"
     ]
    },
    {
     "name": "stderr",
     "output_type": "stream",
     "text": [
      "\n",
      "t:   0%|                                                                              | 0/22 [00:00<?, ?it/s, now=None]\u001b[A\n",
      "t:  14%|█████████▌                                                            | 3/22 [00:00<00:00, 22.97it/s, now=None]\u001b[A\n",
      "t:  27%|███████████████████                                                   | 6/22 [00:00<00:00, 23.57it/s, now=None]\u001b[A\n",
      "t:  41%|████████████████████████████▋                                         | 9/22 [00:00<00:00, 22.46it/s, now=None]\u001b[A\n",
      "t:  55%|█████████████████████████████████████▋                               | 12/22 [00:00<00:00, 23.03it/s, now=None]\u001b[A\n",
      "t:  68%|███████████████████████████████████████████████                      | 15/22 [00:00<00:00, 24.50it/s, now=None]\u001b[A\n",
      "t:  82%|████████████████████████████████████████████████████████▍            | 18/22 [00:00<00:00, 24.21it/s, now=None]\u001b[A\n",
      "t:  95%|█████████████████████████████████████████████████████████████████▊   | 21/22 [00:00<00:00, 22.35it/s, now=None]\u001b[A\n",
      "t:   9%|█████▉                                                              | 2/23 [1:23:23<00:01, 17.92it/s, now=None]\u001b[A"
     ]
    },
    {
     "name": "stdout",
     "output_type": "stream",
     "text": [
      "Moviepy - Done !\n",
      "Moviepy - video ready Resources/videos/training/flip/0003.mp4\n"
     ]
    },
    {
     "name": "stderr",
     "output_type": "stream",
     "text": [
      "t:   9%|█████▉                                                              | 2/23 [1:23:24<00:01, 17.92it/s, now=None]"
     ]
    },
    {
     "name": "stdout",
     "output_type": "stream",
     "text": [
      "Moviepy - Building video Resources/videos/training/flip/0003.mp4.\n",
      "Moviepy - Writing video Resources/videos/training/flip/0003.mp4\n",
      "\n"
     ]
    },
    {
     "name": "stderr",
     "output_type": "stream",
     "text": [
      "\n",
      "t:   0%|                                                                              | 0/22 [00:00<?, ?it/s, now=None]\u001b[A\n",
      "t:  14%|█████████▌                                                            | 3/22 [00:00<00:00, 27.65it/s, now=None]\u001b[A\n",
      "t:  27%|███████████████████                                                   | 6/22 [00:00<00:00, 27.53it/s, now=None]\u001b[A\n",
      "t:  41%|████████████████████████████▋                                         | 9/22 [00:00<00:00, 22.95it/s, now=None]\u001b[A\n",
      "t:  55%|█████████████████████████████████████▋                               | 12/22 [00:00<00:00, 22.30it/s, now=None]\u001b[A\n",
      "t:  68%|███████████████████████████████████████████████                      | 15/22 [00:00<00:00, 21.08it/s, now=None]\u001b[A\n",
      "t:  82%|████████████████████████████████████████████████████████▍            | 18/22 [00:00<00:00, 20.19it/s, now=None]\u001b[A\n",
      "t:  95%|█████████████████████████████████████████████████████████████████▊   | 21/22 [00:00<00:00, 20.76it/s, now=None]\u001b[A\n",
      "t:   9%|█████▉                                                              | 2/23 [1:23:26<00:01, 17.92it/s, now=None]\u001b[A"
     ]
    },
    {
     "name": "stdout",
     "output_type": "stream",
     "text": [
      "Moviepy - Done !\n",
      "Moviepy - video ready Resources/videos/training/flip/0003.mp4\n"
     ]
    },
    {
     "name": "stderr",
     "output_type": "stream",
     "text": [
      "t:   9%|█████▉                                                              | 2/23 [1:23:27<00:01, 17.92it/s, now=None]"
     ]
    },
    {
     "name": "stdout",
     "output_type": "stream",
     "text": [
      "Moviepy - Building video Resources/videos/training/flip/0003.mp4.\n",
      "Moviepy - Writing video Resources/videos/training/flip/0003.mp4\n",
      "\n"
     ]
    },
    {
     "name": "stderr",
     "output_type": "stream",
     "text": [
      "\n",
      "t:   0%|                                                                              | 0/22 [00:00<?, ?it/s, now=None]\u001b[A\n",
      "t:  14%|█████████▌                                                            | 3/22 [00:00<00:00, 26.96it/s, now=None]\u001b[A\n",
      "t:  27%|███████████████████                                                   | 6/22 [00:00<00:00, 20.33it/s, now=None]\u001b[A\n",
      "t:  41%|████████████████████████████▋                                         | 9/22 [00:00<00:00, 20.52it/s, now=None]\u001b[A\n",
      "t:  55%|█████████████████████████████████████▋                               | 12/22 [00:00<00:00, 21.10it/s, now=None]\u001b[A\n",
      "t:  68%|███████████████████████████████████████████████                      | 15/22 [00:00<00:00, 22.10it/s, now=None]\u001b[A\n",
      "t:  82%|████████████████████████████████████████████████████████▍            | 18/22 [00:00<00:00, 22.69it/s, now=None]\u001b[A\n",
      "t:  95%|█████████████████████████████████████████████████████████████████▊   | 21/22 [00:00<00:00, 22.18it/s, now=None]\u001b[A\n",
      "t:   9%|█████▉                                                              | 2/23 [1:23:29<00:01, 17.92it/s, now=None]\u001b[A"
     ]
    },
    {
     "name": "stdout",
     "output_type": "stream",
     "text": [
      "Moviepy - Done !\n",
      "Moviepy - video ready Resources/videos/training/flip/0003.mp4\n"
     ]
    },
    {
     "name": "stderr",
     "output_type": "stream",
     "text": [
      "t:   9%|█████▉                                                              | 2/23 [1:23:30<00:01, 17.92it/s, now=None]"
     ]
    },
    {
     "name": "stdout",
     "output_type": "stream",
     "text": [
      "Moviepy - Building video Resources/videos/training/flip/0004.mp4.\n",
      "Moviepy - Writing video Resources/videos/training/flip/0004.mp4\n",
      "\n"
     ]
    },
    {
     "name": "stderr",
     "output_type": "stream",
     "text": [
      "\n",
      "t:   0%|                                                                              | 0/20 [00:00<?, ?it/s, now=None]\u001b[A\n",
      "t:  15%|██████████▌                                                           | 3/20 [00:00<00:00, 27.02it/s, now=None]\u001b[A\n",
      "t:  30%|█████████████████████                                                 | 6/20 [00:00<00:00, 22.17it/s, now=None]\u001b[A\n",
      "t:  45%|███████████████████████████████▌                                      | 9/20 [00:00<00:00, 23.91it/s, now=None]\u001b[A\n",
      "t:  60%|█████████████████████████████████████████▍                           | 12/20 [00:00<00:00, 24.28it/s, now=None]\u001b[A\n",
      "t:  75%|███████████████████████████████████████████████████▊                 | 15/20 [00:00<00:00, 25.02it/s, now=None]\u001b[A\n",
      "t:  90%|██████████████████████████████████████████████████████████████       | 18/20 [00:00<00:00, 22.22it/s, now=None]\u001b[A\n",
      "t:   9%|█████▉                                                              | 2/23 [1:23:32<00:01, 17.92it/s, now=None]\u001b[A"
     ]
    },
    {
     "name": "stdout",
     "output_type": "stream",
     "text": [
      "Moviepy - Done !\n",
      "Moviepy - video ready Resources/videos/training/flip/0004.mp4\n"
     ]
    },
    {
     "name": "stderr",
     "output_type": "stream",
     "text": [
      "t:   9%|█████▉                                                              | 2/23 [1:23:33<00:01, 17.92it/s, now=None]"
     ]
    },
    {
     "name": "stdout",
     "output_type": "stream",
     "text": [
      "Moviepy - Building video Resources/videos/training/flip/0004.mp4.\n",
      "Moviepy - Writing video Resources/videos/training/flip/0004.mp4\n",
      "\n"
     ]
    },
    {
     "name": "stderr",
     "output_type": "stream",
     "text": [
      "\n",
      "t:   0%|                                                                              | 0/20 [00:00<?, ?it/s, now=None]\u001b[A\n",
      "t:  15%|██████████▌                                                           | 3/20 [00:00<00:00, 29.25it/s, now=None]\u001b[A\n",
      "t:  30%|█████████████████████                                                 | 6/20 [00:00<00:00, 22.32it/s, now=None]\u001b[A\n",
      "t:  45%|███████████████████████████████▌                                      | 9/20 [00:00<00:00, 21.94it/s, now=None]\u001b[A\n",
      "t:  60%|█████████████████████████████████████████▍                           | 12/20 [00:00<00:00, 21.67it/s, now=None]\u001b[A\n",
      "t:  75%|███████████████████████████████████████████████████▊                 | 15/20 [00:00<00:00, 21.52it/s, now=None]\u001b[A\n",
      "t:  90%|██████████████████████████████████████████████████████████████       | 18/20 [00:00<00:00, 21.51it/s, now=None]\u001b[A\n",
      "t:   9%|█████▉                                                              | 2/23 [1:23:35<00:01, 17.92it/s, now=None]\u001b[A"
     ]
    },
    {
     "name": "stdout",
     "output_type": "stream",
     "text": [
      "Moviepy - Done !\n",
      "Moviepy - video ready Resources/videos/training/flip/0004.mp4\n"
     ]
    },
    {
     "name": "stderr",
     "output_type": "stream",
     "text": [
      "t:   9%|█████▉                                                              | 2/23 [1:23:36<00:01, 17.92it/s, now=None]"
     ]
    },
    {
     "name": "stdout",
     "output_type": "stream",
     "text": [
      "Moviepy - Building video Resources/videos/training/flip/0004.mp4.\n",
      "Moviepy - Writing video Resources/videos/training/flip/0004.mp4\n",
      "\n"
     ]
    },
    {
     "name": "stderr",
     "output_type": "stream",
     "text": [
      "\n",
      "t:   0%|                                                                              | 0/20 [00:00<?, ?it/s, now=None]\u001b[A\n",
      "t:  15%|██████████▌                                                           | 3/20 [00:00<00:00, 26.59it/s, now=None]\u001b[A\n",
      "t:  30%|█████████████████████                                                 | 6/20 [00:00<00:00, 27.05it/s, now=None]\u001b[A\n",
      "t:  45%|███████████████████████████████▌                                      | 9/20 [00:00<00:00, 24.11it/s, now=None]\u001b[A\n",
      "t:  65%|████████████████████████████████████████████▊                        | 13/20 [00:00<00:00, 25.99it/s, now=None]\u001b[A\n",
      "t:  80%|███████████████████████████████████████████████████████▏             | 16/20 [00:00<00:00, 26.32it/s, now=None]\u001b[A\n",
      "t:  95%|█████████████████████████████████████████████████████████████████▌   | 19/20 [00:00<00:00, 22.65it/s, now=None]\u001b[A\n",
      "t:   9%|█████▉                                                              | 2/23 [1:23:38<00:01, 17.92it/s, now=None]\u001b[A"
     ]
    },
    {
     "name": "stdout",
     "output_type": "stream",
     "text": [
      "Moviepy - Done !\n",
      "Moviepy - video ready Resources/videos/training/flip/0004.mp4\n"
     ]
    },
    {
     "name": "stderr",
     "output_type": "stream",
     "text": [
      "t:   9%|█████▉                                                              | 2/23 [1:23:39<00:01, 17.92it/s, now=None]"
     ]
    },
    {
     "name": "stdout",
     "output_type": "stream",
     "text": [
      "Moviepy - Building video Resources/videos/training/flip/0004.mp4.\n",
      "Moviepy - Writing video Resources/videos/training/flip/0004.mp4\n",
      "\n"
     ]
    },
    {
     "name": "stderr",
     "output_type": "stream",
     "text": [
      "\n",
      "t:   0%|                                                                              | 0/20 [00:00<?, ?it/s, now=None]\u001b[A\n",
      "t:  15%|██████████▌                                                           | 3/20 [00:00<00:00, 28.95it/s, now=None]\u001b[A\n",
      "t:  30%|█████████████████████                                                 | 6/20 [00:00<00:00, 25.60it/s, now=None]\u001b[A\n",
      "t:  45%|███████████████████████████████▌                                      | 9/20 [00:00<00:00, 24.91it/s, now=None]\u001b[A\n",
      "t:  65%|████████████████████████████████████████████▊                        | 13/20 [00:00<00:00, 26.57it/s, now=None]\u001b[A\n",
      "t:  80%|███████████████████████████████████████████████████████▏             | 16/20 [00:00<00:00, 25.64it/s, now=None]\u001b[A\n",
      "t:  95%|█████████████████████████████████████████████████████████████████▌   | 19/20 [00:00<00:00, 25.02it/s, now=None]\u001b[A\n",
      "t:   9%|█████▉                                                              | 2/23 [1:23:41<00:01, 17.92it/s, now=None]\u001b[A"
     ]
    },
    {
     "name": "stdout",
     "output_type": "stream",
     "text": [
      "Moviepy - Done !\n",
      "Moviepy - video ready Resources/videos/training/flip/0004.mp4\n"
     ]
    },
    {
     "name": "stderr",
     "output_type": "stream",
     "text": [
      "t:   9%|█████▉                                                              | 2/23 [1:23:41<00:01, 17.92it/s, now=None]"
     ]
    },
    {
     "name": "stdout",
     "output_type": "stream",
     "text": [
      "Moviepy - Building video Resources/videos/training/flip/0004.mp4.\n",
      "Moviepy - Writing video Resources/videos/training/flip/0004.mp4\n",
      "\n"
     ]
    },
    {
     "name": "stderr",
     "output_type": "stream",
     "text": [
      "\n",
      "t:   0%|                                                                              | 0/20 [00:00<?, ?it/s, now=None]\u001b[A\n",
      "t:  15%|██████████▌                                                           | 3/20 [00:00<00:00, 26.76it/s, now=None]\u001b[A\n",
      "t:  30%|█████████████████████                                                 | 6/20 [00:00<00:00, 21.67it/s, now=None]\u001b[A\n",
      "t:  45%|███████████████████████████████▌                                      | 9/20 [00:00<00:00, 19.65it/s, now=None]\u001b[A\n",
      "t:  60%|█████████████████████████████████████████▍                           | 12/20 [00:00<00:00, 20.98it/s, now=None]\u001b[A\n",
      "t:  75%|███████████████████████████████████████████████████▊                 | 15/20 [00:00<00:00, 20.31it/s, now=None]\u001b[A\n",
      "t:  90%|██████████████████████████████████████████████████████████████       | 18/20 [00:00<00:00, 20.69it/s, now=None]\u001b[A\n",
      "t:   9%|█████▉                                                              | 2/23 [1:23:44<00:01, 17.92it/s, now=None]\u001b[A"
     ]
    },
    {
     "name": "stdout",
     "output_type": "stream",
     "text": [
      "Moviepy - Done !\n",
      "Moviepy - video ready Resources/videos/training/flip/0004.mp4\n"
     ]
    },
    {
     "name": "stderr",
     "output_type": "stream",
     "text": [
      "t:   9%|█████▉                                                              | 2/23 [1:23:44<00:01, 17.92it/s, now=None]"
     ]
    },
    {
     "name": "stdout",
     "output_type": "stream",
     "text": [
      "Moviepy - Building video Resources/videos/training/flip/0004.mp4.\n",
      "Moviepy - Writing video Resources/videos/training/flip/0004.mp4\n",
      "\n"
     ]
    },
    {
     "name": "stderr",
     "output_type": "stream",
     "text": [
      "\n",
      "t:   0%|                                                                              | 0/20 [00:00<?, ?it/s, now=None]\u001b[A\n",
      "t:  15%|██████████▌                                                           | 3/20 [00:00<00:00, 25.29it/s, now=None]\u001b[A\n",
      "t:  30%|█████████████████████                                                 | 6/20 [00:00<00:00, 22.86it/s, now=None]\u001b[A\n",
      "t:  45%|███████████████████████████████▌                                      | 9/20 [00:00<00:00, 23.33it/s, now=None]\u001b[A\n",
      "t:  60%|█████████████████████████████████████████▍                           | 12/20 [00:00<00:00, 23.59it/s, now=None]\u001b[A\n",
      "t:  75%|███████████████████████████████████████████████████▊                 | 15/20 [00:00<00:00, 23.76it/s, now=None]\u001b[A\n",
      "t:  90%|██████████████████████████████████████████████████████████████       | 18/20 [00:00<00:00, 21.91it/s, now=None]\u001b[A\n",
      "t:   9%|█████▉                                                              | 2/23 [1:23:46<00:01, 17.92it/s, now=None]\u001b[A"
     ]
    },
    {
     "name": "stdout",
     "output_type": "stream",
     "text": [
      "Moviepy - Done !\n",
      "Moviepy - video ready Resources/videos/training/flip/0004.mp4\n"
     ]
    },
    {
     "name": "stderr",
     "output_type": "stream",
     "text": [
      "t:   9%|█████▉                                                              | 2/23 [1:23:47<00:01, 17.92it/s, now=None]"
     ]
    },
    {
     "name": "stdout",
     "output_type": "stream",
     "text": [
      "Moviepy - Building video Resources/videos/training/flip/0004.mp4.\n",
      "Moviepy - Writing video Resources/videos/training/flip/0004.mp4\n",
      "\n"
     ]
    },
    {
     "name": "stderr",
     "output_type": "stream",
     "text": [
      "\n",
      "t:   0%|                                                                              | 0/20 [00:00<?, ?it/s, now=None]\u001b[A\n",
      "t:  15%|██████████▌                                                           | 3/20 [00:00<00:00, 27.09it/s, now=None]\u001b[A\n",
      "t:  30%|█████████████████████                                                 | 6/20 [00:00<00:00, 25.25it/s, now=None]\u001b[A\n",
      "t:  45%|███████████████████████████████▌                                      | 9/20 [00:00<00:00, 22.05it/s, now=None]\u001b[A\n",
      "t:  60%|█████████████████████████████████████████▍                           | 12/20 [00:00<00:00, 20.85it/s, now=None]\u001b[A\n",
      "t:  75%|███████████████████████████████████████████████████▊                 | 15/20 [00:00<00:00, 22.78it/s, now=None]\u001b[A\n",
      "t:  90%|██████████████████████████████████████████████████████████████       | 18/20 [00:00<00:00, 22.26it/s, now=None]\u001b[A\n",
      "t:   9%|█████▉                                                              | 2/23 [1:23:49<00:01, 17.92it/s, now=None]\u001b[A"
     ]
    },
    {
     "name": "stdout",
     "output_type": "stream",
     "text": [
      "Moviepy - Done !\n",
      "Moviepy - video ready Resources/videos/training/flip/0004.mp4\n"
     ]
    },
    {
     "name": "stderr",
     "output_type": "stream",
     "text": [
      "t:   9%|█████▉                                                              | 2/23 [1:23:50<00:01, 17.92it/s, now=None]"
     ]
    },
    {
     "name": "stdout",
     "output_type": "stream",
     "text": [
      "Moviepy - Building video Resources/videos/training/flip/0004.mp4.\n",
      "Moviepy - Writing video Resources/videos/training/flip/0004.mp4\n",
      "\n"
     ]
    },
    {
     "name": "stderr",
     "output_type": "stream",
     "text": [
      "\n",
      "t:   0%|                                                                              | 0/20 [00:00<?, ?it/s, now=None]\u001b[A\n",
      "t:  15%|██████████▌                                                           | 3/20 [00:00<00:00, 28.63it/s, now=None]\u001b[A\n",
      "t:  30%|█████████████████████                                                 | 6/20 [00:00<00:00, 20.80it/s, now=None]\u001b[A\n",
      "t:  45%|███████████████████████████████▌                                      | 9/20 [00:00<00:00, 20.06it/s, now=None]\u001b[A\n",
      "t:  60%|█████████████████████████████████████████▍                           | 12/20 [00:00<00:00, 21.47it/s, now=None]\u001b[A\n",
      "t:  75%|███████████████████████████████████████████████████▊                 | 15/20 [00:00<00:00, 21.18it/s, now=None]\u001b[A\n",
      "t:  90%|██████████████████████████████████████████████████████████████       | 18/20 [00:00<00:00, 22.32it/s, now=None]\u001b[A\n",
      "t:   9%|█████▉                                                              | 2/23 [1:23:52<00:01, 17.92it/s, now=None]\u001b[A"
     ]
    },
    {
     "name": "stdout",
     "output_type": "stream",
     "text": [
      "Moviepy - Done !\n",
      "Moviepy - video ready Resources/videos/training/flip/0004.mp4\n"
     ]
    },
    {
     "name": "stderr",
     "output_type": "stream",
     "text": [
      "t:   9%|█████▉                                                              | 2/23 [1:23:53<00:01, 17.92it/s, now=None]"
     ]
    },
    {
     "name": "stdout",
     "output_type": "stream",
     "text": [
      "Moviepy - Building video Resources/videos/training/flip/0004.mp4.\n",
      "Moviepy - Writing video Resources/videos/training/flip/0004.mp4\n",
      "\n"
     ]
    },
    {
     "name": "stderr",
     "output_type": "stream",
     "text": [
      "\n",
      "t:   0%|                                                                              | 0/20 [00:00<?, ?it/s, now=None]\u001b[A\n",
      "t:  15%|██████████▌                                                           | 3/20 [00:00<00:00, 23.47it/s, now=None]\u001b[A\n",
      "t:  30%|█████████████████████                                                 | 6/20 [00:00<00:00, 24.94it/s, now=None]\u001b[A\n",
      "t:  45%|███████████████████████████████▌                                      | 9/20 [00:00<00:00, 23.13it/s, now=None]\u001b[A\n",
      "t:  60%|█████████████████████████████████████████▍                           | 12/20 [00:00<00:00, 20.22it/s, now=None]\u001b[A\n",
      "t:  75%|███████████████████████████████████████████████████▊                 | 15/20 [00:00<00:00, 21.74it/s, now=None]\u001b[A\n",
      "t:  90%|██████████████████████████████████████████████████████████████       | 18/20 [00:00<00:00, 22.47it/s, now=None]\u001b[A\n",
      "t:   9%|█████▉                                                              | 2/23 [1:23:55<00:01, 17.92it/s, now=None]\u001b[A"
     ]
    },
    {
     "name": "stdout",
     "output_type": "stream",
     "text": [
      "Moviepy - Done !\n",
      "Moviepy - video ready Resources/videos/training/flip/0004.mp4\n"
     ]
    },
    {
     "name": "stderr",
     "output_type": "stream",
     "text": [
      "t:   9%|█████▉                                                              | 2/23 [1:23:56<00:01, 17.92it/s, now=None]"
     ]
    },
    {
     "name": "stdout",
     "output_type": "stream",
     "text": [
      "Moviepy - Building video Resources/videos/training/flip/0004.mp4.\n",
      "Moviepy - Writing video Resources/videos/training/flip/0004.mp4\n",
      "\n"
     ]
    },
    {
     "name": "stderr",
     "output_type": "stream",
     "text": [
      "\n",
      "t:   0%|                                                                              | 0/20 [00:00<?, ?it/s, now=None]\u001b[A\n",
      "t:  15%|██████████▌                                                           | 3/20 [00:00<00:00, 26.82it/s, now=None]\u001b[A\n",
      "t:  30%|█████████████████████                                                 | 6/20 [00:00<00:00, 23.29it/s, now=None]\u001b[A\n",
      "t:  50%|██████████████████████████████████▌                                  | 10/20 [00:00<00:00, 26.90it/s, now=None]\u001b[A\n",
      "t:  65%|████████████████████████████████████████████▊                        | 13/20 [00:00<00:00, 24.80it/s, now=None]\u001b[A\n",
      "t:  80%|███████████████████████████████████████████████████████▏             | 16/20 [00:00<00:00, 20.85it/s, now=None]\u001b[A\n",
      "t:  95%|█████████████████████████████████████████████████████████████████▌   | 19/20 [00:00<00:00, 21.05it/s, now=None]\u001b[A\n",
      "t:   9%|█████▉                                                              | 2/23 [1:23:58<00:01, 17.92it/s, now=None]\u001b[A"
     ]
    },
    {
     "name": "stdout",
     "output_type": "stream",
     "text": [
      "Moviepy - Done !\n",
      "Moviepy - video ready Resources/videos/training/flip/0004.mp4\n"
     ]
    },
    {
     "name": "stderr",
     "output_type": "stream",
     "text": [
      "t:   9%|█████▉                                                              | 2/23 [1:23:59<00:01, 17.92it/s, now=None]"
     ]
    },
    {
     "name": "stdout",
     "output_type": "stream",
     "text": [
      "Moviepy - Building video Resources/videos/training/flip/0004.mp4.\n",
      "Moviepy - Writing video Resources/videos/training/flip/0004.mp4\n",
      "\n"
     ]
    },
    {
     "name": "stderr",
     "output_type": "stream",
     "text": [
      "\n",
      "t:   0%|                                                                              | 0/20 [00:00<?, ?it/s, now=None]\u001b[A\n",
      "t:  15%|██████████▌                                                           | 3/20 [00:00<00:00, 26.66it/s, now=None]\u001b[A\n",
      "t:  30%|█████████████████████                                                 | 6/20 [00:00<00:00, 20.92it/s, now=None]\u001b[A\n",
      "t:  45%|███████████████████████████████▌                                      | 9/20 [00:00<00:00, 22.89it/s, now=None]\u001b[A\n",
      "t:  60%|█████████████████████████████████████████▍                           | 12/20 [00:00<00:00, 23.25it/s, now=None]\u001b[A\n",
      "t:  75%|███████████████████████████████████████████████████▊                 | 15/20 [00:00<00:00, 21.66it/s, now=None]\u001b[A\n",
      "t:  90%|██████████████████████████████████████████████████████████████       | 18/20 [00:00<00:00, 20.02it/s, now=None]\u001b[A\n",
      "t:   9%|█████▉                                                              | 2/23 [1:24:01<00:01, 17.92it/s, now=None]\u001b[A"
     ]
    },
    {
     "name": "stdout",
     "output_type": "stream",
     "text": [
      "Moviepy - Done !\n",
      "Moviepy - video ready Resources/videos/training/flip/0004.mp4\n"
     ]
    },
    {
     "name": "stderr",
     "output_type": "stream",
     "text": [
      "t:   9%|█████▉                                                              | 2/23 [1:24:02<00:01, 17.92it/s, now=None]"
     ]
    },
    {
     "name": "stdout",
     "output_type": "stream",
     "text": [
      "Moviepy - Building video Resources/videos/training/flip/0004.mp4.\n",
      "Moviepy - Writing video Resources/videos/training/flip/0004.mp4\n",
      "\n"
     ]
    },
    {
     "name": "stderr",
     "output_type": "stream",
     "text": [
      "\n",
      "t:   0%|                                                                              | 0/20 [00:00<?, ?it/s, now=None]\u001b[A\n",
      "t:  20%|██████████████                                                        | 4/20 [00:00<00:00, 29.09it/s, now=None]\u001b[A\n",
      "t:  35%|████████████████████████▌                                             | 7/20 [00:00<00:00, 24.56it/s, now=None]\u001b[A\n",
      "t:  50%|██████████████████████████████████▌                                  | 10/20 [00:00<00:00, 23.01it/s, now=None]\u001b[A\n",
      "t:  65%|████████████████████████████████████████████▊                        | 13/20 [00:00<00:00, 21.41it/s, now=None]\u001b[A\n",
      "t:  80%|███████████████████████████████████████████████████████▏             | 16/20 [00:00<00:00, 22.23it/s, now=None]\u001b[A\n",
      "t:  95%|█████████████████████████████████████████████████████████████████▌   | 19/20 [00:00<00:00, 21.10it/s, now=None]\u001b[A\n",
      "t:   9%|█████▉                                                              | 2/23 [1:24:04<00:01, 17.92it/s, now=None]\u001b[A"
     ]
    },
    {
     "name": "stdout",
     "output_type": "stream",
     "text": [
      "Moviepy - Done !\n",
      "Moviepy - video ready Resources/videos/training/flip/0004.mp4\n"
     ]
    },
    {
     "name": "stderr",
     "output_type": "stream",
     "text": [
      "t:   9%|█████▉                                                              | 2/23 [1:24:05<00:01, 17.92it/s, now=None]"
     ]
    },
    {
     "name": "stdout",
     "output_type": "stream",
     "text": [
      "Moviepy - Building video Resources/videos/training/flip/0004.mp4.\n",
      "Moviepy - Writing video Resources/videos/training/flip/0004.mp4\n",
      "\n"
     ]
    },
    {
     "name": "stderr",
     "output_type": "stream",
     "text": [
      "\n",
      "t:   0%|                                                                              | 0/20 [00:00<?, ?it/s, now=None]\u001b[A\n",
      "t:  15%|██████████▌                                                           | 3/20 [00:00<00:00, 28.39it/s, now=None]\u001b[A\n",
      "t:  30%|█████████████████████                                                 | 6/20 [00:00<00:00, 23.69it/s, now=None]\u001b[A\n",
      "t:  45%|███████████████████████████████▌                                      | 9/20 [00:00<00:00, 23.88it/s, now=None]\u001b[A\n",
      "t:  60%|█████████████████████████████████████████▍                           | 12/20 [00:00<00:00, 22.75it/s, now=None]\u001b[A\n",
      "t:  75%|███████████████████████████████████████████████████▊                 | 15/20 [00:00<00:00, 22.18it/s, now=None]\u001b[A\n",
      "t:  90%|██████████████████████████████████████████████████████████████       | 18/20 [00:00<00:00, 21.14it/s, now=None]\u001b[A\n",
      "t:   9%|█████▉                                                              | 2/23 [1:24:07<00:01, 17.92it/s, now=None]\u001b[A"
     ]
    },
    {
     "name": "stdout",
     "output_type": "stream",
     "text": [
      "Moviepy - Done !\n",
      "Moviepy - video ready Resources/videos/training/flip/0004.mp4\n"
     ]
    },
    {
     "name": "stderr",
     "output_type": "stream",
     "text": [
      "t:   9%|█████▉                                                              | 2/23 [1:24:08<00:01, 17.92it/s, now=None]"
     ]
    },
    {
     "name": "stdout",
     "output_type": "stream",
     "text": [
      "Moviepy - Building video Resources/videos/training/flip/0004.mp4.\n",
      "Moviepy - Writing video Resources/videos/training/flip/0004.mp4\n",
      "\n"
     ]
    },
    {
     "name": "stderr",
     "output_type": "stream",
     "text": [
      "\n",
      "t:   0%|                                                                              | 0/20 [00:00<?, ?it/s, now=None]\u001b[A\n",
      "t:  15%|██████████▌                                                           | 3/20 [00:00<00:00, 24.71it/s, now=None]\u001b[A\n",
      "t:  30%|█████████████████████                                                 | 6/20 [00:00<00:00, 22.62it/s, now=None]\u001b[A\n",
      "t:  45%|███████████████████████████████▌                                      | 9/20 [00:00<00:00, 23.31it/s, now=None]\u001b[A\n",
      "t:  60%|█████████████████████████████████████████▍                           | 12/20 [00:00<00:00, 22.50it/s, now=None]\u001b[A\n",
      "t:  75%|███████████████████████████████████████████████████▊                 | 15/20 [00:00<00:00, 22.99it/s, now=None]\u001b[A\n",
      "t:  90%|██████████████████████████████████████████████████████████████       | 18/20 [00:00<00:00, 23.40it/s, now=None]\u001b[A\n",
      "t:   9%|█████▉                                                              | 2/23 [1:24:10<00:01, 17.92it/s, now=None]\u001b[A"
     ]
    },
    {
     "name": "stdout",
     "output_type": "stream",
     "text": [
      "Moviepy - Done !\n",
      "Moviepy - video ready Resources/videos/training/flip/0004.mp4\n"
     ]
    },
    {
     "name": "stderr",
     "output_type": "stream",
     "text": [
      "t:   9%|█████▉                                                              | 2/23 [1:24:10<00:01, 17.92it/s, now=None]"
     ]
    },
    {
     "name": "stdout",
     "output_type": "stream",
     "text": [
      "Moviepy - Building video Resources/videos/training/flip/0004.mp4.\n",
      "Moviepy - Writing video Resources/videos/training/flip/0004.mp4\n",
      "\n"
     ]
    },
    {
     "name": "stderr",
     "output_type": "stream",
     "text": [
      "\n",
      "t:   0%|                                                                              | 0/20 [00:00<?, ?it/s, now=None]\u001b[A\n",
      "t:  15%|██████████▌                                                           | 3/20 [00:00<00:00, 25.84it/s, now=None]\u001b[A\n",
      "t:  30%|█████████████████████                                                 | 6/20 [00:00<00:00, 24.57it/s, now=None]\u001b[A\n",
      "t:  45%|███████████████████████████████▌                                      | 9/20 [00:00<00:00, 24.40it/s, now=None]\u001b[A\n",
      "t:  60%|█████████████████████████████████████████▍                           | 12/20 [00:00<00:00, 23.02it/s, now=None]\u001b[A\n",
      "t:  75%|███████████████████████████████████████████████████▊                 | 15/20 [00:00<00:00, 23.41it/s, now=None]\u001b[A\n",
      "t:  90%|██████████████████████████████████████████████████████████████       | 18/20 [00:00<00:00, 22.64it/s, now=None]\u001b[A\n",
      "t:   9%|█████▉                                                              | 2/23 [1:24:12<00:01, 17.92it/s, now=None]\u001b[A"
     ]
    },
    {
     "name": "stdout",
     "output_type": "stream",
     "text": [
      "Moviepy - Done !\n",
      "Moviepy - video ready Resources/videos/training/flip/0004.mp4\n"
     ]
    },
    {
     "name": "stderr",
     "output_type": "stream",
     "text": [
      "t:   9%|█████▉                                                              | 2/23 [1:24:13<00:01, 17.92it/s, now=None]"
     ]
    },
    {
     "name": "stdout",
     "output_type": "stream",
     "text": [
      "Moviepy - Building video Resources/videos/training/flip/0004.mp4.\n",
      "Moviepy - Writing video Resources/videos/training/flip/0004.mp4\n",
      "\n"
     ]
    },
    {
     "name": "stderr",
     "output_type": "stream",
     "text": [
      "\n",
      "t:   0%|                                                                              | 0/20 [00:00<?, ?it/s, now=None]\u001b[A\n",
      "t:  15%|██████████▌                                                           | 3/20 [00:00<00:00, 29.41it/s, now=None]\u001b[A\n",
      "t:  30%|█████████████████████                                                 | 6/20 [00:00<00:00, 28.36it/s, now=None]\u001b[A\n",
      "t:  45%|███████████████████████████████▌                                      | 9/20 [00:00<00:00, 26.12it/s, now=None]\u001b[A\n",
      "t:  60%|█████████████████████████████████████████▍                           | 12/20 [00:00<00:00, 21.89it/s, now=None]\u001b[A\n",
      "t:  75%|███████████████████████████████████████████████████▊                 | 15/20 [00:00<00:00, 20.79it/s, now=None]\u001b[A\n",
      "t:  90%|██████████████████████████████████████████████████████████████       | 18/20 [00:00<00:00, 21.52it/s, now=None]\u001b[A\n",
      "t:   9%|█████▉                                                              | 2/23 [1:24:15<00:01, 17.92it/s, now=None]\u001b[A"
     ]
    },
    {
     "name": "stdout",
     "output_type": "stream",
     "text": [
      "Moviepy - Done !\n",
      "Moviepy - video ready Resources/videos/training/flip/0004.mp4\n"
     ]
    },
    {
     "name": "stderr",
     "output_type": "stream",
     "text": [
      "t:   9%|█████▉                                                              | 2/23 [1:24:16<00:01, 17.92it/s, now=None]"
     ]
    },
    {
     "name": "stdout",
     "output_type": "stream",
     "text": [
      "Moviepy - Building video Resources/videos/training/flip/0004.mp4.\n",
      "Moviepy - Writing video Resources/videos/training/flip/0004.mp4\n",
      "\n"
     ]
    },
    {
     "name": "stderr",
     "output_type": "stream",
     "text": [
      "\n",
      "t:   0%|                                                                              | 0/20 [00:00<?, ?it/s, now=None]\u001b[A\n",
      "t:  15%|██████████▌                                                           | 3/20 [00:00<00:00, 23.60it/s, now=None]\u001b[A\n",
      "t:  30%|█████████████████████                                                 | 6/20 [00:00<00:00, 25.71it/s, now=None]\u001b[A\n",
      "t:  45%|███████████████████████████████▌                                      | 9/20 [00:00<00:00, 22.25it/s, now=None]\u001b[A\n",
      "t:  60%|█████████████████████████████████████████▍                           | 12/20 [00:00<00:00, 21.91it/s, now=None]\u001b[A\n",
      "t:  75%|███████████████████████████████████████████████████▊                 | 15/20 [00:00<00:00, 21.68it/s, now=None]\u001b[A\n",
      "t:  90%|██████████████████████████████████████████████████████████████       | 18/20 [00:00<00:00, 22.45it/s, now=None]\u001b[A\n",
      "t:   9%|█████▉                                                              | 2/23 [1:24:18<00:01, 17.92it/s, now=None]\u001b[A"
     ]
    },
    {
     "name": "stdout",
     "output_type": "stream",
     "text": [
      "Moviepy - Done !\n",
      "Moviepy - video ready Resources/videos/training/flip/0004.mp4\n"
     ]
    },
    {
     "name": "stderr",
     "output_type": "stream",
     "text": [
      "t:   9%|█████▉                                                              | 2/23 [1:24:19<00:01, 17.92it/s, now=None]"
     ]
    },
    {
     "name": "stdout",
     "output_type": "stream",
     "text": [
      "Moviepy - Building video Resources/videos/training/flip/0004.mp4.\n",
      "Moviepy - Writing video Resources/videos/training/flip/0004.mp4\n",
      "\n"
     ]
    },
    {
     "name": "stderr",
     "output_type": "stream",
     "text": [
      "\n",
      "t:   0%|                                                                              | 0/20 [00:00<?, ?it/s, now=None]\u001b[A\n",
      "t:  15%|██████████▌                                                           | 3/20 [00:00<00:00, 27.18it/s, now=None]\u001b[A\n",
      "t:  30%|█████████████████████                                                 | 6/20 [00:00<00:00, 22.79it/s, now=None]\u001b[A\n",
      "t:  45%|███████████████████████████████▌                                      | 9/20 [00:00<00:00, 22.53it/s, now=None]\u001b[A\n",
      "t:  60%|█████████████████████████████████████████▍                           | 12/20 [00:00<00:00, 22.03it/s, now=None]\u001b[A\n",
      "t:  75%|███████████████████████████████████████████████████▊                 | 15/20 [00:00<00:00, 21.71it/s, now=None]\u001b[A\n",
      "t:  90%|██████████████████████████████████████████████████████████████       | 18/20 [00:00<00:00, 21.57it/s, now=None]\u001b[A\n",
      "t:   9%|█████▉                                                              | 2/23 [1:24:21<00:01, 17.92it/s, now=None]\u001b[A"
     ]
    },
    {
     "name": "stdout",
     "output_type": "stream",
     "text": [
      "Moviepy - Done !\n",
      "Moviepy - video ready Resources/videos/training/flip/0004.mp4\n"
     ]
    },
    {
     "name": "stderr",
     "output_type": "stream",
     "text": [
      "t:   9%|█████▉                                                              | 2/23 [1:24:22<00:01, 17.92it/s, now=None]"
     ]
    },
    {
     "name": "stdout",
     "output_type": "stream",
     "text": [
      "Moviepy - Building video Resources/videos/training/flip/0004.mp4.\n",
      "Moviepy - Writing video Resources/videos/training/flip/0004.mp4\n",
      "\n"
     ]
    },
    {
     "name": "stderr",
     "output_type": "stream",
     "text": [
      "\n",
      "t:   0%|                                                                              | 0/20 [00:00<?, ?it/s, now=None]\u001b[A\n",
      "t:  15%|██████████▌                                                           | 3/20 [00:00<00:00, 26.50it/s, now=None]\u001b[A\n",
      "t:  30%|█████████████████████                                                 | 6/20 [00:00<00:00, 27.62it/s, now=None]\u001b[A\n",
      "t:  45%|███████████████████████████████▌                                      | 9/20 [00:00<00:00, 24.29it/s, now=None]\u001b[A\n",
      "t:  60%|█████████████████████████████████████████▍                           | 12/20 [00:00<00:00, 24.17it/s, now=None]\u001b[A\n",
      "t:  75%|███████████████████████████████████████████████████▊                 | 15/20 [00:00<00:00, 23.09it/s, now=None]\u001b[A\n",
      "t:  90%|██████████████████████████████████████████████████████████████       | 18/20 [00:00<00:00, 22.33it/s, now=None]\u001b[A\n",
      "t:   9%|█████▉                                                              | 2/23 [1:24:24<00:01, 17.92it/s, now=None]\u001b[A"
     ]
    },
    {
     "name": "stdout",
     "output_type": "stream",
     "text": [
      "Moviepy - Done !\n",
      "Moviepy - video ready Resources/videos/training/flip/0004.mp4\n"
     ]
    },
    {
     "name": "stderr",
     "output_type": "stream",
     "text": [
      "t:   9%|█████▉                                                              | 2/23 [1:24:25<00:01, 17.92it/s, now=None]"
     ]
    },
    {
     "name": "stdout",
     "output_type": "stream",
     "text": [
      "Moviepy - Building video Resources/videos/training/flip/0005.mp4.\n",
      "Moviepy - Writing video Resources/videos/training/flip/0005.mp4\n",
      "\n"
     ]
    },
    {
     "name": "stderr",
     "output_type": "stream",
     "text": [
      "\n",
      "t:   0%|                                                                              | 0/25 [00:00<?, ?it/s, now=None]\u001b[A\n",
      "t:  12%|████████▍                                                             | 3/25 [00:00<00:00, 25.30it/s, now=None]\u001b[A\n",
      "t:  24%|████████████████▊                                                     | 6/25 [00:00<00:00, 26.41it/s, now=None]\u001b[A\n",
      "t:  36%|█████████████████████████▏                                            | 9/25 [00:00<00:00, 23.85it/s, now=None]\u001b[A\n",
      "t:  48%|█████████████████████████████████                                    | 12/25 [00:00<00:00, 22.83it/s, now=None]\u001b[A\n",
      "t:  60%|█████████████████████████████████████████▍                           | 15/25 [00:00<00:00, 24.23it/s, now=None]\u001b[A\n",
      "t:  72%|█████████████████████████████████████████████████▋                   | 18/25 [00:00<00:00, 21.91it/s, now=None]\u001b[A\n",
      "t:  84%|█████████████████████████████████████████████████████████▉           | 21/25 [00:00<00:00, 21.22it/s, now=None]\u001b[A\n",
      "t:  96%|██████████████████████████████████████████████████████████████████▏  | 24/25 [00:01<00:00, 21.25it/s, now=None]\u001b[A\n",
      "t:   9%|█████▉                                                              | 2/23 [1:24:27<00:01, 17.92it/s, now=None]\u001b[A"
     ]
    },
    {
     "name": "stdout",
     "output_type": "stream",
     "text": [
      "Moviepy - Done !\n",
      "Moviepy - video ready Resources/videos/training/flip/0005.mp4\n"
     ]
    },
    {
     "name": "stderr",
     "output_type": "stream",
     "text": [
      "t:   9%|█████▉                                                              | 2/23 [1:24:28<00:01, 17.92it/s, now=None]"
     ]
    },
    {
     "name": "stdout",
     "output_type": "stream",
     "text": [
      "Moviepy - Building video Resources/videos/training/flip/0005.mp4.\n",
      "Moviepy - Writing video Resources/videos/training/flip/0005.mp4\n",
      "\n"
     ]
    },
    {
     "name": "stderr",
     "output_type": "stream",
     "text": [
      "\n",
      "t:   0%|                                                                              | 0/25 [00:00<?, ?it/s, now=None]\u001b[A\n",
      "t:  16%|███████████▏                                                          | 4/25 [00:00<00:00, 34.18it/s, now=None]\u001b[A\n",
      "t:  32%|██████████████████████▍                                               | 8/25 [00:00<00:00, 26.74it/s, now=None]\u001b[A\n",
      "t:  44%|██████████████████████████████▎                                      | 11/25 [00:00<00:00, 24.44it/s, now=None]\u001b[A\n",
      "t:  56%|██████████████████████████████████████▋                              | 14/25 [00:00<00:00, 23.27it/s, now=None]\u001b[A\n",
      "t:  68%|██████████████████████████████████████████████▉                      | 17/25 [00:00<00:00, 23.47it/s, now=None]\u001b[A\n",
      "t:  80%|███████████████████████████████████████████████████████▏             | 20/25 [00:00<00:00, 23.68it/s, now=None]\u001b[A\n",
      "t:  92%|███████████████████████████████████████████████████████████████▍     | 23/25 [00:00<00:00, 21.99it/s, now=None]\u001b[A\n",
      "t:   9%|█████▉                                                              | 2/23 [1:24:30<00:01, 17.92it/s, now=None]\u001b[A"
     ]
    },
    {
     "name": "stdout",
     "output_type": "stream",
     "text": [
      "Moviepy - Done !\n",
      "Moviepy - video ready Resources/videos/training/flip/0005.mp4\n"
     ]
    },
    {
     "name": "stderr",
     "output_type": "stream",
     "text": [
      "t:   9%|█████▉                                                              | 2/23 [1:24:31<00:01, 17.92it/s, now=None]"
     ]
    },
    {
     "name": "stdout",
     "output_type": "stream",
     "text": [
      "Moviepy - Building video Resources/videos/training/flip/0005.mp4.\n",
      "Moviepy - Writing video Resources/videos/training/flip/0005.mp4\n",
      "\n"
     ]
    },
    {
     "name": "stderr",
     "output_type": "stream",
     "text": [
      "\n",
      "t:   0%|                                                                              | 0/25 [00:00<?, ?it/s, now=None]\u001b[A\n",
      "t:  12%|████████▍                                                             | 3/25 [00:00<00:00, 25.84it/s, now=None]\u001b[A\n",
      "t:  24%|████████████████▊                                                     | 6/25 [00:00<00:00, 20.15it/s, now=None]\u001b[A\n",
      "t:  36%|█████████████████████████▏                                            | 9/25 [00:00<00:00, 20.68it/s, now=None]\u001b[A\n",
      "t:  48%|█████████████████████████████████                                    | 12/25 [00:00<00:00, 22.89it/s, now=None]\u001b[A\n",
      "t:  60%|█████████████████████████████████████████▍                           | 15/25 [00:00<00:00, 22.37it/s, now=None]\u001b[A\n",
      "t:  72%|█████████████████████████████████████████████████▋                   | 18/25 [00:00<00:00, 21.96it/s, now=None]\u001b[A\n",
      "t:  84%|█████████████████████████████████████████████████████████▉           | 21/25 [00:00<00:00, 22.62it/s, now=None]\u001b[A\n",
      "t:  96%|██████████████████████████████████████████████████████████████████▏  | 24/25 [00:01<00:00, 23.90it/s, now=None]\u001b[A\n",
      "t:   9%|█████▉                                                              | 2/23 [1:24:34<00:01, 17.92it/s, now=None]\u001b[A"
     ]
    },
    {
     "name": "stdout",
     "output_type": "stream",
     "text": [
      "Moviepy - Done !\n",
      "Moviepy - video ready Resources/videos/training/flip/0005.mp4\n"
     ]
    },
    {
     "name": "stderr",
     "output_type": "stream",
     "text": [
      "t:   9%|█████▉                                                              | 2/23 [1:24:35<00:01, 17.92it/s, now=None]"
     ]
    },
    {
     "name": "stdout",
     "output_type": "stream",
     "text": [
      "Moviepy - Building video Resources/videos/training/flip/0005.mp4.\n",
      "Moviepy - Writing video Resources/videos/training/flip/0005.mp4\n",
      "\n"
     ]
    },
    {
     "name": "stderr",
     "output_type": "stream",
     "text": [
      "\n",
      "t:   0%|                                                                              | 0/25 [00:00<?, ?it/s, now=None]\u001b[A\n",
      "t:  12%|████████▍                                                             | 3/25 [00:00<00:00, 27.79it/s, now=None]\u001b[A\n",
      "t:  24%|████████████████▊                                                     | 6/25 [00:00<00:00, 25.24it/s, now=None]\u001b[A\n",
      "t:  36%|█████████████████████████▏                                            | 9/25 [00:00<00:00, 26.25it/s, now=None]\u001b[A\n",
      "t:  48%|█████████████████████████████████                                    | 12/25 [00:00<00:00, 26.74it/s, now=None]\u001b[A\n",
      "t:  60%|█████████████████████████████████████████▍                           | 15/25 [00:00<00:00, 24.53it/s, now=None]\u001b[A\n",
      "t:  72%|█████████████████████████████████████████████████▋                   | 18/25 [00:00<00:00, 25.36it/s, now=None]\u001b[A\n",
      "t:  84%|█████████████████████████████████████████████████████████▉           | 21/25 [00:00<00:00, 22.98it/s, now=None]\u001b[A\n",
      "t:  96%|██████████████████████████████████████████████████████████████████▏  | 24/25 [00:01<00:00, 21.40it/s, now=None]\u001b[A\n",
      "t:   9%|█████▉                                                              | 2/23 [1:24:37<00:01, 17.92it/s, now=None]\u001b[A"
     ]
    },
    {
     "name": "stdout",
     "output_type": "stream",
     "text": [
      "Moviepy - Done !\n",
      "Moviepy - video ready Resources/videos/training/flip/0005.mp4\n"
     ]
    },
    {
     "name": "stderr",
     "output_type": "stream",
     "text": [
      "t:   9%|█████▉                                                              | 2/23 [1:24:38<00:01, 17.92it/s, now=None]"
     ]
    },
    {
     "name": "stdout",
     "output_type": "stream",
     "text": [
      "Moviepy - Building video Resources/videos/training/flip/0005.mp4.\n",
      "Moviepy - Writing video Resources/videos/training/flip/0005.mp4\n",
      "\n"
     ]
    },
    {
     "name": "stderr",
     "output_type": "stream",
     "text": [
      "\n",
      "t:   0%|                                                                              | 0/25 [00:00<?, ?it/s, now=None]\u001b[A\n",
      "t:  12%|████████▍                                                             | 3/25 [00:00<00:00, 27.56it/s, now=None]\u001b[A\n",
      "t:  24%|████████████████▊                                                     | 6/25 [00:00<00:00, 20.57it/s, now=None]\u001b[A\n",
      "t:  36%|█████████████████████████▏                                            | 9/25 [00:00<00:00, 21.98it/s, now=None]\u001b[A\n",
      "t:  48%|█████████████████████████████████                                    | 12/25 [00:00<00:00, 20.84it/s, now=None]\u001b[A\n",
      "t:  60%|█████████████████████████████████████████▍                           | 15/25 [00:00<00:00, 20.89it/s, now=None]\u001b[A\n",
      "t:  72%|█████████████████████████████████████████████████▋                   | 18/25 [00:00<00:00, 21.97it/s, now=None]\u001b[A\n",
      "t:  84%|█████████████████████████████████████████████████████████▉           | 21/25 [00:00<00:00, 20.96it/s, now=None]\u001b[A\n",
      "t:  96%|██████████████████████████████████████████████████████████████████▏  | 24/25 [00:01<00:00, 21.84it/s, now=None]\u001b[A\n",
      "t:   9%|█████▉                                                              | 2/23 [1:24:41<00:01, 17.92it/s, now=None]\u001b[A"
     ]
    },
    {
     "name": "stdout",
     "output_type": "stream",
     "text": [
      "Moviepy - Done !\n",
      "Moviepy - video ready Resources/videos/training/flip/0005.mp4\n"
     ]
    },
    {
     "name": "stderr",
     "output_type": "stream",
     "text": [
      "t:   9%|█████▉                                                              | 2/23 [1:24:41<00:01, 17.92it/s, now=None]"
     ]
    },
    {
     "name": "stdout",
     "output_type": "stream",
     "text": [
      "Moviepy - Building video Resources/videos/training/flip/0005.mp4.\n",
      "Moviepy - Writing video Resources/videos/training/flip/0005.mp4\n",
      "\n"
     ]
    },
    {
     "name": "stderr",
     "output_type": "stream",
     "text": [
      "\n",
      "t:   0%|                                                                              | 0/25 [00:00<?, ?it/s, now=None]\u001b[A\n",
      "t:  12%|████████▍                                                             | 3/25 [00:00<00:00, 24.68it/s, now=None]\u001b[A\n",
      "t:  24%|████████████████▊                                                     | 6/25 [00:00<00:00, 26.67it/s, now=None]\u001b[A\n",
      "t:  36%|█████████████████████████▏                                            | 9/25 [00:00<00:00, 25.43it/s, now=None]\u001b[A\n",
      "t:  48%|█████████████████████████████████                                    | 12/25 [00:00<00:00, 24.90it/s, now=None]\u001b[A\n",
      "t:  60%|█████████████████████████████████████████▍                           | 15/25 [00:00<00:00, 24.50it/s, now=None]\u001b[A\n",
      "t:  72%|█████████████████████████████████████████████████▋                   | 18/25 [00:00<00:00, 22.42it/s, now=None]\u001b[A\n",
      "t:  84%|█████████████████████████████████████████████████████████▉           | 21/25 [00:00<00:00, 20.57it/s, now=None]\u001b[A\n",
      "t:  96%|██████████████████████████████████████████████████████████████████▏  | 24/25 [00:01<00:00, 20.75it/s, now=None]\u001b[A\n",
      "t:   9%|█████▉                                                              | 2/23 [1:24:44<00:01, 17.92it/s, now=None]\u001b[A"
     ]
    },
    {
     "name": "stdout",
     "output_type": "stream",
     "text": [
      "Moviepy - Done !\n",
      "Moviepy - video ready Resources/videos/training/flip/0005.mp4\n"
     ]
    },
    {
     "name": "stderr",
     "output_type": "stream",
     "text": [
      "t:   9%|█████▉                                                              | 2/23 [1:24:45<00:01, 17.92it/s, now=None]"
     ]
    },
    {
     "name": "stdout",
     "output_type": "stream",
     "text": [
      "Moviepy - Building video Resources/videos/training/flip/0005.mp4.\n",
      "Moviepy - Writing video Resources/videos/training/flip/0005.mp4\n",
      "\n"
     ]
    },
    {
     "name": "stderr",
     "output_type": "stream",
     "text": [
      "\n",
      "t:   0%|                                                                              | 0/25 [00:00<?, ?it/s, now=None]\u001b[A\n",
      "t:  12%|████████▍                                                             | 3/25 [00:00<00:00, 28.13it/s, now=None]\u001b[A\n",
      "t:  24%|████████████████▊                                                     | 6/25 [00:00<00:00, 22.12it/s, now=None]\u001b[A\n",
      "t:  36%|█████████████████████████▏                                            | 9/25 [00:00<00:00, 21.75it/s, now=None]\u001b[A\n",
      "t:  48%|█████████████████████████████████                                    | 12/25 [00:00<00:00, 22.58it/s, now=None]\u001b[A\n",
      "t:  60%|█████████████████████████████████████████▍                           | 15/25 [00:00<00:00, 22.10it/s, now=None]\u001b[A\n",
      "t:  72%|█████████████████████████████████████████████████▋                   | 18/25 [00:00<00:00, 21.03it/s, now=None]\u001b[A\n",
      "t:  84%|█████████████████████████████████████████████████████████▉           | 21/25 [00:00<00:00, 21.12it/s, now=None]\u001b[A\n",
      "t:  96%|██████████████████████████████████████████████████████████████████▏  | 24/25 [00:01<00:00, 21.16it/s, now=None]\u001b[A\n",
      "t:   9%|█████▉                                                              | 2/23 [1:24:47<00:01, 17.92it/s, now=None]\u001b[A"
     ]
    },
    {
     "name": "stdout",
     "output_type": "stream",
     "text": [
      "Moviepy - Done !\n",
      "Moviepy - video ready Resources/videos/training/flip/0005.mp4\n"
     ]
    },
    {
     "name": "stderr",
     "output_type": "stream",
     "text": [
      "t:   9%|█████▉                                                              | 2/23 [1:24:48<00:01, 17.92it/s, now=None]"
     ]
    },
    {
     "name": "stdout",
     "output_type": "stream",
     "text": [
      "Moviepy - Building video Resources/videos/training/flip/0005.mp4.\n",
      "Moviepy - Writing video Resources/videos/training/flip/0005.mp4\n",
      "\n"
     ]
    },
    {
     "name": "stderr",
     "output_type": "stream",
     "text": [
      "\n",
      "t:   0%|                                                                              | 0/25 [00:00<?, ?it/s, now=None]\u001b[A\n",
      "t:  12%|████████▍                                                             | 3/25 [00:00<00:00, 27.68it/s, now=None]\u001b[A\n",
      "t:  24%|████████████████▊                                                     | 6/25 [00:00<00:00, 23.45it/s, now=None]\u001b[A\n",
      "t:  36%|█████████████████████████▏                                            | 9/25 [00:00<00:00, 20.28it/s, now=None]\u001b[A\n",
      "t:  48%|█████████████████████████████████                                    | 12/25 [00:00<00:00, 20.65it/s, now=None]\u001b[A\n",
      "t:  60%|█████████████████████████████████████████▍                           | 15/25 [00:00<00:00, 21.81it/s, now=None]\u001b[A\n",
      "t:  72%|█████████████████████████████████████████████████▋                   | 18/25 [00:00<00:00, 21.66it/s, now=None]\u001b[A\n",
      "t:  84%|█████████████████████████████████████████████████████████▉           | 21/25 [00:00<00:00, 20.77it/s, now=None]\u001b[A\n",
      "t:  96%|██████████████████████████████████████████████████████████████████▏  | 24/25 [00:01<00:00, 21.70it/s, now=None]\u001b[A\n",
      "t:   9%|█████▉                                                              | 2/23 [1:24:51<00:01, 17.92it/s, now=None]\u001b[A"
     ]
    },
    {
     "name": "stdout",
     "output_type": "stream",
     "text": [
      "Moviepy - Done !\n",
      "Moviepy - video ready Resources/videos/training/flip/0005.mp4\n"
     ]
    },
    {
     "name": "stderr",
     "output_type": "stream",
     "text": [
      "t:   9%|█████▉                                                              | 2/23 [1:24:52<00:01, 17.92it/s, now=None]"
     ]
    },
    {
     "name": "stdout",
     "output_type": "stream",
     "text": [
      "Moviepy - Building video Resources/videos/training/flip/0005.mp4.\n",
      "Moviepy - Writing video Resources/videos/training/flip/0005.mp4\n",
      "\n"
     ]
    },
    {
     "name": "stderr",
     "output_type": "stream",
     "text": [
      "\n",
      "t:   0%|                                                                              | 0/25 [00:00<?, ?it/s, now=None]\u001b[A\n",
      "t:  12%|████████▍                                                             | 3/25 [00:00<00:00, 26.12it/s, now=None]\u001b[A\n",
      "t:  24%|████████████████▊                                                     | 6/25 [00:00<00:00, 24.83it/s, now=None]\u001b[A\n",
      "t:  36%|█████████████████████████▏                                            | 9/25 [00:00<00:00, 21.56it/s, now=None]\u001b[A\n",
      "t:  48%|█████████████████████████████████                                    | 12/25 [00:00<00:00, 19.88it/s, now=None]\u001b[A\n",
      "t:  60%|█████████████████████████████████████████▍                           | 15/25 [00:00<00:00, 21.26it/s, now=None]\u001b[A\n",
      "t:  72%|█████████████████████████████████████████████████▋                   | 18/25 [00:00<00:00, 20.46it/s, now=None]\u001b[A\n",
      "t:  84%|█████████████████████████████████████████████████████████▉           | 21/25 [00:00<00:00, 20.76it/s, now=None]\u001b[A\n",
      "t:  96%|██████████████████████████████████████████████████████████████████▏  | 24/25 [00:01<00:00, 21.73it/s, now=None]\u001b[A\n",
      "t:   9%|█████▉                                                              | 2/23 [1:24:54<00:01, 17.92it/s, now=None]\u001b[A"
     ]
    },
    {
     "name": "stdout",
     "output_type": "stream",
     "text": [
      "Moviepy - Done !\n",
      "Moviepy - video ready Resources/videos/training/flip/0005.mp4\n"
     ]
    },
    {
     "name": "stderr",
     "output_type": "stream",
     "text": [
      "t:   9%|█████▉                                                              | 2/23 [1:24:55<00:01, 17.92it/s, now=None]"
     ]
    },
    {
     "name": "stdout",
     "output_type": "stream",
     "text": [
      "Moviepy - Building video Resources/videos/training/flip/0005.mp4.\n",
      "Moviepy - Writing video Resources/videos/training/flip/0005.mp4\n",
      "\n"
     ]
    },
    {
     "name": "stderr",
     "output_type": "stream",
     "text": [
      "\n",
      "t:   0%|                                                                              | 0/25 [00:00<?, ?it/s, now=None]\u001b[A\n",
      "t:  12%|████████▍                                                             | 3/25 [00:00<00:00, 24.38it/s, now=None]\u001b[A\n",
      "t:  24%|████████████████▊                                                     | 6/25 [00:00<00:00, 22.39it/s, now=None]\u001b[A\n",
      "t:  36%|█████████████████████████▏                                            | 9/25 [00:00<00:00, 20.86it/s, now=None]\u001b[A\n",
      "t:  48%|█████████████████████████████████                                    | 12/25 [00:00<00:00, 21.88it/s, now=None]\u001b[A\n",
      "t:  60%|█████████████████████████████████████████▍                           | 15/25 [00:00<00:00, 21.82it/s, now=None]\u001b[A\n",
      "t:  72%|█████████████████████████████████████████████████▋                   | 18/25 [00:00<00:00, 22.56it/s, now=None]\u001b[A\n",
      "t:  84%|█████████████████████████████████████████████████████████▉           | 21/25 [00:00<00:00, 22.11it/s, now=None]\u001b[A\n",
      "t:  96%|██████████████████████████████████████████████████████████████████▏  | 24/25 [00:01<00:00, 22.40it/s, now=None]\u001b[A\n",
      "t:   9%|█████▉                                                              | 2/23 [1:24:58<00:01, 17.92it/s, now=None]\u001b[A"
     ]
    },
    {
     "name": "stdout",
     "output_type": "stream",
     "text": [
      "Moviepy - Done !\n",
      "Moviepy - video ready Resources/videos/training/flip/0005.mp4\n"
     ]
    },
    {
     "name": "stderr",
     "output_type": "stream",
     "text": [
      "t:   9%|█████▉                                                              | 2/23 [1:24:59<00:01, 17.92it/s, now=None]"
     ]
    },
    {
     "name": "stdout",
     "output_type": "stream",
     "text": [
      "Moviepy - Building video Resources/videos/training/flip/0005.mp4.\n",
      "Moviepy - Writing video Resources/videos/training/flip/0005.mp4\n",
      "\n"
     ]
    },
    {
     "name": "stderr",
     "output_type": "stream",
     "text": [
      "\n",
      "t:   0%|                                                                              | 0/25 [00:00<?, ?it/s, now=None]\u001b[A\n",
      "t:  12%|████████▍                                                             | 3/25 [00:00<00:00, 28.30it/s, now=None]\u001b[A\n",
      "t:  24%|████████████████▊                                                     | 6/25 [00:00<00:00, 23.66it/s, now=None]\u001b[A\n",
      "t:  40%|███████████████████████████▌                                         | 10/25 [00:00<00:00, 24.39it/s, now=None]\u001b[A\n",
      "t:  52%|███████████████████████████████████▉                                 | 13/25 [00:00<00:00, 23.47it/s, now=None]\u001b[A\n",
      "t:  64%|████████████████████████████████████████████▏                        | 16/25 [00:00<00:00, 22.69it/s, now=None]\u001b[A\n",
      "t:  76%|████████████████████████████████████████████████████▍                | 19/25 [00:00<00:00, 23.09it/s, now=None]\u001b[A\n",
      "t:  88%|████████████████████████████████████████████████████████████▋        | 22/25 [00:00<00:00, 24.26it/s, now=None]\u001b[A\n",
      "t: 100%|█████████████████████████████████████████████████████████████████████| 25/25 [00:01<00:00, 24.26it/s, now=None]\u001b[A\n",
      "t:   9%|█████▉                                                              | 2/23 [1:25:01<00:01, 17.92it/s, now=None]\u001b[A"
     ]
    },
    {
     "name": "stdout",
     "output_type": "stream",
     "text": [
      "Moviepy - Done !\n",
      "Moviepy - video ready Resources/videos/training/flip/0005.mp4\n"
     ]
    },
    {
     "name": "stderr",
     "output_type": "stream",
     "text": [
      "t:   9%|█████▉                                                              | 2/23 [1:25:02<00:01, 17.92it/s, now=None]"
     ]
    },
    {
     "name": "stdout",
     "output_type": "stream",
     "text": [
      "Moviepy - Building video Resources/videos/training/flip/0005.mp4.\n",
      "Moviepy - Writing video Resources/videos/training/flip/0005.mp4\n",
      "\n"
     ]
    },
    {
     "name": "stderr",
     "output_type": "stream",
     "text": [
      "\n",
      "t:   0%|                                                                              | 0/25 [00:00<?, ?it/s, now=None]\u001b[A\n",
      "t:  12%|████████▍                                                             | 3/25 [00:00<00:00, 24.61it/s, now=None]\u001b[A\n",
      "t:  24%|████████████████▊                                                     | 6/25 [00:00<00:00, 24.36it/s, now=None]\u001b[A\n",
      "t:  36%|█████████████████████████▏                                            | 9/25 [00:00<00:00, 24.14it/s, now=None]\u001b[A\n",
      "t:  48%|█████████████████████████████████                                    | 12/25 [00:00<00:00, 21.93it/s, now=None]\u001b[A\n",
      "t:  60%|█████████████████████████████████████████▍                           | 15/25 [00:00<00:00, 21.73it/s, now=None]\u001b[A\n",
      "t:  72%|█████████████████████████████████████████████████▋                   | 18/25 [00:00<00:00, 21.54it/s, now=None]\u001b[A\n",
      "t:  84%|█████████████████████████████████████████████████████████▉           | 21/25 [00:00<00:00, 23.21it/s, now=None]\u001b[A\n",
      "t:  96%|██████████████████████████████████████████████████████████████████▏  | 24/25 [00:01<00:00, 21.80it/s, now=None]\u001b[A\n",
      "t:   9%|█████▉                                                              | 2/23 [1:25:04<00:01, 17.92it/s, now=None]\u001b[A"
     ]
    },
    {
     "name": "stdout",
     "output_type": "stream",
     "text": [
      "Moviepy - Done !\n",
      "Moviepy - video ready Resources/videos/training/flip/0005.mp4\n"
     ]
    },
    {
     "name": "stderr",
     "output_type": "stream",
     "text": [
      "t:   9%|█████▉                                                              | 2/23 [1:25:05<00:01, 17.92it/s, now=None]"
     ]
    },
    {
     "name": "stdout",
     "output_type": "stream",
     "text": [
      "Moviepy - Building video Resources/videos/training/flip/0005.mp4.\n",
      "Moviepy - Writing video Resources/videos/training/flip/0005.mp4\n",
      "\n"
     ]
    },
    {
     "name": "stderr",
     "output_type": "stream",
     "text": [
      "\n",
      "t:   0%|                                                                              | 0/25 [00:00<?, ?it/s, now=None]\u001b[A\n",
      "t:  12%|████████▍                                                             | 3/25 [00:00<00:00, 25.47it/s, now=None]\u001b[A\n",
      "t:  24%|████████████████▊                                                     | 6/25 [00:00<00:00, 21.39it/s, now=None]\u001b[A\n",
      "t:  36%|█████████████████████████▏                                            | 9/25 [00:00<00:00, 23.65it/s, now=None]\u001b[A\n",
      "t:  48%|█████████████████████████████████                                    | 12/25 [00:00<00:00, 21.74it/s, now=None]\u001b[A\n",
      "t:  60%|█████████████████████████████████████████▍                           | 15/25 [00:00<00:00, 22.42it/s, now=None]\u001b[A\n",
      "t:  72%|█████████████████████████████████████████████████▋                   | 18/25 [00:00<00:00, 22.16it/s, now=None]\u001b[A\n",
      "t:  84%|█████████████████████████████████████████████████████████▉           | 21/25 [00:00<00:00, 21.81it/s, now=None]\u001b[A\n",
      "t:  96%|██████████████████████████████████████████████████████████████████▏  | 24/25 [00:01<00:00, 21.69it/s, now=None]\u001b[A\n",
      "t:   9%|█████▉                                                              | 2/23 [1:25:08<00:01, 17.92it/s, now=None]\u001b[A"
     ]
    },
    {
     "name": "stdout",
     "output_type": "stream",
     "text": [
      "Moviepy - Done !\n",
      "Moviepy - video ready Resources/videos/training/flip/0005.mp4\n"
     ]
    },
    {
     "name": "stderr",
     "output_type": "stream",
     "text": [
      "t:   9%|█████▉                                                              | 2/23 [1:25:09<00:01, 17.92it/s, now=None]"
     ]
    },
    {
     "name": "stdout",
     "output_type": "stream",
     "text": [
      "Moviepy - Building video Resources/videos/training/flip/0005.mp4.\n",
      "Moviepy - Writing video Resources/videos/training/flip/0005.mp4\n",
      "\n"
     ]
    },
    {
     "name": "stderr",
     "output_type": "stream",
     "text": [
      "\n",
      "t:   0%|                                                                              | 0/25 [00:00<?, ?it/s, now=None]\u001b[A\n",
      "t:  16%|███████████▏                                                          | 4/25 [00:00<00:00, 31.89it/s, now=None]\u001b[A\n",
      "t:  32%|██████████████████████▍                                               | 8/25 [00:00<00:00, 23.32it/s, now=None]\u001b[A\n",
      "t:  44%|██████████████████████████████▎                                      | 11/25 [00:00<00:00, 23.56it/s, now=None]\u001b[A\n",
      "t:  56%|██████████████████████████████████████▋                              | 14/25 [00:00<00:00, 21.85it/s, now=None]\u001b[A\n",
      "t:  68%|██████████████████████████████████████████████▉                      | 17/25 [00:00<00:00, 22.55it/s, now=None]\u001b[A\n",
      "t:  80%|███████████████████████████████████████████████████████▏             | 20/25 [00:00<00:00, 22.15it/s, now=None]\u001b[A\n",
      "t:  92%|███████████████████████████████████████████████████████████████▍     | 23/25 [00:01<00:00, 21.86it/s, now=None]\u001b[A\n",
      "t:   9%|█████▉                                                              | 2/23 [1:25:11<00:01, 17.92it/s, now=None]\u001b[A"
     ]
    },
    {
     "name": "stdout",
     "output_type": "stream",
     "text": [
      "Moviepy - Done !\n",
      "Moviepy - video ready Resources/videos/training/flip/0005.mp4\n"
     ]
    },
    {
     "name": "stderr",
     "output_type": "stream",
     "text": [
      "t:   9%|█████▉                                                              | 2/23 [1:25:12<00:01, 17.92it/s, now=None]"
     ]
    },
    {
     "name": "stdout",
     "output_type": "stream",
     "text": [
      "Moviepy - Building video Resources/videos/training/flip/0005.mp4.\n",
      "Moviepy - Writing video Resources/videos/training/flip/0005.mp4\n",
      "\n"
     ]
    },
    {
     "name": "stderr",
     "output_type": "stream",
     "text": [
      "\n",
      "t:   0%|                                                                              | 0/25 [00:00<?, ?it/s, now=None]\u001b[A\n",
      "t:  12%|████████▍                                                             | 3/25 [00:00<00:00, 27.29it/s, now=None]\u001b[A\n",
      "t:  24%|████████████████▊                                                     | 6/25 [00:00<00:01, 16.37it/s, now=None]\u001b[A\n",
      "t:  32%|██████████████████████▍                                               | 8/25 [00:00<00:00, 17.01it/s, now=None]\u001b[A\n",
      "t:  44%|██████████████████████████████▎                                      | 11/25 [00:00<00:00, 20.29it/s, now=None]\u001b[A\n",
      "t:  56%|██████████████████████████████████████▋                              | 14/25 [00:00<00:00, 21.52it/s, now=None]\u001b[A\n",
      "t:  68%|██████████████████████████████████████████████▉                      | 17/25 [00:00<00:00, 22.45it/s, now=None]\u001b[A\n",
      "t:  80%|███████████████████████████████████████████████████████▏             | 20/25 [00:00<00:00, 23.88it/s, now=None]\u001b[A\n",
      "t:  92%|███████████████████████████████████████████████████████████████▍     | 23/25 [00:01<00:00, 22.94it/s, now=None]\u001b[A\n",
      "t:   9%|█████▉                                                              | 2/23 [1:25:15<00:01, 17.92it/s, now=None]\u001b[A"
     ]
    },
    {
     "name": "stdout",
     "output_type": "stream",
     "text": [
      "Moviepy - Done !\n",
      "Moviepy - video ready Resources/videos/training/flip/0005.mp4\n"
     ]
    },
    {
     "name": "stderr",
     "output_type": "stream",
     "text": [
      "t:   9%|█████▉                                                              | 2/23 [1:25:16<00:01, 17.92it/s, now=None]"
     ]
    },
    {
     "name": "stdout",
     "output_type": "stream",
     "text": [
      "Moviepy - Building video Resources/videos/training/flip/0005.mp4.\n",
      "Moviepy - Writing video Resources/videos/training/flip/0005.mp4\n",
      "\n"
     ]
    },
    {
     "name": "stderr",
     "output_type": "stream",
     "text": [
      "\n",
      "t:   0%|                                                                              | 0/25 [00:00<?, ?it/s, now=None]\u001b[A\n",
      "t:  12%|████████▍                                                             | 3/25 [00:00<00:00, 25.88it/s, now=None]\u001b[A\n",
      "t:  24%|████████████████▊                                                     | 6/25 [00:00<00:00, 24.77it/s, now=None]\u001b[A\n",
      "t:  36%|█████████████████████████▏                                            | 9/25 [00:00<00:00, 20.64it/s, now=None]\u001b[A\n",
      "t:  48%|█████████████████████████████████                                    | 12/25 [00:00<00:00, 21.03it/s, now=None]\u001b[A\n",
      "t:  60%|█████████████████████████████████████████▍                           | 15/25 [00:00<00:00, 21.13it/s, now=None]\u001b[A\n",
      "t:  72%|█████████████████████████████████████████████████▋                   | 18/25 [00:00<00:00, 20.41it/s, now=None]\u001b[A\n",
      "t:  84%|█████████████████████████████████████████████████████████▉           | 21/25 [00:01<00:00, 20.00it/s, now=None]\u001b[A\n",
      "t:  96%|██████████████████████████████████████████████████████████████████▏  | 24/25 [00:01<00:00, 20.85it/s, now=None]\u001b[A\n",
      "t:   9%|█████▉                                                              | 2/23 [1:25:18<00:01, 17.92it/s, now=None]\u001b[A"
     ]
    },
    {
     "name": "stdout",
     "output_type": "stream",
     "text": [
      "Moviepy - Done !\n",
      "Moviepy - video ready Resources/videos/training/flip/0005.mp4\n"
     ]
    },
    {
     "name": "stderr",
     "output_type": "stream",
     "text": [
      "t:   9%|█████▉                                                              | 2/23 [1:25:19<00:01, 17.92it/s, now=None]"
     ]
    },
    {
     "name": "stdout",
     "output_type": "stream",
     "text": [
      "Moviepy - Building video Resources/videos/training/flip/0005.mp4.\n",
      "Moviepy - Writing video Resources/videos/training/flip/0005.mp4\n",
      "\n"
     ]
    },
    {
     "name": "stderr",
     "output_type": "stream",
     "text": [
      "\n",
      "t:   0%|                                                                              | 0/25 [00:00<?, ?it/s, now=None]\u001b[A\n",
      "t:  12%|████████▍                                                             | 3/25 [00:00<00:00, 28.60it/s, now=None]\u001b[A\n",
      "t:  24%|████████████████▊                                                     | 6/25 [00:00<00:00, 23.82it/s, now=None]\u001b[A\n",
      "t:  36%|█████████████████████████▏                                            | 9/25 [00:00<00:00, 21.16it/s, now=None]\u001b[A\n",
      "t:  48%|█████████████████████████████████                                    | 12/25 [00:00<00:00, 21.49it/s, now=None]\u001b[A\n",
      "t:  60%|█████████████████████████████████████████▍                           | 15/25 [00:00<00:00, 23.24it/s, now=None]\u001b[A\n",
      "t:  72%|█████████████████████████████████████████████████▋                   | 18/25 [00:00<00:00, 23.54it/s, now=None]\u001b[A\n",
      "t:  84%|█████████████████████████████████████████████████████████▉           | 21/25 [00:00<00:00, 22.81it/s, now=None]\u001b[A\n",
      "t:  96%|██████████████████████████████████████████████████████████████████▏  | 24/25 [00:01<00:00, 23.08it/s, now=None]\u001b[A\n",
      "t:   9%|█████▉                                                              | 2/23 [1:25:21<00:01, 17.92it/s, now=None]\u001b[A"
     ]
    },
    {
     "name": "stdout",
     "output_type": "stream",
     "text": [
      "Moviepy - Done !\n",
      "Moviepy - video ready Resources/videos/training/flip/0005.mp4\n"
     ]
    },
    {
     "name": "stderr",
     "output_type": "stream",
     "text": [
      "t:   9%|█████▉                                                              | 2/23 [1:25:22<00:01, 17.92it/s, now=None]"
     ]
    },
    {
     "name": "stdout",
     "output_type": "stream",
     "text": [
      "Moviepy - Building video Resources/videos/training/flip/0005.mp4.\n",
      "Moviepy - Writing video Resources/videos/training/flip/0005.mp4\n",
      "\n"
     ]
    },
    {
     "name": "stderr",
     "output_type": "stream",
     "text": [
      "\n",
      "t:   0%|                                                                              | 0/25 [00:00<?, ?it/s, now=None]\u001b[A\n",
      "t:  12%|████████▍                                                             | 3/25 [00:00<00:00, 24.25it/s, now=None]\u001b[A\n",
      "t:  24%|████████████████▊                                                     | 6/25 [00:00<00:00, 22.44it/s, now=None]\u001b[A\n",
      "t:  36%|█████████████████████████▏                                            | 9/25 [00:00<00:00, 19.86it/s, now=None]\u001b[A\n",
      "t:  48%|█████████████████████████████████                                    | 12/25 [00:00<00:00, 22.31it/s, now=None]\u001b[A\n",
      "t:  60%|█████████████████████████████████████████▍                           | 15/25 [00:00<00:00, 21.91it/s, now=None]\u001b[A\n",
      "t:  72%|█████████████████████████████████████████████████▋                   | 18/25 [00:00<00:00, 20.97it/s, now=None]\u001b[A\n",
      "t:  84%|█████████████████████████████████████████████████████████▉           | 21/25 [00:00<00:00, 21.81it/s, now=None]\u001b[A\n",
      "t:  96%|██████████████████████████████████████████████████████████████████▏  | 24/25 [00:01<00:00, 23.39it/s, now=None]\u001b[A\n",
      "t:   9%|█████▉                                                              | 2/23 [1:25:25<00:01, 17.92it/s, now=None]\u001b[A"
     ]
    },
    {
     "name": "stdout",
     "output_type": "stream",
     "text": [
      "Moviepy - Done !\n",
      "Moviepy - video ready Resources/videos/training/flip/0005.mp4\n"
     ]
    },
    {
     "name": "stderr",
     "output_type": "stream",
     "text": [
      "t:   9%|█████▉                                                              | 2/23 [1:25:26<00:01, 17.92it/s, now=None]"
     ]
    },
    {
     "name": "stdout",
     "output_type": "stream",
     "text": [
      "Moviepy - Building video Resources/videos/training/flip/0005.mp4.\n",
      "Moviepy - Writing video Resources/videos/training/flip/0005.mp4\n",
      "\n"
     ]
    },
    {
     "name": "stderr",
     "output_type": "stream",
     "text": [
      "\n",
      "t:   0%|                                                                              | 0/25 [00:00<?, ?it/s, now=None]\u001b[A\n",
      "t:  12%|████████▍                                                             | 3/25 [00:00<00:00, 26.49it/s, now=None]\u001b[A\n",
      "t:  24%|████████████████▊                                                     | 6/25 [00:00<00:00, 19.17it/s, now=None]\u001b[A\n",
      "t:  36%|█████████████████████████▏                                            | 9/25 [00:00<00:00, 20.74it/s, now=None]\u001b[A\n",
      "t:  48%|█████████████████████████████████                                    | 12/25 [00:00<00:00, 21.38it/s, now=None]\u001b[A\n",
      "t:  60%|█████████████████████████████████████████▍                           | 15/25 [00:00<00:00, 23.12it/s, now=None]\u001b[A\n",
      "t:  72%|█████████████████████████████████████████████████▋                   | 18/25 [00:00<00:00, 22.45it/s, now=None]\u001b[A\n",
      "t:  84%|█████████████████████████████████████████████████████████▉           | 21/25 [00:00<00:00, 22.87it/s, now=None]\u001b[A\n",
      "t:  96%|██████████████████████████████████████████████████████████████████▏  | 24/25 [00:01<00:00, 23.20it/s, now=None]\u001b[A\n",
      "t:   9%|█████▉                                                              | 2/23 [1:25:28<00:01, 17.92it/s, now=None]\u001b[A"
     ]
    },
    {
     "name": "stdout",
     "output_type": "stream",
     "text": [
      "Moviepy - Done !\n",
      "Moviepy - video ready Resources/videos/training/flip/0005.mp4\n"
     ]
    },
    {
     "name": "stderr",
     "output_type": "stream",
     "text": [
      "t:   9%|█████▉                                                              | 2/23 [1:25:29<00:01, 17.92it/s, now=None]"
     ]
    },
    {
     "name": "stdout",
     "output_type": "stream",
     "text": [
      "Moviepy - Building video Resources/videos/training/flip/0005.mp4.\n",
      "Moviepy - Writing video Resources/videos/training/flip/0005.mp4\n",
      "\n"
     ]
    },
    {
     "name": "stderr",
     "output_type": "stream",
     "text": [
      "\n",
      "t:   0%|                                                                              | 0/25 [00:00<?, ?it/s, now=None]\u001b[A\n",
      "t:  12%|████████▍                                                             | 3/25 [00:00<00:00, 26.45it/s, now=None]\u001b[A\n",
      "t:  24%|████████████████▊                                                     | 6/25 [00:00<00:00, 24.93it/s, now=None]\u001b[A\n",
      "t:  36%|█████████████████████████▏                                            | 9/25 [00:00<00:00, 23.11it/s, now=None]\u001b[A\n",
      "t:  48%|█████████████████████████████████                                    | 12/25 [00:00<00:00, 21.43it/s, now=None]\u001b[A\n",
      "t:  60%|█████████████████████████████████████████▍                           | 15/25 [00:00<00:00, 22.25it/s, now=None]\u001b[A\n",
      "t:  72%|█████████████████████████████████████████████████▋                   | 18/25 [00:00<00:00, 22.02it/s, now=None]\u001b[A\n",
      "t:  84%|█████████████████████████████████████████████████████████▉           | 21/25 [00:00<00:00, 21.71it/s, now=None]\u001b[A\n",
      "t:  96%|██████████████████████████████████████████████████████████████████▏  | 24/25 [00:01<00:00, 23.33it/s, now=None]\u001b[A\n",
      "t:   9%|█████▉                                                              | 2/23 [1:25:32<00:01, 17.92it/s, now=None]\u001b[A"
     ]
    },
    {
     "name": "stdout",
     "output_type": "stream",
     "text": [
      "Moviepy - Done !\n",
      "Moviepy - video ready Resources/videos/training/flip/0005.mp4\n"
     ]
    },
    {
     "name": "stderr",
     "output_type": "stream",
     "text": [
      "t:   9%|█████▉                                                              | 2/23 [1:25:33<00:01, 17.92it/s, now=None]"
     ]
    },
    {
     "name": "stdout",
     "output_type": "stream",
     "text": [
      "Moviepy - Building video Resources/videos/training/flip/0005.mp4.\n",
      "Moviepy - Writing video Resources/videos/training/flip/0005.mp4\n",
      "\n"
     ]
    },
    {
     "name": "stderr",
     "output_type": "stream",
     "text": [
      "\n",
      "t:   0%|                                                                              | 0/25 [00:00<?, ?it/s, now=None]\u001b[A\n",
      "t:  12%|████████▍                                                             | 3/25 [00:00<00:00, 25.78it/s, now=None]\u001b[A\n",
      "t:  24%|████████████████▊                                                     | 6/25 [00:00<00:00, 24.27it/s, now=None]\u001b[A\n",
      "t:  36%|█████████████████████████▏                                            | 9/25 [00:00<00:00, 24.54it/s, now=None]\u001b[A\n",
      "t:  48%|█████████████████████████████████                                    | 12/25 [00:00<00:00, 23.80it/s, now=None]\u001b[A\n",
      "t:  60%|█████████████████████████████████████████▍                           | 15/25 [00:00<00:00, 23.25it/s, now=None]\u001b[A\n",
      "t:  72%|█████████████████████████████████████████████████▋                   | 18/25 [00:00<00:00, 21.64it/s, now=None]\u001b[A\n",
      "t:  84%|█████████████████████████████████████████████████████████▉           | 21/25 [00:00<00:00, 20.77it/s, now=None]\u001b[A\n",
      "t:  96%|██████████████████████████████████████████████████████████████████▏  | 24/25 [00:01<00:00, 20.32it/s, now=None]\u001b[A\n",
      "t:   9%|█████▉                                                              | 2/23 [1:25:35<00:01, 17.92it/s, now=None]\u001b[A"
     ]
    },
    {
     "name": "stdout",
     "output_type": "stream",
     "text": [
      "Moviepy - Done !\n",
      "Moviepy - video ready Resources/videos/training/flip/0005.mp4\n"
     ]
    },
    {
     "name": "stderr",
     "output_type": "stream",
     "text": [
      "t:   9%|█████▉                                                              | 2/23 [1:25:36<00:01, 17.92it/s, now=None]"
     ]
    },
    {
     "name": "stdout",
     "output_type": "stream",
     "text": [
      "Moviepy - Building video Resources/videos/training/flip/0005.mp4.\n",
      "Moviepy - Writing video Resources/videos/training/flip/0005.mp4\n",
      "\n"
     ]
    },
    {
     "name": "stderr",
     "output_type": "stream",
     "text": [
      "\n",
      "t:   0%|                                                                              | 0/25 [00:00<?, ?it/s, now=None]\u001b[A\n",
      "t:  16%|███████████▏                                                          | 4/25 [00:00<00:00, 30.82it/s, now=None]\u001b[A\n",
      "t:  32%|██████████████████████▍                                               | 8/25 [00:00<00:00, 25.80it/s, now=None]\u001b[A\n",
      "t:  44%|██████████████████████████████▎                                      | 11/25 [00:00<00:00, 26.38it/s, now=None]\u001b[A\n",
      "t:  56%|██████████████████████████████████████▋                              | 14/25 [00:00<00:00, 23.39it/s, now=None]\u001b[A\n",
      "t:  68%|██████████████████████████████████████████████▉                      | 17/25 [00:00<00:00, 22.36it/s, now=None]\u001b[A\n",
      "t:  80%|███████████████████████████████████████████████████████▏             | 20/25 [00:00<00:00, 22.25it/s, now=None]\u001b[A\n",
      "t:  92%|███████████████████████████████████████████████████████████████▍     | 23/25 [00:00<00:00, 23.62it/s, now=None]\u001b[A\n",
      "t:   9%|█████▉                                                              | 2/23 [1:25:38<00:01, 17.92it/s, now=None]\u001b[A"
     ]
    },
    {
     "name": "stdout",
     "output_type": "stream",
     "text": [
      "Moviepy - Done !\n",
      "Moviepy - video ready Resources/videos/training/flip/0005.mp4\n"
     ]
    },
    {
     "name": "stderr",
     "output_type": "stream",
     "text": [
      "t:   9%|█████▉                                                              | 2/23 [1:25:39<00:01, 17.92it/s, now=None]"
     ]
    },
    {
     "name": "stdout",
     "output_type": "stream",
     "text": [
      "Moviepy - Building video Resources/videos/training/flip/0005.mp4.\n",
      "Moviepy - Writing video Resources/videos/training/flip/0005.mp4\n",
      "\n"
     ]
    },
    {
     "name": "stderr",
     "output_type": "stream",
     "text": [
      "\n",
      "t:   0%|                                                                              | 0/25 [00:00<?, ?it/s, now=None]\u001b[A\n",
      "t:  12%|████████▍                                                             | 3/25 [00:00<00:00, 24.98it/s, now=None]\u001b[A\n",
      "t:  24%|████████████████▊                                                     | 6/25 [00:00<00:00, 24.17it/s, now=None]\u001b[A\n",
      "t:  36%|█████████████████████████▏                                            | 9/25 [00:00<00:00, 21.62it/s, now=None]\u001b[A\n",
      "t:  48%|█████████████████████████████████                                    | 12/25 [00:00<00:00, 23.68it/s, now=None]\u001b[A\n",
      "t:  60%|█████████████████████████████████████████▍                           | 15/25 [00:00<00:00, 22.77it/s, now=None]\u001b[A\n",
      "t:  72%|█████████████████████████████████████████████████▋                   | 18/25 [00:00<00:00, 23.12it/s, now=None]\u001b[A\n",
      "t:  84%|█████████████████████████████████████████████████████████▉           | 21/25 [00:00<00:00, 21.72it/s, now=None]\u001b[A\n",
      "t:  96%|██████████████████████████████████████████████████████████████████▏  | 24/25 [00:01<00:00, 23.25it/s, now=None]\u001b[A\n",
      "t:   9%|█████▉                                                              | 2/23 [1:25:42<00:01, 17.92it/s, now=None]\u001b[A"
     ]
    },
    {
     "name": "stdout",
     "output_type": "stream",
     "text": [
      "Moviepy - Done !\n",
      "Moviepy - video ready Resources/videos/training/flip/0005.mp4\n"
     ]
    },
    {
     "name": "stderr",
     "output_type": "stream",
     "text": [
      "t:   9%|█████▉                                                              | 2/23 [1:25:43<00:01, 17.92it/s, now=None]"
     ]
    },
    {
     "name": "stdout",
     "output_type": "stream",
     "text": [
      "Moviepy - Building video Resources/videos/training/flip/0005.mp4.\n",
      "Moviepy - Writing video Resources/videos/training/flip/0005.mp4\n",
      "\n"
     ]
    },
    {
     "name": "stderr",
     "output_type": "stream",
     "text": [
      "\n",
      "t:   0%|                                                                              | 0/25 [00:00<?, ?it/s, now=None]\u001b[A\n",
      "t:  12%|████████▍                                                             | 3/25 [00:00<00:00, 29.27it/s, now=None]\u001b[A\n",
      "t:  24%|████████████████▊                                                     | 6/25 [00:00<00:00, 26.10it/s, now=None]\u001b[A\n",
      "t:  36%|█████████████████████████▏                                            | 9/25 [00:00<00:00, 25.08it/s, now=None]\u001b[A\n",
      "t:  48%|█████████████████████████████████                                    | 12/25 [00:00<00:00, 22.46it/s, now=None]\u001b[A\n",
      "t:  60%|█████████████████████████████████████████▍                           | 15/25 [00:00<00:00, 21.15it/s, now=None]\u001b[A\n",
      "t:  72%|█████████████████████████████████████████████████▋                   | 18/25 [00:00<00:00, 21.20it/s, now=None]\u001b[A\n",
      "t:  84%|█████████████████████████████████████████████████████████▉           | 21/25 [00:00<00:00, 20.49it/s, now=None]\u001b[A\n",
      "t:  96%|██████████████████████████████████████████████████████████████████▏  | 24/25 [00:01<00:00, 20.77it/s, now=None]\u001b[A\n",
      "t:   9%|█████▉                                                              | 2/23 [1:25:45<00:01, 17.92it/s, now=None]\u001b[A"
     ]
    },
    {
     "name": "stdout",
     "output_type": "stream",
     "text": [
      "Moviepy - Done !\n",
      "Moviepy - video ready Resources/videos/training/flip/0005.mp4\n"
     ]
    },
    {
     "name": "stderr",
     "output_type": "stream",
     "text": [
      "t:   9%|█████▉                                                              | 2/23 [1:25:46<00:01, 17.92it/s, now=None]"
     ]
    },
    {
     "name": "stdout",
     "output_type": "stream",
     "text": [
      "Moviepy - Building video Resources/videos/training/flip/0006.mp4.\n",
      "Moviepy - Writing video Resources/videos/training/flip/0006.mp4\n",
      "\n"
     ]
    },
    {
     "name": "stderr",
     "output_type": "stream",
     "text": [
      "\n",
      "t:   0%|                                                                              | 0/21 [00:00<?, ?it/s, now=None]\u001b[A\n",
      "t:  14%|██████████                                                            | 3/21 [00:00<00:00, 28.72it/s, now=None]\u001b[A\n",
      "t:  29%|████████████████████                                                  | 6/21 [00:00<00:00, 23.88it/s, now=None]\u001b[A\n",
      "t:  43%|██████████████████████████████                                        | 9/21 [00:00<00:00, 20.76it/s, now=None]\u001b[A\n",
      "t:  57%|███████████████████████████████████████▍                             | 12/21 [00:00<00:00, 20.70it/s, now=None]\u001b[A\n",
      "t:  71%|█████████████████████████████████████████████████▎                   | 15/21 [00:00<00:00, 19.37it/s, now=None]\u001b[A\n",
      "t:  81%|███████████████████████████████████████████████████████▊             | 17/21 [00:00<00:00, 18.84it/s, now=None]\u001b[A\n",
      "t:  95%|█████████████████████████████████████████████████████████████████▋   | 20/21 [00:00<00:00, 20.64it/s, now=None]\u001b[A\n",
      "t:   9%|█████▉                                                              | 2/23 [1:25:48<00:01, 17.92it/s, now=None]\u001b[A"
     ]
    },
    {
     "name": "stdout",
     "output_type": "stream",
     "text": [
      "Moviepy - Done !\n",
      "Moviepy - video ready Resources/videos/training/flip/0006.mp4\n"
     ]
    },
    {
     "name": "stderr",
     "output_type": "stream",
     "text": [
      "t:   9%|█████▉                                                              | 2/23 [1:25:49<00:01, 17.92it/s, now=None]"
     ]
    },
    {
     "name": "stdout",
     "output_type": "stream",
     "text": [
      "Moviepy - Building video Resources/videos/training/flip/0006.mp4.\n",
      "Moviepy - Writing video Resources/videos/training/flip/0006.mp4\n",
      "\n"
     ]
    },
    {
     "name": "stderr",
     "output_type": "stream",
     "text": [
      "\n",
      "t:   0%|                                                                              | 0/21 [00:00<?, ?it/s, now=None]\u001b[A\n",
      "t:  14%|██████████                                                            | 3/21 [00:00<00:00, 25.35it/s, now=None]\u001b[A\n",
      "t:  29%|████████████████████                                                  | 6/21 [00:00<00:00, 22.45it/s, now=None]\u001b[A\n",
      "t:  43%|██████████████████████████████                                        | 9/21 [00:00<00:00, 23.44it/s, now=None]\u001b[A\n",
      "t:  57%|███████████████████████████████████████▍                             | 12/21 [00:00<00:00, 23.61it/s, now=None]\u001b[A\n",
      "t:  71%|█████████████████████████████████████████████████▎                   | 15/21 [00:00<00:00, 22.75it/s, now=None]\u001b[A\n",
      "t:  86%|███████████████████████████████████████████████████████████▏         | 18/21 [00:00<00:00, 22.22it/s, now=None]\u001b[A\n",
      "t: 100%|█████████████████████████████████████████████████████████████████████| 21/21 [00:00<00:00, 22.76it/s, now=None]\u001b[A\n",
      "t:   9%|█████▉                                                              | 2/23 [1:25:51<00:01, 17.92it/s, now=None]\u001b[A"
     ]
    },
    {
     "name": "stdout",
     "output_type": "stream",
     "text": [
      "Moviepy - Done !\n",
      "Moviepy - video ready Resources/videos/training/flip/0006.mp4\n"
     ]
    },
    {
     "name": "stderr",
     "output_type": "stream",
     "text": [
      "t:   9%|█████▉                                                              | 2/23 [1:25:52<00:01, 17.92it/s, now=None]"
     ]
    },
    {
     "name": "stdout",
     "output_type": "stream",
     "text": [
      "Moviepy - Building video Resources/videos/training/flip/0006.mp4.\n",
      "Moviepy - Writing video Resources/videos/training/flip/0006.mp4\n",
      "\n"
     ]
    },
    {
     "name": "stderr",
     "output_type": "stream",
     "text": [
      "\n",
      "t:   0%|                                                                              | 0/21 [00:00<?, ?it/s, now=None]\u001b[A\n",
      "t:  14%|██████████                                                            | 3/21 [00:00<00:00, 25.89it/s, now=None]\u001b[A\n",
      "t:  29%|████████████████████                                                  | 6/21 [00:00<00:00, 21.54it/s, now=None]\u001b[A\n",
      "t:  43%|██████████████████████████████                                        | 9/21 [00:00<00:00, 21.35it/s, now=None]\u001b[A\n",
      "t:  57%|███████████████████████████████████████▍                             | 12/21 [00:00<00:00, 20.54it/s, now=None]\u001b[A\n",
      "t:  71%|█████████████████████████████████████████████████▎                   | 15/21 [00:00<00:00, 19.99it/s, now=None]\u001b[A\n",
      "t:  86%|███████████████████████████████████████████████████████████▏         | 18/21 [00:00<00:00, 21.21it/s, now=None]\u001b[A\n",
      "t: 100%|█████████████████████████████████████████████████████████████████████| 21/21 [00:00<00:00, 22.01it/s, now=None]\u001b[A\n",
      "t:   9%|█████▉                                                              | 2/23 [1:25:54<00:01, 17.92it/s, now=None]\u001b[A"
     ]
    },
    {
     "name": "stdout",
     "output_type": "stream",
     "text": [
      "Moviepy - Done !\n",
      "Moviepy - video ready Resources/videos/training/flip/0006.mp4\n"
     ]
    },
    {
     "name": "stderr",
     "output_type": "stream",
     "text": [
      "t:   9%|█████▉                                                              | 2/23 [1:25:55<00:01, 17.92it/s, now=None]"
     ]
    },
    {
     "name": "stdout",
     "output_type": "stream",
     "text": [
      "Moviepy - Building video Resources/videos/training/flip/0006.mp4.\n",
      "Moviepy - Writing video Resources/videos/training/flip/0006.mp4\n",
      "\n"
     ]
    },
    {
     "name": "stderr",
     "output_type": "stream",
     "text": [
      "\n",
      "t:   0%|                                                                              | 0/21 [00:00<?, ?it/s, now=None]\u001b[A\n",
      "t:  14%|██████████                                                            | 3/21 [00:00<00:00, 26.44it/s, now=None]\u001b[A\n",
      "t:  29%|████████████████████                                                  | 6/21 [00:00<00:00, 22.78it/s, now=None]\u001b[A\n",
      "t:  43%|██████████████████████████████                                        | 9/21 [00:00<00:00, 21.28it/s, now=None]\u001b[A\n",
      "t:  57%|███████████████████████████████████████▍                             | 12/21 [00:00<00:00, 20.44it/s, now=None]\u001b[A\n",
      "t:  71%|█████████████████████████████████████████████████▎                   | 15/21 [00:00<00:00, 21.53it/s, now=None]\u001b[A\n",
      "t:  86%|███████████████████████████████████████████████████████████▏         | 18/21 [00:00<00:00, 20.73it/s, now=None]\u001b[A\n",
      "t: 100%|█████████████████████████████████████████████████████████████████████| 21/21 [00:00<00:00, 21.61it/s, now=None]\u001b[A\n",
      "t:   9%|█████▉                                                              | 2/23 [1:25:57<00:01, 17.92it/s, now=None]\u001b[A"
     ]
    },
    {
     "name": "stdout",
     "output_type": "stream",
     "text": [
      "Moviepy - Done !\n",
      "Moviepy - video ready Resources/videos/training/flip/0006.mp4\n"
     ]
    },
    {
     "name": "stderr",
     "output_type": "stream",
     "text": [
      "t:   9%|█████▉                                                              | 2/23 [1:25:58<00:01, 17.92it/s, now=None]"
     ]
    },
    {
     "name": "stdout",
     "output_type": "stream",
     "text": [
      "Moviepy - Building video Resources/videos/training/flip/0006.mp4.\n",
      "Moviepy - Writing video Resources/videos/training/flip/0006.mp4\n",
      "\n"
     ]
    },
    {
     "name": "stderr",
     "output_type": "stream",
     "text": [
      "\n",
      "t:   0%|                                                                              | 0/21 [00:00<?, ?it/s, now=None]\u001b[A\n",
      "t:  14%|██████████                                                            | 3/21 [00:00<00:00, 23.56it/s, now=None]\u001b[A\n",
      "t:  29%|████████████████████                                                  | 6/21 [00:00<00:00, 23.81it/s, now=None]\u001b[A\n",
      "t:  43%|██████████████████████████████                                        | 9/21 [00:00<00:00, 22.61it/s, now=None]\u001b[A\n",
      "t:  57%|███████████████████████████████████████▍                             | 12/21 [00:00<00:00, 22.07it/s, now=None]\u001b[A\n",
      "t:  71%|█████████████████████████████████████████████████▎                   | 15/21 [00:00<00:00, 20.13it/s, now=None]\u001b[A\n",
      "t:  86%|███████████████████████████████████████████████████████████▏         | 18/21 [00:00<00:00, 19.83it/s, now=None]\u001b[A\n",
      "t: 100%|█████████████████████████████████████████████████████████████████████| 21/21 [00:00<00:00, 21.80it/s, now=None]\u001b[A\n",
      "t:   9%|█████▉                                                              | 2/23 [1:26:00<00:01, 17.92it/s, now=None]\u001b[A"
     ]
    },
    {
     "name": "stdout",
     "output_type": "stream",
     "text": [
      "Moviepy - Done !\n",
      "Moviepy - video ready Resources/videos/training/flip/0006.mp4\n"
     ]
    },
    {
     "name": "stderr",
     "output_type": "stream",
     "text": [
      "t:   9%|█████▉                                                              | 2/23 [1:26:01<00:01, 17.92it/s, now=None]"
     ]
    },
    {
     "name": "stdout",
     "output_type": "stream",
     "text": [
      "Moviepy - Building video Resources/videos/training/flip/0006.mp4.\n",
      "Moviepy - Writing video Resources/videos/training/flip/0006.mp4\n",
      "\n"
     ]
    },
    {
     "name": "stderr",
     "output_type": "stream",
     "text": [
      "\n",
      "t:   0%|                                                                              | 0/21 [00:00<?, ?it/s, now=None]\u001b[A\n",
      "t:  14%|██████████                                                            | 3/21 [00:00<00:00, 26.27it/s, now=None]\u001b[A\n",
      "t:  29%|████████████████████                                                  | 6/21 [00:00<00:00, 27.12it/s, now=None]\u001b[A\n",
      "t:  43%|██████████████████████████████                                        | 9/21 [00:00<00:00, 24.03it/s, now=None]\u001b[A\n",
      "t:  57%|███████████████████████████████████████▍                             | 12/21 [00:00<00:00, 22.82it/s, now=None]\u001b[A\n",
      "t:  71%|█████████████████████████████████████████████████▎                   | 15/21 [00:00<00:00, 24.39it/s, now=None]\u001b[A\n",
      "t:  86%|███████████████████████████████████████████████████████████▏         | 18/21 [00:00<00:00, 25.39it/s, now=None]\u001b[A\n",
      "t: 100%|█████████████████████████████████████████████████████████████████████| 21/21 [00:00<00:00, 21.22it/s, now=None]\u001b[A\n",
      "t:   9%|█████▉                                                              | 2/23 [1:26:03<00:01, 17.92it/s, now=None]\u001b[A"
     ]
    },
    {
     "name": "stdout",
     "output_type": "stream",
     "text": [
      "Moviepy - Done !\n",
      "Moviepy - video ready Resources/videos/training/flip/0006.mp4\n"
     ]
    },
    {
     "name": "stderr",
     "output_type": "stream",
     "text": [
      "t:   9%|█████▉                                                              | 2/23 [1:26:03<00:01, 17.92it/s, now=None]"
     ]
    },
    {
     "name": "stdout",
     "output_type": "stream",
     "text": [
      "Moviepy - Building video Resources/videos/training/flip/0006.mp4.\n",
      "Moviepy - Writing video Resources/videos/training/flip/0006.mp4\n",
      "\n"
     ]
    },
    {
     "name": "stderr",
     "output_type": "stream",
     "text": [
      "\n",
      "t:   0%|                                                                              | 0/21 [00:00<?, ?it/s, now=None]\u001b[A\n",
      "t:  14%|██████████                                                            | 3/21 [00:00<00:00, 22.49it/s, now=None]\u001b[A\n",
      "t:  29%|████████████████████                                                  | 6/21 [00:00<00:00, 23.49it/s, now=None]\u001b[A\n",
      "t:  43%|██████████████████████████████                                        | 9/21 [00:00<00:00, 23.72it/s, now=None]\u001b[A\n",
      "t:  57%|███████████████████████████████████████▍                             | 12/21 [00:00<00:00, 24.54it/s, now=None]\u001b[A\n",
      "t:  71%|█████████████████████████████████████████████████▎                   | 15/21 [00:00<00:00, 22.71it/s, now=None]\u001b[A\n",
      "t:  86%|███████████████████████████████████████████████████████████▏         | 18/21 [00:00<00:00, 22.16it/s, now=None]\u001b[A\n",
      "t: 100%|█████████████████████████████████████████████████████████████████████| 21/21 [00:00<00:00, 20.96it/s, now=None]\u001b[A\n",
      "t:   9%|█████▉                                                              | 2/23 [1:26:06<00:01, 17.92it/s, now=None]\u001b[A"
     ]
    },
    {
     "name": "stdout",
     "output_type": "stream",
     "text": [
      "Moviepy - Done !\n",
      "Moviepy - video ready Resources/videos/training/flip/0006.mp4\n"
     ]
    },
    {
     "name": "stderr",
     "output_type": "stream",
     "text": [
      "t:   9%|█████▉                                                              | 2/23 [1:26:06<00:01, 17.92it/s, now=None]"
     ]
    },
    {
     "name": "stdout",
     "output_type": "stream",
     "text": [
      "Moviepy - Building video Resources/videos/training/flip/0006.mp4.\n",
      "Moviepy - Writing video Resources/videos/training/flip/0006.mp4\n",
      "\n"
     ]
    },
    {
     "name": "stderr",
     "output_type": "stream",
     "text": [
      "\n",
      "t:   0%|                                                                              | 0/21 [00:00<?, ?it/s, now=None]\u001b[A\n",
      "t:  14%|██████████                                                            | 3/21 [00:00<00:00, 27.26it/s, now=None]\u001b[A\n",
      "t:  29%|████████████████████                                                  | 6/21 [00:00<00:00, 25.13it/s, now=None]\u001b[A\n",
      "t:  43%|██████████████████████████████                                        | 9/21 [00:00<00:00, 24.70it/s, now=None]\u001b[A\n",
      "t:  57%|███████████████████████████████████████▍                             | 12/21 [00:00<00:00, 24.42it/s, now=None]\u001b[A\n",
      "t:  71%|█████████████████████████████████████████████████▎                   | 15/21 [00:00<00:00, 24.21it/s, now=None]\u001b[A\n",
      "t:  86%|███████████████████████████████████████████████████████████▏         | 18/21 [00:00<00:00, 25.28it/s, now=None]\u001b[A\n",
      "t: 100%|█████████████████████████████████████████████████████████████████████| 21/21 [00:00<00:00, 25.60it/s, now=None]\u001b[A\n",
      "t:   9%|█████▉                                                              | 2/23 [1:26:08<00:01, 17.92it/s, now=None]\u001b[A"
     ]
    },
    {
     "name": "stdout",
     "output_type": "stream",
     "text": [
      "Moviepy - Done !\n",
      "Moviepy - video ready Resources/videos/training/flip/0006.mp4\n"
     ]
    },
    {
     "name": "stderr",
     "output_type": "stream",
     "text": [
      "t:   9%|█████▉                                                              | 2/23 [1:26:09<00:01, 17.92it/s, now=None]"
     ]
    },
    {
     "name": "stdout",
     "output_type": "stream",
     "text": [
      "Moviepy - Building video Resources/videos/training/flip/0006.mp4.\n",
      "Moviepy - Writing video Resources/videos/training/flip/0006.mp4\n",
      "\n"
     ]
    },
    {
     "name": "stderr",
     "output_type": "stream",
     "text": [
      "\n",
      "t:   0%|                                                                              | 0/21 [00:00<?, ?it/s, now=None]\u001b[A\n",
      "t:  14%|██████████                                                            | 3/21 [00:00<00:00, 26.53it/s, now=None]\u001b[A\n",
      "t:  29%|████████████████████                                                  | 6/21 [00:00<00:00, 20.31it/s, now=None]\u001b[A\n",
      "t:  43%|██████████████████████████████                                        | 9/21 [00:00<00:00, 21.81it/s, now=None]\u001b[A\n",
      "t:  57%|███████████████████████████████████████▍                             | 12/21 [00:00<00:00, 22.66it/s, now=None]\u001b[A\n",
      "t:  71%|█████████████████████████████████████████████████▎                   | 15/21 [00:00<00:00, 24.17it/s, now=None]\u001b[A\n",
      "t:  86%|███████████████████████████████████████████████████████████▏         | 18/21 [00:00<00:00, 25.08it/s, now=None]\u001b[A\n",
      "t: 100%|█████████████████████████████████████████████████████████████████████| 21/21 [00:00<00:00, 23.52it/s, now=None]\u001b[A\n",
      "t:   9%|█████▉                                                              | 2/23 [1:26:11<00:01, 17.92it/s, now=None]\u001b[A"
     ]
    },
    {
     "name": "stdout",
     "output_type": "stream",
     "text": [
      "Moviepy - Done !\n",
      "Moviepy - video ready Resources/videos/training/flip/0006.mp4\n"
     ]
    },
    {
     "name": "stderr",
     "output_type": "stream",
     "text": [
      "t:   9%|█████▉                                                              | 2/23 [1:26:12<00:01, 17.92it/s, now=None]"
     ]
    },
    {
     "name": "stdout",
     "output_type": "stream",
     "text": [
      "Moviepy - Building video Resources/videos/training/flip/0006.mp4.\n",
      "Moviepy - Writing video Resources/videos/training/flip/0006.mp4\n",
      "\n"
     ]
    },
    {
     "name": "stderr",
     "output_type": "stream",
     "text": [
      "\n",
      "t:   0%|                                                                              | 0/21 [00:00<?, ?it/s, now=None]\u001b[A\n",
      "t:  14%|██████████                                                            | 3/21 [00:00<00:00, 28.60it/s, now=None]\u001b[A\n",
      "t:  29%|████████████████████                                                  | 6/21 [00:00<00:00, 25.76it/s, now=None]\u001b[A\n",
      "t:  43%|██████████████████████████████                                        | 9/21 [00:00<00:00, 22.33it/s, now=None]\u001b[A\n",
      "t:  57%|███████████████████████████████████████▍                             | 12/21 [00:00<00:00, 23.99it/s, now=None]\u001b[A\n",
      "t:  71%|█████████████████████████████████████████████████▎                   | 15/21 [00:00<00:00, 23.06it/s, now=None]\u001b[A\n",
      "t:  86%|███████████████████████████████████████████████████████████▏         | 18/21 [00:00<00:00, 23.37it/s, now=None]\u001b[A\n",
      "t: 100%|█████████████████████████████████████████████████████████████████████| 21/21 [00:00<00:00, 23.58it/s, now=None]\u001b[A\n",
      "t:   9%|█████▉                                                              | 2/23 [1:26:14<00:01, 17.92it/s, now=None]\u001b[A"
     ]
    },
    {
     "name": "stdout",
     "output_type": "stream",
     "text": [
      "Moviepy - Done !\n",
      "Moviepy - video ready Resources/videos/training/flip/0006.mp4\n"
     ]
    },
    {
     "name": "stderr",
     "output_type": "stream",
     "text": [
      "t:   9%|█████▉                                                              | 2/23 [1:26:15<00:01, 17.92it/s, now=None]"
     ]
    },
    {
     "name": "stdout",
     "output_type": "stream",
     "text": [
      "Moviepy - Building video Resources/videos/training/flip/0006.mp4.\n",
      "Moviepy - Writing video Resources/videos/training/flip/0006.mp4\n",
      "\n"
     ]
    },
    {
     "name": "stderr",
     "output_type": "stream",
     "text": [
      "\n",
      "t:   0%|                                                                              | 0/21 [00:00<?, ?it/s, now=None]\u001b[A\n",
      "t:  19%|█████████████▎                                                        | 4/21 [00:00<00:00, 27.43it/s, now=None]\u001b[A\n",
      "t:  33%|███████████████████████▎                                              | 7/21 [00:00<00:00, 27.32it/s, now=None]\u001b[A\n",
      "t:  48%|████████████████████████████████▊                                    | 10/21 [00:00<00:00, 24.44it/s, now=None]\u001b[A\n",
      "t:  62%|██████████████████████████████████████████▋                          | 13/21 [00:00<00:00, 24.33it/s, now=None]\u001b[A\n",
      "t:  76%|████████████████████████████████████████████████████▌                | 16/21 [00:00<00:00, 23.18it/s, now=None]\u001b[A\n",
      "t:  90%|██████████████████████████████████████████████████████████████▍      | 19/21 [00:00<00:00, 22.22it/s, now=None]\u001b[A\n",
      "t:   9%|█████▉                                                              | 2/23 [1:26:17<00:01, 17.92it/s, now=None]\u001b[A"
     ]
    },
    {
     "name": "stdout",
     "output_type": "stream",
     "text": [
      "Moviepy - Done !\n",
      "Moviepy - video ready Resources/videos/training/flip/0006.mp4\n"
     ]
    },
    {
     "name": "stderr",
     "output_type": "stream",
     "text": [
      "t:   9%|█████▉                                                              | 2/23 [1:26:17<00:01, 17.92it/s, now=None]"
     ]
    },
    {
     "name": "stdout",
     "output_type": "stream",
     "text": [
      "Moviepy - Building video Resources/videos/training/flip/0006.mp4.\n",
      "Moviepy - Writing video Resources/videos/training/flip/0006.mp4\n",
      "\n"
     ]
    },
    {
     "name": "stderr",
     "output_type": "stream",
     "text": [
      "\n",
      "t:   0%|                                                                              | 0/21 [00:00<?, ?it/s, now=None]\u001b[A\n",
      "t:  14%|██████████                                                            | 3/21 [00:00<00:00, 27.70it/s, now=None]\u001b[A\n",
      "t:  29%|████████████████████                                                  | 6/21 [00:00<00:00, 24.06it/s, now=None]\u001b[A\n",
      "t:  43%|██████████████████████████████                                        | 9/21 [00:00<00:00, 22.64it/s, now=None]\u001b[A\n",
      "t:  57%|███████████████████████████████████████▍                             | 12/21 [00:00<00:00, 23.19it/s, now=None]\u001b[A\n",
      "t:  71%|█████████████████████████████████████████████████▎                   | 15/21 [00:00<00:00, 21.59it/s, now=None]\u001b[A\n",
      "t:  86%|███████████████████████████████████████████████████████████▏         | 18/21 [00:00<00:00, 22.35it/s, now=None]\u001b[A\n",
      "t: 100%|█████████████████████████████████████████████████████████████████████| 21/21 [00:00<00:00, 20.46it/s, now=None]\u001b[A\n",
      "t:   9%|█████▉                                                              | 2/23 [1:26:19<00:01, 17.92it/s, now=None]\u001b[A"
     ]
    },
    {
     "name": "stdout",
     "output_type": "stream",
     "text": [
      "Moviepy - Done !\n",
      "Moviepy - video ready Resources/videos/training/flip/0006.mp4\n"
     ]
    },
    {
     "name": "stderr",
     "output_type": "stream",
     "text": [
      "t:   9%|█████▉                                                              | 2/23 [1:26:20<00:01, 17.92it/s, now=None]"
     ]
    },
    {
     "name": "stdout",
     "output_type": "stream",
     "text": [
      "Moviepy - Building video Resources/videos/training/flip/0006.mp4.\n",
      "Moviepy - Writing video Resources/videos/training/flip/0006.mp4\n",
      "\n"
     ]
    },
    {
     "name": "stderr",
     "output_type": "stream",
     "text": [
      "\n",
      "t:   0%|                                                                              | 0/21 [00:00<?, ?it/s, now=None]\u001b[A\n",
      "t:  14%|██████████                                                            | 3/21 [00:00<00:00, 27.65it/s, now=None]\u001b[A\n",
      "t:  29%|████████████████████                                                  | 6/21 [00:00<00:00, 25.21it/s, now=None]\u001b[A\n",
      "t:  43%|██████████████████████████████                                        | 9/21 [00:00<00:00, 20.95it/s, now=None]\u001b[A\n",
      "t:  57%|███████████████████████████████████████▍                             | 12/21 [00:00<00:00, 22.13it/s, now=None]\u001b[A\n",
      "t:  71%|█████████████████████████████████████████████████▎                   | 15/21 [00:00<00:00, 20.96it/s, now=None]\u001b[A\n",
      "t:  86%|███████████████████████████████████████████████████████████▏         | 18/21 [00:00<00:00, 20.99it/s, now=None]\u001b[A\n",
      "t: 100%|█████████████████████████████████████████████████████████████████████| 21/21 [00:00<00:00, 22.01it/s, now=None]\u001b[A\n",
      "t:   9%|█████▉                                                              | 2/23 [1:26:22<00:01, 17.92it/s, now=None]\u001b[A"
     ]
    },
    {
     "name": "stdout",
     "output_type": "stream",
     "text": [
      "Moviepy - Done !\n",
      "Moviepy - video ready Resources/videos/training/flip/0006.mp4\n"
     ]
    },
    {
     "name": "stderr",
     "output_type": "stream",
     "text": [
      "t:   9%|█████▉                                                              | 2/23 [1:26:23<00:01, 17.92it/s, now=None]"
     ]
    },
    {
     "name": "stdout",
     "output_type": "stream",
     "text": [
      "Moviepy - Building video Resources/videos/training/flip/0006.mp4.\n",
      "Moviepy - Writing video Resources/videos/training/flip/0006.mp4\n",
      "\n"
     ]
    },
    {
     "name": "stderr",
     "output_type": "stream",
     "text": [
      "\n",
      "t:   0%|                                                                              | 0/21 [00:00<?, ?it/s, now=None]\u001b[A\n",
      "t:  14%|██████████                                                            | 3/21 [00:00<00:00, 25.79it/s, now=None]\u001b[A\n",
      "t:  29%|████████████████████                                                  | 6/21 [00:00<00:00, 24.81it/s, now=None]\u001b[A\n",
      "t:  43%|██████████████████████████████                                        | 9/21 [00:00<00:00, 20.51it/s, now=None]\u001b[A\n",
      "t:  57%|███████████████████████████████████████▍                             | 12/21 [00:00<00:00, 20.19it/s, now=None]\u001b[A\n",
      "t:  71%|█████████████████████████████████████████████████▎                   | 15/21 [00:00<00:00, 21.39it/s, now=None]\u001b[A\n",
      "t:  86%|███████████████████████████████████████████████████████████▏         | 18/21 [00:00<00:00, 22.23it/s, now=None]\u001b[A\n",
      "t: 100%|█████████████████████████████████████████████████████████████████████| 21/21 [00:00<00:00, 20.45it/s, now=None]\u001b[A\n",
      "t:   9%|█████▉                                                              | 2/23 [1:26:25<00:01, 17.92it/s, now=None]\u001b[A"
     ]
    },
    {
     "name": "stdout",
     "output_type": "stream",
     "text": [
      "Moviepy - Done !\n",
      "Moviepy - video ready Resources/videos/training/flip/0006.mp4\n"
     ]
    },
    {
     "name": "stderr",
     "output_type": "stream",
     "text": [
      "t:   9%|█████▉                                                              | 2/23 [1:26:26<00:01, 17.92it/s, now=None]"
     ]
    },
    {
     "name": "stdout",
     "output_type": "stream",
     "text": [
      "Moviepy - Building video Resources/videos/training/flip/0006.mp4.\n",
      "Moviepy - Writing video Resources/videos/training/flip/0006.mp4\n",
      "\n"
     ]
    },
    {
     "name": "stderr",
     "output_type": "stream",
     "text": [
      "\n",
      "t:   0%|                                                                              | 0/21 [00:00<?, ?it/s, now=None]\u001b[A\n",
      "t:  14%|██████████                                                            | 3/21 [00:00<00:00, 26.55it/s, now=None]\u001b[A\n",
      "t:  29%|████████████████████                                                  | 6/21 [00:00<00:00, 18.26it/s, now=None]\u001b[A\n",
      "t:  38%|██████████████████████████▋                                           | 8/21 [00:00<00:00, 18.20it/s, now=None]\u001b[A\n",
      "t:  52%|████████████████████████████████████▏                                | 11/21 [00:00<00:00, 18.69it/s, now=None]\u001b[A\n",
      "t:  67%|██████████████████████████████████████████████                       | 14/21 [00:00<00:00, 21.28it/s, now=None]\u001b[A\n",
      "t:  81%|███████████████████████████████████████████████████████▊             | 17/21 [00:00<00:00, 21.30it/s, now=None]\u001b[A\n",
      "t:  95%|█████████████████████████████████████████████████████████████████▋   | 20/21 [00:00<00:00, 21.35it/s, now=None]\u001b[A\n",
      "t:   9%|█████▉                                                              | 2/23 [1:26:28<00:01, 17.92it/s, now=None]\u001b[A"
     ]
    },
    {
     "name": "stdout",
     "output_type": "stream",
     "text": [
      "Moviepy - Done !\n",
      "Moviepy - video ready Resources/videos/training/flip/0006.mp4\n"
     ]
    },
    {
     "name": "stderr",
     "output_type": "stream",
     "text": [
      "t:   9%|█████▉                                                              | 2/23 [1:26:29<00:01, 17.92it/s, now=None]"
     ]
    },
    {
     "name": "stdout",
     "output_type": "stream",
     "text": [
      "Moviepy - Building video Resources/videos/training/flip/0006.mp4.\n",
      "Moviepy - Writing video Resources/videos/training/flip/0006.mp4\n",
      "\n"
     ]
    },
    {
     "name": "stderr",
     "output_type": "stream",
     "text": [
      "\n",
      "t:   0%|                                                                              | 0/21 [00:00<?, ?it/s, now=None]\u001b[A\n",
      "t:  14%|██████████                                                            | 3/21 [00:00<00:00, 27.57it/s, now=None]\u001b[A\n",
      "t:  29%|████████████████████                                                  | 6/21 [00:00<00:00, 25.21it/s, now=None]\u001b[A\n",
      "t:  43%|██████████████████████████████                                        | 9/21 [00:00<00:00, 23.42it/s, now=None]\u001b[A\n",
      "t:  57%|███████████████████████████████████████▍                             | 12/21 [00:00<00:00, 21.50it/s, now=None]\u001b[A\n",
      "t:  71%|█████████████████████████████████████████████████▎                   | 15/21 [00:00<00:00, 20.60it/s, now=None]\u001b[A\n",
      "t:  86%|███████████████████████████████████████████████████████████▏         | 18/21 [00:00<00:00, 22.53it/s, now=None]\u001b[A\n",
      "t: 100%|█████████████████████████████████████████████████████████████████████| 21/21 [00:00<00:00, 22.89it/s, now=None]\u001b[A\n",
      "t:   9%|█████▉                                                              | 2/23 [1:26:31<00:01, 17.92it/s, now=None]\u001b[A"
     ]
    },
    {
     "name": "stdout",
     "output_type": "stream",
     "text": [
      "Moviepy - Done !\n",
      "Moviepy - video ready Resources/videos/training/flip/0006.mp4\n"
     ]
    },
    {
     "name": "stderr",
     "output_type": "stream",
     "text": [
      "t:   9%|█████▉                                                              | 2/23 [1:26:32<00:01, 17.92it/s, now=None]"
     ]
    },
    {
     "name": "stdout",
     "output_type": "stream",
     "text": [
      "Moviepy - Building video Resources/videos/training/flip/0006.mp4.\n",
      "Moviepy - Writing video Resources/videos/training/flip/0006.mp4\n",
      "\n"
     ]
    },
    {
     "name": "stderr",
     "output_type": "stream",
     "text": [
      "\n",
      "t:   0%|                                                                              | 0/21 [00:00<?, ?it/s, now=None]\u001b[A\n",
      "t:  19%|█████████████▎                                                        | 4/21 [00:00<00:00, 30.90it/s, now=None]\u001b[A\n",
      "t:  38%|██████████████████████████▋                                           | 8/21 [00:00<00:00, 29.58it/s, now=None]\u001b[A\n",
      "t:  52%|████████████████████████████████████▏                                | 11/21 [00:00<00:00, 28.73it/s, now=None]\u001b[A\n",
      "t:  67%|██████████████████████████████████████████████                       | 14/21 [00:00<00:00, 24.44it/s, now=None]\u001b[A\n",
      "t:  81%|███████████████████████████████████████████████████████▊             | 17/21 [00:00<00:00, 25.30it/s, now=None]\u001b[A\n",
      "t:  95%|█████████████████████████████████████████████████████████████████▋   | 20/21 [00:00<00:00, 23.86it/s, now=None]\u001b[A\n",
      "t:   9%|█████▉                                                              | 2/23 [1:26:34<00:01, 17.92it/s, now=None]\u001b[A"
     ]
    },
    {
     "name": "stdout",
     "output_type": "stream",
     "text": [
      "Moviepy - Done !\n",
      "Moviepy - video ready Resources/videos/training/flip/0006.mp4\n"
     ]
    },
    {
     "name": "stderr",
     "output_type": "stream",
     "text": [
      "t:   9%|█████▉                                                              | 2/23 [1:26:35<00:01, 17.92it/s, now=None]"
     ]
    },
    {
     "name": "stdout",
     "output_type": "stream",
     "text": [
      "Moviepy - Building video Resources/videos/training/flip/0006.mp4.\n",
      "Moviepy - Writing video Resources/videos/training/flip/0006.mp4\n",
      "\n"
     ]
    },
    {
     "name": "stderr",
     "output_type": "stream",
     "text": [
      "\n",
      "t:   0%|                                                                              | 0/21 [00:00<?, ?it/s, now=None]\u001b[A\n",
      "t:  14%|██████████                                                            | 3/21 [00:00<00:00, 23.72it/s, now=None]\u001b[A\n",
      "t:  29%|████████████████████                                                  | 6/21 [00:00<00:00, 23.95it/s, now=None]\u001b[A\n",
      "t:  43%|██████████████████████████████                                        | 9/21 [00:00<00:00, 24.06it/s, now=None]\u001b[A\n",
      "t:  57%|███████████████████████████████████████▍                             | 12/21 [00:00<00:00, 24.02it/s, now=None]\u001b[A\n",
      "t:  71%|█████████████████████████████████████████████████▎                   | 15/21 [00:00<00:00, 25.20it/s, now=None]\u001b[A\n",
      "t:  86%|███████████████████████████████████████████████████████████▏         | 18/21 [00:00<00:00, 23.70it/s, now=None]\u001b[A\n",
      "t: 100%|█████████████████████████████████████████████████████████████████████| 21/21 [00:00<00:00, 20.49it/s, now=None]\u001b[A\n",
      "t:   9%|█████▉                                                              | 2/23 [1:26:36<00:01, 17.92it/s, now=None]\u001b[A"
     ]
    },
    {
     "name": "stdout",
     "output_type": "stream",
     "text": [
      "Moviepy - Done !\n",
      "Moviepy - video ready Resources/videos/training/flip/0006.mp4\n"
     ]
    },
    {
     "name": "stderr",
     "output_type": "stream",
     "text": [
      "t:   9%|█████▉                                                              | 2/23 [1:26:37<00:01, 17.92it/s, now=None]"
     ]
    },
    {
     "name": "stdout",
     "output_type": "stream",
     "text": [
      "Moviepy - Building video Resources/videos/training/flip/0006.mp4.\n",
      "Moviepy - Writing video Resources/videos/training/flip/0006.mp4\n",
      "\n"
     ]
    },
    {
     "name": "stderr",
     "output_type": "stream",
     "text": [
      "\n",
      "t:   0%|                                                                              | 0/21 [00:00<?, ?it/s, now=None]\u001b[A\n",
      "t:  14%|██████████                                                            | 3/21 [00:00<00:00, 28.19it/s, now=None]\u001b[A\n",
      "t:  29%|████████████████████                                                  | 6/21 [00:00<00:00, 25.72it/s, now=None]\u001b[A\n",
      "t:  43%|██████████████████████████████                                        | 9/21 [00:00<00:00, 24.89it/s, now=None]\u001b[A\n",
      "t:  57%|███████████████████████████████████████▍                             | 12/21 [00:00<00:00, 25.85it/s, now=None]\u001b[A\n",
      "t:  71%|█████████████████████████████████████████████████▎                   | 15/21 [00:00<00:00, 25.18it/s, now=None]\u001b[A\n",
      "t:  86%|███████████████████████████████████████████████████████████▏         | 18/21 [00:00<00:00, 25.92it/s, now=None]\u001b[A\n",
      "t: 100%|█████████████████████████████████████████████████████████████████████| 21/21 [00:00<00:00, 23.25it/s, now=None]\u001b[A\n",
      "t:   9%|█████▉                                                              | 2/23 [1:26:39<00:01, 17.92it/s, now=None]\u001b[A"
     ]
    },
    {
     "name": "stdout",
     "output_type": "stream",
     "text": [
      "Moviepy - Done !\n",
      "Moviepy - video ready Resources/videos/training/flip/0006.mp4\n"
     ]
    },
    {
     "name": "stderr",
     "output_type": "stream",
     "text": [
      "t:   9%|█████▉                                                              | 2/23 [1:26:40<00:01, 17.92it/s, now=None]"
     ]
    },
    {
     "name": "stdout",
     "output_type": "stream",
     "text": [
      "Moviepy - Building video Resources/videos/training/flip/0006.mp4.\n",
      "Moviepy - Writing video Resources/videos/training/flip/0006.mp4\n",
      "\n"
     ]
    },
    {
     "name": "stderr",
     "output_type": "stream",
     "text": [
      "\n",
      "t:   0%|                                                                              | 0/21 [00:00<?, ?it/s, now=None]\u001b[A\n",
      "t:  14%|██████████                                                            | 3/21 [00:00<00:00, 24.32it/s, now=None]\u001b[A\n",
      "t:  29%|████████████████████                                                  | 6/21 [00:00<00:00, 22.54it/s, now=None]\u001b[A\n",
      "t:  43%|██████████████████████████████                                        | 9/21 [00:00<00:00, 22.01it/s, now=None]\u001b[A\n",
      "t:  57%|███████████████████████████████████████▍                             | 12/21 [00:00<00:00, 21.72it/s, now=None]\u001b[A\n",
      "t:  71%|█████████████████████████████████████████████████▎                   | 15/21 [00:00<00:00, 22.41it/s, now=None]\u001b[A\n",
      "t:  86%|███████████████████████████████████████████████████████████▏         | 18/21 [00:00<00:00, 21.22it/s, now=None]\u001b[A\n",
      "t: 100%|█████████████████████████████████████████████████████████████████████| 21/21 [00:00<00:00, 22.07it/s, now=None]\u001b[A\n",
      "t:   9%|█████▉                                                              | 2/23 [1:26:42<00:01, 17.92it/s, now=None]\u001b[A"
     ]
    },
    {
     "name": "stdout",
     "output_type": "stream",
     "text": [
      "Moviepy - Done !\n",
      "Moviepy - video ready Resources/videos/training/flip/0006.mp4\n"
     ]
    },
    {
     "name": "stderr",
     "output_type": "stream",
     "text": [
      "t:   9%|█████▉                                                              | 2/23 [1:26:43<00:01, 17.92it/s, now=None]"
     ]
    },
    {
     "name": "stdout",
     "output_type": "stream",
     "text": [
      "Moviepy - Building video Resources/videos/training/flip/0007.mp4.\n",
      "Moviepy - Writing video Resources/videos/training/flip/0007.mp4\n",
      "\n"
     ]
    },
    {
     "name": "stderr",
     "output_type": "stream",
     "text": [
      "\n",
      "t:   0%|                                                                              | 0/23 [00:00<?, ?it/s, now=None]\u001b[A\n",
      "t:  13%|█████████▏                                                            | 3/23 [00:00<00:00, 28.04it/s, now=None]\u001b[A\n",
      "t:  26%|██████████████████▎                                                   | 6/23 [00:00<00:00, 22.03it/s, now=None]\u001b[A\n",
      "t:  39%|███████████████████████████▍                                          | 9/23 [00:00<00:00, 21.66it/s, now=None]\u001b[A\n",
      "t:  52%|████████████████████████████████████                                 | 12/23 [00:00<00:00, 22.55it/s, now=None]\u001b[A\n",
      "t:  65%|█████████████████████████████████████████████                        | 15/23 [00:00<00:00, 24.14it/s, now=None]\u001b[A\n",
      "t:  78%|██████████████████████████████████████████████████████               | 18/23 [00:00<00:00, 22.68it/s, now=None]\u001b[A\n",
      "t:  91%|██████████████████████████████████████████████████████████████▉      | 21/23 [00:00<00:00, 22.60it/s, now=None]\u001b[A\n",
      "t:   9%|█████▉                                                              | 2/23 [1:26:46<00:01, 17.92it/s, now=None]\u001b[A"
     ]
    },
    {
     "name": "stdout",
     "output_type": "stream",
     "text": [
      "Moviepy - Done !\n",
      "Moviepy - video ready Resources/videos/training/flip/0007.mp4\n"
     ]
    },
    {
     "name": "stderr",
     "output_type": "stream",
     "text": [
      "t:   9%|█████▉                                                              | 2/23 [1:26:47<00:01, 17.92it/s, now=None]"
     ]
    },
    {
     "name": "stdout",
     "output_type": "stream",
     "text": [
      "Moviepy - Building video Resources/videos/training/flip/0007.mp4.\n",
      "Moviepy - Writing video Resources/videos/training/flip/0007.mp4\n",
      "\n"
     ]
    },
    {
     "name": "stderr",
     "output_type": "stream",
     "text": [
      "\n",
      "t:   0%|                                                                              | 0/23 [00:00<?, ?it/s, now=None]\u001b[A\n",
      "t:  13%|█████████▏                                                            | 3/23 [00:00<00:00, 26.17it/s, now=None]\u001b[A\n",
      "t:  26%|██████████████████▎                                                   | 6/23 [00:00<00:00, 24.24it/s, now=None]\u001b[A\n",
      "t:  39%|███████████████████████████▍                                          | 9/23 [00:00<00:00, 23.27it/s, now=None]\u001b[A\n",
      "t:  52%|████████████████████████████████████                                 | 12/23 [00:00<00:00, 22.47it/s, now=None]\u001b[A\n",
      "t:  65%|█████████████████████████████████████████████                        | 15/23 [00:00<00:00, 23.98it/s, now=None]\u001b[A\n",
      "t:  78%|██████████████████████████████████████████████████████               | 18/23 [00:00<00:00, 23.04it/s, now=None]\u001b[A\n",
      "t:  91%|██████████████████████████████████████████████████████████████▉      | 21/23 [00:00<00:00, 21.61it/s, now=None]\u001b[A\n",
      "t:   9%|█████▉                                                              | 2/23 [1:26:49<00:01, 17.92it/s, now=None]\u001b[A"
     ]
    },
    {
     "name": "stdout",
     "output_type": "stream",
     "text": [
      "Moviepy - Done !\n",
      "Moviepy - video ready Resources/videos/training/flip/0007.mp4\n"
     ]
    },
    {
     "name": "stderr",
     "output_type": "stream",
     "text": [
      "t:   9%|█████▉                                                              | 2/23 [1:26:50<00:01, 17.92it/s, now=None]"
     ]
    },
    {
     "name": "stdout",
     "output_type": "stream",
     "text": [
      "Moviepy - Building video Resources/videos/training/flip/0007.mp4.\n",
      "Moviepy - Writing video Resources/videos/training/flip/0007.mp4\n",
      "\n"
     ]
    },
    {
     "name": "stderr",
     "output_type": "stream",
     "text": [
      "\n",
      "t:   0%|                                                                              | 0/23 [00:00<?, ?it/s, now=None]\u001b[A\n",
      "t:  13%|█████████▏                                                            | 3/23 [00:00<00:00, 27.96it/s, now=None]\u001b[A\n",
      "t:  26%|██████████████████▎                                                   | 6/23 [00:00<00:00, 25.48it/s, now=None]\u001b[A\n",
      "t:  39%|███████████████████████████▍                                          | 9/23 [00:00<00:00, 24.81it/s, now=None]\u001b[A\n",
      "t:  52%|████████████████████████████████████                                 | 12/23 [00:00<00:00, 21.26it/s, now=None]\u001b[A\n",
      "t:  65%|█████████████████████████████████████████████                        | 15/23 [00:00<00:00, 20.42it/s, now=None]\u001b[A\n",
      "t:  78%|██████████████████████████████████████████████████████               | 18/23 [00:00<00:00, 19.33it/s, now=None]\u001b[A\n",
      "t:  91%|██████████████████████████████████████████████████████████████▉      | 21/23 [00:00<00:00, 19.92it/s, now=None]\u001b[A\n",
      "t:   9%|█████▉                                                              | 2/23 [1:26:52<00:01, 17.92it/s, now=None]\u001b[A"
     ]
    },
    {
     "name": "stdout",
     "output_type": "stream",
     "text": [
      "Moviepy - Done !\n",
      "Moviepy - video ready Resources/videos/training/flip/0007.mp4\n"
     ]
    },
    {
     "name": "stderr",
     "output_type": "stream",
     "text": [
      "t:   9%|█████▉                                                              | 2/23 [1:26:53<00:01, 17.92it/s, now=None]"
     ]
    },
    {
     "name": "stdout",
     "output_type": "stream",
     "text": [
      "Moviepy - Building video Resources/videos/training/flip/0007.mp4.\n",
      "Moviepy - Writing video Resources/videos/training/flip/0007.mp4\n",
      "\n"
     ]
    },
    {
     "name": "stderr",
     "output_type": "stream",
     "text": [
      "\n",
      "t:   0%|                                                                              | 0/23 [00:00<?, ?it/s, now=None]\u001b[A\n",
      "t:  13%|█████████▏                                                            | 3/23 [00:00<00:00, 27.07it/s, now=None]\u001b[A\n",
      "t:  26%|██████████████████▎                                                   | 6/23 [00:00<00:00, 23.33it/s, now=None]\u001b[A\n",
      "t:  39%|███████████████████████████▍                                          | 9/23 [00:00<00:00, 25.09it/s, now=None]\u001b[A\n",
      "t:  52%|████████████████████████████████████                                 | 12/23 [00:00<00:00, 21.37it/s, now=None]\u001b[A\n",
      "t:  65%|█████████████████████████████████████████████                        | 15/23 [00:00<00:00, 22.28it/s, now=None]\u001b[A\n",
      "t:  78%|██████████████████████████████████████████████████████               | 18/23 [00:00<00:00, 22.58it/s, now=None]\u001b[A\n",
      "t:  91%|██████████████████████████████████████████████████████████████▉      | 21/23 [00:00<00:00, 22.38it/s, now=None]\u001b[A\n",
      "t:   9%|█████▉                                                              | 2/23 [1:26:55<00:01, 17.92it/s, now=None]\u001b[A"
     ]
    },
    {
     "name": "stdout",
     "output_type": "stream",
     "text": [
      "Moviepy - Done !\n",
      "Moviepy - video ready Resources/videos/training/flip/0007.mp4\n"
     ]
    },
    {
     "name": "stderr",
     "output_type": "stream",
     "text": [
      "t:   9%|█████▉                                                              | 2/23 [1:26:56<00:01, 17.92it/s, now=None]"
     ]
    },
    {
     "name": "stdout",
     "output_type": "stream",
     "text": [
      "Moviepy - Building video Resources/videos/training/flip/0007.mp4.\n",
      "Moviepy - Writing video Resources/videos/training/flip/0007.mp4\n",
      "\n"
     ]
    },
    {
     "name": "stderr",
     "output_type": "stream",
     "text": [
      "\n",
      "t:   0%|                                                                              | 0/23 [00:00<?, ?it/s, now=None]\u001b[A\n",
      "t:  13%|█████████▏                                                            | 3/23 [00:00<00:00, 22.72it/s, now=None]\u001b[A\n",
      "t:  26%|██████████████████▎                                                   | 6/23 [00:00<00:00, 19.82it/s, now=None]\u001b[A\n",
      "t:  39%|███████████████████████████▍                                          | 9/23 [00:00<00:00, 19.85it/s, now=None]\u001b[A\n",
      "t:  48%|█████████████████████████████████                                    | 11/23 [00:00<00:00, 18.84it/s, now=None]\u001b[A\n",
      "t:  57%|███████████████████████████████████████                              | 13/23 [00:00<00:00, 18.79it/s, now=None]\u001b[A\n",
      "t:  65%|█████████████████████████████████████████████                        | 15/23 [00:00<00:00, 17.76it/s, now=None]\u001b[A\n",
      "t:  74%|███████████████████████████████████████████████████                  | 17/23 [00:00<00:00, 17.87it/s, now=None]\u001b[A\n",
      "t:  87%|████████████████████████████████████████████████████████████         | 20/23 [00:01<00:00, 18.43it/s, now=None]\u001b[A\n",
      "t:  96%|██████████████████████████████████████████████████████████████████   | 22/23 [00:01<00:00, 17.32it/s, now=None]\u001b[A\n",
      "t:   9%|█████▉                                                              | 2/23 [1:26:59<00:01, 17.92it/s, now=None]\u001b[A"
     ]
    },
    {
     "name": "stdout",
     "output_type": "stream",
     "text": [
      "Moviepy - Done !\n",
      "Moviepy - video ready Resources/videos/training/flip/0007.mp4\n"
     ]
    },
    {
     "name": "stderr",
     "output_type": "stream",
     "text": [
      "t:   9%|█████▉                                                              | 2/23 [1:27:00<00:01, 17.92it/s, now=None]"
     ]
    },
    {
     "name": "stdout",
     "output_type": "stream",
     "text": [
      "Moviepy - Building video Resources/videos/training/flip/0007.mp4.\n",
      "Moviepy - Writing video Resources/videos/training/flip/0007.mp4\n",
      "\n"
     ]
    },
    {
     "name": "stderr",
     "output_type": "stream",
     "text": [
      "\n",
      "t:   0%|                                                                              | 0/23 [00:00<?, ?it/s, now=None]\u001b[A\n",
      "t:  13%|█████████▏                                                            | 3/23 [00:00<00:00, 25.96it/s, now=None]\u001b[A\n",
      "t:  26%|██████████████████▎                                                   | 6/23 [00:00<00:00, 17.80it/s, now=None]\u001b[A\n",
      "t:  35%|████████████████████████▎                                             | 8/23 [00:00<00:00, 16.47it/s, now=None]\u001b[A\n",
      "t:  43%|██████████████████████████████                                       | 10/23 [00:00<00:00, 15.60it/s, now=None]\u001b[A\n",
      "t:  52%|████████████████████████████████████                                 | 12/23 [00:00<00:00, 14.31it/s, now=None]\u001b[A\n",
      "t:  65%|█████████████████████████████████████████████                        | 15/23 [00:00<00:00, 16.89it/s, now=None]\u001b[A\n",
      "t:  78%|██████████████████████████████████████████████████████               | 18/23 [00:01<00:00, 18.96it/s, now=None]\u001b[A\n",
      "t:  87%|████████████████████████████████████████████████████████████         | 20/23 [00:01<00:00, 18.01it/s, now=None]\u001b[A\n",
      "t: 100%|█████████████████████████████████████████████████████████████████████| 23/23 [00:01<00:00, 19.83it/s, now=None]\u001b[A\n",
      "t:   9%|█████▉                                                              | 2/23 [1:27:02<00:01, 17.92it/s, now=None]\u001b[A"
     ]
    },
    {
     "name": "stdout",
     "output_type": "stream",
     "text": [
      "Moviepy - Done !\n",
      "Moviepy - video ready Resources/videos/training/flip/0007.mp4\n"
     ]
    },
    {
     "name": "stderr",
     "output_type": "stream",
     "text": [
      "t:   9%|█████▉                                                              | 2/23 [1:27:03<00:01, 17.92it/s, now=None]"
     ]
    },
    {
     "name": "stdout",
     "output_type": "stream",
     "text": [
      "Moviepy - Building video Resources/videos/training/flip/0007.mp4.\n",
      "Moviepy - Writing video Resources/videos/training/flip/0007.mp4\n",
      "\n"
     ]
    },
    {
     "name": "stderr",
     "output_type": "stream",
     "text": [
      "\n",
      "t:   0%|                                                                              | 0/23 [00:00<?, ?it/s, now=None]\u001b[A\n",
      "t:  17%|████████████▏                                                         | 4/23 [00:00<00:00, 32.89it/s, now=None]\u001b[A\n",
      "t:  35%|████████████████████████▎                                             | 8/23 [00:00<00:00, 20.32it/s, now=None]\u001b[A\n",
      "t:  48%|█████████████████████████████████                                    | 11/23 [00:00<00:00, 18.90it/s, now=None]\u001b[A\n",
      "t:  61%|██████████████████████████████████████████                           | 14/23 [00:00<00:00, 17.91it/s, now=None]\u001b[A\n",
      "t:  74%|███████████████████████████████████████████████████                  | 17/23 [00:00<00:00, 18.93it/s, now=None]\u001b[A\n",
      "t:  83%|█████████████████████████████████████████████████████████            | 19/23 [00:00<00:00, 18.14it/s, now=None]\u001b[A\n",
      "t:  91%|██████████████████████████████████████████████████████████████▉      | 21/23 [00:01<00:00, 17.57it/s, now=None]\u001b[A\n",
      "t: 100%|█████████████████████████████████████████████████████████████████████| 23/23 [00:01<00:00, 16.94it/s, now=None]\u001b[A\n",
      "t:   9%|█████▉                                                              | 2/23 [1:27:06<00:01, 17.92it/s, now=None]\u001b[A"
     ]
    },
    {
     "name": "stdout",
     "output_type": "stream",
     "text": [
      "Moviepy - Done !\n",
      "Moviepy - video ready Resources/videos/training/flip/0007.mp4\n"
     ]
    },
    {
     "name": "stderr",
     "output_type": "stream",
     "text": [
      "t:   9%|█████▉                                                              | 2/23 [1:27:07<00:01, 17.92it/s, now=None]"
     ]
    },
    {
     "name": "stdout",
     "output_type": "stream",
     "text": [
      "Moviepy - Building video Resources/videos/training/flip/0007.mp4.\n",
      "Moviepy - Writing video Resources/videos/training/flip/0007.mp4\n",
      "\n"
     ]
    },
    {
     "name": "stderr",
     "output_type": "stream",
     "text": [
      "\n",
      "t:   0%|                                                                              | 0/23 [00:00<?, ?it/s, now=None]\u001b[A\n",
      "t:  13%|█████████▏                                                            | 3/23 [00:00<00:00, 28.44it/s, now=None]\u001b[A\n",
      "t:  26%|██████████████████▎                                                   | 6/23 [00:00<00:00, 19.17it/s, now=None]\u001b[A\n",
      "t:  39%|███████████████████████████▍                                          | 9/23 [00:00<00:00, 17.78it/s, now=None]\u001b[A\n",
      "t:  48%|█████████████████████████████████                                    | 11/23 [00:00<00:00, 17.98it/s, now=None]\u001b[A\n",
      "t:  61%|██████████████████████████████████████████                           | 14/23 [00:00<00:00, 19.17it/s, now=None]\u001b[A\n",
      "t:  70%|████████████████████████████████████████████████                     | 16/23 [00:00<00:00, 18.14it/s, now=None]\u001b[A\n",
      "t:  78%|██████████████████████████████████████████████████████               | 18/23 [00:00<00:00, 18.21it/s, now=None]\u001b[A\n",
      "t:  87%|████████████████████████████████████████████████████████████         | 20/23 [00:01<00:00, 16.85it/s, now=None]\u001b[A\n",
      "t:  96%|██████████████████████████████████████████████████████████████████   | 22/23 [00:01<00:00, 17.25it/s, now=None]\u001b[A\n",
      "t:   9%|█████▉                                                              | 2/23 [1:27:10<00:01, 17.92it/s, now=None]\u001b[A"
     ]
    },
    {
     "name": "stdout",
     "output_type": "stream",
     "text": [
      "Moviepy - Done !\n",
      "Moviepy - video ready Resources/videos/training/flip/0007.mp4\n"
     ]
    },
    {
     "name": "stderr",
     "output_type": "stream",
     "text": [
      "t:   9%|█████▉                                                              | 2/23 [1:27:11<00:01, 17.92it/s, now=None]"
     ]
    },
    {
     "name": "stdout",
     "output_type": "stream",
     "text": [
      "Moviepy - Building video Resources/videos/training/flip/0007.mp4.\n",
      "Moviepy - Writing video Resources/videos/training/flip/0007.mp4\n",
      "\n"
     ]
    },
    {
     "name": "stderr",
     "output_type": "stream",
     "text": [
      "\n",
      "t:   0%|                                                                              | 0/23 [00:00<?, ?it/s, now=None]\u001b[A\n",
      "t:  13%|█████████▏                                                            | 3/23 [00:00<00:00, 28.84it/s, now=None]\u001b[A\n",
      "t:  26%|██████████████████▎                                                   | 6/23 [00:00<00:00, 23.84it/s, now=None]\u001b[A\n",
      "t:  39%|███████████████████████████▍                                          | 9/23 [00:00<00:00, 20.42it/s, now=None]\u001b[A\n",
      "t:  52%|████████████████████████████████████                                 | 12/23 [00:00<00:00, 22.76it/s, now=None]\u001b[A\n",
      "t:  65%|█████████████████████████████████████████████                        | 15/23 [00:00<00:00, 20.23it/s, now=None]\u001b[A\n",
      "t:  78%|██████████████████████████████████████████████████████               | 18/23 [00:00<00:00, 19.44it/s, now=None]\u001b[A\n",
      "t:  91%|██████████████████████████████████████████████████████████████▉      | 21/23 [00:01<00:00, 20.66it/s, now=None]\u001b[A\n",
      "t:   9%|█████▉                                                              | 2/23 [1:27:13<00:01, 17.92it/s, now=None]\u001b[A"
     ]
    },
    {
     "name": "stdout",
     "output_type": "stream",
     "text": [
      "Moviepy - Done !\n",
      "Moviepy - video ready Resources/videos/training/flip/0007.mp4\n"
     ]
    },
    {
     "name": "stderr",
     "output_type": "stream",
     "text": [
      "t:   9%|█████▉                                                              | 2/23 [1:27:14<00:01, 17.92it/s, now=None]"
     ]
    },
    {
     "name": "stdout",
     "output_type": "stream",
     "text": [
      "Moviepy - Building video Resources/videos/training/flip/0007.mp4.\n",
      "Moviepy - Writing video Resources/videos/training/flip/0007.mp4\n",
      "\n"
     ]
    },
    {
     "name": "stderr",
     "output_type": "stream",
     "text": [
      "\n",
      "t:   0%|                                                                              | 0/23 [00:00<?, ?it/s, now=None]\u001b[A\n",
      "t:  13%|█████████▏                                                            | 3/23 [00:00<00:00, 25.41it/s, now=None]\u001b[A\n",
      "t:  26%|██████████████████▎                                                   | 6/23 [00:00<00:00, 24.42it/s, now=None]\u001b[A\n",
      "t:  39%|███████████████████████████▍                                          | 9/23 [00:00<00:00, 19.75it/s, now=None]\u001b[A\n",
      "t:  52%|████████████████████████████████████                                 | 12/23 [00:00<00:00, 18.04it/s, now=None]\u001b[A\n",
      "t:  65%|█████████████████████████████████████████████                        | 15/23 [00:00<00:00, 20.59it/s, now=None]\u001b[A\n",
      "t:  78%|██████████████████████████████████████████████████████               | 18/23 [00:00<00:00, 18.21it/s, now=None]\u001b[A\n",
      "t:  87%|████████████████████████████████████████████████████████████         | 20/23 [00:01<00:00, 17.02it/s, now=None]\u001b[A\n",
      "t:  96%|██████████████████████████████████████████████████████████████████   | 22/23 [00:01<00:00, 17.36it/s, now=None]\u001b[A\n",
      "t:   9%|█████▉                                                              | 2/23 [1:27:17<00:01, 17.92it/s, now=None]\u001b[A"
     ]
    },
    {
     "name": "stdout",
     "output_type": "stream",
     "text": [
      "Moviepy - Done !\n",
      "Moviepy - video ready Resources/videos/training/flip/0007.mp4\n"
     ]
    },
    {
     "name": "stderr",
     "output_type": "stream",
     "text": [
      "t:   9%|█████▉                                                              | 2/23 [1:27:18<00:01, 17.92it/s, now=None]"
     ]
    },
    {
     "name": "stdout",
     "output_type": "stream",
     "text": [
      "Moviepy - Building video Resources/videos/training/flip/0007.mp4.\n",
      "Moviepy - Writing video Resources/videos/training/flip/0007.mp4\n",
      "\n"
     ]
    },
    {
     "name": "stderr",
     "output_type": "stream",
     "text": [
      "\n",
      "t:   0%|                                                                              | 0/23 [00:00<?, ?it/s, now=None]\u001b[A\n",
      "t:  17%|████████████▏                                                         | 4/23 [00:00<00:00, 30.63it/s, now=None]\u001b[A\n",
      "t:  35%|████████████████████████▎                                             | 8/23 [00:00<00:00, 21.00it/s, now=None]\u001b[A\n",
      "t:  48%|█████████████████████████████████                                    | 11/23 [00:00<00:00, 19.31it/s, now=None]\u001b[A\n",
      "t:  61%|██████████████████████████████████████████                           | 14/23 [00:00<00:00, 18.75it/s, now=None]\u001b[A\n",
      "t:  74%|███████████████████████████████████████████████████                  | 17/23 [00:00<00:00, 20.31it/s, now=None]\u001b[A\n",
      "t:  87%|████████████████████████████████████████████████████████████         | 20/23 [00:00<00:00, 20.64it/s, now=None]\u001b[A\n",
      "t: 100%|█████████████████████████████████████████████████████████████████████| 23/23 [00:01<00:00, 17.59it/s, now=None]\u001b[A\n",
      "t:   9%|█████▉                                                              | 2/23 [1:27:20<00:01, 17.92it/s, now=None]\u001b[A"
     ]
    },
    {
     "name": "stdout",
     "output_type": "stream",
     "text": [
      "Moviepy - Done !\n",
      "Moviepy - video ready Resources/videos/training/flip/0007.mp4\n"
     ]
    },
    {
     "name": "stderr",
     "output_type": "stream",
     "text": [
      "t:   9%|█████▉                                                              | 2/23 [1:27:21<00:01, 17.92it/s, now=None]"
     ]
    },
    {
     "name": "stdout",
     "output_type": "stream",
     "text": [
      "Moviepy - Building video Resources/videos/training/flip/0007.mp4.\n",
      "Moviepy - Writing video Resources/videos/training/flip/0007.mp4\n",
      "\n"
     ]
    },
    {
     "name": "stderr",
     "output_type": "stream",
     "text": [
      "\n",
      "t:   0%|                                                                              | 0/23 [00:00<?, ?it/s, now=None]\u001b[A\n",
      "t:  13%|█████████▏                                                            | 3/23 [00:00<00:00, 24.69it/s, now=None]\u001b[A\n",
      "t:  26%|██████████████████▎                                                   | 6/23 [00:00<00:00, 19.89it/s, now=None]\u001b[A\n",
      "t:  39%|███████████████████████████▍                                          | 9/23 [00:00<00:00, 20.55it/s, now=None]\u001b[A\n",
      "t:  52%|████████████████████████████████████                                 | 12/23 [00:00<00:00, 20.80it/s, now=None]\u001b[A\n",
      "t:  65%|█████████████████████████████████████████████                        | 15/23 [00:00<00:00, 21.01it/s, now=None]\u001b[A\n",
      "t:  78%|██████████████████████████████████████████████████████               | 18/23 [00:00<00:00, 19.01it/s, now=None]\u001b[A\n",
      "t:  87%|████████████████████████████████████████████████████████████         | 20/23 [00:01<00:00, 18.09it/s, now=None]\u001b[A\n",
      "t: 100%|█████████████████████████████████████████████████████████████████████| 23/23 [00:01<00:00, 19.83it/s, now=None]\u001b[A\n",
      "t:   9%|█████▉                                                              | 2/23 [1:27:24<00:01, 17.92it/s, now=None]\u001b[A"
     ]
    },
    {
     "name": "stdout",
     "output_type": "stream",
     "text": [
      "Moviepy - Done !\n",
      "Moviepy - video ready Resources/videos/training/flip/0007.mp4\n"
     ]
    },
    {
     "name": "stderr",
     "output_type": "stream",
     "text": [
      "t:   9%|█████▉                                                              | 2/23 [1:27:25<00:01, 17.92it/s, now=None]"
     ]
    },
    {
     "name": "stdout",
     "output_type": "stream",
     "text": [
      "Moviepy - Building video Resources/videos/training/flip/0007.mp4.\n",
      "Moviepy - Writing video Resources/videos/training/flip/0007.mp4\n",
      "\n"
     ]
    },
    {
     "name": "stderr",
     "output_type": "stream",
     "text": [
      "\n",
      "t:   0%|                                                                              | 0/23 [00:00<?, ?it/s, now=None]\u001b[A\n",
      "t:  13%|█████████▏                                                            | 3/23 [00:00<00:00, 23.37it/s, now=None]\u001b[A\n",
      "t:  26%|██████████████████▎                                                   | 6/23 [00:00<00:00, 18.41it/s, now=None]\u001b[A\n",
      "t:  35%|████████████████████████▎                                             | 8/23 [00:00<00:00, 16.65it/s, now=None]\u001b[A\n",
      "t:  43%|██████████████████████████████                                       | 10/23 [00:00<00:00, 17.20it/s, now=None]\u001b[A\n",
      "t:  52%|████████████████████████████████████                                 | 12/23 [00:00<00:00, 17.53it/s, now=None]\u001b[A\n",
      "t:  65%|█████████████████████████████████████████████                        | 15/23 [00:00<00:00, 19.70it/s, now=None]\u001b[A\n",
      "t:  74%|███████████████████████████████████████████████████                  | 17/23 [00:00<00:00, 17.81it/s, now=None]\u001b[A\n",
      "t:  87%|████████████████████████████████████████████████████████████         | 20/23 [00:01<00:00, 18.21it/s, now=None]\u001b[A\n",
      "t: 100%|█████████████████████████████████████████████████████████████████████| 23/23 [00:01<00:00, 20.74it/s, now=None]\u001b[A\n",
      "t:   9%|█████▉                                                              | 2/23 [1:27:28<00:01, 17.92it/s, now=None]\u001b[A"
     ]
    },
    {
     "name": "stdout",
     "output_type": "stream",
     "text": [
      "Moviepy - Done !\n",
      "Moviepy - video ready Resources/videos/training/flip/0007.mp4\n"
     ]
    },
    {
     "name": "stderr",
     "output_type": "stream",
     "text": [
      "t:   9%|█████▉                                                              | 2/23 [1:27:29<00:01, 17.92it/s, now=None]"
     ]
    },
    {
     "name": "stdout",
     "output_type": "stream",
     "text": [
      "Moviepy - Building video Resources/videos/training/flip/0007.mp4.\n",
      "Moviepy - Writing video Resources/videos/training/flip/0007.mp4\n",
      "\n"
     ]
    },
    {
     "name": "stderr",
     "output_type": "stream",
     "text": [
      "\n",
      "t:   0%|                                                                              | 0/23 [00:00<?, ?it/s, now=None]\u001b[A\n",
      "t:  17%|████████████▏                                                         | 4/23 [00:00<00:00, 31.12it/s, now=None]\u001b[A\n",
      "t:  35%|████████████████████████▎                                             | 8/23 [00:00<00:00, 24.47it/s, now=None]\u001b[A\n",
      "t:  48%|█████████████████████████████████                                    | 11/23 [00:00<00:00, 23.08it/s, now=None]\u001b[A\n",
      "t:  61%|██████████████████████████████████████████                           | 14/23 [00:00<00:00, 19.21it/s, now=None]\u001b[A\n",
      "t:  70%|████████████████████████████████████████████████                     | 16/23 [00:00<00:00, 18.98it/s, now=None]\u001b[A\n",
      "t:  83%|█████████████████████████████████████████████████████████            | 19/23 [00:00<00:00, 19.15it/s, now=None]\u001b[A\n",
      "t:  96%|██████████████████████████████████████████████████████████████████   | 22/23 [00:01<00:00, 21.27it/s, now=None]\u001b[A\n",
      "t:   9%|█████▉                                                              | 2/23 [1:27:31<00:01, 17.92it/s, now=None]\u001b[A"
     ]
    },
    {
     "name": "stdout",
     "output_type": "stream",
     "text": [
      "Moviepy - Done !\n",
      "Moviepy - video ready Resources/videos/training/flip/0007.mp4\n"
     ]
    },
    {
     "name": "stderr",
     "output_type": "stream",
     "text": [
      "t:   9%|█████▉                                                              | 2/23 [1:27:32<00:01, 17.92it/s, now=None]"
     ]
    },
    {
     "name": "stdout",
     "output_type": "stream",
     "text": [
      "Moviepy - Building video Resources/videos/training/flip/0007.mp4.\n",
      "Moviepy - Writing video Resources/videos/training/flip/0007.mp4\n",
      "\n"
     ]
    },
    {
     "name": "stderr",
     "output_type": "stream",
     "text": [
      "\n",
      "t:   0%|                                                                              | 0/23 [00:00<?, ?it/s, now=None]\u001b[A\n",
      "t:  17%|████████████▏                                                         | 4/23 [00:00<00:00, 30.64it/s, now=None]\u001b[A\n",
      "t:  35%|████████████████████████▎                                             | 8/23 [00:00<00:00, 25.82it/s, now=None]\u001b[A\n",
      "t:  48%|█████████████████████████████████                                    | 11/23 [00:00<00:00, 23.85it/s, now=None]\u001b[A\n",
      "t:  61%|██████████████████████████████████████████                           | 14/23 [00:00<00:00, 21.00it/s, now=None]\u001b[A\n",
      "t:  74%|███████████████████████████████████████████████████                  | 17/23 [00:00<00:00, 22.06it/s, now=None]\u001b[A\n",
      "t:  87%|████████████████████████████████████████████████████████████         | 20/23 [00:00<00:00, 21.06it/s, now=None]\u001b[A\n",
      "t: 100%|█████████████████████████████████████████████████████████████████████| 23/23 [00:01<00:00, 18.02it/s, now=None]\u001b[A\n",
      "t:   9%|█████▉                                                              | 2/23 [1:27:35<00:01, 17.92it/s, now=None]\u001b[A"
     ]
    },
    {
     "name": "stdout",
     "output_type": "stream",
     "text": [
      "Moviepy - Done !\n",
      "Moviepy - video ready Resources/videos/training/flip/0007.mp4\n"
     ]
    },
    {
     "name": "stderr",
     "output_type": "stream",
     "text": [
      "t:   9%|█████▉                                                              | 2/23 [1:27:36<00:01, 17.92it/s, now=None]"
     ]
    },
    {
     "name": "stdout",
     "output_type": "stream",
     "text": [
      "Moviepy - Building video Resources/videos/training/flip/0007.mp4.\n",
      "Moviepy - Writing video Resources/videos/training/flip/0007.mp4\n",
      "\n"
     ]
    },
    {
     "name": "stderr",
     "output_type": "stream",
     "text": [
      "\n",
      "t:   0%|                                                                              | 0/23 [00:00<?, ?it/s, now=None]\u001b[A\n",
      "t:  17%|████████████▏                                                         | 4/23 [00:00<00:00, 30.96it/s, now=None]\u001b[A\n",
      "t:  35%|████████████████████████▎                                             | 8/23 [00:00<00:00, 19.83it/s, now=None]\u001b[A\n",
      "t:  48%|█████████████████████████████████                                    | 11/23 [00:00<00:00, 20.62it/s, now=None]\u001b[A\n",
      "t:  61%|██████████████████████████████████████████                           | 14/23 [00:00<00:00, 17.55it/s, now=None]\u001b[A\n",
      "t:  70%|████████████████████████████████████████████████                     | 16/23 [00:00<00:00, 17.70it/s, now=None]\u001b[A\n",
      "t:  78%|██████████████████████████████████████████████████████               | 18/23 [00:00<00:00, 17.22it/s, now=None]\u001b[A\n",
      "t:  87%|████████████████████████████████████████████████████████████         | 20/23 [00:01<00:00, 16.81it/s, now=None]\u001b[A\n",
      "t:  96%|██████████████████████████████████████████████████████████████████   | 22/23 [00:01<00:00, 16.00it/s, now=None]\u001b[A\n",
      "t:   9%|█████▉                                                              | 2/23 [1:27:38<00:01, 17.92it/s, now=None]\u001b[A"
     ]
    },
    {
     "name": "stdout",
     "output_type": "stream",
     "text": [
      "Moviepy - Done !\n",
      "Moviepy - video ready Resources/videos/training/flip/0007.mp4\n"
     ]
    },
    {
     "name": "stderr",
     "output_type": "stream",
     "text": [
      "t:   9%|█████▉                                                              | 2/23 [1:27:39<00:01, 17.92it/s, now=None]"
     ]
    },
    {
     "name": "stdout",
     "output_type": "stream",
     "text": [
      "Moviepy - Building video Resources/videos/training/flip/0007.mp4.\n",
      "Moviepy - Writing video Resources/videos/training/flip/0007.mp4\n",
      "\n"
     ]
    },
    {
     "name": "stderr",
     "output_type": "stream",
     "text": [
      "\n",
      "t:   0%|                                                                              | 0/23 [00:00<?, ?it/s, now=None]\u001b[A\n",
      "t:  17%|████████████▏                                                         | 4/23 [00:00<00:00, 35.30it/s, now=None]\u001b[A\n",
      "t:  35%|████████████████████████▎                                             | 8/23 [00:00<00:00, 20.63it/s, now=None]\u001b[A\n",
      "t:  48%|█████████████████████████████████                                    | 11/23 [00:00<00:00, 19.28it/s, now=None]\u001b[A\n",
      "t:  61%|██████████████████████████████████████████                           | 14/23 [00:00<00:00, 17.75it/s, now=None]\u001b[A\n",
      "t:  70%|████████████████████████████████████████████████                     | 16/23 [00:00<00:00, 18.13it/s, now=None]\u001b[A\n",
      "t:  78%|██████████████████████████████████████████████████████               | 18/23 [00:00<00:00, 17.46it/s, now=None]\u001b[A\n",
      "t:  87%|████████████████████████████████████████████████████████████         | 20/23 [00:01<00:00, 17.69it/s, now=None]\u001b[A\n",
      "t:  96%|██████████████████████████████████████████████████████████████████   | 22/23 [00:01<00:00, 15.42it/s, now=None]\u001b[A\n",
      "t:   9%|█████▉                                                              | 2/23 [1:27:42<00:01, 17.92it/s, now=None]\u001b[A"
     ]
    },
    {
     "name": "stdout",
     "output_type": "stream",
     "text": [
      "Moviepy - Done !\n",
      "Moviepy - video ready Resources/videos/training/flip/0007.mp4\n"
     ]
    },
    {
     "name": "stderr",
     "output_type": "stream",
     "text": [
      "t:   9%|█████▉                                                              | 2/23 [1:27:43<00:01, 17.92it/s, now=None]"
     ]
    },
    {
     "name": "stdout",
     "output_type": "stream",
     "text": [
      "Moviepy - Building video Resources/videos/training/flip/0007.mp4.\n",
      "Moviepy - Writing video Resources/videos/training/flip/0007.mp4\n",
      "\n"
     ]
    },
    {
     "name": "stderr",
     "output_type": "stream",
     "text": [
      "\n",
      "t:   0%|                                                                              | 0/23 [00:00<?, ?it/s, now=None]\u001b[A\n",
      "t:  13%|█████████▏                                                            | 3/23 [00:00<00:00, 27.63it/s, now=None]\u001b[A\n",
      "t:  26%|██████████████████▎                                                   | 6/23 [00:00<00:00, 25.52it/s, now=None]\u001b[A\n",
      "t:  39%|███████████████████████████▍                                          | 9/23 [00:00<00:00, 24.84it/s, now=None]\u001b[A\n",
      "t:  52%|████████████████████████████████████                                 | 12/23 [00:00<00:00, 24.43it/s, now=None]\u001b[A\n",
      "t:  65%|█████████████████████████████████████████████                        | 15/23 [00:00<00:00, 23.24it/s, now=None]\u001b[A\n",
      "t:  78%|██████████████████████████████████████████████████████               | 18/23 [00:00<00:00, 22.60it/s, now=None]\u001b[A\n",
      "t:  91%|██████████████████████████████████████████████████████████████▉      | 21/23 [00:00<00:00, 18.63it/s, now=None]\u001b[A\n",
      "t:   9%|█████▉                                                              | 2/23 [1:27:46<00:01, 17.92it/s, now=None]\u001b[A"
     ]
    },
    {
     "name": "stdout",
     "output_type": "stream",
     "text": [
      "Moviepy - Done !\n",
      "Moviepy - video ready Resources/videos/training/flip/0007.mp4\n"
     ]
    },
    {
     "name": "stderr",
     "output_type": "stream",
     "text": [
      "t:   9%|█████▉                                                              | 2/23 [1:27:47<00:01, 17.92it/s, now=None]"
     ]
    },
    {
     "name": "stdout",
     "output_type": "stream",
     "text": [
      "Moviepy - Building video Resources/videos/training/flip/0007.mp4.\n",
      "Moviepy - Writing video Resources/videos/training/flip/0007.mp4\n",
      "\n"
     ]
    },
    {
     "name": "stderr",
     "output_type": "stream",
     "text": [
      "\n",
      "t:   0%|                                                                              | 0/23 [00:00<?, ?it/s, now=None]\u001b[A\n",
      "t:  13%|█████████▏                                                            | 3/23 [00:00<00:00, 25.35it/s, now=None]\u001b[A\n",
      "t:  26%|██████████████████▎                                                   | 6/23 [00:00<00:00, 22.83it/s, now=None]\u001b[A\n",
      "t:  39%|███████████████████████████▍                                          | 9/23 [00:00<00:00, 22.10it/s, now=None]\u001b[A\n",
      "t:  52%|████████████████████████████████████                                 | 12/23 [00:00<00:00, 20.94it/s, now=None]\u001b[A\n",
      "t:  65%|█████████████████████████████████████████████                        | 15/23 [00:00<00:00, 19.48it/s, now=None]\u001b[A\n",
      "t:  74%|███████████████████████████████████████████████████                  | 17/23 [00:00<00:00, 19.17it/s, now=None]\u001b[A\n",
      "t:  83%|█████████████████████████████████████████████████████████            | 19/23 [00:00<00:00, 17.57it/s, now=None]\u001b[A\n",
      "t:  91%|██████████████████████████████████████████████████████████████▉      | 21/23 [00:01<00:00, 16.45it/s, now=None]\u001b[A\n",
      "t:   9%|█████▉                                                              | 2/23 [1:27:49<00:01, 17.92it/s, now=None]\u001b[A"
     ]
    },
    {
     "name": "stdout",
     "output_type": "stream",
     "text": [
      "Moviepy - Done !\n",
      "Moviepy - video ready Resources/videos/training/flip/0007.mp4\n"
     ]
    },
    {
     "name": "stderr",
     "output_type": "stream",
     "text": [
      "t:   9%|█████▉                                                              | 2/23 [1:27:50<00:01, 17.92it/s, now=None]"
     ]
    },
    {
     "name": "stdout",
     "output_type": "stream",
     "text": [
      "Moviepy - Building video Resources/videos/training/flip/0007.mp4.\n",
      "Moviepy - Writing video Resources/videos/training/flip/0007.mp4\n",
      "\n"
     ]
    },
    {
     "name": "stderr",
     "output_type": "stream",
     "text": [
      "\n",
      "t:   0%|                                                                              | 0/23 [00:00<?, ?it/s, now=None]\u001b[A\n",
      "t:  13%|█████████▏                                                            | 3/23 [00:00<00:00, 27.39it/s, now=None]\u001b[A\n",
      "t:  26%|██████████████████▎                                                   | 6/23 [00:00<00:00, 19.30it/s, now=None]\u001b[A\n",
      "t:  39%|███████████████████████████▍                                          | 9/23 [00:00<00:00, 20.17it/s, now=None]\u001b[A\n",
      "t:  52%|████████████████████████████████████                                 | 12/23 [00:00<00:00, 17.57it/s, now=None]\u001b[A\n",
      "t:  61%|██████████████████████████████████████████                           | 14/23 [00:00<00:00, 16.55it/s, now=None]\u001b[A\n",
      "t:  70%|████████████████████████████████████████████████                     | 16/23 [00:00<00:00, 16.36it/s, now=None]\u001b[A\n",
      "t:  78%|██████████████████████████████████████████████████████               | 18/23 [00:01<00:00, 15.70it/s, now=None]\u001b[A\n",
      "t:  87%|████████████████████████████████████████████████████████████         | 20/23 [00:01<00:00, 16.35it/s, now=None]\u001b[A\n",
      "t:  96%|██████████████████████████████████████████████████████████████████   | 22/23 [00:01<00:00, 16.89it/s, now=None]\u001b[A\n",
      "t:   9%|█████▉                                                              | 2/23 [1:27:53<00:01, 17.92it/s, now=None]\u001b[A"
     ]
    },
    {
     "name": "stdout",
     "output_type": "stream",
     "text": [
      "Moviepy - Done !\n",
      "Moviepy - video ready Resources/videos/training/flip/0007.mp4\n"
     ]
    },
    {
     "name": "stderr",
     "output_type": "stream",
     "text": [
      "t:   9%|█████▉                                                              | 2/23 [1:27:54<00:01, 17.92it/s, now=None]"
     ]
    },
    {
     "name": "stdout",
     "output_type": "stream",
     "text": [
      "Moviepy - Building video Resources/videos/training/flip/0007.mp4.\n",
      "Moviepy - Writing video Resources/videos/training/flip/0007.mp4\n",
      "\n"
     ]
    },
    {
     "name": "stderr",
     "output_type": "stream",
     "text": [
      "\n",
      "t:   0%|                                                                              | 0/23 [00:00<?, ?it/s, now=None]\u001b[A\n",
      "t:  13%|█████████▏                                                            | 3/23 [00:00<00:00, 26.79it/s, now=None]\u001b[A\n",
      "t:  26%|██████████████████▎                                                   | 6/23 [00:00<00:00, 25.22it/s, now=None]\u001b[A\n",
      "t:  39%|███████████████████████████▍                                          | 9/23 [00:00<00:00, 19.11it/s, now=None]\u001b[A\n",
      "t:  52%|████████████████████████████████████                                 | 12/23 [00:00<00:00, 19.90it/s, now=None]\u001b[A\n",
      "t:  65%|█████████████████████████████████████████████                        | 15/23 [00:00<00:00, 22.10it/s, now=None]\u001b[A\n",
      "t:  78%|██████████████████████████████████████████████████████               | 18/23 [00:00<00:00, 22.75it/s, now=None]\u001b[A\n",
      "t:  91%|██████████████████████████████████████████████████████████████▉      | 21/23 [00:00<00:00, 21.95it/s, now=None]\u001b[A\n",
      "t:   9%|█████▉                                                              | 2/23 [1:27:57<00:01, 17.92it/s, now=None]\u001b[A"
     ]
    },
    {
     "name": "stdout",
     "output_type": "stream",
     "text": [
      "Moviepy - Done !\n",
      "Moviepy - video ready Resources/videos/training/flip/0007.mp4\n"
     ]
    },
    {
     "name": "stderr",
     "output_type": "stream",
     "text": [
      "t:   9%|█████▉                                                              | 2/23 [1:27:58<00:01, 17.92it/s, now=None]"
     ]
    },
    {
     "name": "stdout",
     "output_type": "stream",
     "text": [
      "Moviepy - Building video Resources/videos/training/flip/0007.mp4.\n",
      "Moviepy - Writing video Resources/videos/training/flip/0007.mp4\n",
      "\n"
     ]
    },
    {
     "name": "stderr",
     "output_type": "stream",
     "text": [
      "\n",
      "t:   0%|                                                                              | 0/23 [00:00<?, ?it/s, now=None]\u001b[A\n",
      "t:  13%|█████████▏                                                            | 3/23 [00:00<00:00, 25.72it/s, now=None]\u001b[A\n",
      "t:  26%|██████████████████▎                                                   | 6/23 [00:00<00:00, 21.48it/s, now=None]\u001b[A\n",
      "t:  39%|███████████████████████████▍                                          | 9/23 [00:00<00:00, 22.52it/s, now=None]\u001b[A\n",
      "t:  52%|████████████████████████████████████                                 | 12/23 [00:00<00:00, 22.08it/s, now=None]\u001b[A\n",
      "t:  65%|█████████████████████████████████████████████                        | 15/23 [00:00<00:00, 20.09it/s, now=None]\u001b[A\n",
      "t:  78%|██████████████████████████████████████████████████████               | 18/23 [00:00<00:00, 19.18it/s, now=None]\u001b[A\n",
      "t:  87%|████████████████████████████████████████████████████████████         | 20/23 [00:01<00:00, 18.85it/s, now=None]\u001b[A\n",
      "t: 100%|█████████████████████████████████████████████████████████████████████| 23/23 [00:01<00:00, 20.45it/s, now=None]\u001b[A\n",
      "t:   9%|█████▉                                                              | 2/23 [1:28:01<00:01, 17.92it/s, now=None]\u001b[A"
     ]
    },
    {
     "name": "stdout",
     "output_type": "stream",
     "text": [
      "Moviepy - Done !\n",
      "Moviepy - video ready Resources/videos/training/flip/0007.mp4\n"
     ]
    },
    {
     "name": "stderr",
     "output_type": "stream",
     "text": [
      "t:   9%|█████▉                                                              | 2/23 [1:28:02<00:01, 17.92it/s, now=None]"
     ]
    },
    {
     "name": "stdout",
     "output_type": "stream",
     "text": [
      "Moviepy - Building video Resources/videos/training/flip/0008.mp4.\n",
      "Moviepy - Writing video Resources/videos/training/flip/0008.mp4\n",
      "\n"
     ]
    },
    {
     "name": "stderr",
     "output_type": "stream",
     "text": [
      "\n",
      "t:   0%|                                                                              | 0/24 [00:00<?, ?it/s, now=None]\u001b[A\n",
      "t:  12%|████████▊                                                             | 3/24 [00:00<00:00, 26.48it/s, now=None]\u001b[A\n",
      "t:  25%|█████████████████▌                                                    | 6/24 [00:00<00:00, 20.29it/s, now=None]\u001b[A\n",
      "t:  38%|██████████████████████████▎                                           | 9/24 [00:00<00:00, 16.88it/s, now=None]\u001b[A\n",
      "t:  46%|███████████████████████████████▋                                     | 11/24 [00:00<00:00, 17.04it/s, now=None]\u001b[A\n",
      "t:  54%|█████████████████████████████████████▍                               | 13/24 [00:00<00:00, 17.40it/s, now=None]\u001b[A\n",
      "t:  62%|███████████████████████████████████████████▏                         | 15/24 [00:00<00:00, 17.00it/s, now=None]\u001b[A\n",
      "t:  75%|███████████████████████████████████████████████████▊                 | 18/24 [00:00<00:00, 18.51it/s, now=None]\u001b[A\n",
      "t:  83%|█████████████████████████████████████████████████████████▌           | 20/24 [00:01<00:00, 17.96it/s, now=None]\u001b[A\n",
      "t:  92%|███████████████████████████████████████████████████████████████▎     | 22/24 [00:01<00:00, 17.77it/s, now=None]\u001b[A\n",
      "t: 100%|█████████████████████████████████████████████████████████████████████| 24/24 [00:01<00:00, 17.89it/s, now=None]\u001b[A\n",
      "t:   9%|█████▉                                                              | 2/23 [1:28:05<00:01, 17.92it/s, now=None]\u001b[A"
     ]
    },
    {
     "name": "stdout",
     "output_type": "stream",
     "text": [
      "Moviepy - Done !\n",
      "Moviepy - video ready Resources/videos/training/flip/0008.mp4\n"
     ]
    },
    {
     "name": "stderr",
     "output_type": "stream",
     "text": [
      "t:   9%|█████▉                                                              | 2/23 [1:28:06<00:01, 17.92it/s, now=None]"
     ]
    },
    {
     "name": "stdout",
     "output_type": "stream",
     "text": [
      "Moviepy - Building video Resources/videos/training/flip/0008.mp4.\n",
      "Moviepy - Writing video Resources/videos/training/flip/0008.mp4\n",
      "\n"
     ]
    },
    {
     "name": "stderr",
     "output_type": "stream",
     "text": [
      "\n",
      "t:   0%|                                                                              | 0/24 [00:00<?, ?it/s, now=None]\u001b[A\n",
      "t:  17%|███████████▋                                                          | 4/24 [00:00<00:00, 26.89it/s, now=None]\u001b[A\n",
      "t:  29%|████████████████████▍                                                 | 7/24 [00:00<00:00, 22.24it/s, now=None]\u001b[A\n",
      "t:  42%|████████████████████████████▊                                        | 10/24 [00:00<00:00, 24.24it/s, now=None]\u001b[A\n",
      "t:  54%|█████████████████████████████████████▍                               | 13/24 [00:00<00:00, 21.12it/s, now=None]\u001b[A\n",
      "t:  67%|██████████████████████████████████████████████                       | 16/24 [00:00<00:00, 17.75it/s, now=None]\u001b[A\n",
      "t:  75%|███████████████████████████████████████████████████▊                 | 18/24 [00:00<00:00, 17.92it/s, now=None]\u001b[A\n",
      "t:  83%|█████████████████████████████████████████████████████████▌           | 20/24 [00:01<00:00, 18.02it/s, now=None]\u001b[A\n",
      "t:  92%|███████████████████████████████████████████████████████████████▎     | 22/24 [00:01<00:00, 16.78it/s, now=None]\u001b[A\n",
      "t:   9%|█████▉                                                              | 2/23 [1:28:09<00:01, 17.92it/s, now=None]\u001b[A"
     ]
    },
    {
     "name": "stdout",
     "output_type": "stream",
     "text": [
      "Moviepy - Done !\n",
      "Moviepy - video ready Resources/videos/training/flip/0008.mp4\n"
     ]
    },
    {
     "name": "stderr",
     "output_type": "stream",
     "text": [
      "t:   9%|█████▉                                                              | 2/23 [1:28:10<00:01, 17.92it/s, now=None]"
     ]
    },
    {
     "name": "stdout",
     "output_type": "stream",
     "text": [
      "Moviepy - Building video Resources/videos/training/flip/0008.mp4.\n",
      "Moviepy - Writing video Resources/videos/training/flip/0008.mp4\n",
      "\n"
     ]
    },
    {
     "name": "stderr",
     "output_type": "stream",
     "text": [
      "\n",
      "t:   0%|                                                                              | 0/24 [00:00<?, ?it/s, now=None]\u001b[A\n",
      "t:  17%|███████████▋                                                          | 4/24 [00:00<00:00, 26.81it/s, now=None]\u001b[A\n",
      "t:  29%|████████████████████▍                                                 | 7/24 [00:00<00:00, 19.90it/s, now=None]\u001b[A\n",
      "t:  42%|████████████████████████████▊                                        | 10/24 [00:00<00:00, 19.63it/s, now=None]\u001b[A\n",
      "t:  50%|██████████████████████████████████▌                                  | 12/24 [00:00<00:00, 19.24it/s, now=None]\u001b[A\n",
      "t:  58%|████████████████████████████████████████▎                            | 14/24 [00:00<00:00, 18.93it/s, now=None]\u001b[A\n",
      "t:  67%|██████████████████████████████████████████████                       | 16/24 [00:00<00:00, 17.98it/s, now=None]\u001b[A\n",
      "t:  75%|███████████████████████████████████████████████████▊                 | 18/24 [00:00<00:00, 16.64it/s, now=None]\u001b[A\n",
      "t:  83%|█████████████████████████████████████████████████████████▌           | 20/24 [00:01<00:00, 17.11it/s, now=None]\u001b[A\n",
      "t:  96%|██████████████████████████████████████████████████████████████████▏  | 23/24 [00:01<00:00, 16.64it/s, now=None]\u001b[A\n",
      "t:   9%|█████▉                                                              | 2/23 [1:28:13<00:01, 17.92it/s, now=None]\u001b[A"
     ]
    },
    {
     "name": "stdout",
     "output_type": "stream",
     "text": [
      "Moviepy - Done !\n",
      "Moviepy - video ready Resources/videos/training/flip/0008.mp4\n"
     ]
    },
    {
     "name": "stderr",
     "output_type": "stream",
     "text": [
      "t:   9%|█████▉                                                              | 2/23 [1:28:15<00:01, 17.92it/s, now=None]"
     ]
    },
    {
     "name": "stdout",
     "output_type": "stream",
     "text": [
      "Moviepy - Building video Resources/videos/training/flip/0008.mp4.\n",
      "Moviepy - Writing video Resources/videos/training/flip/0008.mp4\n",
      "\n"
     ]
    },
    {
     "name": "stderr",
     "output_type": "stream",
     "text": [
      "\n",
      "t:   0%|                                                                              | 0/24 [00:00<?, ?it/s, now=None]\u001b[A\n",
      "t:  12%|████████▊                                                             | 3/24 [00:00<00:00, 25.12it/s, now=None]\u001b[A\n",
      "t:  25%|█████████████████▌                                                    | 6/24 [00:00<00:00, 18.99it/s, now=None]\u001b[A\n",
      "t:  33%|███████████████████████▎                                              | 8/24 [00:00<00:00, 18.72it/s, now=None]\u001b[A\n",
      "t:  42%|████████████████████████████▊                                        | 10/24 [00:00<00:00, 17.68it/s, now=None]\u001b[A\n",
      "t:  50%|██████████████████████████████████▌                                  | 12/24 [00:00<00:00, 17.82it/s, now=None]\u001b[A\n",
      "t:  58%|████████████████████████████████████████▎                            | 14/24 [00:00<00:00, 16.29it/s, now=None]\u001b[A\n",
      "t:  67%|██████████████████████████████████████████████                       | 16/24 [00:00<00:00, 15.83it/s, now=None]\u001b[A\n",
      "t:  75%|███████████████████████████████████████████████████▊                 | 18/24 [00:01<00:00, 15.25it/s, now=None]\u001b[A\n",
      "t:  88%|████████████████████████████████████████████████████████████▍        | 21/24 [00:01<00:00, 17.89it/s, now=None]\u001b[A\n",
      "t:  96%|██████████████████████████████████████████████████████████████████▏  | 23/24 [00:01<00:00, 16.68it/s, now=None]\u001b[A\n",
      "t:   9%|█████▉                                                              | 2/23 [1:28:18<00:01, 17.92it/s, now=None]\u001b[A"
     ]
    },
    {
     "name": "stdout",
     "output_type": "stream",
     "text": [
      "Moviepy - Done !\n",
      "Moviepy - video ready Resources/videos/training/flip/0008.mp4\n"
     ]
    },
    {
     "name": "stderr",
     "output_type": "stream",
     "text": [
      "t:   9%|█████▉                                                              | 2/23 [1:28:19<00:01, 17.92it/s, now=None]"
     ]
    },
    {
     "name": "stdout",
     "output_type": "stream",
     "text": [
      "Moviepy - Building video Resources/videos/training/flip/0008.mp4.\n",
      "Moviepy - Writing video Resources/videos/training/flip/0008.mp4\n",
      "\n"
     ]
    },
    {
     "name": "stderr",
     "output_type": "stream",
     "text": [
      "\n",
      "t:   0%|                                                                              | 0/24 [00:00<?, ?it/s, now=None]\u001b[A\n",
      "t:  12%|████████▊                                                             | 3/24 [00:00<00:00, 21.65it/s, now=None]\u001b[A\n",
      "t:  25%|█████████████████▌                                                    | 6/24 [00:00<00:01, 14.25it/s, now=None]\u001b[A\n",
      "t:  33%|███████████████████████▎                                              | 8/24 [00:00<00:01, 14.05it/s, now=None]\u001b[A\n",
      "t:  46%|███████████████████████████████▋                                     | 11/24 [00:00<00:00, 17.07it/s, now=None]\u001b[A\n",
      "t:  54%|█████████████████████████████████████▍                               | 13/24 [00:00<00:00, 15.63it/s, now=None]\u001b[A\n",
      "t:  62%|███████████████████████████████████████████▏                         | 15/24 [00:00<00:00, 15.74it/s, now=None]\u001b[A\n",
      "t:  75%|███████████████████████████████████████████████████▊                 | 18/24 [00:01<00:00, 17.46it/s, now=None]\u001b[A\n",
      "t:  83%|█████████████████████████████████████████████████████████▌           | 20/24 [00:01<00:00, 16.48it/s, now=None]\u001b[A\n",
      "t:  92%|███████████████████████████████████████████████████████████████▎     | 22/24 [00:01<00:00, 16.95it/s, now=None]\u001b[A\n",
      "t:   9%|█████▉                                                              | 2/23 [1:28:22<00:01, 17.92it/s, now=None]\u001b[A"
     ]
    },
    {
     "name": "stdout",
     "output_type": "stream",
     "text": [
      "Moviepy - Done !\n",
      "Moviepy - video ready Resources/videos/training/flip/0008.mp4\n"
     ]
    },
    {
     "name": "stderr",
     "output_type": "stream",
     "text": [
      "t:   9%|█████▉                                                              | 2/23 [1:28:23<00:01, 17.92it/s, now=None]"
     ]
    },
    {
     "name": "stdout",
     "output_type": "stream",
     "text": [
      "Moviepy - Building video Resources/videos/training/flip/0008.mp4.\n",
      "Moviepy - Writing video Resources/videos/training/flip/0008.mp4\n",
      "\n"
     ]
    },
    {
     "name": "stderr",
     "output_type": "stream",
     "text": [
      "\n",
      "t:   0%|                                                                              | 0/24 [00:00<?, ?it/s, now=None]\u001b[A\n",
      "t:  12%|████████▊                                                             | 3/24 [00:00<00:00, 22.58it/s, now=None]\u001b[A\n",
      "t:  25%|█████████████████▌                                                    | 6/24 [00:00<00:00, 21.91it/s, now=None]\u001b[A\n",
      "t:  38%|██████████████████████████▎                                           | 9/24 [00:00<00:00, 20.58it/s, now=None]\u001b[A\n",
      "t:  50%|██████████████████████████████████▌                                  | 12/24 [00:00<00:00, 21.85it/s, now=None]\u001b[A\n",
      "t:  62%|███████████████████████████████████████████▏                         | 15/24 [00:00<00:00, 22.51it/s, now=None]\u001b[A\n",
      "t:  75%|███████████████████████████████████████████████████▊                 | 18/24 [00:00<00:00, 19.57it/s, now=None]\u001b[A\n",
      "t:  88%|████████████████████████████████████████████████████████████▍        | 21/24 [00:01<00:00, 18.99it/s, now=None]\u001b[A\n",
      "t:  96%|██████████████████████████████████████████████████████████████████▏  | 23/24 [00:01<00:00, 17.63it/s, now=None]\u001b[A\n",
      "t:   9%|█████▉                                                              | 2/23 [1:28:26<00:01, 17.92it/s, now=None]\u001b[A"
     ]
    },
    {
     "name": "stdout",
     "output_type": "stream",
     "text": [
      "Moviepy - Done !\n",
      "Moviepy - video ready Resources/videos/training/flip/0008.mp4\n"
     ]
    },
    {
     "name": "stderr",
     "output_type": "stream",
     "text": [
      "t:   9%|█████▉                                                              | 2/23 [1:28:27<00:01, 17.92it/s, now=None]"
     ]
    },
    {
     "name": "stdout",
     "output_type": "stream",
     "text": [
      "Moviepy - Building video Resources/videos/training/flip/0008.mp4.\n",
      "Moviepy - Writing video Resources/videos/training/flip/0008.mp4\n",
      "\n"
     ]
    },
    {
     "name": "stderr",
     "output_type": "stream",
     "text": [
      "\n",
      "t:   0%|                                                                              | 0/24 [00:00<?, ?it/s, now=None]\u001b[A\n",
      "t:  12%|████████▊                                                             | 3/24 [00:00<00:00, 23.97it/s, now=None]\u001b[A\n",
      "t:  25%|█████████████████▌                                                    | 6/24 [00:00<00:00, 22.28it/s, now=None]\u001b[A\n",
      "t:  38%|██████████████████████████▎                                           | 9/24 [00:00<00:00, 20.73it/s, now=None]\u001b[A\n",
      "t:  50%|██████████████████████████████████▌                                  | 12/24 [00:00<00:00, 21.97it/s, now=None]\u001b[A\n",
      "t:  62%|███████████████████████████████████████████▏                         | 15/24 [00:00<00:00, 21.51it/s, now=None]\u001b[A\n",
      "t:  75%|███████████████████████████████████████████████████▊                 | 18/24 [00:00<00:00, 19.43it/s, now=None]\u001b[A\n",
      "t:  88%|████████████████████████████████████████████████████████████▍        | 21/24 [00:00<00:00, 20.76it/s, now=None]\u001b[A\n",
      "t: 100%|█████████████████████████████████████████████████████████████████████| 24/24 [00:01<00:00, 21.67it/s, now=None]\u001b[A\n",
      "t:   9%|█████▉                                                              | 2/23 [1:28:30<00:01, 17.92it/s, now=None]\u001b[A"
     ]
    },
    {
     "name": "stdout",
     "output_type": "stream",
     "text": [
      "Moviepy - Done !\n",
      "Moviepy - video ready Resources/videos/training/flip/0008.mp4\n"
     ]
    },
    {
     "name": "stderr",
     "output_type": "stream",
     "text": [
      "t:   9%|█████▉                                                              | 2/23 [1:28:31<00:01, 17.92it/s, now=None]"
     ]
    },
    {
     "name": "stdout",
     "output_type": "stream",
     "text": [
      "Moviepy - Building video Resources/videos/training/flip/0008.mp4.\n",
      "Moviepy - Writing video Resources/videos/training/flip/0008.mp4\n",
      "\n"
     ]
    },
    {
     "name": "stderr",
     "output_type": "stream",
     "text": [
      "\n",
      "t:   0%|                                                                              | 0/24 [00:00<?, ?it/s, now=None]\u001b[A\n",
      "t:  12%|████████▊                                                             | 3/24 [00:00<00:00, 28.92it/s, now=None]\u001b[A\n",
      "t:  25%|█████████████████▌                                                    | 6/24 [00:00<00:00, 18.44it/s, now=None]\u001b[A\n",
      "t:  38%|██████████████████████████▎                                           | 9/24 [00:00<00:00, 20.59it/s, now=None]\u001b[A\n",
      "t:  50%|██████████████████████████████████▌                                  | 12/24 [00:00<00:00, 21.88it/s, now=None]\u001b[A\n",
      "t:  62%|███████████████████████████████████████████▏                         | 15/24 [00:00<00:00, 19.90it/s, now=None]\u001b[A\n",
      "t:  75%|███████████████████████████████████████████████████▊                 | 18/24 [00:00<00:00, 17.92it/s, now=None]\u001b[A\n",
      "t:  83%|█████████████████████████████████████████████████████████▌           | 20/24 [00:01<00:00, 16.81it/s, now=None]\u001b[A\n",
      "t:  92%|███████████████████████████████████████████████████████████████▎     | 22/24 [00:01<00:00, 16.61it/s, now=None]\u001b[A\n",
      "t: 100%|█████████████████████████████████████████████████████████████████████| 24/24 [00:01<00:00, 16.45it/s, now=None]\u001b[A\n",
      "t:   9%|█████▉                                                              | 2/23 [1:28:34<00:01, 17.92it/s, now=None]\u001b[A"
     ]
    },
    {
     "name": "stdout",
     "output_type": "stream",
     "text": [
      "Moviepy - Done !\n",
      "Moviepy - video ready Resources/videos/training/flip/0008.mp4\n"
     ]
    },
    {
     "name": "stderr",
     "output_type": "stream",
     "text": [
      "t:   9%|█████▉                                                              | 2/23 [1:28:35<00:01, 17.92it/s, now=None]"
     ]
    },
    {
     "name": "stdout",
     "output_type": "stream",
     "text": [
      "Moviepy - Building video Resources/videos/training/flip/0008.mp4.\n",
      "Moviepy - Writing video Resources/videos/training/flip/0008.mp4\n",
      "\n"
     ]
    },
    {
     "name": "stderr",
     "output_type": "stream",
     "text": [
      "\n",
      "t:   0%|                                                                              | 0/24 [00:00<?, ?it/s, now=None]\u001b[A\n",
      "t:  12%|████████▊                                                             | 3/24 [00:00<00:00, 26.79it/s, now=None]\u001b[A\n",
      "t:  25%|█████████████████▌                                                    | 6/24 [00:00<00:00, 19.10it/s, now=None]\u001b[A\n",
      "t:  38%|██████████████████████████▎                                           | 9/24 [00:00<00:00, 19.17it/s, now=None]\u001b[A\n",
      "t:  46%|███████████████████████████████▋                                     | 11/24 [00:00<00:00, 17.33it/s, now=None]\u001b[A\n",
      "t:  54%|█████████████████████████████████████▍                               | 13/24 [00:00<00:00, 16.24it/s, now=None]\u001b[A\n",
      "t:  62%|███████████████████████████████████████████▏                         | 15/24 [00:00<00:00, 16.61it/s, now=None]\u001b[A\n",
      "t:  71%|████████████████████████████████████████████████▉                    | 17/24 [00:00<00:00, 16.62it/s, now=None]\u001b[A\n",
      "t:  79%|██████████████████████████████████████████████████████▋              | 19/24 [00:01<00:00, 17.06it/s, now=None]\u001b[A\n",
      "t:  92%|███████████████████████████████████████████████████████████████▎     | 22/24 [00:01<00:00, 18.96it/s, now=None]\u001b[A\n",
      "t: 100%|█████████████████████████████████████████████████████████████████████| 24/24 [00:01<00:00, 17.99it/s, now=None]\u001b[A\n",
      "t:   9%|█████▉                                                              | 2/23 [1:28:38<00:01, 17.92it/s, now=None]\u001b[A"
     ]
    },
    {
     "name": "stdout",
     "output_type": "stream",
     "text": [
      "Moviepy - Done !\n",
      "Moviepy - video ready Resources/videos/training/flip/0008.mp4\n"
     ]
    },
    {
     "name": "stderr",
     "output_type": "stream",
     "text": [
      "t:   9%|█████▉                                                              | 2/23 [1:28:39<00:01, 17.92it/s, now=None]"
     ]
    },
    {
     "name": "stdout",
     "output_type": "stream",
     "text": [
      "Moviepy - Building video Resources/videos/training/flip/0008.mp4.\n",
      "Moviepy - Writing video Resources/videos/training/flip/0008.mp4\n",
      "\n"
     ]
    },
    {
     "name": "stderr",
     "output_type": "stream",
     "text": [
      "\n",
      "t:   0%|                                                                              | 0/24 [00:00<?, ?it/s, now=None]\u001b[A\n",
      "t:  12%|████████▊                                                             | 3/24 [00:00<00:00, 25.24it/s, now=None]\u001b[A\n",
      "t:  25%|█████████████████▌                                                    | 6/24 [00:00<00:00, 19.91it/s, now=None]\u001b[A\n",
      "t:  38%|██████████████████████████▎                                           | 9/24 [00:00<00:00, 18.72it/s, now=None]\u001b[A\n",
      "t:  46%|███████████████████████████████▋                                     | 11/24 [00:00<00:00, 17.76it/s, now=None]\u001b[A\n",
      "t:  54%|█████████████████████████████████████▍                               | 13/24 [00:00<00:00, 15.95it/s, now=None]\u001b[A\n",
      "t:  62%|███████████████████████████████████████████▏                         | 15/24 [00:00<00:00, 14.84it/s, now=None]\u001b[A\n",
      "t:  71%|████████████████████████████████████████████████▉                    | 17/24 [00:01<00:00, 14.15it/s, now=None]\u001b[A\n",
      "t:  83%|█████████████████████████████████████████████████████████▌           | 20/24 [00:01<00:00, 16.29it/s, now=None]\u001b[A\n",
      "t:  96%|██████████████████████████████████████████████████████████████████▏  | 23/24 [00:01<00:00, 17.83it/s, now=None]\u001b[A\n",
      "t:   9%|█████▉                                                              | 2/23 [1:28:42<00:01, 17.92it/s, now=None]\u001b[A"
     ]
    },
    {
     "name": "stdout",
     "output_type": "stream",
     "text": [
      "Moviepy - Done !\n",
      "Moviepy - video ready Resources/videos/training/flip/0008.mp4\n"
     ]
    },
    {
     "name": "stderr",
     "output_type": "stream",
     "text": [
      "t:   9%|█████▉                                                              | 2/23 [1:28:44<00:01, 17.92it/s, now=None]"
     ]
    },
    {
     "name": "stdout",
     "output_type": "stream",
     "text": [
      "Moviepy - Building video Resources/videos/training/flip/0008.mp4.\n",
      "Moviepy - Writing video Resources/videos/training/flip/0008.mp4\n",
      "\n"
     ]
    },
    {
     "name": "stderr",
     "output_type": "stream",
     "text": [
      "\n",
      "t:   0%|                                                                              | 0/24 [00:00<?, ?it/s, now=None]\u001b[A\n",
      "t:  12%|████████▊                                                             | 3/24 [00:00<00:00, 26.99it/s, now=None]\u001b[A\n",
      "t:  25%|█████████████████▌                                                    | 6/24 [00:00<00:00, 20.33it/s, now=None]\u001b[A\n",
      "t:  38%|██████████████████████████▎                                           | 9/24 [00:00<00:00, 21.94it/s, now=None]\u001b[A\n",
      "t:  50%|██████████████████████████████████▌                                  | 12/24 [00:00<00:00, 18.80it/s, now=None]\u001b[A\n",
      "t:  58%|████████████████████████████████████████▎                            | 14/24 [00:00<00:00, 16.95it/s, now=None]\u001b[A\n",
      "t:  67%|██████████████████████████████████████████████                       | 16/24 [00:00<00:00, 17.25it/s, now=None]\u001b[A\n",
      "t:  75%|███████████████████████████████████████████████████▊                 | 18/24 [00:00<00:00, 17.54it/s, now=None]\u001b[A\n",
      "t:  83%|█████████████████████████████████████████████████████████▌           | 20/24 [00:01<00:00, 17.09it/s, now=None]\u001b[A\n",
      "t:  96%|██████████████████████████████████████████████████████████████████▏  | 23/24 [00:01<00:00, 18.47it/s, now=None]\u001b[A\n",
      "t:   9%|█████▉                                                              | 2/23 [1:28:46<00:01, 17.92it/s, now=None]\u001b[A"
     ]
    },
    {
     "name": "stdout",
     "output_type": "stream",
     "text": [
      "Moviepy - Done !\n",
      "Moviepy - video ready Resources/videos/training/flip/0008.mp4\n"
     ]
    },
    {
     "name": "stderr",
     "output_type": "stream",
     "text": [
      "t:   9%|█████▉                                                              | 2/23 [1:28:48<00:01, 17.92it/s, now=None]"
     ]
    },
    {
     "name": "stdout",
     "output_type": "stream",
     "text": [
      "Moviepy - Building video Resources/videos/training/flip/0008.mp4.\n",
      "Moviepy - Writing video Resources/videos/training/flip/0008.mp4\n",
      "\n"
     ]
    },
    {
     "name": "stderr",
     "output_type": "stream",
     "text": [
      "\n",
      "t:   0%|                                                                              | 0/24 [00:00<?, ?it/s, now=None]\u001b[A\n",
      "t:  17%|███████████▋                                                          | 4/24 [00:00<00:00, 32.02it/s, now=None]\u001b[A\n",
      "t:  33%|███████████████████████▎                                              | 8/24 [00:00<00:00, 22.25it/s, now=None]\u001b[A\n",
      "t:  46%|███████████████████████████████▋                                     | 11/24 [00:00<00:00, 22.96it/s, now=None]\u001b[A\n",
      "t:  58%|████████████████████████████████████████▎                            | 14/24 [00:00<00:00, 21.38it/s, now=None]\u001b[A\n",
      "t:  71%|████████████████████████████████████████████████▉                    | 17/24 [00:00<00:00, 20.52it/s, now=None]\u001b[A\n",
      "t:  83%|█████████████████████████████████████████████████████████▌           | 20/24 [00:00<00:00, 20.80it/s, now=None]\u001b[A\n",
      "t:  96%|██████████████████████████████████████████████████████████████████▏  | 23/24 [00:01<00:00, 21.76it/s, now=None]\u001b[A\n",
      "t:   9%|█████▉                                                              | 2/23 [1:28:51<00:01, 17.92it/s, now=None]\u001b[A"
     ]
    },
    {
     "name": "stdout",
     "output_type": "stream",
     "text": [
      "Moviepy - Done !\n",
      "Moviepy - video ready Resources/videos/training/flip/0008.mp4\n"
     ]
    },
    {
     "name": "stderr",
     "output_type": "stream",
     "text": [
      "t:   9%|█████▉                                                              | 2/23 [1:28:52<00:01, 17.92it/s, now=None]"
     ]
    },
    {
     "name": "stdout",
     "output_type": "stream",
     "text": [
      "Moviepy - Building video Resources/videos/training/flip/0008.mp4.\n",
      "Moviepy - Writing video Resources/videos/training/flip/0008.mp4\n",
      "\n"
     ]
    },
    {
     "name": "stderr",
     "output_type": "stream",
     "text": [
      "\n",
      "t:   0%|                                                                              | 0/24 [00:00<?, ?it/s, now=None]\u001b[A\n",
      "t:  12%|████████▊                                                             | 3/24 [00:00<00:00, 29.36it/s, now=None]\u001b[A\n",
      "t:  25%|█████████████████▌                                                    | 6/24 [00:00<00:00, 22.33it/s, now=None]\u001b[A\n",
      "t:  38%|██████████████████████████▎                                           | 9/24 [00:00<00:00, 18.89it/s, now=None]\u001b[A\n",
      "t:  46%|███████████████████████████████▋                                     | 11/24 [00:00<00:00, 18.74it/s, now=None]\u001b[A\n",
      "t:  58%|████████████████████████████████████████▎                            | 14/24 [00:00<00:00, 20.47it/s, now=None]\u001b[A\n",
      "t:  71%|████████████████████████████████████████████████▉                    | 17/24 [00:00<00:00, 19.25it/s, now=None]\u001b[A\n",
      "t:  79%|██████████████████████████████████████████████████████▋              | 19/24 [00:00<00:00, 19.09it/s, now=None]\u001b[A\n",
      "t:  88%|████████████████████████████████████████████████████████████▍        | 21/24 [00:01<00:00, 18.13it/s, now=None]\u001b[A\n",
      "t:  96%|██████████████████████████████████████████████████████████████████▏  | 23/24 [00:01<00:00, 18.14it/s, now=None]\u001b[A\n",
      "t:   9%|█████▉                                                              | 2/23 [1:28:55<00:01, 17.92it/s, now=None]\u001b[A"
     ]
    },
    {
     "name": "stdout",
     "output_type": "stream",
     "text": [
      "Moviepy - Done !\n",
      "Moviepy - video ready Resources/videos/training/flip/0008.mp4\n"
     ]
    },
    {
     "name": "stderr",
     "output_type": "stream",
     "text": [
      "t:   9%|█████▉                                                              | 2/23 [1:28:56<00:01, 17.92it/s, now=None]"
     ]
    },
    {
     "name": "stdout",
     "output_type": "stream",
     "text": [
      "Moviepy - Building video Resources/videos/training/flip/0008.mp4.\n",
      "Moviepy - Writing video Resources/videos/training/flip/0008.mp4\n",
      "\n"
     ]
    },
    {
     "name": "stderr",
     "output_type": "stream",
     "text": [
      "\n",
      "t:   0%|                                                                              | 0/24 [00:00<?, ?it/s, now=None]\u001b[A\n",
      "t:  12%|████████▊                                                             | 3/24 [00:00<00:00, 29.39it/s, now=None]\u001b[A\n",
      "t:  25%|█████████████████▌                                                    | 6/24 [00:00<00:00, 19.78it/s, now=None]\u001b[A\n",
      "t:  38%|██████████████████████████▎                                           | 9/24 [00:00<00:00, 15.70it/s, now=None]\u001b[A\n",
      "t:  46%|███████████████████████████████▋                                     | 11/24 [00:00<00:00, 16.56it/s, now=None]\u001b[A\n",
      "t:  54%|█████████████████████████████████████▍                               | 13/24 [00:00<00:00, 17.10it/s, now=None]\u001b[A\n",
      "t:  62%|███████████████████████████████████████████▏                         | 15/24 [00:00<00:00, 16.68it/s, now=None]\u001b[A\n",
      "t:  75%|███████████████████████████████████████████████████▊                 | 18/24 [00:01<00:00, 18.26it/s, now=None]\u001b[A\n",
      "t:  83%|█████████████████████████████████████████████████████████▌           | 20/24 [00:01<00:00, 17.63it/s, now=None]\u001b[A\n",
      "t:  92%|███████████████████████████████████████████████████████████████▎     | 22/24 [00:01<00:00, 17.11it/s, now=None]\u001b[A\n",
      "t:   9%|█████▉                                                              | 2/23 [1:28:59<00:01, 17.92it/s, now=None]\u001b[A"
     ]
    },
    {
     "name": "stdout",
     "output_type": "stream",
     "text": [
      "Moviepy - Done !\n",
      "Moviepy - video ready Resources/videos/training/flip/0008.mp4\n"
     ]
    },
    {
     "name": "stderr",
     "output_type": "stream",
     "text": [
      "t:   9%|█████▉                                                              | 2/23 [1:29:00<00:01, 17.92it/s, now=None]"
     ]
    },
    {
     "name": "stdout",
     "output_type": "stream",
     "text": [
      "Moviepy - Building video Resources/videos/training/flip/0008.mp4.\n",
      "Moviepy - Writing video Resources/videos/training/flip/0008.mp4\n",
      "\n"
     ]
    },
    {
     "name": "stderr",
     "output_type": "stream",
     "text": [
      "\n",
      "t:   0%|                                                                              | 0/24 [00:00<?, ?it/s, now=None]\u001b[A\n",
      "t:  12%|████████▊                                                             | 3/24 [00:00<00:00, 28.57it/s, now=None]\u001b[A\n",
      "t:  25%|█████████████████▌                                                    | 6/24 [00:00<00:00, 22.15it/s, now=None]\u001b[A\n",
      "t:  38%|██████████████████████████▎                                           | 9/24 [00:00<00:00, 19.70it/s, now=None]\u001b[A\n",
      "t:  50%|██████████████████████████████████▌                                  | 12/24 [00:00<00:00, 20.33it/s, now=None]\u001b[A\n",
      "t:  62%|███████████████████████████████████████████▏                         | 15/24 [00:00<00:00, 19.24it/s, now=None]\u001b[A\n",
      "t:  71%|████████████████████████████████████████████████▉                    | 17/24 [00:00<00:00, 18.30it/s, now=None]\u001b[A\n",
      "t:  83%|█████████████████████████████████████████████████████████▌           | 20/24 [00:00<00:00, 19.94it/s, now=None]\u001b[A\n",
      "t:  96%|██████████████████████████████████████████████████████████████████▏  | 23/24 [00:01<00:00, 19.64it/s, now=None]\u001b[A\n",
      "t:   9%|█████▉                                                              | 2/23 [1:29:03<00:01, 17.92it/s, now=None]\u001b[A"
     ]
    },
    {
     "name": "stdout",
     "output_type": "stream",
     "text": [
      "Moviepy - Done !\n",
      "Moviepy - video ready Resources/videos/training/flip/0008.mp4\n"
     ]
    },
    {
     "name": "stderr",
     "output_type": "stream",
     "text": [
      "t:   9%|█████▉                                                              | 2/23 [1:29:04<00:01, 17.92it/s, now=None]"
     ]
    },
    {
     "name": "stdout",
     "output_type": "stream",
     "text": [
      "Moviepy - Building video Resources/videos/training/flip/0008.mp4.\n",
      "Moviepy - Writing video Resources/videos/training/flip/0008.mp4\n",
      "\n"
     ]
    },
    {
     "name": "stderr",
     "output_type": "stream",
     "text": [
      "\n",
      "t:   0%|                                                                              | 0/24 [00:00<?, ?it/s, now=None]\u001b[A\n",
      "t:  12%|████████▊                                                             | 3/24 [00:00<00:00, 29.80it/s, now=None]\u001b[A\n",
      "t:  25%|█████████████████▌                                                    | 6/24 [00:00<00:00, 21.01it/s, now=None]\u001b[A\n",
      "t:  38%|██████████████████████████▎                                           | 9/24 [00:00<00:00, 22.26it/s, now=None]\u001b[A\n",
      "t:  50%|██████████████████████████████████▌                                  | 12/24 [00:00<00:00, 19.33it/s, now=None]\u001b[A\n",
      "t:  62%|███████████████████████████████████████████▏                         | 15/24 [00:00<00:00, 18.57it/s, now=None]\u001b[A\n",
      "t:  75%|███████████████████████████████████████████████████▊                 | 18/24 [00:00<00:00, 20.12it/s, now=None]\u001b[A\n",
      "t:  88%|████████████████████████████████████████████████████████████▍        | 21/24 [00:01<00:00, 21.28it/s, now=None]\u001b[A\n",
      "t: 100%|█████████████████████████████████████████████████████████████████████| 24/24 [00:01<00:00, 19.27it/s, now=None]\u001b[A\n",
      "t:   9%|█████▉                                                              | 2/23 [1:29:07<00:01, 17.92it/s, now=None]\u001b[A"
     ]
    },
    {
     "name": "stdout",
     "output_type": "stream",
     "text": [
      "Moviepy - Done !\n",
      "Moviepy - video ready Resources/videos/training/flip/0008.mp4\n"
     ]
    },
    {
     "name": "stderr",
     "output_type": "stream",
     "text": [
      "t:   9%|█████▉                                                              | 2/23 [1:29:08<00:01, 17.92it/s, now=None]"
     ]
    },
    {
     "name": "stdout",
     "output_type": "stream",
     "text": [
      "Moviepy - Building video Resources/videos/training/flip/0008.mp4.\n",
      "Moviepy - Writing video Resources/videos/training/flip/0008.mp4\n",
      "\n"
     ]
    },
    {
     "name": "stderr",
     "output_type": "stream",
     "text": [
      "\n",
      "t:   0%|                                                                              | 0/24 [00:00<?, ?it/s, now=None]\u001b[A\n",
      "t:  12%|████████▊                                                             | 3/24 [00:00<00:00, 29.31it/s, now=None]\u001b[A\n",
      "t:  25%|█████████████████▌                                                    | 6/24 [00:00<00:00, 20.84it/s, now=None]\u001b[A\n",
      "t:  38%|██████████████████████████▎                                           | 9/24 [00:00<00:00, 20.30it/s, now=None]\u001b[A\n",
      "t:  50%|██████████████████████████████████▌                                  | 12/24 [00:00<00:00, 19.09it/s, now=None]\u001b[A\n",
      "t:  58%|████████████████████████████████████████▎                            | 14/24 [00:00<00:00, 18.84it/s, now=None]\u001b[A\n",
      "t:  67%|██████████████████████████████████████████████                       | 16/24 [00:00<00:00, 16.56it/s, now=None]\u001b[A\n",
      "t:  79%|██████████████████████████████████████████████████████▋              | 19/24 [00:00<00:00, 18.61it/s, now=None]\u001b[A\n",
      "t:  88%|████████████████████████████████████████████████████████████▍        | 21/24 [00:01<00:00, 18.77it/s, now=None]\u001b[A\n",
      "t:  96%|██████████████████████████████████████████████████████████████████▏  | 23/24 [00:01<00:00, 17.90it/s, now=None]\u001b[A\n",
      "t:   9%|█████▉                                                              | 2/23 [1:29:12<00:01, 17.92it/s, now=None]\u001b[A"
     ]
    },
    {
     "name": "stdout",
     "output_type": "stream",
     "text": [
      "Moviepy - Done !\n",
      "Moviepy - video ready Resources/videos/training/flip/0008.mp4\n"
     ]
    },
    {
     "name": "stderr",
     "output_type": "stream",
     "text": [
      "t:   9%|█████▉                                                              | 2/23 [1:29:13<00:01, 17.92it/s, now=None]"
     ]
    },
    {
     "name": "stdout",
     "output_type": "stream",
     "text": [
      "Moviepy - Building video Resources/videos/training/flip/0008.mp4.\n",
      "Moviepy - Writing video Resources/videos/training/flip/0008.mp4\n",
      "\n"
     ]
    },
    {
     "name": "stderr",
     "output_type": "stream",
     "text": [
      "\n",
      "t:   0%|                                                                              | 0/24 [00:00<?, ?it/s, now=None]\u001b[A\n",
      "t:  12%|████████▊                                                             | 3/24 [00:00<00:00, 26.25it/s, now=None]\u001b[A\n",
      "t:  25%|█████████████████▌                                                    | 6/24 [00:00<00:00, 23.09it/s, now=None]\u001b[A\n",
      "t:  38%|██████████████████████████▎                                           | 9/24 [00:00<00:00, 20.05it/s, now=None]\u001b[A\n",
      "t:  50%|██████████████████████████████████▌                                  | 12/24 [00:00<00:00, 18.28it/s, now=None]\u001b[A\n",
      "t:  58%|████████████████████████████████████████▎                            | 14/24 [00:00<00:00, 18.28it/s, now=None]\u001b[A\n",
      "t:  67%|██████████████████████████████████████████████                       | 16/24 [00:00<00:00, 17.58it/s, now=None]\u001b[A\n",
      "t:  75%|███████████████████████████████████████████████████▊                 | 18/24 [00:00<00:00, 16.81it/s, now=None]\u001b[A\n",
      "t:  88%|████████████████████████████████████████████████████████████▍        | 21/24 [00:01<00:00, 17.90it/s, now=None]\u001b[A\n",
      "t:  96%|██████████████████████████████████████████████████████████████████▏  | 23/24 [00:01<00:00, 16.72it/s, now=None]\u001b[A\n",
      "t:   9%|█████▉                                                              | 2/23 [1:29:16<00:01, 17.92it/s, now=None]\u001b[A"
     ]
    },
    {
     "name": "stdout",
     "output_type": "stream",
     "text": [
      "Moviepy - Done !\n",
      "Moviepy - video ready Resources/videos/training/flip/0008.mp4\n"
     ]
    },
    {
     "name": "stderr",
     "output_type": "stream",
     "text": [
      "t:   9%|█████▉                                                              | 2/23 [1:29:17<00:01, 17.92it/s, now=None]"
     ]
    },
    {
     "name": "stdout",
     "output_type": "stream",
     "text": [
      "Moviepy - Building video Resources/videos/training/flip/0008.mp4.\n",
      "Moviepy - Writing video Resources/videos/training/flip/0008.mp4\n",
      "\n"
     ]
    },
    {
     "name": "stderr",
     "output_type": "stream",
     "text": [
      "\n",
      "t:   0%|                                                                              | 0/24 [00:00<?, ?it/s, now=None]\u001b[A\n",
      "t:  12%|████████▊                                                             | 3/24 [00:00<00:00, 25.98it/s, now=None]\u001b[A\n",
      "t:  25%|█████████████████▌                                                    | 6/24 [00:00<00:00, 19.53it/s, now=None]\u001b[A\n",
      "t:  38%|██████████████████████████▎                                           | 9/24 [00:00<00:00, 21.45it/s, now=None]\u001b[A\n",
      "t:  50%|██████████████████████████████████▌                                  | 12/24 [00:00<00:00, 21.41it/s, now=None]\u001b[A\n",
      "t:  62%|███████████████████████████████████████████▏                         | 15/24 [00:00<00:00, 23.27it/s, now=None]\u001b[A\n",
      "t:  75%|███████████████████████████████████████████████████▊                 | 18/24 [00:00<00:00, 24.49it/s, now=None]\u001b[A\n",
      "t:  88%|████████████████████████████████████████████████████████████▍        | 21/24 [00:00<00:00, 21.61it/s, now=None]\u001b[A\n",
      "t: 100%|█████████████████████████████████████████████████████████████████████| 24/24 [00:01<00:00, 19.45it/s, now=None]\u001b[A\n",
      "t:   9%|█████▉                                                              | 2/23 [1:29:20<00:01, 17.92it/s, now=None]\u001b[A"
     ]
    },
    {
     "name": "stdout",
     "output_type": "stream",
     "text": [
      "Moviepy - Done !\n",
      "Moviepy - video ready Resources/videos/training/flip/0008.mp4\n"
     ]
    },
    {
     "name": "stderr",
     "output_type": "stream",
     "text": [
      "t:   9%|█████▉                                                              | 2/23 [1:29:21<00:01, 17.92it/s, now=None]"
     ]
    },
    {
     "name": "stdout",
     "output_type": "stream",
     "text": [
      "Moviepy - Building video Resources/videos/training/flip/0008.mp4.\n",
      "Moviepy - Writing video Resources/videos/training/flip/0008.mp4\n",
      "\n"
     ]
    },
    {
     "name": "stderr",
     "output_type": "stream",
     "text": [
      "\n",
      "t:   0%|                                                                              | 0/24 [00:00<?, ?it/s, now=None]\u001b[A\n",
      "t:  12%|████████▊                                                             | 3/24 [00:00<00:00, 24.56it/s, now=None]\u001b[A\n",
      "t:  25%|█████████████████▌                                                    | 6/24 [00:00<00:01, 17.70it/s, now=None]\u001b[A\n",
      "t:  33%|███████████████████████▎                                              | 8/24 [00:00<00:00, 17.84it/s, now=None]\u001b[A\n",
      "t:  46%|███████████████████████████████▋                                     | 11/24 [00:00<00:00, 19.19it/s, now=None]\u001b[A\n",
      "t:  54%|█████████████████████████████████████▍                               | 13/24 [00:00<00:00, 18.14it/s, now=None]\u001b[A\n",
      "t:  62%|███████████████████████████████████████████▏                         | 15/24 [00:00<00:00, 17.51it/s, now=None]\u001b[A\n",
      "t:  75%|███████████████████████████████████████████████████▊                 | 18/24 [00:00<00:00, 18.76it/s, now=None]\u001b[A\n",
      "t:  83%|█████████████████████████████████████████████████████████▌           | 20/24 [00:01<00:00, 17.91it/s, now=None]\u001b[A\n",
      "t:  96%|██████████████████████████████████████████████████████████████████▏  | 23/24 [00:01<00:00, 19.81it/s, now=None]\u001b[A\n",
      "t:   9%|█████▉                                                              | 2/23 [1:29:24<00:01, 17.92it/s, now=None]\u001b[A"
     ]
    },
    {
     "name": "stdout",
     "output_type": "stream",
     "text": [
      "Moviepy - Done !\n",
      "Moviepy - video ready Resources/videos/training/flip/0008.mp4\n"
     ]
    },
    {
     "name": "stderr",
     "output_type": "stream",
     "text": [
      "t:   9%|█████▉                                                              | 2/23 [1:29:25<00:01, 17.92it/s, now=None]"
     ]
    },
    {
     "name": "stdout",
     "output_type": "stream",
     "text": [
      "Moviepy - Building video Resources/videos/training/flip/0008.mp4.\n",
      "Moviepy - Writing video Resources/videos/training/flip/0008.mp4\n",
      "\n"
     ]
    },
    {
     "name": "stderr",
     "output_type": "stream",
     "text": [
      "\n",
      "t:   0%|                                                                              | 0/24 [00:00<?, ?it/s, now=None]\u001b[A\n",
      "t:  12%|████████▊                                                             | 3/24 [00:00<00:00, 27.57it/s, now=None]\u001b[A\n",
      "t:  25%|█████████████████▌                                                    | 6/24 [00:00<00:00, 19.27it/s, now=None]\u001b[A\n",
      "t:  38%|██████████████████████████▎                                           | 9/24 [00:00<00:00, 19.28it/s, now=None]\u001b[A\n",
      "t:  50%|██████████████████████████████████▌                                  | 12/24 [00:00<00:00, 17.82it/s, now=None]\u001b[A\n",
      "t:  58%|████████████████████████████████████████▎                            | 14/24 [00:00<00:00, 17.91it/s, now=None]\u001b[A\n",
      "t:  67%|██████████████████████████████████████████████                       | 16/24 [00:00<00:00, 17.35it/s, now=None]\u001b[A\n",
      "t:  75%|███████████████████████████████████████████████████▊                 | 18/24 [00:01<00:00, 16.32it/s, now=None]\u001b[A\n",
      "t:  83%|█████████████████████████████████████████████████████████▌           | 20/24 [00:01<00:00, 16.18it/s, now=None]\u001b[A\n",
      "t:  92%|███████████████████████████████████████████████████████████████▎     | 22/24 [00:01<00:00, 16.11it/s, now=None]\u001b[A\n",
      "t: 100%|█████████████████████████████████████████████████████████████████████| 24/24 [00:01<00:00, 16.73it/s, now=None]\u001b[A\n",
      "t:   9%|█████▉                                                              | 2/23 [1:29:28<00:01, 17.92it/s, now=None]\u001b[A"
     ]
    },
    {
     "name": "stdout",
     "output_type": "stream",
     "text": [
      "Moviepy - Done !\n",
      "Moviepy - video ready Resources/videos/training/flip/0008.mp4\n"
     ]
    },
    {
     "name": "stderr",
     "output_type": "stream",
     "text": [
      "t:   9%|█████▉                                                              | 2/23 [1:29:29<00:01, 17.92it/s, now=None]"
     ]
    },
    {
     "name": "stdout",
     "output_type": "stream",
     "text": [
      "Moviepy - Building video Resources/videos/training/flip/0008.mp4.\n",
      "Moviepy - Writing video Resources/videos/training/flip/0008.mp4\n",
      "\n"
     ]
    },
    {
     "name": "stderr",
     "output_type": "stream",
     "text": [
      "\n",
      "t:   0%|                                                                              | 0/24 [00:00<?, ?it/s, now=None]\u001b[A\n",
      "t:  17%|███████████▋                                                          | 4/24 [00:00<00:00, 30.65it/s, now=None]\u001b[A\n",
      "t:  33%|███████████████████████▎                                              | 8/24 [00:00<00:00, 25.93it/s, now=None]\u001b[A\n",
      "t:  46%|███████████████████████████████▋                                     | 11/24 [00:00<00:00, 25.03it/s, now=None]\u001b[A\n",
      "t:  58%|████████████████████████████████████████▎                            | 14/24 [00:00<00:00, 21.74it/s, now=None]\u001b[A\n",
      "t:  71%|████████████████████████████████████████████████▉                    | 17/24 [00:00<00:00, 20.75it/s, now=None]\u001b[A\n",
      "t:  83%|█████████████████████████████████████████████████████████▌           | 20/24 [00:00<00:00, 19.57it/s, now=None]\u001b[A\n",
      "t:  92%|███████████████████████████████████████████████████████████████▎     | 22/24 [00:01<00:00, 17.45it/s, now=None]\u001b[A\n",
      "t:   9%|█████▉                                                              | 2/23 [1:29:32<00:01, 17.92it/s, now=None]\u001b[A"
     ]
    },
    {
     "name": "stdout",
     "output_type": "stream",
     "text": [
      "Moviepy - Done !\n",
      "Moviepy - video ready Resources/videos/training/flip/0008.mp4\n"
     ]
    },
    {
     "name": "stderr",
     "output_type": "stream",
     "text": [
      "t:   9%|█████▉                                                              | 2/23 [1:29:34<00:01, 17.92it/s, now=None]"
     ]
    },
    {
     "name": "stdout",
     "output_type": "stream",
     "text": [
      "Moviepy - Building video Resources/videos/training/flip/0008.mp4.\n",
      "Moviepy - Writing video Resources/videos/training/flip/0008.mp4\n",
      "\n"
     ]
    },
    {
     "name": "stderr",
     "output_type": "stream",
     "text": [
      "\n",
      "t:   0%|                                                                              | 0/24 [00:00<?, ?it/s, now=None]\u001b[A\n",
      "t:  12%|████████▊                                                             | 3/24 [00:00<00:00, 29.67it/s, now=None]\u001b[A\n",
      "t:  25%|█████████████████▌                                                    | 6/24 [00:00<00:00, 21.10it/s, now=None]\u001b[A\n",
      "t:  38%|██████████████████████████▎                                           | 9/24 [00:00<00:00, 22.24it/s, now=None]\u001b[A\n",
      "t:  50%|██████████████████████████████████▌                                  | 12/24 [00:00<00:00, 22.93it/s, now=None]\u001b[A\n",
      "t:  62%|███████████████████████████████████████████▏                         | 15/24 [00:00<00:00, 20.61it/s, now=None]\u001b[A\n",
      "t:  75%|███████████████████████████████████████████████████▊                 | 18/24 [00:00<00:00, 19.37it/s, now=None]\u001b[A\n",
      "t:  83%|█████████████████████████████████████████████████████████▌           | 20/24 [00:00<00:00, 19.16it/s, now=None]\u001b[A\n",
      "t:  92%|███████████████████████████████████████████████████████████████▎     | 22/24 [00:01<00:00, 18.94it/s, now=None]\u001b[A\n",
      "t: 100%|█████████████████████████████████████████████████████████████████████| 24/24 [00:01<00:00, 17.33it/s, now=None]\u001b[A\n",
      "t:   9%|█████▉                                                              | 2/23 [1:29:36<00:01, 17.92it/s, now=None]\u001b[A"
     ]
    },
    {
     "name": "stdout",
     "output_type": "stream",
     "text": [
      "Moviepy - Done !\n",
      "Moviepy - video ready Resources/videos/training/flip/0008.mp4\n"
     ]
    },
    {
     "name": "stderr",
     "output_type": "stream",
     "text": [
      "t:   9%|█████▉                                                              | 2/23 [1:29:38<00:01, 17.92it/s, now=None]"
     ]
    },
    {
     "name": "stdout",
     "output_type": "stream",
     "text": [
      "Moviepy - Building video Resources/videos/training/flip/0009.mp4.\n",
      "Moviepy - Writing video Resources/videos/training/flip/0009.mp4\n",
      "\n"
     ]
    },
    {
     "name": "stderr",
     "output_type": "stream",
     "text": [
      "\n",
      "t:   0%|                                                                              | 0/21 [00:00<?, ?it/s, now=None]\u001b[A\n",
      "t:  14%|██████████                                                            | 3/21 [00:00<00:00, 28.94it/s, now=None]\u001b[A\n",
      "t:  29%|████████████████████                                                  | 6/21 [00:00<00:00, 24.97it/s, now=None]\u001b[A\n",
      "t:  43%|██████████████████████████████                                        | 9/21 [00:00<00:00, 24.45it/s, now=None]\u001b[A\n",
      "t:  57%|███████████████████████████████████████▍                             | 12/21 [00:00<00:00, 20.33it/s, now=None]\u001b[A\n",
      "t:  71%|█████████████████████████████████████████████████▎                   | 15/21 [00:00<00:00, 18.48it/s, now=None]\u001b[A\n",
      "t:  81%|███████████████████████████████████████████████████████▊             | 17/21 [00:00<00:00, 18.47it/s, now=None]\u001b[A\n",
      "t:  90%|██████████████████████████████████████████████████████████████▍      | 19/21 [00:00<00:00, 17.11it/s, now=None]\u001b[A\n",
      "t: 100%|█████████████████████████████████████████████████████████████████████| 21/21 [00:01<00:00, 16.71it/s, now=None]\u001b[A\n",
      "t:   9%|█████▉                                                              | 2/23 [1:29:41<00:01, 17.92it/s, now=None]\u001b[A"
     ]
    },
    {
     "name": "stdout",
     "output_type": "stream",
     "text": [
      "Moviepy - Done !\n",
      "Moviepy - video ready Resources/videos/training/flip/0009.mp4\n"
     ]
    },
    {
     "name": "stderr",
     "output_type": "stream",
     "text": [
      "t:   9%|█████▉                                                              | 2/23 [1:29:42<00:01, 17.92it/s, now=None]"
     ]
    },
    {
     "name": "stdout",
     "output_type": "stream",
     "text": [
      "Moviepy - Building video Resources/videos/training/flip/0009.mp4.\n",
      "Moviepy - Writing video Resources/videos/training/flip/0009.mp4\n",
      "\n"
     ]
    },
    {
     "name": "stderr",
     "output_type": "stream",
     "text": [
      "\n",
      "t:   0%|                                                                              | 0/21 [00:00<?, ?it/s, now=None]\u001b[A\n",
      "t:  14%|██████████                                                            | 3/21 [00:00<00:00, 27.89it/s, now=None]\u001b[A\n",
      "t:  29%|████████████████████                                                  | 6/21 [00:00<00:00, 20.61it/s, now=None]\u001b[A\n",
      "t:  43%|██████████████████████████████                                        | 9/21 [00:00<00:00, 20.97it/s, now=None]\u001b[A\n",
      "t:  57%|███████████████████████████████████████▍                             | 12/21 [00:00<00:00, 18.65it/s, now=None]\u001b[A\n",
      "t:  71%|█████████████████████████████████████████████████▎                   | 15/21 [00:00<00:00, 20.27it/s, now=None]\u001b[A\n",
      "t:  86%|███████████████████████████████████████████████████████████▏         | 18/21 [00:00<00:00, 19.41it/s, now=None]\u001b[A\n",
      "t:  95%|█████████████████████████████████████████████████████████████████▋   | 20/21 [00:01<00:00, 18.90it/s, now=None]\u001b[A\n",
      "t:   9%|█████▉                                                              | 2/23 [1:29:44<00:01, 17.92it/s, now=None]\u001b[A"
     ]
    },
    {
     "name": "stdout",
     "output_type": "stream",
     "text": [
      "Moviepy - Done !\n",
      "Moviepy - video ready Resources/videos/training/flip/0009.mp4\n"
     ]
    },
    {
     "name": "stderr",
     "output_type": "stream",
     "text": [
      "t:   9%|█████▉                                                              | 2/23 [1:29:45<00:01, 17.92it/s, now=None]"
     ]
    },
    {
     "name": "stdout",
     "output_type": "stream",
     "text": [
      "Moviepy - Building video Resources/videos/training/flip/0009.mp4.\n",
      "Moviepy - Writing video Resources/videos/training/flip/0009.mp4\n",
      "\n"
     ]
    },
    {
     "name": "stderr",
     "output_type": "stream",
     "text": [
      "\n",
      "t:   0%|                                                                              | 0/21 [00:00<?, ?it/s, now=None]\u001b[A\n",
      "t:  19%|█████████████▎                                                        | 4/21 [00:00<00:00, 28.19it/s, now=None]\u001b[A\n",
      "t:  33%|███████████████████████▎                                              | 7/21 [00:00<00:00, 25.04it/s, now=None]\u001b[A\n",
      "t:  48%|████████████████████████████████▊                                    | 10/21 [00:00<00:00, 23.31it/s, now=None]\u001b[A\n",
      "t:  62%|██████████████████████████████████████████▋                          | 13/21 [00:00<00:00, 19.91it/s, now=None]\u001b[A\n",
      "t:  76%|████████████████████████████████████████████████████▌                | 16/21 [00:00<00:00, 20.39it/s, now=None]\u001b[A\n",
      "t:  90%|██████████████████████████████████████████████████████████████▍      | 19/21 [00:00<00:00, 21.46it/s, now=None]\u001b[A\n",
      "t:   9%|█████▉                                                              | 2/23 [1:29:48<00:01, 17.92it/s, now=None]\u001b[A"
     ]
    },
    {
     "name": "stdout",
     "output_type": "stream",
     "text": [
      "Moviepy - Done !\n",
      "Moviepy - video ready Resources/videos/training/flip/0009.mp4\n"
     ]
    },
    {
     "name": "stderr",
     "output_type": "stream",
     "text": [
      "t:   9%|█████▉                                                              | 2/23 [1:29:49<00:01, 17.92it/s, now=None]"
     ]
    },
    {
     "name": "stdout",
     "output_type": "stream",
     "text": [
      "Moviepy - Building video Resources/videos/training/flip/0009.mp4.\n",
      "Moviepy - Writing video Resources/videos/training/flip/0009.mp4\n",
      "\n"
     ]
    },
    {
     "name": "stderr",
     "output_type": "stream",
     "text": [
      "\n",
      "t:   0%|                                                                              | 0/21 [00:00<?, ?it/s, now=None]\u001b[A\n",
      "t:  19%|█████████████▎                                                        | 4/21 [00:00<00:00, 31.14it/s, now=None]\u001b[A\n",
      "t:  38%|██████████████████████████▋                                           | 8/21 [00:00<00:00, 24.47it/s, now=None]\u001b[A\n",
      "t:  52%|████████████████████████████████████▏                                | 11/21 [00:00<00:00, 20.34it/s, now=None]\u001b[A\n",
      "t:  67%|██████████████████████████████████████████████                       | 14/21 [00:00<00:00, 18.34it/s, now=None]\u001b[A\n",
      "t:  76%|████████████████████████████████████████████████████▌                | 16/21 [00:00<00:00, 17.85it/s, now=None]\u001b[A\n",
      "t:  90%|██████████████████████████████████████████████████████████████▍      | 19/21 [00:00<00:00, 19.64it/s, now=None]\u001b[A\n",
      "t:   9%|█████▉                                                              | 2/23 [1:29:52<00:01, 17.92it/s, now=None]\u001b[A"
     ]
    },
    {
     "name": "stdout",
     "output_type": "stream",
     "text": [
      "Moviepy - Done !\n",
      "Moviepy - video ready Resources/videos/training/flip/0009.mp4\n"
     ]
    },
    {
     "name": "stderr",
     "output_type": "stream",
     "text": [
      "t:   9%|█████▉                                                              | 2/23 [1:29:53<00:01, 17.92it/s, now=None]"
     ]
    },
    {
     "name": "stdout",
     "output_type": "stream",
     "text": [
      "Moviepy - Building video Resources/videos/training/flip/0009.mp4.\n",
      "Moviepy - Writing video Resources/videos/training/flip/0009.mp4\n",
      "\n"
     ]
    },
    {
     "name": "stderr",
     "output_type": "stream",
     "text": [
      "\n",
      "t:   0%|                                                                              | 0/21 [00:00<?, ?it/s, now=None]\u001b[A\n",
      "t:  14%|██████████                                                            | 3/21 [00:00<00:00, 28.17it/s, now=None]\u001b[A\n",
      "t:  29%|████████████████████                                                  | 6/21 [00:00<00:00, 22.92it/s, now=None]\u001b[A\n",
      "t:  43%|██████████████████████████████                                        | 9/21 [00:00<00:00, 24.78it/s, now=None]\u001b[A\n",
      "t:  57%|███████████████████████████████████████▍                             | 12/21 [00:00<00:00, 21.32it/s, now=None]\u001b[A\n",
      "t:  71%|█████████████████████████████████████████████████▎                   | 15/21 [00:00<00:00, 19.57it/s, now=None]\u001b[A\n",
      "t:  86%|███████████████████████████████████████████████████████████▏         | 18/21 [00:00<00:00, 19.53it/s, now=None]\u001b[A\n",
      "t: 100%|█████████████████████████████████████████████████████████████████████| 21/21 [00:01<00:00, 18.31it/s, now=None]\u001b[A\n",
      "t:   9%|█████▉                                                              | 2/23 [1:29:56<00:01, 17.92it/s, now=None]\u001b[A"
     ]
    },
    {
     "name": "stdout",
     "output_type": "stream",
     "text": [
      "Moviepy - Done !\n",
      "Moviepy - video ready Resources/videos/training/flip/0009.mp4\n"
     ]
    },
    {
     "name": "stderr",
     "output_type": "stream",
     "text": [
      "t:   9%|█████▉                                                              | 2/23 [1:29:57<00:01, 17.92it/s, now=None]"
     ]
    },
    {
     "name": "stdout",
     "output_type": "stream",
     "text": [
      "Moviepy - Building video Resources/videos/training/flip/0009.mp4.\n",
      "Moviepy - Writing video Resources/videos/training/flip/0009.mp4\n",
      "\n"
     ]
    },
    {
     "name": "stderr",
     "output_type": "stream",
     "text": [
      "\n",
      "t:   0%|                                                                              | 0/21 [00:00<?, ?it/s, now=None]\u001b[A\n",
      "t:  14%|██████████                                                            | 3/21 [00:00<00:00, 27.84it/s, now=None]\u001b[A\n",
      "                                                                                                                       \u001b[A\n",
      "t:  19%|█████████████▎                                                        | 4/21 [01:00<01:50,  6.49s/it, now=None]\u001b[A\n",
      "t:  24%|████████████████▋                                                     | 5/21 [01:00<04:33, 17.10s/it, now=None]\u001b[A\n",
      "t:  33%|███████████████████████▎                                              | 7/21 [01:00<02:06,  9.03s/it, now=None]\u001b[A\n",
      "t:  48%|████████████████████████████████▊                                    | 10/21 [01:00<00:49,  4.50s/it, now=None]\u001b[A\n",
      "t:  62%|██████████████████████████████████████████▋                          | 13/21 [01:00<00:21,  2.64s/it, now=None]\u001b[A\n",
      "t:  76%|████████████████████████████████████████████████████▌                | 16/21 [01:00<00:08,  1.67s/it, now=None]\u001b[A\n",
      "t:  90%|██████████████████████████████████████████████████████████████▍      | 19/21 [01:00<00:02,  1.10s/it, now=None]\u001b[A\n",
      "                                                                                                                       \u001b[A"
     ]
    },
    {
     "name": "stdout",
     "output_type": "stream",
     "text": [
      "Moviepy - Done !\n",
      "Moviepy - video ready Resources/videos/training/flip/0009.mp4\n",
      "Moviepy - Building video Resources/videos/training/flip/0009.mp4.\n",
      "Moviepy - Writing video Resources/videos/training/flip/0009.mp4\n",
      "\n"
     ]
    },
    {
     "name": "stderr",
     "output_type": "stream",
     "text": [
      "                                                                                                                       \r"
     ]
    },
    {
     "name": "stdout",
     "output_type": "stream",
     "text": [
      "Moviepy - Done !\n",
      "Moviepy - video ready Resources/videos/training/flip/0009.mp4\n",
      "Moviepy - Building video Resources/videos/training/flip/0009.mp4.\n",
      "Moviepy - Writing video Resources/videos/training/flip/0009.mp4\n",
      "\n"
     ]
    },
    {
     "name": "stderr",
     "output_type": "stream",
     "text": [
      "                                                                                                                       \r"
     ]
    },
    {
     "name": "stdout",
     "output_type": "stream",
     "text": [
      "Moviepy - Done !\n",
      "Moviepy - video ready Resources/videos/training/flip/0009.mp4\n",
      "Moviepy - Building video Resources/videos/training/flip/0009.mp4.\n",
      "Moviepy - Writing video Resources/videos/training/flip/0009.mp4\n",
      "\n"
     ]
    },
    {
     "name": "stderr",
     "output_type": "stream",
     "text": [
      "                                                                                                                       \r"
     ]
    },
    {
     "name": "stdout",
     "output_type": "stream",
     "text": [
      "Moviepy - Done !\n",
      "Moviepy - video ready Resources/videos/training/flip/0009.mp4\n",
      "Moviepy - Building video Resources/videos/training/flip/0009.mp4.\n",
      "Moviepy - Writing video Resources/videos/training/flip/0009.mp4\n",
      "\n"
     ]
    },
    {
     "name": "stderr",
     "output_type": "stream",
     "text": [
      "                                                                                                                       \r"
     ]
    },
    {
     "name": "stdout",
     "output_type": "stream",
     "text": [
      "Moviepy - Done !\n",
      "Moviepy - video ready Resources/videos/training/flip/0009.mp4\n",
      "Moviepy - Building video Resources/videos/training/flip/0009.mp4.\n",
      "Moviepy - Writing video Resources/videos/training/flip/0009.mp4\n",
      "\n"
     ]
    },
    {
     "name": "stderr",
     "output_type": "stream",
     "text": [
      "                                                                                                                       \r"
     ]
    },
    {
     "name": "stdout",
     "output_type": "stream",
     "text": [
      "Moviepy - Done !\n",
      "Moviepy - video ready Resources/videos/training/flip/0009.mp4\n",
      "Moviepy - Building video Resources/videos/training/flip/0009.mp4.\n",
      "Moviepy - Writing video Resources/videos/training/flip/0009.mp4\n",
      "\n"
     ]
    },
    {
     "name": "stderr",
     "output_type": "stream",
     "text": [
      "                                                                                                                       \r"
     ]
    },
    {
     "name": "stdout",
     "output_type": "stream",
     "text": [
      "Moviepy - Done !\n",
      "Moviepy - video ready Resources/videos/training/flip/0009.mp4\n",
      "Moviepy - Building video Resources/videos/training/flip/0009.mp4.\n",
      "Moviepy - Writing video Resources/videos/training/flip/0009.mp4\n",
      "\n"
     ]
    },
    {
     "name": "stderr",
     "output_type": "stream",
     "text": [
      "                                                                                                                       \r"
     ]
    },
    {
     "name": "stdout",
     "output_type": "stream",
     "text": [
      "Moviepy - Done !\n",
      "Moviepy - video ready Resources/videos/training/flip/0009.mp4\n",
      "Moviepy - Building video Resources/videos/training/flip/0009.mp4.\n",
      "Moviepy - Writing video Resources/videos/training/flip/0009.mp4\n",
      "\n"
     ]
    },
    {
     "name": "stderr",
     "output_type": "stream",
     "text": [
      "                                                                                                                       \r"
     ]
    },
    {
     "name": "stdout",
     "output_type": "stream",
     "text": [
      "Moviepy - Done !\n",
      "Moviepy - video ready Resources/videos/training/flip/0009.mp4\n",
      "Moviepy - Building video Resources/videos/training/flip/0009.mp4.\n",
      "Moviepy - Writing video Resources/videos/training/flip/0009.mp4\n",
      "\n"
     ]
    },
    {
     "name": "stderr",
     "output_type": "stream",
     "text": [
      "                                                                                                                       \r"
     ]
    },
    {
     "name": "stdout",
     "output_type": "stream",
     "text": [
      "Moviepy - Done !\n",
      "Moviepy - video ready Resources/videos/training/flip/0009.mp4\n",
      "Moviepy - Building video Resources/videos/training/flip/0009.mp4.\n",
      "Moviepy - Writing video Resources/videos/training/flip/0009.mp4\n",
      "\n"
     ]
    },
    {
     "name": "stderr",
     "output_type": "stream",
     "text": [
      "                                                                                                                       \r"
     ]
    },
    {
     "name": "stdout",
     "output_type": "stream",
     "text": [
      "Moviepy - Done !\n",
      "Moviepy - video ready Resources/videos/training/flip/0009.mp4\n",
      "Moviepy - Building video Resources/videos/training/flip/0009.mp4.\n",
      "Moviepy - Writing video Resources/videos/training/flip/0009.mp4\n",
      "\n"
     ]
    },
    {
     "name": "stderr",
     "output_type": "stream",
     "text": [
      "                                                                                                                       \r"
     ]
    },
    {
     "name": "stdout",
     "output_type": "stream",
     "text": [
      "Moviepy - Done !\n",
      "Moviepy - video ready Resources/videos/training/flip/0009.mp4\n",
      "Moviepy - Building video Resources/videos/training/flip/0009.mp4.\n",
      "Moviepy - Writing video Resources/videos/training/flip/0009.mp4\n",
      "\n"
     ]
    },
    {
     "name": "stderr",
     "output_type": "stream",
     "text": [
      "                                                                                                                       \r"
     ]
    },
    {
     "name": "stdout",
     "output_type": "stream",
     "text": [
      "Moviepy - Done !\n",
      "Moviepy - video ready Resources/videos/training/flip/0009.mp4\n",
      "Moviepy - Building video Resources/videos/training/flip/0009.mp4.\n",
      "Moviepy - Writing video Resources/videos/training/flip/0009.mp4\n",
      "\n"
     ]
    },
    {
     "name": "stderr",
     "output_type": "stream",
     "text": [
      "                                                                                                                       \r"
     ]
    },
    {
     "name": "stdout",
     "output_type": "stream",
     "text": [
      "Moviepy - Done !\n",
      "Moviepy - video ready Resources/videos/training/flip/0009.mp4\n",
      "Moviepy - Building video Resources/videos/training/flip/0009.mp4.\n",
      "Moviepy - Writing video Resources/videos/training/flip/0009.mp4\n",
      "\n"
     ]
    },
    {
     "name": "stderr",
     "output_type": "stream",
     "text": [
      "                                                                                                                       \r"
     ]
    },
    {
     "name": "stdout",
     "output_type": "stream",
     "text": [
      "Moviepy - Done !\n",
      "Moviepy - video ready Resources/videos/training/flip/0009.mp4\n",
      "Moviepy - Building video Resources/videos/training/flip/0010.mp4.\n",
      "Moviepy - Writing video Resources/videos/training/flip/0010.mp4\n",
      "\n"
     ]
    },
    {
     "name": "stderr",
     "output_type": "stream",
     "text": [
      "                                                                                                                       \r"
     ]
    },
    {
     "name": "stdout",
     "output_type": "stream",
     "text": [
      "Moviepy - Done !\n",
      "Moviepy - video ready Resources/videos/training/flip/0010.mp4\n",
      "Moviepy - Building video Resources/videos/training/flip/0010.mp4.\n",
      "Moviepy - Writing video Resources/videos/training/flip/0010.mp4\n",
      "\n"
     ]
    },
    {
     "name": "stderr",
     "output_type": "stream",
     "text": [
      "                                                                                                                       \r"
     ]
    },
    {
     "name": "stdout",
     "output_type": "stream",
     "text": [
      "Moviepy - Done !\n",
      "Moviepy - video ready Resources/videos/training/flip/0010.mp4\n",
      "Moviepy - Building video Resources/videos/training/flip/0010.mp4.\n",
      "Moviepy - Writing video Resources/videos/training/flip/0010.mp4\n",
      "\n"
     ]
    },
    {
     "name": "stderr",
     "output_type": "stream",
     "text": [
      "                                                                                                                       \r"
     ]
    },
    {
     "name": "stdout",
     "output_type": "stream",
     "text": [
      "Moviepy - Done !\n",
      "Moviepy - video ready Resources/videos/training/flip/0010.mp4\n",
      "Moviepy - Building video Resources/videos/training/flip/0010.mp4.\n",
      "Moviepy - Writing video Resources/videos/training/flip/0010.mp4\n",
      "\n"
     ]
    },
    {
     "name": "stderr",
     "output_type": "stream",
     "text": [
      "                                                                                                                       \r"
     ]
    },
    {
     "name": "stdout",
     "output_type": "stream",
     "text": [
      "Moviepy - Done !\n",
      "Moviepy - video ready Resources/videos/training/flip/0010.mp4\n",
      "Moviepy - Building video Resources/videos/training/flip/0010.mp4.\n",
      "Moviepy - Writing video Resources/videos/training/flip/0010.mp4\n",
      "\n"
     ]
    },
    {
     "name": "stderr",
     "output_type": "stream",
     "text": [
      "                                                                                                                       \r"
     ]
    },
    {
     "name": "stdout",
     "output_type": "stream",
     "text": [
      "Moviepy - Done !\n",
      "Moviepy - video ready Resources/videos/training/flip/0010.mp4\n",
      "Moviepy - Building video Resources/videos/training/flip/0010.mp4.\n",
      "Moviepy - Writing video Resources/videos/training/flip/0010.mp4\n",
      "\n"
     ]
    },
    {
     "name": "stderr",
     "output_type": "stream",
     "text": [
      "                                                                                                                       \r"
     ]
    },
    {
     "name": "stdout",
     "output_type": "stream",
     "text": [
      "Moviepy - Done !\n",
      "Moviepy - video ready Resources/videos/training/flip/0010.mp4\n",
      "Moviepy - Building video Resources/videos/training/flip/0010.mp4.\n",
      "Moviepy - Writing video Resources/videos/training/flip/0010.mp4\n",
      "\n"
     ]
    },
    {
     "name": "stderr",
     "output_type": "stream",
     "text": [
      "                                                                                                                       \r"
     ]
    },
    {
     "name": "stdout",
     "output_type": "stream",
     "text": [
      "Moviepy - Done !\n",
      "Moviepy - video ready Resources/videos/training/flip/0010.mp4\n",
      "Moviepy - Building video Resources/videos/training/flip/0010.mp4.\n",
      "Moviepy - Writing video Resources/videos/training/flip/0010.mp4\n",
      "\n"
     ]
    },
    {
     "name": "stderr",
     "output_type": "stream",
     "text": [
      "                                                                                                                       \r"
     ]
    },
    {
     "name": "stdout",
     "output_type": "stream",
     "text": [
      "Moviepy - Done !\n",
      "Moviepy - video ready Resources/videos/training/flip/0010.mp4\n",
      "Moviepy - Building video Resources/videos/training/flip/0010.mp4.\n",
      "Moviepy - Writing video Resources/videos/training/flip/0010.mp4\n",
      "\n"
     ]
    },
    {
     "name": "stderr",
     "output_type": "stream",
     "text": [
      "                                                                                                                       \r"
     ]
    },
    {
     "name": "stdout",
     "output_type": "stream",
     "text": [
      "Moviepy - Done !\n",
      "Moviepy - video ready Resources/videos/training/flip/0010.mp4\n",
      "Moviepy - Building video Resources/videos/training/flip/0010.mp4.\n",
      "Moviepy - Writing video Resources/videos/training/flip/0010.mp4\n",
      "\n"
     ]
    },
    {
     "name": "stderr",
     "output_type": "stream",
     "text": [
      "                                                                                                                       \r"
     ]
    },
    {
     "name": "stdout",
     "output_type": "stream",
     "text": [
      "Moviepy - Done !\n",
      "Moviepy - video ready Resources/videos/training/flip/0010.mp4\n",
      "Moviepy - Building video Resources/videos/training/flip/0010.mp4.\n",
      "Moviepy - Writing video Resources/videos/training/flip/0010.mp4\n",
      "\n"
     ]
    },
    {
     "name": "stderr",
     "output_type": "stream",
     "text": [
      "                                                                                                                       \r"
     ]
    },
    {
     "name": "stdout",
     "output_type": "stream",
     "text": [
      "Moviepy - Done !\n",
      "Moviepy - video ready Resources/videos/training/flip/0010.mp4\n",
      "Moviepy - Building video Resources/videos/training/flip/0010.mp4.\n",
      "Moviepy - Writing video Resources/videos/training/flip/0010.mp4\n",
      "\n"
     ]
    },
    {
     "name": "stderr",
     "output_type": "stream",
     "text": [
      "                                                                                                                       \r"
     ]
    },
    {
     "name": "stdout",
     "output_type": "stream",
     "text": [
      "Moviepy - Done !\n",
      "Moviepy - video ready Resources/videos/training/flip/0010.mp4\n",
      "Moviepy - Building video Resources/videos/training/flip/0010.mp4.\n",
      "Moviepy - Writing video Resources/videos/training/flip/0010.mp4\n",
      "\n"
     ]
    },
    {
     "name": "stderr",
     "output_type": "stream",
     "text": [
      "                                                                                                                       \r"
     ]
    },
    {
     "name": "stdout",
     "output_type": "stream",
     "text": [
      "Moviepy - Done !\n",
      "Moviepy - video ready Resources/videos/training/flip/0010.mp4\n",
      "Moviepy - Building video Resources/videos/training/flip/0010.mp4.\n",
      "Moviepy - Writing video Resources/videos/training/flip/0010.mp4\n",
      "\n"
     ]
    },
    {
     "name": "stderr",
     "output_type": "stream",
     "text": [
      "                                                                                                                       \r"
     ]
    },
    {
     "name": "stdout",
     "output_type": "stream",
     "text": [
      "Moviepy - Done !\n",
      "Moviepy - video ready Resources/videos/training/flip/0010.mp4\n",
      "Moviepy - Building video Resources/videos/training/flip/0010.mp4.\n",
      "Moviepy - Writing video Resources/videos/training/flip/0010.mp4\n",
      "\n"
     ]
    },
    {
     "name": "stderr",
     "output_type": "stream",
     "text": [
      "                                                                                                                       \r"
     ]
    },
    {
     "name": "stdout",
     "output_type": "stream",
     "text": [
      "Moviepy - Done !\n",
      "Moviepy - video ready Resources/videos/training/flip/0010.mp4\n",
      "Moviepy - Building video Resources/videos/training/flip/0010.mp4.\n",
      "Moviepy - Writing video Resources/videos/training/flip/0010.mp4\n",
      "\n"
     ]
    },
    {
     "name": "stderr",
     "output_type": "stream",
     "text": [
      "                                                                                                                       \r"
     ]
    },
    {
     "name": "stdout",
     "output_type": "stream",
     "text": [
      "Moviepy - Done !\n",
      "Moviepy - video ready Resources/videos/training/flip/0010.mp4\n",
      "Moviepy - Building video Resources/videos/training/flip/0010.mp4.\n",
      "Moviepy - Writing video Resources/videos/training/flip/0010.mp4\n",
      "\n"
     ]
    },
    {
     "name": "stderr",
     "output_type": "stream",
     "text": [
      "                                                                                                                       \r"
     ]
    },
    {
     "name": "stdout",
     "output_type": "stream",
     "text": [
      "Moviepy - Done !\n",
      "Moviepy - video ready Resources/videos/training/flip/0010.mp4\n",
      "Moviepy - Building video Resources/videos/training/flip/0010.mp4.\n",
      "Moviepy - Writing video Resources/videos/training/flip/0010.mp4\n",
      "\n"
     ]
    },
    {
     "name": "stderr",
     "output_type": "stream",
     "text": [
      "                                                                                                                       \r"
     ]
    },
    {
     "name": "stdout",
     "output_type": "stream",
     "text": [
      "Moviepy - Done !\n",
      "Moviepy - video ready Resources/videos/training/flip/0010.mp4\n",
      "Moviepy - Building video Resources/videos/training/flip/0010.mp4.\n",
      "Moviepy - Writing video Resources/videos/training/flip/0010.mp4\n",
      "\n"
     ]
    },
    {
     "name": "stderr",
     "output_type": "stream",
     "text": [
      "                                                                                                                       \r"
     ]
    },
    {
     "name": "stdout",
     "output_type": "stream",
     "text": [
      "Moviepy - Done !\n",
      "Moviepy - video ready Resources/videos/training/flip/0010.mp4\n",
      "Moviepy - Building video Resources/videos/training/flip/0010.mp4.\n",
      "Moviepy - Writing video Resources/videos/training/flip/0010.mp4\n",
      "\n"
     ]
    },
    {
     "name": "stderr",
     "output_type": "stream",
     "text": [
      "                                                                                                                       \r"
     ]
    },
    {
     "name": "stdout",
     "output_type": "stream",
     "text": [
      "Moviepy - Done !\n",
      "Moviepy - video ready Resources/videos/training/flip/0010.mp4\n"
     ]
    }
   ],
   "source": [
    "sequence(train_flip,tn_flip)"
   ]
  },
  {
   "cell_type": "code",
   "execution_count": 87,
   "id": "2477a47c",
   "metadata": {},
   "outputs": [
    {
     "name": "stdout",
     "output_type": "stream",
     "text": [
      "Moviepy - Building video Resources/videos/training/notflip/0001.mp4.\n",
      "Moviepy - Writing video Resources/videos/training/notflip/0001.mp4\n",
      "\n"
     ]
    },
    {
     "name": "stderr",
     "output_type": "stream",
     "text": [
      "                                                                                                                       \r"
     ]
    },
    {
     "name": "stdout",
     "output_type": "stream",
     "text": [
      "Moviepy - Done !\n",
      "Moviepy - video ready Resources/videos/training/notflip/0001.mp4\n",
      "Moviepy - Building video Resources/videos/training/notflip/0001.mp4.\n",
      "Moviepy - Writing video Resources/videos/training/notflip/0001.mp4\n",
      "\n"
     ]
    },
    {
     "name": "stderr",
     "output_type": "stream",
     "text": [
      "                                                                                                                       \r"
     ]
    },
    {
     "name": "stdout",
     "output_type": "stream",
     "text": [
      "Moviepy - Done !\n",
      "Moviepy - video ready Resources/videos/training/notflip/0001.mp4\n",
      "Moviepy - Building video Resources/videos/training/notflip/0001.mp4.\n",
      "Moviepy - Writing video Resources/videos/training/notflip/0001.mp4\n",
      "\n"
     ]
    },
    {
     "name": "stderr",
     "output_type": "stream",
     "text": [
      "                                                                                                                       \r"
     ]
    },
    {
     "name": "stdout",
     "output_type": "stream",
     "text": [
      "Moviepy - Done !\n",
      "Moviepy - video ready Resources/videos/training/notflip/0001.mp4\n",
      "Moviepy - Building video Resources/videos/training/notflip/0001.mp4.\n",
      "Moviepy - Writing video Resources/videos/training/notflip/0001.mp4\n",
      "\n"
     ]
    },
    {
     "name": "stderr",
     "output_type": "stream",
     "text": [
      "                                                                                                                       \r"
     ]
    },
    {
     "name": "stdout",
     "output_type": "stream",
     "text": [
      "Moviepy - Done !\n",
      "Moviepy - video ready Resources/videos/training/notflip/0001.mp4\n",
      "Moviepy - Building video Resources/videos/training/notflip/0001.mp4.\n",
      "Moviepy - Writing video Resources/videos/training/notflip/0001.mp4\n",
      "\n"
     ]
    },
    {
     "name": "stderr",
     "output_type": "stream",
     "text": [
      "                                                                                                                       \r"
     ]
    },
    {
     "name": "stdout",
     "output_type": "stream",
     "text": [
      "Moviepy - Done !\n",
      "Moviepy - video ready Resources/videos/training/notflip/0001.mp4\n",
      "Moviepy - Building video Resources/videos/training/notflip/0001.mp4.\n",
      "Moviepy - Writing video Resources/videos/training/notflip/0001.mp4\n",
      "\n"
     ]
    },
    {
     "name": "stderr",
     "output_type": "stream",
     "text": [
      "                                                                                                                       \r"
     ]
    },
    {
     "name": "stdout",
     "output_type": "stream",
     "text": [
      "Moviepy - Done !\n",
      "Moviepy - video ready Resources/videos/training/notflip/0001.mp4\n",
      "Moviepy - Building video Resources/videos/training/notflip/0001.mp4.\n",
      "Moviepy - Writing video Resources/videos/training/notflip/0001.mp4\n",
      "\n"
     ]
    },
    {
     "name": "stderr",
     "output_type": "stream",
     "text": [
      "                                                                                                                       \r"
     ]
    },
    {
     "name": "stdout",
     "output_type": "stream",
     "text": [
      "Moviepy - Done !\n",
      "Moviepy - video ready Resources/videos/training/notflip/0001.mp4\n",
      "Moviepy - Building video Resources/videos/training/notflip/0001.mp4.\n",
      "Moviepy - Writing video Resources/videos/training/notflip/0001.mp4\n",
      "\n"
     ]
    },
    {
     "name": "stderr",
     "output_type": "stream",
     "text": [
      "                                                                                                                       \r"
     ]
    },
    {
     "name": "stdout",
     "output_type": "stream",
     "text": [
      "Moviepy - Done !\n",
      "Moviepy - video ready Resources/videos/training/notflip/0001.mp4\n",
      "Moviepy - Building video Resources/videos/training/notflip/0001.mp4.\n",
      "Moviepy - Writing video Resources/videos/training/notflip/0001.mp4\n",
      "\n"
     ]
    },
    {
     "name": "stderr",
     "output_type": "stream",
     "text": [
      "                                                                                                                       \r"
     ]
    },
    {
     "name": "stdout",
     "output_type": "stream",
     "text": [
      "Moviepy - Done !\n",
      "Moviepy - video ready Resources/videos/training/notflip/0001.mp4\n",
      "Moviepy - Building video Resources/videos/training/notflip/0001.mp4.\n",
      "Moviepy - Writing video Resources/videos/training/notflip/0001.mp4\n",
      "\n"
     ]
    },
    {
     "name": "stderr",
     "output_type": "stream",
     "text": [
      "                                                                                                                       \r"
     ]
    },
    {
     "name": "stdout",
     "output_type": "stream",
     "text": [
      "Moviepy - Done !\n",
      "Moviepy - video ready Resources/videos/training/notflip/0001.mp4\n",
      "Moviepy - Building video Resources/videos/training/notflip/0001.mp4.\n",
      "Moviepy - Writing video Resources/videos/training/notflip/0001.mp4\n",
      "\n"
     ]
    },
    {
     "name": "stderr",
     "output_type": "stream",
     "text": [
      "                                                                                                                       \r"
     ]
    },
    {
     "name": "stdout",
     "output_type": "stream",
     "text": [
      "Moviepy - Done !\n",
      "Moviepy - video ready Resources/videos/training/notflip/0001.mp4\n",
      "Moviepy - Building video Resources/videos/training/notflip/0001.mp4.\n",
      "Moviepy - Writing video Resources/videos/training/notflip/0001.mp4\n",
      "\n"
     ]
    },
    {
     "name": "stderr",
     "output_type": "stream",
     "text": [
      "                                                                                                                       \r"
     ]
    },
    {
     "name": "stdout",
     "output_type": "stream",
     "text": [
      "Moviepy - Done !\n",
      "Moviepy - video ready Resources/videos/training/notflip/0001.mp4\n",
      "Moviepy - Building video Resources/videos/training/notflip/0001.mp4.\n",
      "Moviepy - Writing video Resources/videos/training/notflip/0001.mp4\n",
      "\n"
     ]
    },
    {
     "name": "stderr",
     "output_type": "stream",
     "text": [
      "                                                                                                                       \r"
     ]
    },
    {
     "name": "stdout",
     "output_type": "stream",
     "text": [
      "Moviepy - Done !\n",
      "Moviepy - video ready Resources/videos/training/notflip/0001.mp4\n",
      "Moviepy - Building video Resources/videos/training/notflip/0001.mp4.\n",
      "Moviepy - Writing video Resources/videos/training/notflip/0001.mp4\n",
      "\n"
     ]
    },
    {
     "name": "stderr",
     "output_type": "stream",
     "text": [
      "                                                                                                                       \r"
     ]
    },
    {
     "name": "stdout",
     "output_type": "stream",
     "text": [
      "Moviepy - Done !\n",
      "Moviepy - video ready Resources/videos/training/notflip/0001.mp4\n",
      "Moviepy - Building video Resources/videos/training/notflip/0001.mp4.\n",
      "Moviepy - Writing video Resources/videos/training/notflip/0001.mp4\n",
      "\n"
     ]
    },
    {
     "name": "stderr",
     "output_type": "stream",
     "text": [
      "                                                                                                                       \r"
     ]
    },
    {
     "name": "stdout",
     "output_type": "stream",
     "text": [
      "Moviepy - Done !\n",
      "Moviepy - video ready Resources/videos/training/notflip/0001.mp4\n",
      "Moviepy - Building video Resources/videos/training/notflip/0001.mp4.\n",
      "Moviepy - Writing video Resources/videos/training/notflip/0001.mp4\n",
      "\n"
     ]
    },
    {
     "name": "stderr",
     "output_type": "stream",
     "text": [
      "                                                                                                                       \r"
     ]
    },
    {
     "name": "stdout",
     "output_type": "stream",
     "text": [
      "Moviepy - Done !\n",
      "Moviepy - video ready Resources/videos/training/notflip/0001.mp4\n",
      "Moviepy - Building video Resources/videos/training/notflip/0001.mp4.\n",
      "Moviepy - Writing video Resources/videos/training/notflip/0001.mp4\n",
      "\n"
     ]
    },
    {
     "name": "stderr",
     "output_type": "stream",
     "text": [
      "                                                                                                                       \r"
     ]
    },
    {
     "name": "stdout",
     "output_type": "stream",
     "text": [
      "Moviepy - Done !\n",
      "Moviepy - video ready Resources/videos/training/notflip/0001.mp4\n",
      "Moviepy - Building video Resources/videos/training/notflip/0001.mp4.\n",
      "Moviepy - Writing video Resources/videos/training/notflip/0001.mp4\n",
      "\n"
     ]
    },
    {
     "name": "stderr",
     "output_type": "stream",
     "text": [
      "                                                                                                                       \r"
     ]
    },
    {
     "name": "stdout",
     "output_type": "stream",
     "text": [
      "Moviepy - Done !\n",
      "Moviepy - video ready Resources/videos/training/notflip/0001.mp4\n",
      "Moviepy - Building video Resources/videos/training/notflip/0001.mp4.\n",
      "Moviepy - Writing video Resources/videos/training/notflip/0001.mp4\n",
      "\n"
     ]
    },
    {
     "name": "stderr",
     "output_type": "stream",
     "text": [
      "                                                                                                                       \r"
     ]
    },
    {
     "name": "stdout",
     "output_type": "stream",
     "text": [
      "Moviepy - Done !\n",
      "Moviepy - video ready Resources/videos/training/notflip/0001.mp4\n",
      "Moviepy - Building video Resources/videos/training/notflip/0001.mp4.\n",
      "Moviepy - Writing video Resources/videos/training/notflip/0001.mp4\n",
      "\n"
     ]
    },
    {
     "name": "stderr",
     "output_type": "stream",
     "text": [
      "                                                                                                                       \r"
     ]
    },
    {
     "name": "stdout",
     "output_type": "stream",
     "text": [
      "Moviepy - Done !\n",
      "Moviepy - video ready Resources/videos/training/notflip/0001.mp4\n",
      "Moviepy - Building video Resources/videos/training/notflip/0001.mp4.\n",
      "Moviepy - Writing video Resources/videos/training/notflip/0001.mp4\n",
      "\n"
     ]
    },
    {
     "name": "stderr",
     "output_type": "stream",
     "text": [
      "                                                                                                                       \r"
     ]
    },
    {
     "name": "stdout",
     "output_type": "stream",
     "text": [
      "Moviepy - Done !\n",
      "Moviepy - video ready Resources/videos/training/notflip/0001.mp4\n",
      "Moviepy - Building video Resources/videos/training/notflip/0001.mp4.\n",
      "Moviepy - Writing video Resources/videos/training/notflip/0001.mp4\n",
      "\n"
     ]
    },
    {
     "name": "stderr",
     "output_type": "stream",
     "text": [
      "                                                                                                                       \r"
     ]
    },
    {
     "name": "stdout",
     "output_type": "stream",
     "text": [
      "Moviepy - Done !\n",
      "Moviepy - video ready Resources/videos/training/notflip/0001.mp4\n",
      "Moviepy - Building video Resources/videos/training/notflip/0001.mp4.\n",
      "Moviepy - Writing video Resources/videos/training/notflip/0001.mp4\n",
      "\n"
     ]
    },
    {
     "name": "stderr",
     "output_type": "stream",
     "text": [
      "                                                                                                                       \r"
     ]
    },
    {
     "name": "stdout",
     "output_type": "stream",
     "text": [
      "Moviepy - Done !\n",
      "Moviepy - video ready Resources/videos/training/notflip/0001.mp4\n",
      "Moviepy - Building video Resources/videos/training/notflip/0001.mp4.\n",
      "Moviepy - Writing video Resources/videos/training/notflip/0001.mp4\n",
      "\n"
     ]
    },
    {
     "name": "stderr",
     "output_type": "stream",
     "text": [
      "                                                                                                                       \r"
     ]
    },
    {
     "name": "stdout",
     "output_type": "stream",
     "text": [
      "Moviepy - Done !\n",
      "Moviepy - video ready Resources/videos/training/notflip/0001.mp4\n",
      "Moviepy - Building video Resources/videos/training/notflip/0001.mp4.\n",
      "Moviepy - Writing video Resources/videos/training/notflip/0001.mp4\n",
      "\n"
     ]
    },
    {
     "name": "stderr",
     "output_type": "stream",
     "text": [
      "                                                                                                                       \r"
     ]
    },
    {
     "name": "stdout",
     "output_type": "stream",
     "text": [
      "Moviepy - Done !\n",
      "Moviepy - video ready Resources/videos/training/notflip/0001.mp4\n",
      "Moviepy - Building video Resources/videos/training/notflip/0002.mp4.\n",
      "Moviepy - Writing video Resources/videos/training/notflip/0002.mp4\n",
      "\n"
     ]
    },
    {
     "name": "stderr",
     "output_type": "stream",
     "text": [
      "                                                                                                                       \r"
     ]
    },
    {
     "name": "stdout",
     "output_type": "stream",
     "text": [
      "Moviepy - Done !\n",
      "Moviepy - video ready Resources/videos/training/notflip/0002.mp4\n",
      "Moviepy - Building video Resources/videos/training/notflip/0002.mp4.\n",
      "Moviepy - Writing video Resources/videos/training/notflip/0002.mp4\n",
      "\n"
     ]
    },
    {
     "name": "stderr",
     "output_type": "stream",
     "text": [
      "                                                                                                                       \r"
     ]
    },
    {
     "name": "stdout",
     "output_type": "stream",
     "text": [
      "Moviepy - Done !\n",
      "Moviepy - video ready Resources/videos/training/notflip/0002.mp4\n",
      "Moviepy - Building video Resources/videos/training/notflip/0002.mp4.\n",
      "Moviepy - Writing video Resources/videos/training/notflip/0002.mp4\n",
      "\n"
     ]
    },
    {
     "name": "stderr",
     "output_type": "stream",
     "text": [
      "                                                                                                                       \r"
     ]
    },
    {
     "name": "stdout",
     "output_type": "stream",
     "text": [
      "Moviepy - Done !\n",
      "Moviepy - video ready Resources/videos/training/notflip/0002.mp4\n",
      "Moviepy - Building video Resources/videos/training/notflip/0002.mp4.\n",
      "Moviepy - Writing video Resources/videos/training/notflip/0002.mp4\n",
      "\n"
     ]
    },
    {
     "name": "stderr",
     "output_type": "stream",
     "text": [
      "                                                                                                                       \r"
     ]
    },
    {
     "name": "stdout",
     "output_type": "stream",
     "text": [
      "Moviepy - Done !\n",
      "Moviepy - video ready Resources/videos/training/notflip/0002.mp4\n",
      "Moviepy - Building video Resources/videos/training/notflip/0002.mp4.\n",
      "Moviepy - Writing video Resources/videos/training/notflip/0002.mp4\n",
      "\n"
     ]
    },
    {
     "name": "stderr",
     "output_type": "stream",
     "text": [
      "                                                                                                                       \r"
     ]
    },
    {
     "name": "stdout",
     "output_type": "stream",
     "text": [
      "Moviepy - Done !\n",
      "Moviepy - video ready Resources/videos/training/notflip/0002.mp4\n",
      "Moviepy - Building video Resources/videos/training/notflip/0002.mp4.\n",
      "Moviepy - Writing video Resources/videos/training/notflip/0002.mp4\n",
      "\n"
     ]
    },
    {
     "name": "stderr",
     "output_type": "stream",
     "text": [
      "                                                                                                                       \r"
     ]
    },
    {
     "name": "stdout",
     "output_type": "stream",
     "text": [
      "Moviepy - Done !\n",
      "Moviepy - video ready Resources/videos/training/notflip/0002.mp4\n",
      "Moviepy - Building video Resources/videos/training/notflip/0002.mp4.\n",
      "Moviepy - Writing video Resources/videos/training/notflip/0002.mp4\n",
      "\n"
     ]
    },
    {
     "name": "stderr",
     "output_type": "stream",
     "text": [
      "                                                                                                                       \r"
     ]
    },
    {
     "name": "stdout",
     "output_type": "stream",
     "text": [
      "Moviepy - Done !\n",
      "Moviepy - video ready Resources/videos/training/notflip/0002.mp4\n",
      "Moviepy - Building video Resources/videos/training/notflip/0002.mp4.\n",
      "Moviepy - Writing video Resources/videos/training/notflip/0002.mp4\n",
      "\n"
     ]
    },
    {
     "name": "stderr",
     "output_type": "stream",
     "text": [
      "                                                                                                                       \r"
     ]
    },
    {
     "name": "stdout",
     "output_type": "stream",
     "text": [
      "Moviepy - Done !\n",
      "Moviepy - video ready Resources/videos/training/notflip/0002.mp4\n",
      "Moviepy - Building video Resources/videos/training/notflip/0002.mp4.\n",
      "Moviepy - Writing video Resources/videos/training/notflip/0002.mp4\n",
      "\n"
     ]
    },
    {
     "name": "stderr",
     "output_type": "stream",
     "text": [
      "                                                                                                                       \r"
     ]
    },
    {
     "name": "stdout",
     "output_type": "stream",
     "text": [
      "Moviepy - Done !\n",
      "Moviepy - video ready Resources/videos/training/notflip/0002.mp4\n",
      "Moviepy - Building video Resources/videos/training/notflip/0002.mp4.\n",
      "Moviepy - Writing video Resources/videos/training/notflip/0002.mp4\n",
      "\n"
     ]
    },
    {
     "name": "stderr",
     "output_type": "stream",
     "text": [
      "                                                                                                                       \r"
     ]
    },
    {
     "name": "stdout",
     "output_type": "stream",
     "text": [
      "Moviepy - Done !\n",
      "Moviepy - video ready Resources/videos/training/notflip/0002.mp4\n",
      "Moviepy - Building video Resources/videos/training/notflip/0002.mp4.\n",
      "Moviepy - Writing video Resources/videos/training/notflip/0002.mp4\n",
      "\n"
     ]
    },
    {
     "name": "stderr",
     "output_type": "stream",
     "text": [
      "                                                                                                                       \r"
     ]
    },
    {
     "name": "stdout",
     "output_type": "stream",
     "text": [
      "Moviepy - Done !\n",
      "Moviepy - video ready Resources/videos/training/notflip/0002.mp4\n",
      "Moviepy - Building video Resources/videos/training/notflip/0002.mp4.\n",
      "Moviepy - Writing video Resources/videos/training/notflip/0002.mp4\n",
      "\n"
     ]
    },
    {
     "name": "stderr",
     "output_type": "stream",
     "text": [
      "                                                                                                                       \r"
     ]
    },
    {
     "name": "stdout",
     "output_type": "stream",
     "text": [
      "Moviepy - Done !\n",
      "Moviepy - video ready Resources/videos/training/notflip/0002.mp4\n",
      "Moviepy - Building video Resources/videos/training/notflip/0002.mp4.\n",
      "Moviepy - Writing video Resources/videos/training/notflip/0002.mp4\n",
      "\n"
     ]
    },
    {
     "name": "stderr",
     "output_type": "stream",
     "text": [
      "                                                                                                                       \r"
     ]
    },
    {
     "name": "stdout",
     "output_type": "stream",
     "text": [
      "Moviepy - Done !\n",
      "Moviepy - video ready Resources/videos/training/notflip/0002.mp4\n",
      "Moviepy - Building video Resources/videos/training/notflip/0002.mp4.\n",
      "Moviepy - Writing video Resources/videos/training/notflip/0002.mp4\n",
      "\n"
     ]
    },
    {
     "name": "stderr",
     "output_type": "stream",
     "text": [
      "                                                                                                                       \r"
     ]
    },
    {
     "name": "stdout",
     "output_type": "stream",
     "text": [
      "Moviepy - Done !\n",
      "Moviepy - video ready Resources/videos/training/notflip/0002.mp4\n",
      "Moviepy - Building video Resources/videos/training/notflip/0002.mp4.\n",
      "Moviepy - Writing video Resources/videos/training/notflip/0002.mp4\n",
      "\n"
     ]
    },
    {
     "name": "stderr",
     "output_type": "stream",
     "text": [
      "                                                                                                                       \r"
     ]
    },
    {
     "name": "stdout",
     "output_type": "stream",
     "text": [
      "Moviepy - Done !\n",
      "Moviepy - video ready Resources/videos/training/notflip/0002.mp4\n",
      "Moviepy - Building video Resources/videos/training/notflip/0002.mp4.\n",
      "Moviepy - Writing video Resources/videos/training/notflip/0002.mp4\n",
      "\n"
     ]
    },
    {
     "name": "stderr",
     "output_type": "stream",
     "text": [
      "                                                                                                                       \r"
     ]
    },
    {
     "name": "stdout",
     "output_type": "stream",
     "text": [
      "Moviepy - Done !\n",
      "Moviepy - video ready Resources/videos/training/notflip/0002.mp4\n",
      "Moviepy - Building video Resources/videos/training/notflip/0002.mp4.\n",
      "Moviepy - Writing video Resources/videos/training/notflip/0002.mp4\n",
      "\n"
     ]
    },
    {
     "name": "stderr",
     "output_type": "stream",
     "text": [
      "                                                                                                                       \r"
     ]
    },
    {
     "name": "stdout",
     "output_type": "stream",
     "text": [
      "Moviepy - Done !\n",
      "Moviepy - video ready Resources/videos/training/notflip/0002.mp4\n",
      "Moviepy - Building video Resources/videos/training/notflip/0002.mp4.\n",
      "Moviepy - Writing video Resources/videos/training/notflip/0002.mp4\n",
      "\n"
     ]
    },
    {
     "name": "stderr",
     "output_type": "stream",
     "text": [
      "                                                                                                                       \r"
     ]
    },
    {
     "name": "stdout",
     "output_type": "stream",
     "text": [
      "Moviepy - Done !\n",
      "Moviepy - video ready Resources/videos/training/notflip/0002.mp4\n",
      "Moviepy - Building video Resources/videos/training/notflip/0002.mp4.\n",
      "Moviepy - Writing video Resources/videos/training/notflip/0002.mp4\n",
      "\n"
     ]
    },
    {
     "name": "stderr",
     "output_type": "stream",
     "text": [
      "                                                                                                                       \r"
     ]
    },
    {
     "name": "stdout",
     "output_type": "stream",
     "text": [
      "Moviepy - Done !\n",
      "Moviepy - video ready Resources/videos/training/notflip/0002.mp4\n",
      "Moviepy - Building video Resources/videos/training/notflip/0002.mp4.\n",
      "Moviepy - Writing video Resources/videos/training/notflip/0002.mp4\n",
      "\n"
     ]
    },
    {
     "name": "stderr",
     "output_type": "stream",
     "text": [
      "                                                                                                                       \r"
     ]
    },
    {
     "name": "stdout",
     "output_type": "stream",
     "text": [
      "Moviepy - Done !\n",
      "Moviepy - video ready Resources/videos/training/notflip/0002.mp4\n",
      "Moviepy - Building video Resources/videos/training/notflip/0002.mp4.\n",
      "Moviepy - Writing video Resources/videos/training/notflip/0002.mp4\n",
      "\n"
     ]
    },
    {
     "name": "stderr",
     "output_type": "stream",
     "text": [
      "                                                                                                                       \r"
     ]
    },
    {
     "name": "stdout",
     "output_type": "stream",
     "text": [
      "Moviepy - Done !\n",
      "Moviepy - video ready Resources/videos/training/notflip/0002.mp4\n",
      "Moviepy - Building video Resources/videos/training/notflip/0003.mp4.\n",
      "Moviepy - Writing video Resources/videos/training/notflip/0003.mp4\n",
      "\n"
     ]
    },
    {
     "name": "stderr",
     "output_type": "stream",
     "text": [
      "                                                                                                                       \r"
     ]
    },
    {
     "name": "stdout",
     "output_type": "stream",
     "text": [
      "Moviepy - Done !\n",
      "Moviepy - video ready Resources/videos/training/notflip/0003.mp4\n",
      "Moviepy - Building video Resources/videos/training/notflip/0003.mp4.\n",
      "Moviepy - Writing video Resources/videos/training/notflip/0003.mp4\n",
      "\n"
     ]
    },
    {
     "name": "stderr",
     "output_type": "stream",
     "text": [
      "                                                                                                                       \r"
     ]
    },
    {
     "name": "stdout",
     "output_type": "stream",
     "text": [
      "Moviepy - Done !\n",
      "Moviepy - video ready Resources/videos/training/notflip/0003.mp4\n",
      "Moviepy - Building video Resources/videos/training/notflip/0003.mp4.\n",
      "Moviepy - Writing video Resources/videos/training/notflip/0003.mp4\n",
      "\n"
     ]
    },
    {
     "name": "stderr",
     "output_type": "stream",
     "text": [
      "                                                                                                                       \r"
     ]
    },
    {
     "name": "stdout",
     "output_type": "stream",
     "text": [
      "Moviepy - Done !\n",
      "Moviepy - video ready Resources/videos/training/notflip/0003.mp4\n",
      "Moviepy - Building video Resources/videos/training/notflip/0003.mp4.\n",
      "Moviepy - Writing video Resources/videos/training/notflip/0003.mp4\n",
      "\n"
     ]
    },
    {
     "name": "stderr",
     "output_type": "stream",
     "text": [
      "                                                                                                                       \r"
     ]
    },
    {
     "name": "stdout",
     "output_type": "stream",
     "text": [
      "Moviepy - Done !\n",
      "Moviepy - video ready Resources/videos/training/notflip/0003.mp4\n",
      "Moviepy - Building video Resources/videos/training/notflip/0003.mp4.\n",
      "Moviepy - Writing video Resources/videos/training/notflip/0003.mp4\n",
      "\n"
     ]
    },
    {
     "name": "stderr",
     "output_type": "stream",
     "text": [
      "                                                                                                                       \r"
     ]
    },
    {
     "name": "stdout",
     "output_type": "stream",
     "text": [
      "Moviepy - Done !\n",
      "Moviepy - video ready Resources/videos/training/notflip/0003.mp4\n",
      "Moviepy - Building video Resources/videos/training/notflip/0003.mp4.\n",
      "Moviepy - Writing video Resources/videos/training/notflip/0003.mp4\n",
      "\n"
     ]
    },
    {
     "name": "stderr",
     "output_type": "stream",
     "text": [
      "                                                                                                                       \r"
     ]
    },
    {
     "name": "stdout",
     "output_type": "stream",
     "text": [
      "Moviepy - Done !\n",
      "Moviepy - video ready Resources/videos/training/notflip/0003.mp4\n",
      "Moviepy - Building video Resources/videos/training/notflip/0003.mp4.\n",
      "Moviepy - Writing video Resources/videos/training/notflip/0003.mp4\n",
      "\n"
     ]
    },
    {
     "name": "stderr",
     "output_type": "stream",
     "text": [
      "                                                                                                                       \r"
     ]
    },
    {
     "name": "stdout",
     "output_type": "stream",
     "text": [
      "Moviepy - Done !\n",
      "Moviepy - video ready Resources/videos/training/notflip/0003.mp4\n",
      "Moviepy - Building video Resources/videos/training/notflip/0003.mp4.\n",
      "Moviepy - Writing video Resources/videos/training/notflip/0003.mp4\n",
      "\n"
     ]
    },
    {
     "name": "stderr",
     "output_type": "stream",
     "text": [
      "                                                                                                                       \r"
     ]
    },
    {
     "name": "stdout",
     "output_type": "stream",
     "text": [
      "Moviepy - Done !\n",
      "Moviepy - video ready Resources/videos/training/notflip/0003.mp4\n",
      "Moviepy - Building video Resources/videos/training/notflip/0003.mp4.\n",
      "Moviepy - Writing video Resources/videos/training/notflip/0003.mp4\n",
      "\n"
     ]
    },
    {
     "name": "stderr",
     "output_type": "stream",
     "text": [
      "                                                                                                                       \r"
     ]
    },
    {
     "name": "stdout",
     "output_type": "stream",
     "text": [
      "Moviepy - Done !\n",
      "Moviepy - video ready Resources/videos/training/notflip/0003.mp4\n",
      "Moviepy - Building video Resources/videos/training/notflip/0003.mp4.\n",
      "Moviepy - Writing video Resources/videos/training/notflip/0003.mp4\n",
      "\n"
     ]
    },
    {
     "name": "stderr",
     "output_type": "stream",
     "text": [
      "                                                                                                                       \r"
     ]
    },
    {
     "name": "stdout",
     "output_type": "stream",
     "text": [
      "Moviepy - Done !\n",
      "Moviepy - video ready Resources/videos/training/notflip/0003.mp4\n",
      "Moviepy - Building video Resources/videos/training/notflip/0003.mp4.\n",
      "Moviepy - Writing video Resources/videos/training/notflip/0003.mp4\n",
      "\n"
     ]
    },
    {
     "name": "stderr",
     "output_type": "stream",
     "text": [
      "                                                                                                                       \r"
     ]
    },
    {
     "name": "stdout",
     "output_type": "stream",
     "text": [
      "Moviepy - Done !\n",
      "Moviepy - video ready Resources/videos/training/notflip/0003.mp4\n",
      "Moviepy - Building video Resources/videos/training/notflip/0003.mp4.\n",
      "Moviepy - Writing video Resources/videos/training/notflip/0003.mp4\n",
      "\n"
     ]
    },
    {
     "name": "stderr",
     "output_type": "stream",
     "text": [
      "                                                                                                                       \r"
     ]
    },
    {
     "name": "stdout",
     "output_type": "stream",
     "text": [
      "Moviepy - Done !\n",
      "Moviepy - video ready Resources/videos/training/notflip/0003.mp4\n",
      "Moviepy - Building video Resources/videos/training/notflip/0003.mp4.\n",
      "Moviepy - Writing video Resources/videos/training/notflip/0003.mp4\n",
      "\n"
     ]
    },
    {
     "name": "stderr",
     "output_type": "stream",
     "text": [
      "                                                                                                                       \r"
     ]
    },
    {
     "name": "stdout",
     "output_type": "stream",
     "text": [
      "Moviepy - Done !\n",
      "Moviepy - video ready Resources/videos/training/notflip/0003.mp4\n",
      "Moviepy - Building video Resources/videos/training/notflip/0003.mp4.\n",
      "Moviepy - Writing video Resources/videos/training/notflip/0003.mp4\n",
      "\n"
     ]
    },
    {
     "name": "stderr",
     "output_type": "stream",
     "text": [
      "                                                                                                                       \r"
     ]
    },
    {
     "name": "stdout",
     "output_type": "stream",
     "text": [
      "Moviepy - Done !\n",
      "Moviepy - video ready Resources/videos/training/notflip/0003.mp4\n",
      "Moviepy - Building video Resources/videos/training/notflip/0003.mp4.\n",
      "Moviepy - Writing video Resources/videos/training/notflip/0003.mp4\n",
      "\n"
     ]
    },
    {
     "name": "stderr",
     "output_type": "stream",
     "text": [
      "                                                                                                                       \r"
     ]
    },
    {
     "name": "stdout",
     "output_type": "stream",
     "text": [
      "Moviepy - Done !\n",
      "Moviepy - video ready Resources/videos/training/notflip/0003.mp4\n",
      "Moviepy - Building video Resources/videos/training/notflip/0003.mp4.\n",
      "Moviepy - Writing video Resources/videos/training/notflip/0003.mp4\n",
      "\n"
     ]
    },
    {
     "name": "stderr",
     "output_type": "stream",
     "text": [
      "                                                                                                                       \r"
     ]
    },
    {
     "name": "stdout",
     "output_type": "stream",
     "text": [
      "Moviepy - Done !\n",
      "Moviepy - video ready Resources/videos/training/notflip/0003.mp4\n",
      "Moviepy - Building video Resources/videos/training/notflip/0003.mp4.\n",
      "Moviepy - Writing video Resources/videos/training/notflip/0003.mp4\n",
      "\n"
     ]
    },
    {
     "name": "stderr",
     "output_type": "stream",
     "text": [
      "                                                                                                                       \r"
     ]
    },
    {
     "name": "stdout",
     "output_type": "stream",
     "text": [
      "Moviepy - Done !\n",
      "Moviepy - video ready Resources/videos/training/notflip/0003.mp4\n",
      "Moviepy - Building video Resources/videos/training/notflip/0003.mp4.\n",
      "Moviepy - Writing video Resources/videos/training/notflip/0003.mp4\n",
      "\n"
     ]
    },
    {
     "name": "stderr",
     "output_type": "stream",
     "text": [
      "                                                                                                                       \r"
     ]
    },
    {
     "name": "stdout",
     "output_type": "stream",
     "text": [
      "Moviepy - Done !\n",
      "Moviepy - video ready Resources/videos/training/notflip/0003.mp4\n",
      "Moviepy - Building video Resources/videos/training/notflip/0003.mp4.\n",
      "Moviepy - Writing video Resources/videos/training/notflip/0003.mp4\n",
      "\n"
     ]
    },
    {
     "name": "stderr",
     "output_type": "stream",
     "text": [
      "                                                                                                                       \r"
     ]
    },
    {
     "name": "stdout",
     "output_type": "stream",
     "text": [
      "Moviepy - Done !\n",
      "Moviepy - video ready Resources/videos/training/notflip/0003.mp4\n",
      "Moviepy - Building video Resources/videos/training/notflip/0003.mp4.\n",
      "Moviepy - Writing video Resources/videos/training/notflip/0003.mp4\n",
      "\n"
     ]
    },
    {
     "name": "stderr",
     "output_type": "stream",
     "text": [
      "                                                                                                                       \r"
     ]
    },
    {
     "name": "stdout",
     "output_type": "stream",
     "text": [
      "Moviepy - Done !\n",
      "Moviepy - video ready Resources/videos/training/notflip/0003.mp4\n",
      "Moviepy - Building video Resources/videos/training/notflip/0003.mp4.\n",
      "Moviepy - Writing video Resources/videos/training/notflip/0003.mp4\n",
      "\n"
     ]
    },
    {
     "name": "stderr",
     "output_type": "stream",
     "text": [
      "                                                                                                                       \r"
     ]
    },
    {
     "name": "stdout",
     "output_type": "stream",
     "text": [
      "Moviepy - Done !\n",
      "Moviepy - video ready Resources/videos/training/notflip/0003.mp4\n",
      "Moviepy - Building video Resources/videos/training/notflip/0003.mp4.\n",
      "Moviepy - Writing video Resources/videos/training/notflip/0003.mp4\n",
      "\n"
     ]
    },
    {
     "name": "stderr",
     "output_type": "stream",
     "text": [
      "                                                                                                                       \r"
     ]
    },
    {
     "name": "stdout",
     "output_type": "stream",
     "text": [
      "Moviepy - Done !\n",
      "Moviepy - video ready Resources/videos/training/notflip/0003.mp4\n",
      "Moviepy - Building video Resources/videos/training/notflip/0003.mp4.\n",
      "Moviepy - Writing video Resources/videos/training/notflip/0003.mp4\n",
      "\n"
     ]
    },
    {
     "name": "stderr",
     "output_type": "stream",
     "text": [
      "                                                                                                                       \r"
     ]
    },
    {
     "name": "stdout",
     "output_type": "stream",
     "text": [
      "Moviepy - Done !\n",
      "Moviepy - video ready Resources/videos/training/notflip/0003.mp4\n",
      "Moviepy - Building video Resources/videos/training/notflip/0003.mp4.\n",
      "Moviepy - Writing video Resources/videos/training/notflip/0003.mp4\n",
      "\n"
     ]
    },
    {
     "name": "stderr",
     "output_type": "stream",
     "text": [
      "                                                                                                                       \r"
     ]
    },
    {
     "name": "stdout",
     "output_type": "stream",
     "text": [
      "Moviepy - Done !\n",
      "Moviepy - video ready Resources/videos/training/notflip/0003.mp4\n",
      "Moviepy - Building video Resources/videos/training/notflip/0003.mp4.\n",
      "Moviepy - Writing video Resources/videos/training/notflip/0003.mp4\n",
      "\n"
     ]
    },
    {
     "name": "stderr",
     "output_type": "stream",
     "text": [
      "                                                                                                                       \r"
     ]
    },
    {
     "name": "stdout",
     "output_type": "stream",
     "text": [
      "Moviepy - Done !\n",
      "Moviepy - video ready Resources/videos/training/notflip/0003.mp4\n",
      "Moviepy - Building video Resources/videos/training/notflip/0004.mp4.\n",
      "Moviepy - Writing video Resources/videos/training/notflip/0004.mp4\n",
      "\n"
     ]
    },
    {
     "name": "stderr",
     "output_type": "stream",
     "text": [
      "                                                                                                                       \r"
     ]
    },
    {
     "name": "stdout",
     "output_type": "stream",
     "text": [
      "Moviepy - Done !\n",
      "Moviepy - video ready Resources/videos/training/notflip/0004.mp4\n",
      "Moviepy - Building video Resources/videos/training/notflip/0004.mp4.\n",
      "Moviepy - Writing video Resources/videos/training/notflip/0004.mp4\n",
      "\n"
     ]
    },
    {
     "name": "stderr",
     "output_type": "stream",
     "text": [
      "                                                                                                                       \r"
     ]
    },
    {
     "name": "stdout",
     "output_type": "stream",
     "text": [
      "Moviepy - Done !\n",
      "Moviepy - video ready Resources/videos/training/notflip/0004.mp4\n",
      "Moviepy - Building video Resources/videos/training/notflip/0004.mp4.\n",
      "Moviepy - Writing video Resources/videos/training/notflip/0004.mp4\n",
      "\n"
     ]
    },
    {
     "name": "stderr",
     "output_type": "stream",
     "text": [
      "                                                                                                                       \r"
     ]
    },
    {
     "name": "stdout",
     "output_type": "stream",
     "text": [
      "Moviepy - Done !\n",
      "Moviepy - video ready Resources/videos/training/notflip/0004.mp4\n",
      "Moviepy - Building video Resources/videos/training/notflip/0004.mp4.\n",
      "Moviepy - Writing video Resources/videos/training/notflip/0004.mp4\n",
      "\n"
     ]
    },
    {
     "name": "stderr",
     "output_type": "stream",
     "text": [
      "                                                                                                                       \r"
     ]
    },
    {
     "name": "stdout",
     "output_type": "stream",
     "text": [
      "Moviepy - Done !\n",
      "Moviepy - video ready Resources/videos/training/notflip/0004.mp4\n",
      "Moviepy - Building video Resources/videos/training/notflip/0004.mp4.\n",
      "Moviepy - Writing video Resources/videos/training/notflip/0004.mp4\n",
      "\n"
     ]
    },
    {
     "name": "stderr",
     "output_type": "stream",
     "text": [
      "                                                                                                                       \r"
     ]
    },
    {
     "name": "stdout",
     "output_type": "stream",
     "text": [
      "Moviepy - Done !\n",
      "Moviepy - video ready Resources/videos/training/notflip/0004.mp4\n",
      "Moviepy - Building video Resources/videos/training/notflip/0004.mp4.\n",
      "Moviepy - Writing video Resources/videos/training/notflip/0004.mp4\n",
      "\n"
     ]
    },
    {
     "name": "stderr",
     "output_type": "stream",
     "text": [
      "                                                                                                                       \r"
     ]
    },
    {
     "name": "stdout",
     "output_type": "stream",
     "text": [
      "Moviepy - Done !\n",
      "Moviepy - video ready Resources/videos/training/notflip/0004.mp4\n",
      "Moviepy - Building video Resources/videos/training/notflip/0004.mp4.\n",
      "Moviepy - Writing video Resources/videos/training/notflip/0004.mp4\n",
      "\n"
     ]
    },
    {
     "name": "stderr",
     "output_type": "stream",
     "text": [
      "                                                                                                                       \r"
     ]
    },
    {
     "name": "stdout",
     "output_type": "stream",
     "text": [
      "Moviepy - Done !\n",
      "Moviepy - video ready Resources/videos/training/notflip/0004.mp4\n",
      "Moviepy - Building video Resources/videos/training/notflip/0004.mp4.\n",
      "Moviepy - Writing video Resources/videos/training/notflip/0004.mp4\n",
      "\n"
     ]
    },
    {
     "name": "stderr",
     "output_type": "stream",
     "text": [
      "                                                                                                                       \r"
     ]
    },
    {
     "name": "stdout",
     "output_type": "stream",
     "text": [
      "Moviepy - Done !\n",
      "Moviepy - video ready Resources/videos/training/notflip/0004.mp4\n",
      "Moviepy - Building video Resources/videos/training/notflip/0004.mp4.\n",
      "Moviepy - Writing video Resources/videos/training/notflip/0004.mp4\n",
      "\n"
     ]
    },
    {
     "name": "stderr",
     "output_type": "stream",
     "text": [
      "                                                                                                                       \r"
     ]
    },
    {
     "name": "stdout",
     "output_type": "stream",
     "text": [
      "Moviepy - Done !\n",
      "Moviepy - video ready Resources/videos/training/notflip/0004.mp4\n",
      "Moviepy - Building video Resources/videos/training/notflip/0004.mp4.\n",
      "Moviepy - Writing video Resources/videos/training/notflip/0004.mp4\n",
      "\n"
     ]
    },
    {
     "name": "stderr",
     "output_type": "stream",
     "text": [
      "                                                                                                                       \r"
     ]
    },
    {
     "name": "stdout",
     "output_type": "stream",
     "text": [
      "Moviepy - Done !\n",
      "Moviepy - video ready Resources/videos/training/notflip/0004.mp4\n",
      "Moviepy - Building video Resources/videos/training/notflip/0004.mp4.\n",
      "Moviepy - Writing video Resources/videos/training/notflip/0004.mp4\n",
      "\n"
     ]
    },
    {
     "name": "stderr",
     "output_type": "stream",
     "text": [
      "                                                                                                                       \r"
     ]
    },
    {
     "name": "stdout",
     "output_type": "stream",
     "text": [
      "Moviepy - Done !\n",
      "Moviepy - video ready Resources/videos/training/notflip/0004.mp4\n",
      "Moviepy - Building video Resources/videos/training/notflip/0004.mp4.\n",
      "Moviepy - Writing video Resources/videos/training/notflip/0004.mp4\n",
      "\n"
     ]
    },
    {
     "name": "stderr",
     "output_type": "stream",
     "text": [
      "                                                                                                                       \r"
     ]
    },
    {
     "name": "stdout",
     "output_type": "stream",
     "text": [
      "Moviepy - Done !\n",
      "Moviepy - video ready Resources/videos/training/notflip/0004.mp4\n",
      "Moviepy - Building video Resources/videos/training/notflip/0004.mp4.\n",
      "Moviepy - Writing video Resources/videos/training/notflip/0004.mp4\n",
      "\n"
     ]
    },
    {
     "name": "stderr",
     "output_type": "stream",
     "text": [
      "                                                                                                                       \r"
     ]
    },
    {
     "name": "stdout",
     "output_type": "stream",
     "text": [
      "Moviepy - Done !\n",
      "Moviepy - video ready Resources/videos/training/notflip/0004.mp4\n",
      "Moviepy - Building video Resources/videos/training/notflip/0004.mp4.\n",
      "Moviepy - Writing video Resources/videos/training/notflip/0004.mp4\n",
      "\n"
     ]
    },
    {
     "name": "stderr",
     "output_type": "stream",
     "text": [
      "                                                                                                                       \r"
     ]
    },
    {
     "name": "stdout",
     "output_type": "stream",
     "text": [
      "Moviepy - Done !\n",
      "Moviepy - video ready Resources/videos/training/notflip/0004.mp4\n",
      "Moviepy - Building video Resources/videos/training/notflip/0004.mp4.\n",
      "Moviepy - Writing video Resources/videos/training/notflip/0004.mp4\n",
      "\n"
     ]
    },
    {
     "name": "stderr",
     "output_type": "stream",
     "text": [
      "                                                                                                                       \r"
     ]
    },
    {
     "name": "stdout",
     "output_type": "stream",
     "text": [
      "Moviepy - Done !\n",
      "Moviepy - video ready Resources/videos/training/notflip/0004.mp4\n",
      "Moviepy - Building video Resources/videos/training/notflip/0004.mp4.\n",
      "Moviepy - Writing video Resources/videos/training/notflip/0004.mp4\n",
      "\n"
     ]
    },
    {
     "name": "stderr",
     "output_type": "stream",
     "text": [
      "                                                                                                                       \r"
     ]
    },
    {
     "name": "stdout",
     "output_type": "stream",
     "text": [
      "Moviepy - Done !\n",
      "Moviepy - video ready Resources/videos/training/notflip/0004.mp4\n",
      "Moviepy - Building video Resources/videos/training/notflip/0004.mp4.\n",
      "Moviepy - Writing video Resources/videos/training/notflip/0004.mp4\n",
      "\n"
     ]
    },
    {
     "name": "stderr",
     "output_type": "stream",
     "text": [
      "                                                                                                                       \r"
     ]
    },
    {
     "name": "stdout",
     "output_type": "stream",
     "text": [
      "Moviepy - Done !\n",
      "Moviepy - video ready Resources/videos/training/notflip/0004.mp4\n",
      "Moviepy - Building video Resources/videos/training/notflip/0004.mp4.\n",
      "Moviepy - Writing video Resources/videos/training/notflip/0004.mp4\n",
      "\n"
     ]
    },
    {
     "name": "stderr",
     "output_type": "stream",
     "text": [
      "                                                                                                                       \r"
     ]
    },
    {
     "name": "stdout",
     "output_type": "stream",
     "text": [
      "Moviepy - Done !\n",
      "Moviepy - video ready Resources/videos/training/notflip/0004.mp4\n",
      "Moviepy - Building video Resources/videos/training/notflip/0004.mp4.\n",
      "Moviepy - Writing video Resources/videos/training/notflip/0004.mp4\n",
      "\n"
     ]
    },
    {
     "name": "stderr",
     "output_type": "stream",
     "text": [
      "                                                                                                                       \r"
     ]
    },
    {
     "name": "stdout",
     "output_type": "stream",
     "text": [
      "Moviepy - Done !\n",
      "Moviepy - video ready Resources/videos/training/notflip/0004.mp4\n",
      "Moviepy - Building video Resources/videos/training/notflip/0004.mp4.\n",
      "Moviepy - Writing video Resources/videos/training/notflip/0004.mp4\n",
      "\n"
     ]
    },
    {
     "name": "stderr",
     "output_type": "stream",
     "text": [
      "                                                                                                                       \r"
     ]
    },
    {
     "name": "stdout",
     "output_type": "stream",
     "text": [
      "Moviepy - Done !\n",
      "Moviepy - video ready Resources/videos/training/notflip/0004.mp4\n",
      "Moviepy - Building video Resources/videos/training/notflip/0004.mp4.\n",
      "Moviepy - Writing video Resources/videos/training/notflip/0004.mp4\n",
      "\n"
     ]
    },
    {
     "name": "stderr",
     "output_type": "stream",
     "text": [
      "                                                                                                                       \r"
     ]
    },
    {
     "name": "stdout",
     "output_type": "stream",
     "text": [
      "Moviepy - Done !\n",
      "Moviepy - video ready Resources/videos/training/notflip/0004.mp4\n",
      "Moviepy - Building video Resources/videos/training/notflip/0004.mp4.\n",
      "Moviepy - Writing video Resources/videos/training/notflip/0004.mp4\n",
      "\n"
     ]
    },
    {
     "name": "stderr",
     "output_type": "stream",
     "text": [
      "                                                                                                                       \r"
     ]
    },
    {
     "name": "stdout",
     "output_type": "stream",
     "text": [
      "Moviepy - Done !\n",
      "Moviepy - video ready Resources/videos/training/notflip/0004.mp4\n",
      "Moviepy - Building video Resources/videos/training/notflip/0004.mp4.\n",
      "Moviepy - Writing video Resources/videos/training/notflip/0004.mp4\n",
      "\n"
     ]
    },
    {
     "name": "stderr",
     "output_type": "stream",
     "text": [
      "                                                                                                                       \r"
     ]
    },
    {
     "name": "stdout",
     "output_type": "stream",
     "text": [
      "Moviepy - Done !\n",
      "Moviepy - video ready Resources/videos/training/notflip/0004.mp4\n",
      "Moviepy - Building video Resources/videos/training/notflip/0004.mp4.\n",
      "Moviepy - Writing video Resources/videos/training/notflip/0004.mp4\n",
      "\n"
     ]
    },
    {
     "name": "stderr",
     "output_type": "stream",
     "text": [
      "                                                                                                                       \r"
     ]
    },
    {
     "name": "stdout",
     "output_type": "stream",
     "text": [
      "Moviepy - Done !\n",
      "Moviepy - video ready Resources/videos/training/notflip/0004.mp4\n",
      "Moviepy - Building video Resources/videos/training/notflip/0004.mp4.\n",
      "Moviepy - Writing video Resources/videos/training/notflip/0004.mp4\n",
      "\n"
     ]
    },
    {
     "name": "stderr",
     "output_type": "stream",
     "text": [
      "                                                                                                                       \r"
     ]
    },
    {
     "name": "stdout",
     "output_type": "stream",
     "text": [
      "Moviepy - Done !\n",
      "Moviepy - video ready Resources/videos/training/notflip/0004.mp4\n",
      "Moviepy - Building video Resources/videos/training/notflip/0005.mp4.\n",
      "Moviepy - Writing video Resources/videos/training/notflip/0005.mp4\n",
      "\n"
     ]
    },
    {
     "name": "stderr",
     "output_type": "stream",
     "text": [
      "                                                                                                                       \r"
     ]
    },
    {
     "name": "stdout",
     "output_type": "stream",
     "text": [
      "Moviepy - Done !\n",
      "Moviepy - video ready Resources/videos/training/notflip/0005.mp4\n",
      "Moviepy - Building video Resources/videos/training/notflip/0005.mp4.\n",
      "Moviepy - Writing video Resources/videos/training/notflip/0005.mp4\n",
      "\n"
     ]
    },
    {
     "name": "stderr",
     "output_type": "stream",
     "text": [
      "                                                                                                                       \r"
     ]
    },
    {
     "name": "stdout",
     "output_type": "stream",
     "text": [
      "Moviepy - Done !\n",
      "Moviepy - video ready Resources/videos/training/notflip/0005.mp4\n",
      "Moviepy - Building video Resources/videos/training/notflip/0005.mp4.\n",
      "Moviepy - Writing video Resources/videos/training/notflip/0005.mp4\n",
      "\n"
     ]
    },
    {
     "name": "stderr",
     "output_type": "stream",
     "text": [
      "                                                                                                                       \r"
     ]
    },
    {
     "name": "stdout",
     "output_type": "stream",
     "text": [
      "Moviepy - Done !\n",
      "Moviepy - video ready Resources/videos/training/notflip/0005.mp4\n",
      "Moviepy - Building video Resources/videos/training/notflip/0005.mp4.\n",
      "Moviepy - Writing video Resources/videos/training/notflip/0005.mp4\n",
      "\n"
     ]
    },
    {
     "name": "stderr",
     "output_type": "stream",
     "text": [
      "                                                                                                                       \r"
     ]
    },
    {
     "name": "stdout",
     "output_type": "stream",
     "text": [
      "Moviepy - Done !\n",
      "Moviepy - video ready Resources/videos/training/notflip/0005.mp4\n",
      "Moviepy - Building video Resources/videos/training/notflip/0005.mp4.\n",
      "Moviepy - Writing video Resources/videos/training/notflip/0005.mp4\n",
      "\n"
     ]
    },
    {
     "name": "stderr",
     "output_type": "stream",
     "text": [
      "                                                                                                                       \r"
     ]
    },
    {
     "name": "stdout",
     "output_type": "stream",
     "text": [
      "Moviepy - Done !\n",
      "Moviepy - video ready Resources/videos/training/notflip/0005.mp4\n",
      "Moviepy - Building video Resources/videos/training/notflip/0005.mp4.\n",
      "Moviepy - Writing video Resources/videos/training/notflip/0005.mp4\n",
      "\n"
     ]
    },
    {
     "name": "stderr",
     "output_type": "stream",
     "text": [
      "                                                                                                                       \r"
     ]
    },
    {
     "name": "stdout",
     "output_type": "stream",
     "text": [
      "Moviepy - Done !\n",
      "Moviepy - video ready Resources/videos/training/notflip/0005.mp4\n",
      "Moviepy - Building video Resources/videos/training/notflip/0005.mp4.\n",
      "Moviepy - Writing video Resources/videos/training/notflip/0005.mp4\n",
      "\n"
     ]
    },
    {
     "name": "stderr",
     "output_type": "stream",
     "text": [
      "                                                                                                                       \r"
     ]
    },
    {
     "name": "stdout",
     "output_type": "stream",
     "text": [
      "Moviepy - Done !\n",
      "Moviepy - video ready Resources/videos/training/notflip/0005.mp4\n",
      "Moviepy - Building video Resources/videos/training/notflip/0005.mp4.\n",
      "Moviepy - Writing video Resources/videos/training/notflip/0005.mp4\n",
      "\n"
     ]
    },
    {
     "name": "stderr",
     "output_type": "stream",
     "text": [
      "                                                                                                                       \r"
     ]
    },
    {
     "name": "stdout",
     "output_type": "stream",
     "text": [
      "Moviepy - Done !\n",
      "Moviepy - video ready Resources/videos/training/notflip/0005.mp4\n",
      "Moviepy - Building video Resources/videos/training/notflip/0005.mp4.\n",
      "Moviepy - Writing video Resources/videos/training/notflip/0005.mp4\n",
      "\n"
     ]
    },
    {
     "name": "stderr",
     "output_type": "stream",
     "text": [
      "                                                                                                                       \r"
     ]
    },
    {
     "name": "stdout",
     "output_type": "stream",
     "text": [
      "Moviepy - Done !\n",
      "Moviepy - video ready Resources/videos/training/notflip/0005.mp4\n",
      "Moviepy - Building video Resources/videos/training/notflip/0005.mp4.\n",
      "Moviepy - Writing video Resources/videos/training/notflip/0005.mp4\n",
      "\n"
     ]
    },
    {
     "name": "stderr",
     "output_type": "stream",
     "text": [
      "                                                                                                                       \r"
     ]
    },
    {
     "name": "stdout",
     "output_type": "stream",
     "text": [
      "Moviepy - Done !\n",
      "Moviepy - video ready Resources/videos/training/notflip/0005.mp4\n",
      "Moviepy - Building video Resources/videos/training/notflip/0005.mp4.\n",
      "Moviepy - Writing video Resources/videos/training/notflip/0005.mp4\n",
      "\n"
     ]
    },
    {
     "name": "stderr",
     "output_type": "stream",
     "text": [
      "                                                                                                                       \r"
     ]
    },
    {
     "name": "stdout",
     "output_type": "stream",
     "text": [
      "Moviepy - Done !\n",
      "Moviepy - video ready Resources/videos/training/notflip/0005.mp4\n",
      "Moviepy - Building video Resources/videos/training/notflip/0005.mp4.\n",
      "Moviepy - Writing video Resources/videos/training/notflip/0005.mp4\n",
      "\n"
     ]
    },
    {
     "name": "stderr",
     "output_type": "stream",
     "text": [
      "                                                                                                                       \r"
     ]
    },
    {
     "name": "stdout",
     "output_type": "stream",
     "text": [
      "Moviepy - Done !\n",
      "Moviepy - video ready Resources/videos/training/notflip/0005.mp4\n",
      "Moviepy - Building video Resources/videos/training/notflip/0005.mp4.\n",
      "Moviepy - Writing video Resources/videos/training/notflip/0005.mp4\n",
      "\n"
     ]
    },
    {
     "name": "stderr",
     "output_type": "stream",
     "text": [
      "                                                                                                                       \r"
     ]
    },
    {
     "name": "stdout",
     "output_type": "stream",
     "text": [
      "Moviepy - Done !\n",
      "Moviepy - video ready Resources/videos/training/notflip/0005.mp4\n",
      "Moviepy - Building video Resources/videos/training/notflip/0005.mp4.\n",
      "Moviepy - Writing video Resources/videos/training/notflip/0005.mp4\n",
      "\n"
     ]
    },
    {
     "name": "stderr",
     "output_type": "stream",
     "text": [
      "                                                                                                                       \r"
     ]
    },
    {
     "name": "stdout",
     "output_type": "stream",
     "text": [
      "Moviepy - Done !\n",
      "Moviepy - video ready Resources/videos/training/notflip/0005.mp4\n",
      "Moviepy - Building video Resources/videos/training/notflip/0005.mp4.\n",
      "Moviepy - Writing video Resources/videos/training/notflip/0005.mp4\n",
      "\n"
     ]
    },
    {
     "name": "stderr",
     "output_type": "stream",
     "text": [
      "                                                                                                                       \r"
     ]
    },
    {
     "name": "stdout",
     "output_type": "stream",
     "text": [
      "Moviepy - Done !\n",
      "Moviepy - video ready Resources/videos/training/notflip/0005.mp4\n",
      "Moviepy - Building video Resources/videos/training/notflip/0005.mp4.\n",
      "Moviepy - Writing video Resources/videos/training/notflip/0005.mp4\n",
      "\n"
     ]
    },
    {
     "name": "stderr",
     "output_type": "stream",
     "text": [
      "                                                                                                                       \r"
     ]
    },
    {
     "name": "stdout",
     "output_type": "stream",
     "text": [
      "Moviepy - Done !\n",
      "Moviepy - video ready Resources/videos/training/notflip/0005.mp4\n",
      "Moviepy - Building video Resources/videos/training/notflip/0005.mp4.\n",
      "Moviepy - Writing video Resources/videos/training/notflip/0005.mp4\n",
      "\n"
     ]
    },
    {
     "name": "stderr",
     "output_type": "stream",
     "text": [
      "                                                                                                                       \r"
     ]
    },
    {
     "name": "stdout",
     "output_type": "stream",
     "text": [
      "Moviepy - Done !\n",
      "Moviepy - video ready Resources/videos/training/notflip/0005.mp4\n",
      "Moviepy - Building video Resources/videos/training/notflip/0005.mp4.\n",
      "Moviepy - Writing video Resources/videos/training/notflip/0005.mp4\n",
      "\n"
     ]
    },
    {
     "name": "stderr",
     "output_type": "stream",
     "text": [
      "                                                                                                                       \r"
     ]
    },
    {
     "name": "stdout",
     "output_type": "stream",
     "text": [
      "Moviepy - Done !\n",
      "Moviepy - video ready Resources/videos/training/notflip/0005.mp4\n",
      "Moviepy - Building video Resources/videos/training/notflip/0005.mp4.\n",
      "Moviepy - Writing video Resources/videos/training/notflip/0005.mp4\n",
      "\n"
     ]
    },
    {
     "name": "stderr",
     "output_type": "stream",
     "text": [
      "                                                                                                                       \r"
     ]
    },
    {
     "name": "stdout",
     "output_type": "stream",
     "text": [
      "Moviepy - Done !\n",
      "Moviepy - video ready Resources/videos/training/notflip/0005.mp4\n",
      "Moviepy - Building video Resources/videos/training/notflip/0005.mp4.\n",
      "Moviepy - Writing video Resources/videos/training/notflip/0005.mp4\n",
      "\n"
     ]
    },
    {
     "name": "stderr",
     "output_type": "stream",
     "text": [
      "                                                                                                                       \r"
     ]
    },
    {
     "name": "stdout",
     "output_type": "stream",
     "text": [
      "Moviepy - Done !\n",
      "Moviepy - video ready Resources/videos/training/notflip/0005.mp4\n",
      "Moviepy - Building video Resources/videos/training/notflip/0005.mp4.\n",
      "Moviepy - Writing video Resources/videos/training/notflip/0005.mp4\n",
      "\n"
     ]
    },
    {
     "name": "stderr",
     "output_type": "stream",
     "text": [
      "                                                                                                                       \r"
     ]
    },
    {
     "name": "stdout",
     "output_type": "stream",
     "text": [
      "Moviepy - Done !\n",
      "Moviepy - video ready Resources/videos/training/notflip/0005.mp4\n",
      "Moviepy - Building video Resources/videos/training/notflip/0005.mp4.\n",
      "Moviepy - Writing video Resources/videos/training/notflip/0005.mp4\n",
      "\n"
     ]
    },
    {
     "name": "stderr",
     "output_type": "stream",
     "text": [
      "                                                                                                                       \r"
     ]
    },
    {
     "name": "stdout",
     "output_type": "stream",
     "text": [
      "Moviepy - Done !\n",
      "Moviepy - video ready Resources/videos/training/notflip/0005.mp4\n",
      "Moviepy - Building video Resources/videos/training/notflip/0005.mp4.\n",
      "Moviepy - Writing video Resources/videos/training/notflip/0005.mp4\n",
      "\n"
     ]
    },
    {
     "name": "stderr",
     "output_type": "stream",
     "text": [
      "                                                                                                                       \r"
     ]
    },
    {
     "name": "stdout",
     "output_type": "stream",
     "text": [
      "Moviepy - Done !\n",
      "Moviepy - video ready Resources/videos/training/notflip/0005.mp4\n",
      "Moviepy - Building video Resources/videos/training/notflip/0005.mp4.\n",
      "Moviepy - Writing video Resources/videos/training/notflip/0005.mp4\n",
      "\n"
     ]
    },
    {
     "name": "stderr",
     "output_type": "stream",
     "text": [
      "                                                                                                                       \r"
     ]
    },
    {
     "name": "stdout",
     "output_type": "stream",
     "text": [
      "Moviepy - Done !\n",
      "Moviepy - video ready Resources/videos/training/notflip/0005.mp4\n",
      "Moviepy - Building video Resources/videos/training/notflip/0006.mp4.\n",
      "Moviepy - Writing video Resources/videos/training/notflip/0006.mp4\n",
      "\n"
     ]
    },
    {
     "name": "stderr",
     "output_type": "stream",
     "text": [
      "                                                                                                                       \r"
     ]
    },
    {
     "name": "stdout",
     "output_type": "stream",
     "text": [
      "Moviepy - Done !\n",
      "Moviepy - video ready Resources/videos/training/notflip/0006.mp4\n",
      "Moviepy - Building video Resources/videos/training/notflip/0006.mp4.\n",
      "Moviepy - Writing video Resources/videos/training/notflip/0006.mp4\n",
      "\n"
     ]
    },
    {
     "name": "stderr",
     "output_type": "stream",
     "text": [
      "                                                                                                                       \r"
     ]
    },
    {
     "name": "stdout",
     "output_type": "stream",
     "text": [
      "Moviepy - Done !\n",
      "Moviepy - video ready Resources/videos/training/notflip/0006.mp4\n",
      "Moviepy - Building video Resources/videos/training/notflip/0006.mp4.\n",
      "Moviepy - Writing video Resources/videos/training/notflip/0006.mp4\n",
      "\n"
     ]
    },
    {
     "name": "stderr",
     "output_type": "stream",
     "text": [
      "                                                                                                                       \r"
     ]
    },
    {
     "name": "stdout",
     "output_type": "stream",
     "text": [
      "Moviepy - Done !\n",
      "Moviepy - video ready Resources/videos/training/notflip/0006.mp4\n",
      "Moviepy - Building video Resources/videos/training/notflip/0006.mp4.\n",
      "Moviepy - Writing video Resources/videos/training/notflip/0006.mp4\n",
      "\n"
     ]
    },
    {
     "name": "stderr",
     "output_type": "stream",
     "text": [
      "                                                                                                                       \r"
     ]
    },
    {
     "name": "stdout",
     "output_type": "stream",
     "text": [
      "Moviepy - Done !\n",
      "Moviepy - video ready Resources/videos/training/notflip/0006.mp4\n",
      "Moviepy - Building video Resources/videos/training/notflip/0006.mp4.\n",
      "Moviepy - Writing video Resources/videos/training/notflip/0006.mp4\n",
      "\n"
     ]
    },
    {
     "name": "stderr",
     "output_type": "stream",
     "text": [
      "                                                                                                                       \r"
     ]
    },
    {
     "name": "stdout",
     "output_type": "stream",
     "text": [
      "Moviepy - Done !\n",
      "Moviepy - video ready Resources/videos/training/notflip/0006.mp4\n",
      "Moviepy - Building video Resources/videos/training/notflip/0006.mp4.\n",
      "Moviepy - Writing video Resources/videos/training/notflip/0006.mp4\n",
      "\n"
     ]
    },
    {
     "name": "stderr",
     "output_type": "stream",
     "text": [
      "                                                                                                                       \r"
     ]
    },
    {
     "name": "stdout",
     "output_type": "stream",
     "text": [
      "Moviepy - Done !\n",
      "Moviepy - video ready Resources/videos/training/notflip/0006.mp4\n",
      "Moviepy - Building video Resources/videos/training/notflip/0006.mp4.\n",
      "Moviepy - Writing video Resources/videos/training/notflip/0006.mp4\n",
      "\n"
     ]
    },
    {
     "name": "stderr",
     "output_type": "stream",
     "text": [
      "                                                                                                                       \r"
     ]
    },
    {
     "name": "stdout",
     "output_type": "stream",
     "text": [
      "Moviepy - Done !\n",
      "Moviepy - video ready Resources/videos/training/notflip/0006.mp4\n",
      "Moviepy - Building video Resources/videos/training/notflip/0006.mp4.\n",
      "Moviepy - Writing video Resources/videos/training/notflip/0006.mp4\n",
      "\n"
     ]
    },
    {
     "name": "stderr",
     "output_type": "stream",
     "text": [
      "                                                                                                                       \r"
     ]
    },
    {
     "name": "stdout",
     "output_type": "stream",
     "text": [
      "Moviepy - Done !\n",
      "Moviepy - video ready Resources/videos/training/notflip/0006.mp4\n",
      "Moviepy - Building video Resources/videos/training/notflip/0006.mp4.\n",
      "Moviepy - Writing video Resources/videos/training/notflip/0006.mp4\n",
      "\n"
     ]
    },
    {
     "name": "stderr",
     "output_type": "stream",
     "text": [
      "                                                                                                                       \r"
     ]
    },
    {
     "name": "stdout",
     "output_type": "stream",
     "text": [
      "Moviepy - Done !\n",
      "Moviepy - video ready Resources/videos/training/notflip/0006.mp4\n",
      "Moviepy - Building video Resources/videos/training/notflip/0006.mp4.\n",
      "Moviepy - Writing video Resources/videos/training/notflip/0006.mp4\n",
      "\n"
     ]
    },
    {
     "name": "stderr",
     "output_type": "stream",
     "text": [
      "                                                                                                                       \r"
     ]
    },
    {
     "name": "stdout",
     "output_type": "stream",
     "text": [
      "Moviepy - Done !\n",
      "Moviepy - video ready Resources/videos/training/notflip/0006.mp4\n",
      "Moviepy - Building video Resources/videos/training/notflip/0006.mp4.\n",
      "Moviepy - Writing video Resources/videos/training/notflip/0006.mp4\n",
      "\n"
     ]
    },
    {
     "name": "stderr",
     "output_type": "stream",
     "text": [
      "                                                                                                                       \r"
     ]
    },
    {
     "name": "stdout",
     "output_type": "stream",
     "text": [
      "Moviepy - Done !\n",
      "Moviepy - video ready Resources/videos/training/notflip/0006.mp4\n",
      "Moviepy - Building video Resources/videos/training/notflip/0006.mp4.\n",
      "Moviepy - Writing video Resources/videos/training/notflip/0006.mp4\n",
      "\n"
     ]
    },
    {
     "name": "stderr",
     "output_type": "stream",
     "text": [
      "                                                                                                                       \r"
     ]
    },
    {
     "name": "stdout",
     "output_type": "stream",
     "text": [
      "Moviepy - Done !\n",
      "Moviepy - video ready Resources/videos/training/notflip/0006.mp4\n",
      "Moviepy - Building video Resources/videos/training/notflip/0006.mp4.\n",
      "Moviepy - Writing video Resources/videos/training/notflip/0006.mp4\n",
      "\n"
     ]
    },
    {
     "name": "stderr",
     "output_type": "stream",
     "text": [
      "                                                                                                                       \r"
     ]
    },
    {
     "name": "stdout",
     "output_type": "stream",
     "text": [
      "Moviepy - Done !\n",
      "Moviepy - video ready Resources/videos/training/notflip/0006.mp4\n",
      "Moviepy - Building video Resources/videos/training/notflip/0006.mp4.\n",
      "Moviepy - Writing video Resources/videos/training/notflip/0006.mp4\n",
      "\n"
     ]
    },
    {
     "name": "stderr",
     "output_type": "stream",
     "text": [
      "                                                                                                                       \r"
     ]
    },
    {
     "name": "stdout",
     "output_type": "stream",
     "text": [
      "Moviepy - Done !\n",
      "Moviepy - video ready Resources/videos/training/notflip/0006.mp4\n",
      "Moviepy - Building video Resources/videos/training/notflip/0006.mp4.\n",
      "Moviepy - Writing video Resources/videos/training/notflip/0006.mp4\n",
      "\n"
     ]
    },
    {
     "name": "stderr",
     "output_type": "stream",
     "text": [
      "                                                                                                                       \r"
     ]
    },
    {
     "name": "stdout",
     "output_type": "stream",
     "text": [
      "Moviepy - Done !\n",
      "Moviepy - video ready Resources/videos/training/notflip/0006.mp4\n",
      "Moviepy - Building video Resources/videos/training/notflip/0006.mp4.\n",
      "Moviepy - Writing video Resources/videos/training/notflip/0006.mp4\n",
      "\n"
     ]
    },
    {
     "name": "stderr",
     "output_type": "stream",
     "text": [
      "                                                                                                                       \r"
     ]
    },
    {
     "name": "stdout",
     "output_type": "stream",
     "text": [
      "Moviepy - Done !\n",
      "Moviepy - video ready Resources/videos/training/notflip/0006.mp4\n",
      "Moviepy - Building video Resources/videos/training/notflip/0006.mp4.\n",
      "Moviepy - Writing video Resources/videos/training/notflip/0006.mp4\n",
      "\n"
     ]
    },
    {
     "name": "stderr",
     "output_type": "stream",
     "text": [
      "                                                                                                                       \r"
     ]
    },
    {
     "name": "stdout",
     "output_type": "stream",
     "text": [
      "Moviepy - Done !\n",
      "Moviepy - video ready Resources/videos/training/notflip/0006.mp4\n",
      "Moviepy - Building video Resources/videos/training/notflip/0006.mp4.\n",
      "Moviepy - Writing video Resources/videos/training/notflip/0006.mp4\n",
      "\n"
     ]
    },
    {
     "name": "stderr",
     "output_type": "stream",
     "text": [
      "                                                                                                                       \r"
     ]
    },
    {
     "name": "stdout",
     "output_type": "stream",
     "text": [
      "Moviepy - Done !\n",
      "Moviepy - video ready Resources/videos/training/notflip/0006.mp4\n",
      "Moviepy - Building video Resources/videos/training/notflip/0006.mp4.\n",
      "Moviepy - Writing video Resources/videos/training/notflip/0006.mp4\n",
      "\n"
     ]
    },
    {
     "name": "stderr",
     "output_type": "stream",
     "text": [
      "                                                                                                                       \r"
     ]
    },
    {
     "name": "stdout",
     "output_type": "stream",
     "text": [
      "Moviepy - Done !\n",
      "Moviepy - video ready Resources/videos/training/notflip/0006.mp4\n",
      "Moviepy - Building video Resources/videos/training/notflip/0007.mp4.\n",
      "Moviepy - Writing video Resources/videos/training/notflip/0007.mp4\n",
      "\n"
     ]
    },
    {
     "name": "stderr",
     "output_type": "stream",
     "text": [
      "                                                                                                                       \r"
     ]
    },
    {
     "name": "stdout",
     "output_type": "stream",
     "text": [
      "Moviepy - Done !\n",
      "Moviepy - video ready Resources/videos/training/notflip/0007.mp4\n",
      "Moviepy - Building video Resources/videos/training/notflip/0007.mp4.\n",
      "Moviepy - Writing video Resources/videos/training/notflip/0007.mp4\n",
      "\n"
     ]
    },
    {
     "name": "stderr",
     "output_type": "stream",
     "text": [
      "                                                                                                                       \r"
     ]
    },
    {
     "name": "stdout",
     "output_type": "stream",
     "text": [
      "Moviepy - Done !\n",
      "Moviepy - video ready Resources/videos/training/notflip/0007.mp4\n",
      "Moviepy - Building video Resources/videos/training/notflip/0007.mp4.\n",
      "Moviepy - Writing video Resources/videos/training/notflip/0007.mp4\n",
      "\n"
     ]
    },
    {
     "name": "stderr",
     "output_type": "stream",
     "text": [
      "                                                                                                                       \r"
     ]
    },
    {
     "name": "stdout",
     "output_type": "stream",
     "text": [
      "Moviepy - Done !\n",
      "Moviepy - video ready Resources/videos/training/notflip/0007.mp4\n",
      "Moviepy - Building video Resources/videos/training/notflip/0007.mp4.\n",
      "Moviepy - Writing video Resources/videos/training/notflip/0007.mp4\n",
      "\n"
     ]
    },
    {
     "name": "stderr",
     "output_type": "stream",
     "text": [
      "                                                                                                                       \r"
     ]
    },
    {
     "name": "stdout",
     "output_type": "stream",
     "text": [
      "Moviepy - Done !\n",
      "Moviepy - video ready Resources/videos/training/notflip/0007.mp4\n",
      "Moviepy - Building video Resources/videos/training/notflip/0007.mp4.\n",
      "Moviepy - Writing video Resources/videos/training/notflip/0007.mp4\n",
      "\n"
     ]
    },
    {
     "name": "stderr",
     "output_type": "stream",
     "text": [
      "                                                                                                                       \r"
     ]
    },
    {
     "name": "stdout",
     "output_type": "stream",
     "text": [
      "Moviepy - Done !\n",
      "Moviepy - video ready Resources/videos/training/notflip/0007.mp4\n",
      "Moviepy - Building video Resources/videos/training/notflip/0007.mp4.\n",
      "Moviepy - Writing video Resources/videos/training/notflip/0007.mp4\n",
      "\n"
     ]
    },
    {
     "name": "stderr",
     "output_type": "stream",
     "text": [
      "                                                                                                                       \r"
     ]
    },
    {
     "name": "stdout",
     "output_type": "stream",
     "text": [
      "Moviepy - Done !\n",
      "Moviepy - video ready Resources/videos/training/notflip/0007.mp4\n",
      "Moviepy - Building video Resources/videos/training/notflip/0007.mp4.\n",
      "Moviepy - Writing video Resources/videos/training/notflip/0007.mp4\n",
      "\n"
     ]
    },
    {
     "name": "stderr",
     "output_type": "stream",
     "text": [
      "                                                                                                                       \r"
     ]
    },
    {
     "name": "stdout",
     "output_type": "stream",
     "text": [
      "Moviepy - Done !\n",
      "Moviepy - video ready Resources/videos/training/notflip/0007.mp4\n",
      "Moviepy - Building video Resources/videos/training/notflip/0007.mp4.\n",
      "Moviepy - Writing video Resources/videos/training/notflip/0007.mp4\n",
      "\n"
     ]
    },
    {
     "name": "stderr",
     "output_type": "stream",
     "text": [
      "                                                                                                                       \r"
     ]
    },
    {
     "name": "stdout",
     "output_type": "stream",
     "text": [
      "Moviepy - Done !\n",
      "Moviepy - video ready Resources/videos/training/notflip/0007.mp4\n",
      "Moviepy - Building video Resources/videos/training/notflip/0007.mp4.\n",
      "Moviepy - Writing video Resources/videos/training/notflip/0007.mp4\n",
      "\n"
     ]
    },
    {
     "name": "stderr",
     "output_type": "stream",
     "text": [
      "                                                                                                                       \r"
     ]
    },
    {
     "name": "stdout",
     "output_type": "stream",
     "text": [
      "Moviepy - Done !\n",
      "Moviepy - video ready Resources/videos/training/notflip/0007.mp4\n",
      "Moviepy - Building video Resources/videos/training/notflip/0007.mp4.\n",
      "Moviepy - Writing video Resources/videos/training/notflip/0007.mp4\n",
      "\n"
     ]
    },
    {
     "name": "stderr",
     "output_type": "stream",
     "text": [
      "                                                                                                                       \r"
     ]
    },
    {
     "name": "stdout",
     "output_type": "stream",
     "text": [
      "Moviepy - Done !\n",
      "Moviepy - video ready Resources/videos/training/notflip/0007.mp4\n",
      "Moviepy - Building video Resources/videos/training/notflip/0007.mp4.\n",
      "Moviepy - Writing video Resources/videos/training/notflip/0007.mp4\n",
      "\n"
     ]
    },
    {
     "name": "stderr",
     "output_type": "stream",
     "text": [
      "                                                                                                                       \r"
     ]
    },
    {
     "name": "stdout",
     "output_type": "stream",
     "text": [
      "Moviepy - Done !\n",
      "Moviepy - video ready Resources/videos/training/notflip/0007.mp4\n",
      "Moviepy - Building video Resources/videos/training/notflip/0007.mp4.\n",
      "Moviepy - Writing video Resources/videos/training/notflip/0007.mp4\n",
      "\n"
     ]
    },
    {
     "name": "stderr",
     "output_type": "stream",
     "text": [
      "                                                                                                                       \r"
     ]
    },
    {
     "name": "stdout",
     "output_type": "stream",
     "text": [
      "Moviepy - Done !\n",
      "Moviepy - video ready Resources/videos/training/notflip/0007.mp4\n",
      "Moviepy - Building video Resources/videos/training/notflip/0007.mp4.\n",
      "Moviepy - Writing video Resources/videos/training/notflip/0007.mp4\n",
      "\n"
     ]
    },
    {
     "name": "stderr",
     "output_type": "stream",
     "text": [
      "                                                                                                                       \r"
     ]
    },
    {
     "name": "stdout",
     "output_type": "stream",
     "text": [
      "Moviepy - Done !\n",
      "Moviepy - video ready Resources/videos/training/notflip/0007.mp4\n",
      "Moviepy - Building video Resources/videos/training/notflip/0007.mp4.\n",
      "Moviepy - Writing video Resources/videos/training/notflip/0007.mp4\n",
      "\n"
     ]
    },
    {
     "name": "stderr",
     "output_type": "stream",
     "text": [
      "                                                                                                                       \r"
     ]
    },
    {
     "name": "stdout",
     "output_type": "stream",
     "text": [
      "Moviepy - Done !\n",
      "Moviepy - video ready Resources/videos/training/notflip/0007.mp4\n",
      "Moviepy - Building video Resources/videos/training/notflip/0007.mp4.\n",
      "Moviepy - Writing video Resources/videos/training/notflip/0007.mp4\n",
      "\n"
     ]
    },
    {
     "name": "stderr",
     "output_type": "stream",
     "text": [
      "                                                                                                                       \r"
     ]
    },
    {
     "name": "stdout",
     "output_type": "stream",
     "text": [
      "Moviepy - Done !\n",
      "Moviepy - video ready Resources/videos/training/notflip/0007.mp4\n",
      "Moviepy - Building video Resources/videos/training/notflip/0007.mp4.\n",
      "Moviepy - Writing video Resources/videos/training/notflip/0007.mp4\n",
      "\n"
     ]
    },
    {
     "name": "stderr",
     "output_type": "stream",
     "text": [
      "                                                                                                                       \r"
     ]
    },
    {
     "name": "stdout",
     "output_type": "stream",
     "text": [
      "Moviepy - Done !\n",
      "Moviepy - video ready Resources/videos/training/notflip/0007.mp4\n",
      "Moviepy - Building video Resources/videos/training/notflip/0007.mp4.\n",
      "Moviepy - Writing video Resources/videos/training/notflip/0007.mp4\n",
      "\n"
     ]
    },
    {
     "name": "stderr",
     "output_type": "stream",
     "text": [
      "                                                                                                                       \r"
     ]
    },
    {
     "name": "stdout",
     "output_type": "stream",
     "text": [
      "Moviepy - Done !\n",
      "Moviepy - video ready Resources/videos/training/notflip/0007.mp4\n",
      "Moviepy - Building video Resources/videos/training/notflip/0007.mp4.\n",
      "Moviepy - Writing video Resources/videos/training/notflip/0007.mp4\n",
      "\n"
     ]
    },
    {
     "name": "stderr",
     "output_type": "stream",
     "text": [
      "                                                                                                                       \r"
     ]
    },
    {
     "name": "stdout",
     "output_type": "stream",
     "text": [
      "Moviepy - Done !\n",
      "Moviepy - video ready Resources/videos/training/notflip/0007.mp4\n",
      "Moviepy - Building video Resources/videos/training/notflip/0007.mp4.\n",
      "Moviepy - Writing video Resources/videos/training/notflip/0007.mp4\n",
      "\n"
     ]
    },
    {
     "name": "stderr",
     "output_type": "stream",
     "text": [
      "                                                                                                                       \r"
     ]
    },
    {
     "name": "stdout",
     "output_type": "stream",
     "text": [
      "Moviepy - Done !\n",
      "Moviepy - video ready Resources/videos/training/notflip/0007.mp4\n",
      "Moviepy - Building video Resources/videos/training/notflip/0007.mp4.\n",
      "Moviepy - Writing video Resources/videos/training/notflip/0007.mp4\n",
      "\n"
     ]
    },
    {
     "name": "stderr",
     "output_type": "stream",
     "text": [
      "                                                                                                                       \r"
     ]
    },
    {
     "name": "stdout",
     "output_type": "stream",
     "text": [
      "Moviepy - Done !\n",
      "Moviepy - video ready Resources/videos/training/notflip/0007.mp4\n",
      "Moviepy - Building video Resources/videos/training/notflip/0007.mp4.\n",
      "Moviepy - Writing video Resources/videos/training/notflip/0007.mp4\n",
      "\n"
     ]
    },
    {
     "name": "stderr",
     "output_type": "stream",
     "text": [
      "                                                                                                                       \r"
     ]
    },
    {
     "name": "stdout",
     "output_type": "stream",
     "text": [
      "Moviepy - Done !\n",
      "Moviepy - video ready Resources/videos/training/notflip/0007.mp4\n",
      "Moviepy - Building video Resources/videos/training/notflip/0007.mp4.\n",
      "Moviepy - Writing video Resources/videos/training/notflip/0007.mp4\n",
      "\n"
     ]
    },
    {
     "name": "stderr",
     "output_type": "stream",
     "text": [
      "                                                                                                                       \r"
     ]
    },
    {
     "name": "stdout",
     "output_type": "stream",
     "text": [
      "Moviepy - Done !\n",
      "Moviepy - video ready Resources/videos/training/notflip/0007.mp4\n",
      "Moviepy - Building video Resources/videos/training/notflip/0007.mp4.\n",
      "Moviepy - Writing video Resources/videos/training/notflip/0007.mp4\n",
      "\n"
     ]
    },
    {
     "name": "stderr",
     "output_type": "stream",
     "text": [
      "                                                                                                                       \r"
     ]
    },
    {
     "name": "stdout",
     "output_type": "stream",
     "text": [
      "Moviepy - Done !\n",
      "Moviepy - video ready Resources/videos/training/notflip/0007.mp4\n",
      "Moviepy - Building video Resources/videos/training/notflip/0007.mp4.\n",
      "Moviepy - Writing video Resources/videos/training/notflip/0007.mp4\n",
      "\n"
     ]
    },
    {
     "name": "stderr",
     "output_type": "stream",
     "text": [
      "                                                                                                                       \r"
     ]
    },
    {
     "name": "stdout",
     "output_type": "stream",
     "text": [
      "Moviepy - Done !\n",
      "Moviepy - video ready Resources/videos/training/notflip/0007.mp4\n",
      "Moviepy - Building video Resources/videos/training/notflip/0007.mp4.\n",
      "Moviepy - Writing video Resources/videos/training/notflip/0007.mp4\n",
      "\n"
     ]
    },
    {
     "name": "stderr",
     "output_type": "stream",
     "text": [
      "                                                                                                                       \r"
     ]
    },
    {
     "name": "stdout",
     "output_type": "stream",
     "text": [
      "Moviepy - Done !\n",
      "Moviepy - video ready Resources/videos/training/notflip/0007.mp4\n",
      "Moviepy - Building video Resources/videos/training/notflip/0007.mp4.\n",
      "Moviepy - Writing video Resources/videos/training/notflip/0007.mp4\n",
      "\n"
     ]
    },
    {
     "name": "stderr",
     "output_type": "stream",
     "text": [
      "                                                                                                                       \r"
     ]
    },
    {
     "name": "stdout",
     "output_type": "stream",
     "text": [
      "Moviepy - Done !\n",
      "Moviepy - video ready Resources/videos/training/notflip/0007.mp4\n",
      "Moviepy - Building video Resources/videos/training/notflip/0007.mp4.\n",
      "Moviepy - Writing video Resources/videos/training/notflip/0007.mp4\n",
      "\n"
     ]
    },
    {
     "name": "stderr",
     "output_type": "stream",
     "text": [
      "                                                                                                                       \r"
     ]
    },
    {
     "name": "stdout",
     "output_type": "stream",
     "text": [
      "Moviepy - Done !\n",
      "Moviepy - video ready Resources/videos/training/notflip/0007.mp4\n",
      "Moviepy - Building video Resources/videos/training/notflip/0008.mp4.\n",
      "Moviepy - Writing video Resources/videos/training/notflip/0008.mp4\n",
      "\n"
     ]
    },
    {
     "name": "stderr",
     "output_type": "stream",
     "text": [
      "                                                                                                                       \r"
     ]
    },
    {
     "name": "stdout",
     "output_type": "stream",
     "text": [
      "Moviepy - Done !\n",
      "Moviepy - video ready Resources/videos/training/notflip/0008.mp4\n",
      "Moviepy - Building video Resources/videos/training/notflip/0008.mp4.\n",
      "Moviepy - Writing video Resources/videos/training/notflip/0008.mp4\n",
      "\n"
     ]
    },
    {
     "name": "stderr",
     "output_type": "stream",
     "text": [
      "                                                                                                                       \r"
     ]
    },
    {
     "name": "stdout",
     "output_type": "stream",
     "text": [
      "Moviepy - Done !\n",
      "Moviepy - video ready Resources/videos/training/notflip/0008.mp4\n",
      "Moviepy - Building video Resources/videos/training/notflip/0008.mp4.\n",
      "Moviepy - Writing video Resources/videos/training/notflip/0008.mp4\n",
      "\n"
     ]
    },
    {
     "name": "stderr",
     "output_type": "stream",
     "text": [
      "                                                                                                                       \r"
     ]
    },
    {
     "name": "stdout",
     "output_type": "stream",
     "text": [
      "Moviepy - Done !\n",
      "Moviepy - video ready Resources/videos/training/notflip/0008.mp4\n",
      "Moviepy - Building video Resources/videos/training/notflip/0008.mp4.\n",
      "Moviepy - Writing video Resources/videos/training/notflip/0008.mp4\n",
      "\n"
     ]
    },
    {
     "name": "stderr",
     "output_type": "stream",
     "text": [
      "                                                                                                                       \r"
     ]
    },
    {
     "name": "stdout",
     "output_type": "stream",
     "text": [
      "Moviepy - Done !\n",
      "Moviepy - video ready Resources/videos/training/notflip/0008.mp4\n",
      "Moviepy - Building video Resources/videos/training/notflip/0008.mp4.\n",
      "Moviepy - Writing video Resources/videos/training/notflip/0008.mp4\n",
      "\n"
     ]
    },
    {
     "name": "stderr",
     "output_type": "stream",
     "text": [
      "                                                                                                                       \r"
     ]
    },
    {
     "name": "stdout",
     "output_type": "stream",
     "text": [
      "Moviepy - Done !\n",
      "Moviepy - video ready Resources/videos/training/notflip/0008.mp4\n",
      "Moviepy - Building video Resources/videos/training/notflip/0008.mp4.\n",
      "Moviepy - Writing video Resources/videos/training/notflip/0008.mp4\n",
      "\n"
     ]
    },
    {
     "name": "stderr",
     "output_type": "stream",
     "text": [
      "                                                                                                                       \r"
     ]
    },
    {
     "name": "stdout",
     "output_type": "stream",
     "text": [
      "Moviepy - Done !\n",
      "Moviepy - video ready Resources/videos/training/notflip/0008.mp4\n",
      "Moviepy - Building video Resources/videos/training/notflip/0008.mp4.\n",
      "Moviepy - Writing video Resources/videos/training/notflip/0008.mp4\n",
      "\n"
     ]
    },
    {
     "name": "stderr",
     "output_type": "stream",
     "text": [
      "                                                                                                                       \r"
     ]
    },
    {
     "name": "stdout",
     "output_type": "stream",
     "text": [
      "Moviepy - Done !\n",
      "Moviepy - video ready Resources/videos/training/notflip/0008.mp4\n",
      "Moviepy - Building video Resources/videos/training/notflip/0008.mp4.\n",
      "Moviepy - Writing video Resources/videos/training/notflip/0008.mp4\n",
      "\n"
     ]
    },
    {
     "name": "stderr",
     "output_type": "stream",
     "text": [
      "                                                                                                                       \r"
     ]
    },
    {
     "name": "stdout",
     "output_type": "stream",
     "text": [
      "Moviepy - Done !\n",
      "Moviepy - video ready Resources/videos/training/notflip/0008.mp4\n",
      "Moviepy - Building video Resources/videos/training/notflip/0008.mp4.\n",
      "Moviepy - Writing video Resources/videos/training/notflip/0008.mp4\n",
      "\n"
     ]
    },
    {
     "name": "stderr",
     "output_type": "stream",
     "text": [
      "                                                                                                                       \r"
     ]
    },
    {
     "name": "stdout",
     "output_type": "stream",
     "text": [
      "Moviepy - Done !\n",
      "Moviepy - video ready Resources/videos/training/notflip/0008.mp4\n",
      "Moviepy - Building video Resources/videos/training/notflip/0008.mp4.\n",
      "Moviepy - Writing video Resources/videos/training/notflip/0008.mp4\n",
      "\n"
     ]
    },
    {
     "name": "stderr",
     "output_type": "stream",
     "text": [
      "                                                                                                                       \r"
     ]
    },
    {
     "name": "stdout",
     "output_type": "stream",
     "text": [
      "Moviepy - Done !\n",
      "Moviepy - video ready Resources/videos/training/notflip/0008.mp4\n",
      "Moviepy - Building video Resources/videos/training/notflip/0008.mp4.\n",
      "Moviepy - Writing video Resources/videos/training/notflip/0008.mp4\n",
      "\n"
     ]
    },
    {
     "name": "stderr",
     "output_type": "stream",
     "text": [
      "                                                                                                                       \r"
     ]
    },
    {
     "name": "stdout",
     "output_type": "stream",
     "text": [
      "Moviepy - Done !\n",
      "Moviepy - video ready Resources/videos/training/notflip/0008.mp4\n",
      "Moviepy - Building video Resources/videos/training/notflip/0008.mp4.\n",
      "Moviepy - Writing video Resources/videos/training/notflip/0008.mp4\n",
      "\n"
     ]
    },
    {
     "name": "stderr",
     "output_type": "stream",
     "text": [
      "                                                                                                                       \r"
     ]
    },
    {
     "name": "stdout",
     "output_type": "stream",
     "text": [
      "Moviepy - Done !\n",
      "Moviepy - video ready Resources/videos/training/notflip/0008.mp4\n",
      "Moviepy - Building video Resources/videos/training/notflip/0008.mp4.\n",
      "Moviepy - Writing video Resources/videos/training/notflip/0008.mp4\n",
      "\n"
     ]
    },
    {
     "name": "stderr",
     "output_type": "stream",
     "text": [
      "                                                                                                                       \r"
     ]
    },
    {
     "name": "stdout",
     "output_type": "stream",
     "text": [
      "Moviepy - Done !\n",
      "Moviepy - video ready Resources/videos/training/notflip/0008.mp4\n",
      "Moviepy - Building video Resources/videos/training/notflip/0008.mp4.\n",
      "Moviepy - Writing video Resources/videos/training/notflip/0008.mp4\n",
      "\n"
     ]
    },
    {
     "name": "stderr",
     "output_type": "stream",
     "text": [
      "                                                                                                                       \r"
     ]
    },
    {
     "name": "stdout",
     "output_type": "stream",
     "text": [
      "Moviepy - Done !\n",
      "Moviepy - video ready Resources/videos/training/notflip/0008.mp4\n",
      "Moviepy - Building video Resources/videos/training/notflip/0008.mp4.\n",
      "Moviepy - Writing video Resources/videos/training/notflip/0008.mp4\n",
      "\n"
     ]
    },
    {
     "name": "stderr",
     "output_type": "stream",
     "text": [
      "                                                                                                                       \r"
     ]
    },
    {
     "name": "stdout",
     "output_type": "stream",
     "text": [
      "Moviepy - Done !\n",
      "Moviepy - video ready Resources/videos/training/notflip/0008.mp4\n",
      "Moviepy - Building video Resources/videos/training/notflip/0008.mp4.\n",
      "Moviepy - Writing video Resources/videos/training/notflip/0008.mp4\n",
      "\n"
     ]
    },
    {
     "name": "stderr",
     "output_type": "stream",
     "text": [
      "                                                                                                                       \r"
     ]
    },
    {
     "name": "stdout",
     "output_type": "stream",
     "text": [
      "Moviepy - Done !\n",
      "Moviepy - video ready Resources/videos/training/notflip/0008.mp4\n",
      "Moviepy - Building video Resources/videos/training/notflip/0008.mp4.\n",
      "Moviepy - Writing video Resources/videos/training/notflip/0008.mp4\n",
      "\n"
     ]
    },
    {
     "name": "stderr",
     "output_type": "stream",
     "text": [
      "                                                                                                                       \r"
     ]
    },
    {
     "name": "stdout",
     "output_type": "stream",
     "text": [
      "Moviepy - Done !\n",
      "Moviepy - video ready Resources/videos/training/notflip/0008.mp4\n",
      "Moviepy - Building video Resources/videos/training/notflip/0008.mp4.\n",
      "Moviepy - Writing video Resources/videos/training/notflip/0008.mp4\n",
      "\n"
     ]
    },
    {
     "name": "stderr",
     "output_type": "stream",
     "text": [
      "                                                                                                                       \r"
     ]
    },
    {
     "name": "stdout",
     "output_type": "stream",
     "text": [
      "Moviepy - Done !\n",
      "Moviepy - video ready Resources/videos/training/notflip/0008.mp4\n",
      "Moviepy - Building video Resources/videos/training/notflip/0008.mp4.\n",
      "Moviepy - Writing video Resources/videos/training/notflip/0008.mp4\n",
      "\n"
     ]
    },
    {
     "name": "stderr",
     "output_type": "stream",
     "text": [
      "                                                                                                                       \r"
     ]
    },
    {
     "name": "stdout",
     "output_type": "stream",
     "text": [
      "Moviepy - Done !\n",
      "Moviepy - video ready Resources/videos/training/notflip/0008.mp4\n",
      "Moviepy - Building video Resources/videos/training/notflip/0008.mp4.\n",
      "Moviepy - Writing video Resources/videos/training/notflip/0008.mp4\n",
      "\n"
     ]
    },
    {
     "name": "stderr",
     "output_type": "stream",
     "text": [
      "                                                                                                                       \r"
     ]
    },
    {
     "name": "stdout",
     "output_type": "stream",
     "text": [
      "Moviepy - Done !\n",
      "Moviepy - video ready Resources/videos/training/notflip/0008.mp4\n",
      "Moviepy - Building video Resources/videos/training/notflip/0008.mp4.\n",
      "Moviepy - Writing video Resources/videos/training/notflip/0008.mp4\n",
      "\n"
     ]
    },
    {
     "name": "stderr",
     "output_type": "stream",
     "text": [
      "                                                                                                                       \r"
     ]
    },
    {
     "name": "stdout",
     "output_type": "stream",
     "text": [
      "Moviepy - Done !\n",
      "Moviepy - video ready Resources/videos/training/notflip/0008.mp4\n",
      "Moviepy - Building video Resources/videos/training/notflip/0008.mp4.\n",
      "Moviepy - Writing video Resources/videos/training/notflip/0008.mp4\n",
      "\n"
     ]
    },
    {
     "name": "stderr",
     "output_type": "stream",
     "text": [
      "                                                                                                                       \r"
     ]
    },
    {
     "name": "stdout",
     "output_type": "stream",
     "text": [
      "Moviepy - Done !\n",
      "Moviepy - video ready Resources/videos/training/notflip/0008.mp4\n",
      "Moviepy - Building video Resources/videos/training/notflip/0008.mp4.\n",
      "Moviepy - Writing video Resources/videos/training/notflip/0008.mp4\n",
      "\n"
     ]
    },
    {
     "name": "stderr",
     "output_type": "stream",
     "text": [
      "                                                                                                                       \r"
     ]
    },
    {
     "name": "stdout",
     "output_type": "stream",
     "text": [
      "Moviepy - Done !\n",
      "Moviepy - video ready Resources/videos/training/notflip/0008.mp4\n",
      "Moviepy - Building video Resources/videos/training/notflip/0009.mp4.\n",
      "Moviepy - Writing video Resources/videos/training/notflip/0009.mp4\n",
      "\n"
     ]
    },
    {
     "name": "stderr",
     "output_type": "stream",
     "text": [
      "                                                                                                                       \r"
     ]
    },
    {
     "name": "stdout",
     "output_type": "stream",
     "text": [
      "Moviepy - Done !\n",
      "Moviepy - video ready Resources/videos/training/notflip/0009.mp4\n",
      "Moviepy - Building video Resources/videos/training/notflip/0009.mp4.\n",
      "Moviepy - Writing video Resources/videos/training/notflip/0009.mp4\n",
      "\n"
     ]
    },
    {
     "name": "stderr",
     "output_type": "stream",
     "text": [
      "                                                                                                                       \r"
     ]
    },
    {
     "name": "stdout",
     "output_type": "stream",
     "text": [
      "Moviepy - Done !\n",
      "Moviepy - video ready Resources/videos/training/notflip/0009.mp4\n",
      "Moviepy - Building video Resources/videos/training/notflip/0009.mp4.\n",
      "Moviepy - Writing video Resources/videos/training/notflip/0009.mp4\n",
      "\n"
     ]
    },
    {
     "name": "stderr",
     "output_type": "stream",
     "text": [
      "                                                                                                                       \r"
     ]
    },
    {
     "name": "stdout",
     "output_type": "stream",
     "text": [
      "Moviepy - Done !\n",
      "Moviepy - video ready Resources/videos/training/notflip/0009.mp4\n",
      "Moviepy - Building video Resources/videos/training/notflip/0009.mp4.\n",
      "Moviepy - Writing video Resources/videos/training/notflip/0009.mp4\n",
      "\n"
     ]
    },
    {
     "name": "stderr",
     "output_type": "stream",
     "text": [
      "                                                                                                                       \r"
     ]
    },
    {
     "name": "stdout",
     "output_type": "stream",
     "text": [
      "Moviepy - Done !\n",
      "Moviepy - video ready Resources/videos/training/notflip/0009.mp4\n",
      "Moviepy - Building video Resources/videos/training/notflip/0009.mp4.\n",
      "Moviepy - Writing video Resources/videos/training/notflip/0009.mp4\n",
      "\n"
     ]
    },
    {
     "name": "stderr",
     "output_type": "stream",
     "text": [
      "                                                                                                                       \r"
     ]
    },
    {
     "name": "stdout",
     "output_type": "stream",
     "text": [
      "Moviepy - Done !\n",
      "Moviepy - video ready Resources/videos/training/notflip/0009.mp4\n",
      "Moviepy - Building video Resources/videos/training/notflip/0009.mp4.\n",
      "Moviepy - Writing video Resources/videos/training/notflip/0009.mp4\n",
      "\n"
     ]
    },
    {
     "name": "stderr",
     "output_type": "stream",
     "text": [
      "                                                                                                                       \r"
     ]
    },
    {
     "name": "stdout",
     "output_type": "stream",
     "text": [
      "Moviepy - Done !\n",
      "Moviepy - video ready Resources/videos/training/notflip/0009.mp4\n",
      "Moviepy - Building video Resources/videos/training/notflip/0009.mp4.\n",
      "Moviepy - Writing video Resources/videos/training/notflip/0009.mp4\n",
      "\n"
     ]
    },
    {
     "name": "stderr",
     "output_type": "stream",
     "text": [
      "                                                                                                                       \r"
     ]
    },
    {
     "name": "stdout",
     "output_type": "stream",
     "text": [
      "Moviepy - Done !\n",
      "Moviepy - video ready Resources/videos/training/notflip/0009.mp4\n",
      "Moviepy - Building video Resources/videos/training/notflip/0009.mp4.\n",
      "Moviepy - Writing video Resources/videos/training/notflip/0009.mp4\n",
      "\n"
     ]
    },
    {
     "name": "stderr",
     "output_type": "stream",
     "text": [
      "                                                                                                                       \r"
     ]
    },
    {
     "name": "stdout",
     "output_type": "stream",
     "text": [
      "Moviepy - Done !\n",
      "Moviepy - video ready Resources/videos/training/notflip/0009.mp4\n",
      "Moviepy - Building video Resources/videos/training/notflip/0009.mp4.\n",
      "Moviepy - Writing video Resources/videos/training/notflip/0009.mp4\n",
      "\n"
     ]
    },
    {
     "name": "stderr",
     "output_type": "stream",
     "text": [
      "                                                                                                                       \r"
     ]
    },
    {
     "name": "stdout",
     "output_type": "stream",
     "text": [
      "Moviepy - Done !\n",
      "Moviepy - video ready Resources/videos/training/notflip/0009.mp4\n",
      "Moviepy - Building video Resources/videos/training/notflip/0009.mp4.\n",
      "Moviepy - Writing video Resources/videos/training/notflip/0009.mp4\n",
      "\n"
     ]
    },
    {
     "name": "stderr",
     "output_type": "stream",
     "text": [
      "                                                                                                                       \r"
     ]
    },
    {
     "name": "stdout",
     "output_type": "stream",
     "text": [
      "Moviepy - Done !\n",
      "Moviepy - video ready Resources/videos/training/notflip/0009.mp4\n",
      "Moviepy - Building video Resources/videos/training/notflip/0009.mp4.\n",
      "Moviepy - Writing video Resources/videos/training/notflip/0009.mp4\n",
      "\n"
     ]
    },
    {
     "name": "stderr",
     "output_type": "stream",
     "text": [
      "                                                                                                                       \r"
     ]
    },
    {
     "name": "stdout",
     "output_type": "stream",
     "text": [
      "Moviepy - Done !\n",
      "Moviepy - video ready Resources/videos/training/notflip/0009.mp4\n",
      "Moviepy - Building video Resources/videos/training/notflip/0009.mp4.\n",
      "Moviepy - Writing video Resources/videos/training/notflip/0009.mp4\n",
      "\n"
     ]
    },
    {
     "name": "stderr",
     "output_type": "stream",
     "text": [
      "                                                                                                                       \r"
     ]
    },
    {
     "name": "stdout",
     "output_type": "stream",
     "text": [
      "Moviepy - Done !\n",
      "Moviepy - video ready Resources/videos/training/notflip/0009.mp4\n",
      "Moviepy - Building video Resources/videos/training/notflip/0009.mp4.\n",
      "Moviepy - Writing video Resources/videos/training/notflip/0009.mp4\n",
      "\n"
     ]
    },
    {
     "name": "stderr",
     "output_type": "stream",
     "text": [
      "                                                                                                                       \r"
     ]
    },
    {
     "name": "stdout",
     "output_type": "stream",
     "text": [
      "Moviepy - Done !\n",
      "Moviepy - video ready Resources/videos/training/notflip/0009.mp4\n",
      "Moviepy - Building video Resources/videos/training/notflip/0009.mp4.\n",
      "Moviepy - Writing video Resources/videos/training/notflip/0009.mp4\n",
      "\n"
     ]
    },
    {
     "name": "stderr",
     "output_type": "stream",
     "text": [
      "                                                                                                                       \r"
     ]
    },
    {
     "name": "stdout",
     "output_type": "stream",
     "text": [
      "Moviepy - Done !\n",
      "Moviepy - video ready Resources/videos/training/notflip/0009.mp4\n",
      "Moviepy - Building video Resources/videos/training/notflip/0009.mp4.\n",
      "Moviepy - Writing video Resources/videos/training/notflip/0009.mp4\n",
      "\n"
     ]
    },
    {
     "name": "stderr",
     "output_type": "stream",
     "text": [
      "                                                                                                                       \r"
     ]
    },
    {
     "name": "stdout",
     "output_type": "stream",
     "text": [
      "Moviepy - Done !\n",
      "Moviepy - video ready Resources/videos/training/notflip/0009.mp4\n",
      "Moviepy - Building video Resources/videos/training/notflip/0009.mp4.\n",
      "Moviepy - Writing video Resources/videos/training/notflip/0009.mp4\n",
      "\n"
     ]
    },
    {
     "name": "stderr",
     "output_type": "stream",
     "text": [
      "                                                                                                                       \r"
     ]
    },
    {
     "name": "stdout",
     "output_type": "stream",
     "text": [
      "Moviepy - Done !\n",
      "Moviepy - video ready Resources/videos/training/notflip/0009.mp4\n",
      "Moviepy - Building video Resources/videos/training/notflip/0009.mp4.\n",
      "Moviepy - Writing video Resources/videos/training/notflip/0009.mp4\n",
      "\n"
     ]
    },
    {
     "name": "stderr",
     "output_type": "stream",
     "text": [
      "                                                                                                                       \r"
     ]
    },
    {
     "name": "stdout",
     "output_type": "stream",
     "text": [
      "Moviepy - Done !\n",
      "Moviepy - video ready Resources/videos/training/notflip/0009.mp4\n",
      "Moviepy - Building video Resources/videos/training/notflip/0009.mp4.\n",
      "Moviepy - Writing video Resources/videos/training/notflip/0009.mp4\n",
      "\n"
     ]
    },
    {
     "name": "stderr",
     "output_type": "stream",
     "text": [
      "                                                                                                                       \r"
     ]
    },
    {
     "name": "stdout",
     "output_type": "stream",
     "text": [
      "Moviepy - Done !\n",
      "Moviepy - video ready Resources/videos/training/notflip/0009.mp4\n",
      "Moviepy - Building video Resources/videos/training/notflip/0009.mp4.\n",
      "Moviepy - Writing video Resources/videos/training/notflip/0009.mp4\n",
      "\n"
     ]
    },
    {
     "name": "stderr",
     "output_type": "stream",
     "text": [
      "                                                                                                                       \r"
     ]
    },
    {
     "name": "stdout",
     "output_type": "stream",
     "text": [
      "Moviepy - Done !\n",
      "Moviepy - video ready Resources/videos/training/notflip/0009.mp4\n",
      "Moviepy - Building video Resources/videos/training/notflip/0009.mp4.\n",
      "Moviepy - Writing video Resources/videos/training/notflip/0009.mp4\n",
      "\n"
     ]
    },
    {
     "name": "stderr",
     "output_type": "stream",
     "text": [
      "                                                                                                                       \r"
     ]
    },
    {
     "name": "stdout",
     "output_type": "stream",
     "text": [
      "Moviepy - Done !\n",
      "Moviepy - video ready Resources/videos/training/notflip/0009.mp4\n",
      "Moviepy - Building video Resources/videos/training/notflip/0009.mp4.\n",
      "Moviepy - Writing video Resources/videos/training/notflip/0009.mp4\n",
      "\n"
     ]
    },
    {
     "name": "stderr",
     "output_type": "stream",
     "text": [
      "                                                                                                                       \r"
     ]
    },
    {
     "name": "stdout",
     "output_type": "stream",
     "text": [
      "Moviepy - Done !\n",
      "Moviepy - video ready Resources/videos/training/notflip/0009.mp4\n",
      "Moviepy - Building video Resources/videos/training/notflip/0010.mp4.\n",
      "Moviepy - Writing video Resources/videos/training/notflip/0010.mp4\n",
      "\n"
     ]
    },
    {
     "name": "stderr",
     "output_type": "stream",
     "text": [
      "                                                                                                                       \r"
     ]
    },
    {
     "name": "stdout",
     "output_type": "stream",
     "text": [
      "Moviepy - Done !\n",
      "Moviepy - video ready Resources/videos/training/notflip/0010.mp4\n",
      "Moviepy - Building video Resources/videos/training/notflip/0010.mp4.\n",
      "Moviepy - Writing video Resources/videos/training/notflip/0010.mp4\n",
      "\n"
     ]
    },
    {
     "name": "stderr",
     "output_type": "stream",
     "text": [
      "                                                                                                                       \r"
     ]
    },
    {
     "name": "stdout",
     "output_type": "stream",
     "text": [
      "Moviepy - Done !\n",
      "Moviepy - video ready Resources/videos/training/notflip/0010.mp4\n",
      "Moviepy - Building video Resources/videos/training/notflip/0010.mp4.\n",
      "Moviepy - Writing video Resources/videos/training/notflip/0010.mp4\n",
      "\n"
     ]
    },
    {
     "name": "stderr",
     "output_type": "stream",
     "text": [
      "                                                                                                                       \r"
     ]
    },
    {
     "name": "stdout",
     "output_type": "stream",
     "text": [
      "Moviepy - Done !\n",
      "Moviepy - video ready Resources/videos/training/notflip/0010.mp4\n",
      "Moviepy - Building video Resources/videos/training/notflip/0010.mp4.\n",
      "Moviepy - Writing video Resources/videos/training/notflip/0010.mp4\n",
      "\n"
     ]
    },
    {
     "name": "stderr",
     "output_type": "stream",
     "text": [
      "                                                                                                                       \r"
     ]
    },
    {
     "name": "stdout",
     "output_type": "stream",
     "text": [
      "Moviepy - Done !\n",
      "Moviepy - video ready Resources/videos/training/notflip/0010.mp4\n",
      "Moviepy - Building video Resources/videos/training/notflip/0010.mp4.\n",
      "Moviepy - Writing video Resources/videos/training/notflip/0010.mp4\n",
      "\n"
     ]
    },
    {
     "name": "stderr",
     "output_type": "stream",
     "text": [
      "                                                                                                                       \r"
     ]
    },
    {
     "name": "stdout",
     "output_type": "stream",
     "text": [
      "Moviepy - Done !\n",
      "Moviepy - video ready Resources/videos/training/notflip/0010.mp4\n",
      "Moviepy - Building video Resources/videos/training/notflip/0010.mp4.\n",
      "Moviepy - Writing video Resources/videos/training/notflip/0010.mp4\n",
      "\n"
     ]
    },
    {
     "name": "stderr",
     "output_type": "stream",
     "text": [
      "                                                                                                                       \r"
     ]
    },
    {
     "name": "stdout",
     "output_type": "stream",
     "text": [
      "Moviepy - Done !\n",
      "Moviepy - video ready Resources/videos/training/notflip/0010.mp4\n",
      "Moviepy - Building video Resources/videos/training/notflip/0010.mp4.\n",
      "Moviepy - Writing video Resources/videos/training/notflip/0010.mp4\n",
      "\n"
     ]
    },
    {
     "name": "stderr",
     "output_type": "stream",
     "text": [
      "                                                                                                                       \r"
     ]
    },
    {
     "name": "stdout",
     "output_type": "stream",
     "text": [
      "Moviepy - Done !\n",
      "Moviepy - video ready Resources/videos/training/notflip/0010.mp4\n",
      "Moviepy - Building video Resources/videos/training/notflip/0010.mp4.\n",
      "Moviepy - Writing video Resources/videos/training/notflip/0010.mp4\n",
      "\n"
     ]
    },
    {
     "name": "stderr",
     "output_type": "stream",
     "text": [
      "                                                                                                                       \r"
     ]
    },
    {
     "name": "stdout",
     "output_type": "stream",
     "text": [
      "Moviepy - Done !\n",
      "Moviepy - video ready Resources/videos/training/notflip/0010.mp4\n",
      "Moviepy - Building video Resources/videos/training/notflip/0010.mp4.\n",
      "Moviepy - Writing video Resources/videos/training/notflip/0010.mp4\n",
      "\n"
     ]
    },
    {
     "name": "stderr",
     "output_type": "stream",
     "text": [
      "                                                                                                                       \r"
     ]
    },
    {
     "name": "stdout",
     "output_type": "stream",
     "text": [
      "Moviepy - Done !\n",
      "Moviepy - video ready Resources/videos/training/notflip/0010.mp4\n",
      "Moviepy - Building video Resources/videos/training/notflip/0010.mp4.\n",
      "Moviepy - Writing video Resources/videos/training/notflip/0010.mp4\n",
      "\n"
     ]
    },
    {
     "name": "stderr",
     "output_type": "stream",
     "text": [
      "                                                                                                                       \r"
     ]
    },
    {
     "name": "stdout",
     "output_type": "stream",
     "text": [
      "Moviepy - Done !\n",
      "Moviepy - video ready Resources/videos/training/notflip/0010.mp4\n",
      "Moviepy - Building video Resources/videos/training/notflip/0010.mp4.\n",
      "Moviepy - Writing video Resources/videos/training/notflip/0010.mp4\n",
      "\n"
     ]
    },
    {
     "name": "stderr",
     "output_type": "stream",
     "text": [
      "                                                                                                                       \r"
     ]
    },
    {
     "name": "stdout",
     "output_type": "stream",
     "text": [
      "Moviepy - Done !\n",
      "Moviepy - video ready Resources/videos/training/notflip/0010.mp4\n",
      "Moviepy - Building video Resources/videos/training/notflip/0010.mp4.\n",
      "Moviepy - Writing video Resources/videos/training/notflip/0010.mp4\n",
      "\n"
     ]
    },
    {
     "name": "stderr",
     "output_type": "stream",
     "text": [
      "                                                                                                                       \r"
     ]
    },
    {
     "name": "stdout",
     "output_type": "stream",
     "text": [
      "Moviepy - Done !\n",
      "Moviepy - video ready Resources/videos/training/notflip/0010.mp4\n",
      "Moviepy - Building video Resources/videos/training/notflip/0010.mp4.\n",
      "Moviepy - Writing video Resources/videos/training/notflip/0010.mp4\n",
      "\n"
     ]
    },
    {
     "name": "stderr",
     "output_type": "stream",
     "text": [
      "                                                                                                                       \r"
     ]
    },
    {
     "name": "stdout",
     "output_type": "stream",
     "text": [
      "Moviepy - Done !\n",
      "Moviepy - video ready Resources/videos/training/notflip/0010.mp4\n",
      "Moviepy - Building video Resources/videos/training/notflip/0010.mp4.\n",
      "Moviepy - Writing video Resources/videos/training/notflip/0010.mp4\n",
      "\n"
     ]
    },
    {
     "name": "stderr",
     "output_type": "stream",
     "text": [
      "                                                                                                                       \r"
     ]
    },
    {
     "name": "stdout",
     "output_type": "stream",
     "text": [
      "Moviepy - Done !\n",
      "Moviepy - video ready Resources/videos/training/notflip/0010.mp4\n",
      "Moviepy - Building video Resources/videos/training/notflip/0010.mp4.\n",
      "Moviepy - Writing video Resources/videos/training/notflip/0010.mp4\n",
      "\n"
     ]
    },
    {
     "name": "stderr",
     "output_type": "stream",
     "text": [
      "                                                                                                                       \r"
     ]
    },
    {
     "name": "stdout",
     "output_type": "stream",
     "text": [
      "Moviepy - Done !\n",
      "Moviepy - video ready Resources/videos/training/notflip/0010.mp4\n",
      "Moviepy - Building video Resources/videos/training/notflip/0010.mp4.\n",
      "Moviepy - Writing video Resources/videos/training/notflip/0010.mp4\n",
      "\n"
     ]
    },
    {
     "name": "stderr",
     "output_type": "stream",
     "text": [
      "                                                                                                                       \r"
     ]
    },
    {
     "name": "stdout",
     "output_type": "stream",
     "text": [
      "Moviepy - Done !\n",
      "Moviepy - video ready Resources/videos/training/notflip/0010.mp4\n",
      "Moviepy - Building video Resources/videos/training/notflip/0010.mp4.\n",
      "Moviepy - Writing video Resources/videos/training/notflip/0010.mp4\n",
      "\n"
     ]
    },
    {
     "name": "stderr",
     "output_type": "stream",
     "text": [
      "                                                                                                                       \r"
     ]
    },
    {
     "name": "stdout",
     "output_type": "stream",
     "text": [
      "Moviepy - Done !\n",
      "Moviepy - video ready Resources/videos/training/notflip/0010.mp4\n",
      "Moviepy - Building video Resources/videos/training/notflip/0010.mp4.\n",
      "Moviepy - Writing video Resources/videos/training/notflip/0010.mp4\n",
      "\n"
     ]
    },
    {
     "name": "stderr",
     "output_type": "stream",
     "text": [
      "                                                                                                                       \r"
     ]
    },
    {
     "name": "stdout",
     "output_type": "stream",
     "text": [
      "Moviepy - Done !\n",
      "Moviepy - video ready Resources/videos/training/notflip/0010.mp4\n",
      "Moviepy - Building video Resources/videos/training/notflip/0010.mp4.\n",
      "Moviepy - Writing video Resources/videos/training/notflip/0010.mp4\n",
      "\n"
     ]
    },
    {
     "name": "stderr",
     "output_type": "stream",
     "text": [
      "                                                                                                                       \r"
     ]
    },
    {
     "name": "stdout",
     "output_type": "stream",
     "text": [
      "Moviepy - Done !\n",
      "Moviepy - video ready Resources/videos/training/notflip/0010.mp4\n",
      "Moviepy - Building video Resources/videos/training/notflip/0010.mp4.\n",
      "Moviepy - Writing video Resources/videos/training/notflip/0010.mp4\n",
      "\n"
     ]
    },
    {
     "name": "stderr",
     "output_type": "stream",
     "text": [
      "                                                                                                                       \r"
     ]
    },
    {
     "name": "stdout",
     "output_type": "stream",
     "text": [
      "Moviepy - Done !\n",
      "Moviepy - video ready Resources/videos/training/notflip/0010.mp4\n",
      "Moviepy - Building video Resources/videos/training/notflip/0010.mp4.\n",
      "Moviepy - Writing video Resources/videos/training/notflip/0010.mp4\n",
      "\n"
     ]
    },
    {
     "name": "stderr",
     "output_type": "stream",
     "text": [
      "                                                                                                                       \r"
     ]
    },
    {
     "name": "stdout",
     "output_type": "stream",
     "text": [
      "Moviepy - Done !\n",
      "Moviepy - video ready Resources/videos/training/notflip/0010.mp4\n",
      "Moviepy - Building video Resources/videos/training/notflip/0010.mp4.\n",
      "Moviepy - Writing video Resources/videos/training/notflip/0010.mp4\n",
      "\n"
     ]
    },
    {
     "name": "stderr",
     "output_type": "stream",
     "text": [
      "                                                                                                                       \r"
     ]
    },
    {
     "name": "stdout",
     "output_type": "stream",
     "text": [
      "Moviepy - Done !\n",
      "Moviepy - video ready Resources/videos/training/notflip/0010.mp4\n",
      "Moviepy - Building video Resources/videos/training/notflip/0010.mp4.\n",
      "Moviepy - Writing video Resources/videos/training/notflip/0010.mp4\n",
      "\n"
     ]
    },
    {
     "name": "stderr",
     "output_type": "stream",
     "text": [
      "                                                                                                                       \r"
     ]
    },
    {
     "name": "stdout",
     "output_type": "stream",
     "text": [
      "Moviepy - Done !\n",
      "Moviepy - video ready Resources/videos/training/notflip/0010.mp4\n",
      "Moviepy - Building video Resources/videos/training/notflip/0010.mp4.\n",
      "Moviepy - Writing video Resources/videos/training/notflip/0010.mp4\n",
      "\n"
     ]
    },
    {
     "name": "stderr",
     "output_type": "stream",
     "text": [
      "                                                                                                                       \r"
     ]
    },
    {
     "name": "stdout",
     "output_type": "stream",
     "text": [
      "Moviepy - Done !\n",
      "Moviepy - video ready Resources/videos/training/notflip/0010.mp4\n",
      "Moviepy - Building video Resources/videos/training/notflip/0010.mp4.\n",
      "Moviepy - Writing video Resources/videos/training/notflip/0010.mp4\n",
      "\n"
     ]
    },
    {
     "name": "stderr",
     "output_type": "stream",
     "text": [
      "                                                                                                                       \r"
     ]
    },
    {
     "name": "stdout",
     "output_type": "stream",
     "text": [
      "Moviepy - Done !\n",
      "Moviepy - video ready Resources/videos/training/notflip/0010.mp4\n",
      "Moviepy - Building video Resources/videos/training/notflip/0010.mp4.\n",
      "Moviepy - Writing video Resources/videos/training/notflip/0010.mp4\n",
      "\n"
     ]
    },
    {
     "name": "stderr",
     "output_type": "stream",
     "text": [
      "                                                                                                                       \r"
     ]
    },
    {
     "name": "stdout",
     "output_type": "stream",
     "text": [
      "Moviepy - Done !\n",
      "Moviepy - video ready Resources/videos/training/notflip/0010.mp4\n"
     ]
    }
   ],
   "source": [
    "sequence(train_notflip,tn_np)"
   ]
  },
  {
   "cell_type": "code",
   "execution_count": 88,
   "id": "520c753f",
   "metadata": {},
   "outputs": [
    {
     "name": "stdout",
     "output_type": "stream",
     "text": [
      "Moviepy - Building video Resources/videos/testing/flip/0001.mp4.\n",
      "Moviepy - Writing video Resources/videos/testing/flip/0001.mp4\n",
      "\n"
     ]
    },
    {
     "name": "stderr",
     "output_type": "stream",
     "text": [
      "                                                                                                                       \r"
     ]
    },
    {
     "name": "stdout",
     "output_type": "stream",
     "text": [
      "Moviepy - Done !\n",
      "Moviepy - video ready Resources/videos/testing/flip/0001.mp4\n",
      "Moviepy - Building video Resources/videos/testing/flip/0002.mp4.\n",
      "Moviepy - Writing video Resources/videos/testing/flip/0002.mp4\n",
      "\n"
     ]
    },
    {
     "name": "stderr",
     "output_type": "stream",
     "text": [
      "                                                                                                                       \r"
     ]
    },
    {
     "name": "stdout",
     "output_type": "stream",
     "text": [
      "Moviepy - Done !\n",
      "Moviepy - video ready Resources/videos/testing/flip/0002.mp4\n",
      "Moviepy - Building video Resources/videos/testing/flip/0002.mp4.\n",
      "Moviepy - Writing video Resources/videos/testing/flip/0002.mp4\n",
      "\n"
     ]
    },
    {
     "name": "stderr",
     "output_type": "stream",
     "text": [
      "                                                                                                                       \r"
     ]
    },
    {
     "name": "stdout",
     "output_type": "stream",
     "text": [
      "Moviepy - Done !\n",
      "Moviepy - video ready Resources/videos/testing/flip/0002.mp4\n",
      "Moviepy - Building video Resources/videos/testing/flip/0002.mp4.\n",
      "Moviepy - Writing video Resources/videos/testing/flip/0002.mp4\n",
      "\n"
     ]
    },
    {
     "name": "stderr",
     "output_type": "stream",
     "text": [
      "                                                                                                                       \r"
     ]
    },
    {
     "name": "stdout",
     "output_type": "stream",
     "text": [
      "Moviepy - Done !\n",
      "Moviepy - video ready Resources/videos/testing/flip/0002.mp4\n",
      "Moviepy - Building video Resources/videos/testing/flip/0003.mp4.\n",
      "Moviepy - Writing video Resources/videos/testing/flip/0003.mp4\n",
      "\n"
     ]
    },
    {
     "name": "stderr",
     "output_type": "stream",
     "text": [
      "                                                                                                                       \r"
     ]
    },
    {
     "name": "stdout",
     "output_type": "stream",
     "text": [
      "Moviepy - Done !\n",
      "Moviepy - video ready Resources/videos/testing/flip/0003.mp4\n",
      "Moviepy - Building video Resources/videos/testing/flip/0003.mp4.\n",
      "Moviepy - Writing video Resources/videos/testing/flip/0003.mp4\n",
      "\n"
     ]
    },
    {
     "name": "stderr",
     "output_type": "stream",
     "text": [
      "                                                                                                                       \r"
     ]
    },
    {
     "name": "stdout",
     "output_type": "stream",
     "text": [
      "Moviepy - Done !\n",
      "Moviepy - video ready Resources/videos/testing/flip/0003.mp4\n",
      "Moviepy - Building video Resources/videos/testing/flip/0003.mp4.\n",
      "Moviepy - Writing video Resources/videos/testing/flip/0003.mp4\n",
      "\n"
     ]
    },
    {
     "name": "stderr",
     "output_type": "stream",
     "text": [
      "                                                                                                                       \r"
     ]
    },
    {
     "name": "stdout",
     "output_type": "stream",
     "text": [
      "Moviepy - Done !\n",
      "Moviepy - video ready Resources/videos/testing/flip/0003.mp4\n",
      "Moviepy - Building video Resources/videos/testing/flip/0004.mp4.\n",
      "Moviepy - Writing video Resources/videos/testing/flip/0004.mp4\n",
      "\n"
     ]
    },
    {
     "name": "stderr",
     "output_type": "stream",
     "text": [
      "                                                                                                                       \r"
     ]
    },
    {
     "name": "stdout",
     "output_type": "stream",
     "text": [
      "Moviepy - Done !\n",
      "Moviepy - video ready Resources/videos/testing/flip/0004.mp4\n",
      "Moviepy - Building video Resources/videos/testing/flip/0004.mp4.\n",
      "Moviepy - Writing video Resources/videos/testing/flip/0004.mp4\n",
      "\n"
     ]
    },
    {
     "name": "stderr",
     "output_type": "stream",
     "text": [
      "                                                                                                                       \r"
     ]
    },
    {
     "name": "stdout",
     "output_type": "stream",
     "text": [
      "Moviepy - Done !\n",
      "Moviepy - video ready Resources/videos/testing/flip/0004.mp4\n",
      "Moviepy - Building video Resources/videos/testing/flip/0004.mp4.\n",
      "Moviepy - Writing video Resources/videos/testing/flip/0004.mp4\n",
      "\n"
     ]
    },
    {
     "name": "stderr",
     "output_type": "stream",
     "text": [
      "                                                                                                                       \r"
     ]
    },
    {
     "name": "stdout",
     "output_type": "stream",
     "text": [
      "Moviepy - Done !\n",
      "Moviepy - video ready Resources/videos/testing/flip/0004.mp4\n",
      "Moviepy - Building video Resources/videos/testing/flip/0005.mp4.\n",
      "Moviepy - Writing video Resources/videos/testing/flip/0005.mp4\n",
      "\n"
     ]
    },
    {
     "name": "stderr",
     "output_type": "stream",
     "text": [
      "                                                                                                                       \r"
     ]
    },
    {
     "name": "stdout",
     "output_type": "stream",
     "text": [
      "Moviepy - Done !\n",
      "Moviepy - video ready Resources/videos/testing/flip/0005.mp4\n",
      "Moviepy - Building video Resources/videos/testing/flip/0005.mp4.\n",
      "Moviepy - Writing video Resources/videos/testing/flip/0005.mp4\n",
      "\n"
     ]
    },
    {
     "name": "stderr",
     "output_type": "stream",
     "text": [
      "                                                                                                                       \r"
     ]
    },
    {
     "name": "stdout",
     "output_type": "stream",
     "text": [
      "Moviepy - Done !\n",
      "Moviepy - video ready Resources/videos/testing/flip/0005.mp4\n",
      "Moviepy - Building video Resources/videos/testing/flip/0005.mp4.\n",
      "Moviepy - Writing video Resources/videos/testing/flip/0005.mp4\n",
      "\n"
     ]
    },
    {
     "name": "stderr",
     "output_type": "stream",
     "text": [
      "                                                                                                                       \r"
     ]
    },
    {
     "name": "stdout",
     "output_type": "stream",
     "text": [
      "Moviepy - Done !\n",
      "Moviepy - video ready Resources/videos/testing/flip/0005.mp4\n",
      "Moviepy - Building video Resources/videos/testing/flip/0005.mp4.\n",
      "Moviepy - Writing video Resources/videos/testing/flip/0005.mp4\n",
      "\n"
     ]
    },
    {
     "name": "stderr",
     "output_type": "stream",
     "text": [
      "                                                                                                                       \r"
     ]
    },
    {
     "name": "stdout",
     "output_type": "stream",
     "text": [
      "Moviepy - Done !\n",
      "Moviepy - video ready Resources/videos/testing/flip/0005.mp4\n",
      "Moviepy - Building video Resources/videos/testing/flip/0006.mp4.\n",
      "Moviepy - Writing video Resources/videos/testing/flip/0006.mp4\n",
      "\n"
     ]
    },
    {
     "name": "stderr",
     "output_type": "stream",
     "text": [
      "                                                                                                                       \r"
     ]
    },
    {
     "name": "stdout",
     "output_type": "stream",
     "text": [
      "Moviepy - Done !\n",
      "Moviepy - video ready Resources/videos/testing/flip/0006.mp4\n",
      "Moviepy - Building video Resources/videos/testing/flip/0006.mp4.\n",
      "Moviepy - Writing video Resources/videos/testing/flip/0006.mp4\n",
      "\n"
     ]
    },
    {
     "name": "stderr",
     "output_type": "stream",
     "text": [
      "                                                                                                                       \r"
     ]
    },
    {
     "name": "stdout",
     "output_type": "stream",
     "text": [
      "Moviepy - Done !\n",
      "Moviepy - video ready Resources/videos/testing/flip/0006.mp4\n",
      "Moviepy - Building video Resources/videos/testing/flip/0006.mp4.\n",
      "Moviepy - Writing video Resources/videos/testing/flip/0006.mp4\n",
      "\n"
     ]
    },
    {
     "name": "stderr",
     "output_type": "stream",
     "text": [
      "                                                                                                                       \r"
     ]
    },
    {
     "name": "stdout",
     "output_type": "stream",
     "text": [
      "Moviepy - Done !\n",
      "Moviepy - video ready Resources/videos/testing/flip/0006.mp4\n",
      "Moviepy - Building video Resources/videos/testing/flip/0006.mp4.\n",
      "Moviepy - Writing video Resources/videos/testing/flip/0006.mp4\n",
      "\n"
     ]
    },
    {
     "name": "stderr",
     "output_type": "stream",
     "text": [
      "                                                                                                                       \r"
     ]
    },
    {
     "name": "stdout",
     "output_type": "stream",
     "text": [
      "Moviepy - Done !\n",
      "Moviepy - video ready Resources/videos/testing/flip/0006.mp4\n",
      "Moviepy - Building video Resources/videos/testing/flip/0006.mp4.\n",
      "Moviepy - Writing video Resources/videos/testing/flip/0006.mp4\n",
      "\n"
     ]
    },
    {
     "name": "stderr",
     "output_type": "stream",
     "text": [
      "                                                                                                                       \r"
     ]
    },
    {
     "name": "stdout",
     "output_type": "stream",
     "text": [
      "Moviepy - Done !\n",
      "Moviepy - video ready Resources/videos/testing/flip/0006.mp4\n",
      "Moviepy - Building video Resources/videos/testing/flip/0006.mp4.\n",
      "Moviepy - Writing video Resources/videos/testing/flip/0006.mp4\n",
      "\n"
     ]
    },
    {
     "name": "stderr",
     "output_type": "stream",
     "text": [
      "                                                                                                                       \r"
     ]
    },
    {
     "name": "stdout",
     "output_type": "stream",
     "text": [
      "Moviepy - Done !\n",
      "Moviepy - video ready Resources/videos/testing/flip/0006.mp4\n",
      "Moviepy - Building video Resources/videos/testing/flip/0006.mp4.\n",
      "Moviepy - Writing video Resources/videos/testing/flip/0006.mp4\n",
      "\n"
     ]
    },
    {
     "name": "stderr",
     "output_type": "stream",
     "text": [
      "                                                                                                                       \r"
     ]
    },
    {
     "name": "stdout",
     "output_type": "stream",
     "text": [
      "Moviepy - Done !\n",
      "Moviepy - video ready Resources/videos/testing/flip/0006.mp4\n",
      "Moviepy - Building video Resources/videos/testing/flip/0006.mp4.\n",
      "Moviepy - Writing video Resources/videos/testing/flip/0006.mp4\n",
      "\n"
     ]
    },
    {
     "name": "stderr",
     "output_type": "stream",
     "text": [
      "                                                                                                                       \r"
     ]
    },
    {
     "name": "stdout",
     "output_type": "stream",
     "text": [
      "Moviepy - Done !\n",
      "Moviepy - video ready Resources/videos/testing/flip/0006.mp4\n",
      "Moviepy - Building video Resources/videos/testing/flip/0007.mp4.\n",
      "Moviepy - Writing video Resources/videos/testing/flip/0007.mp4\n",
      "\n"
     ]
    },
    {
     "name": "stderr",
     "output_type": "stream",
     "text": [
      "                                                                                                                       \r"
     ]
    },
    {
     "name": "stdout",
     "output_type": "stream",
     "text": [
      "Moviepy - Done !\n",
      "Moviepy - video ready Resources/videos/testing/flip/0007.mp4\n",
      "Moviepy - Building video Resources/videos/testing/flip/0007.mp4.\n",
      "Moviepy - Writing video Resources/videos/testing/flip/0007.mp4\n",
      "\n"
     ]
    },
    {
     "name": "stderr",
     "output_type": "stream",
     "text": [
      "                                                                                                                       \r"
     ]
    },
    {
     "name": "stdout",
     "output_type": "stream",
     "text": [
      "Moviepy - Done !\n",
      "Moviepy - video ready Resources/videos/testing/flip/0007.mp4\n",
      "Moviepy - Building video Resources/videos/testing/flip/0008.mp4.\n",
      "Moviepy - Writing video Resources/videos/testing/flip/0008.mp4\n",
      "\n"
     ]
    },
    {
     "name": "stderr",
     "output_type": "stream",
     "text": [
      "                                                                                                                       \r"
     ]
    },
    {
     "name": "stdout",
     "output_type": "stream",
     "text": [
      "Moviepy - Done !\n",
      "Moviepy - video ready Resources/videos/testing/flip/0008.mp4\n",
      "Moviepy - Building video Resources/videos/testing/flip/0008.mp4.\n",
      "Moviepy - Writing video Resources/videos/testing/flip/0008.mp4\n",
      "\n"
     ]
    },
    {
     "name": "stderr",
     "output_type": "stream",
     "text": [
      "                                                                                                                       \r"
     ]
    },
    {
     "name": "stdout",
     "output_type": "stream",
     "text": [
      "Moviepy - Done !\n",
      "Moviepy - video ready Resources/videos/testing/flip/0008.mp4\n",
      "Moviepy - Building video Resources/videos/testing/flip/0008.mp4.\n",
      "Moviepy - Writing video Resources/videos/testing/flip/0008.mp4\n",
      "\n"
     ]
    },
    {
     "name": "stderr",
     "output_type": "stream",
     "text": [
      "                                                                                                                       \r"
     ]
    },
    {
     "name": "stdout",
     "output_type": "stream",
     "text": [
      "Moviepy - Done !\n",
      "Moviepy - video ready Resources/videos/testing/flip/0008.mp4\n",
      "Moviepy - Building video Resources/videos/testing/flip/0008.mp4.\n",
      "Moviepy - Writing video Resources/videos/testing/flip/0008.mp4\n",
      "\n"
     ]
    },
    {
     "name": "stderr",
     "output_type": "stream",
     "text": [
      "                                                                                                                       \r"
     ]
    },
    {
     "name": "stdout",
     "output_type": "stream",
     "text": [
      "Moviepy - Done !\n",
      "Moviepy - video ready Resources/videos/testing/flip/0008.mp4\n",
      "Moviepy - Building video Resources/videos/testing/flip/0009.mp4.\n",
      "Moviepy - Writing video Resources/videos/testing/flip/0009.mp4\n",
      "\n"
     ]
    },
    {
     "name": "stderr",
     "output_type": "stream",
     "text": [
      "                                                                                                                       \r"
     ]
    },
    {
     "name": "stdout",
     "output_type": "stream",
     "text": [
      "Moviepy - Done !\n",
      "Moviepy - video ready Resources/videos/testing/flip/0009.mp4\n",
      "Moviepy - Building video Resources/videos/testing/flip/0009.mp4.\n",
      "Moviepy - Writing video Resources/videos/testing/flip/0009.mp4\n",
      "\n"
     ]
    },
    {
     "name": "stderr",
     "output_type": "stream",
     "text": [
      "                                                                                                                       \r"
     ]
    },
    {
     "name": "stdout",
     "output_type": "stream",
     "text": [
      "Moviepy - Done !\n",
      "Moviepy - video ready Resources/videos/testing/flip/0009.mp4\n",
      "Moviepy - Building video Resources/videos/testing/flip/0009.mp4.\n",
      "Moviepy - Writing video Resources/videos/testing/flip/0009.mp4\n",
      "\n"
     ]
    },
    {
     "name": "stderr",
     "output_type": "stream",
     "text": [
      "                                                                                                                       \r"
     ]
    },
    {
     "name": "stdout",
     "output_type": "stream",
     "text": [
      "Moviepy - Done !\n",
      "Moviepy - video ready Resources/videos/testing/flip/0009.mp4\n",
      "Moviepy - Building video Resources/videos/testing/flip/0009.mp4.\n",
      "Moviepy - Writing video Resources/videos/testing/flip/0009.mp4\n",
      "\n"
     ]
    },
    {
     "name": "stderr",
     "output_type": "stream",
     "text": [
      "                                                                                                                       \r"
     ]
    },
    {
     "name": "stdout",
     "output_type": "stream",
     "text": [
      "Moviepy - Done !\n",
      "Moviepy - video ready Resources/videos/testing/flip/0009.mp4\n",
      "Moviepy - Building video Resources/videos/testing/flip/0009.mp4.\n",
      "Moviepy - Writing video Resources/videos/testing/flip/0009.mp4\n",
      "\n"
     ]
    },
    {
     "name": "stderr",
     "output_type": "stream",
     "text": [
      "                                                                                                                       \r"
     ]
    },
    {
     "name": "stdout",
     "output_type": "stream",
     "text": [
      "Moviepy - Done !\n",
      "Moviepy - video ready Resources/videos/testing/flip/0009.mp4\n",
      "Moviepy - Building video Resources/videos/testing/flip/0009.mp4.\n",
      "Moviepy - Writing video Resources/videos/testing/flip/0009.mp4\n",
      "\n"
     ]
    },
    {
     "name": "stderr",
     "output_type": "stream",
     "text": [
      "                                                                                                                       \r"
     ]
    },
    {
     "name": "stdout",
     "output_type": "stream",
     "text": [
      "Moviepy - Done !\n",
      "Moviepy - video ready Resources/videos/testing/flip/0009.mp4\n",
      "Moviepy - Building video Resources/videos/testing/flip/0010.mp4.\n",
      "Moviepy - Writing video Resources/videos/testing/flip/0010.mp4\n",
      "\n"
     ]
    },
    {
     "name": "stderr",
     "output_type": "stream",
     "text": [
      "                                                                                                                       \r"
     ]
    },
    {
     "name": "stdout",
     "output_type": "stream",
     "text": [
      "Moviepy - Done !\n",
      "Moviepy - video ready Resources/videos/testing/flip/0010.mp4\n",
      "Moviepy - Building video Resources/videos/testing/flip/0010.mp4.\n",
      "Moviepy - Writing video Resources/videos/testing/flip/0010.mp4\n",
      "\n"
     ]
    },
    {
     "name": "stderr",
     "output_type": "stream",
     "text": [
      "                                                                                                                       \r"
     ]
    },
    {
     "name": "stdout",
     "output_type": "stream",
     "text": [
      "Moviepy - Done !\n",
      "Moviepy - video ready Resources/videos/testing/flip/0010.mp4\n",
      "Moviepy - Building video Resources/videos/testing/flip/0010.mp4.\n",
      "Moviepy - Writing video Resources/videos/testing/flip/0010.mp4\n",
      "\n"
     ]
    },
    {
     "name": "stderr",
     "output_type": "stream",
     "text": [
      "                                                                                                                       \r"
     ]
    },
    {
     "name": "stdout",
     "output_type": "stream",
     "text": [
      "Moviepy - Done !\n",
      "Moviepy - video ready Resources/videos/testing/flip/0010.mp4\n",
      "Moviepy - Building video Resources/videos/testing/flip/0010.mp4.\n",
      "Moviepy - Writing video Resources/videos/testing/flip/0010.mp4\n",
      "\n"
     ]
    },
    {
     "name": "stderr",
     "output_type": "stream",
     "text": [
      "                                                                                                                       \r"
     ]
    },
    {
     "name": "stdout",
     "output_type": "stream",
     "text": [
      "Moviepy - Done !\n",
      "Moviepy - video ready Resources/videos/testing/flip/0010.mp4\n",
      "Moviepy - Building video Resources/videos/testing/flip/0010.mp4.\n",
      "Moviepy - Writing video Resources/videos/testing/flip/0010.mp4\n",
      "\n"
     ]
    },
    {
     "name": "stderr",
     "output_type": "stream",
     "text": [
      "                                                                                                                       \r"
     ]
    },
    {
     "name": "stdout",
     "output_type": "stream",
     "text": [
      "Moviepy - Done !\n",
      "Moviepy - video ready Resources/videos/testing/flip/0010.mp4\n"
     ]
    }
   ],
   "source": [
    "sequence(test_flip, ts_flip)"
   ]
  },
  {
   "cell_type": "code",
   "execution_count": 89,
   "id": "479d56a7",
   "metadata": {},
   "outputs": [
    {
     "name": "stdout",
     "output_type": "stream",
     "text": [
      "Moviepy - Building video Resources/videos/testing/notflip/0001.mp4.\n",
      "Moviepy - Writing video Resources/videos/testing/notflip/0001.mp4\n",
      "\n"
     ]
    },
    {
     "name": "stderr",
     "output_type": "stream",
     "text": [
      "                                                                                                                       \r"
     ]
    },
    {
     "name": "stdout",
     "output_type": "stream",
     "text": [
      "Moviepy - Done !\n",
      "Moviepy - video ready Resources/videos/testing/notflip/0001.mp4\n",
      "Moviepy - Building video Resources/videos/testing/notflip/0001.mp4.\n",
      "Moviepy - Writing video Resources/videos/testing/notflip/0001.mp4\n",
      "\n"
     ]
    },
    {
     "name": "stderr",
     "output_type": "stream",
     "text": [
      "                                                                                                                       \r"
     ]
    },
    {
     "name": "stdout",
     "output_type": "stream",
     "text": [
      "Moviepy - Done !\n",
      "Moviepy - video ready Resources/videos/testing/notflip/0001.mp4\n",
      "Moviepy - Building video Resources/videos/testing/notflip/0001.mp4.\n",
      "Moviepy - Writing video Resources/videos/testing/notflip/0001.mp4\n",
      "\n"
     ]
    },
    {
     "name": "stderr",
     "output_type": "stream",
     "text": [
      "                                                                                                                       \r"
     ]
    },
    {
     "name": "stdout",
     "output_type": "stream",
     "text": [
      "Moviepy - Done !\n",
      "Moviepy - video ready Resources/videos/testing/notflip/0001.mp4\n",
      "Moviepy - Building video Resources/videos/testing/notflip/0001.mp4.\n",
      "Moviepy - Writing video Resources/videos/testing/notflip/0001.mp4\n",
      "\n"
     ]
    },
    {
     "name": "stderr",
     "output_type": "stream",
     "text": [
      "                                                                                                                       \r"
     ]
    },
    {
     "name": "stdout",
     "output_type": "stream",
     "text": [
      "Moviepy - Done !\n",
      "Moviepy - video ready Resources/videos/testing/notflip/0001.mp4\n",
      "Moviepy - Building video Resources/videos/testing/notflip/0001.mp4.\n",
      "Moviepy - Writing video Resources/videos/testing/notflip/0001.mp4\n",
      "\n"
     ]
    },
    {
     "name": "stderr",
     "output_type": "stream",
     "text": [
      "                                                                                                                       \r"
     ]
    },
    {
     "name": "stdout",
     "output_type": "stream",
     "text": [
      "Moviepy - Done !\n",
      "Moviepy - video ready Resources/videos/testing/notflip/0001.mp4\n",
      "Moviepy - Building video Resources/videos/testing/notflip/0002.mp4.\n",
      "Moviepy - Writing video Resources/videos/testing/notflip/0002.mp4\n",
      "\n"
     ]
    },
    {
     "name": "stderr",
     "output_type": "stream",
     "text": [
      "                                                                                                                       \r"
     ]
    },
    {
     "name": "stdout",
     "output_type": "stream",
     "text": [
      "Moviepy - Done !\n",
      "Moviepy - video ready Resources/videos/testing/notflip/0002.mp4\n",
      "Moviepy - Building video Resources/videos/testing/notflip/0002.mp4.\n",
      "Moviepy - Writing video Resources/videos/testing/notflip/0002.mp4\n",
      "\n"
     ]
    },
    {
     "name": "stderr",
     "output_type": "stream",
     "text": [
      "                                                                                                                       \r"
     ]
    },
    {
     "name": "stdout",
     "output_type": "stream",
     "text": [
      "Moviepy - Done !\n",
      "Moviepy - video ready Resources/videos/testing/notflip/0002.mp4\n",
      "Moviepy - Building video Resources/videos/testing/notflip/0002.mp4.\n",
      "Moviepy - Writing video Resources/videos/testing/notflip/0002.mp4\n",
      "\n"
     ]
    },
    {
     "name": "stderr",
     "output_type": "stream",
     "text": [
      "                                                                                                                       \r"
     ]
    },
    {
     "name": "stdout",
     "output_type": "stream",
     "text": [
      "Moviepy - Done !\n",
      "Moviepy - video ready Resources/videos/testing/notflip/0002.mp4\n",
      "Moviepy - Building video Resources/videos/testing/notflip/0002.mp4.\n",
      "Moviepy - Writing video Resources/videos/testing/notflip/0002.mp4\n",
      "\n"
     ]
    },
    {
     "name": "stderr",
     "output_type": "stream",
     "text": [
      "                                                                                                                       \r"
     ]
    },
    {
     "name": "stdout",
     "output_type": "stream",
     "text": [
      "Moviepy - Done !\n",
      "Moviepy - video ready Resources/videos/testing/notflip/0002.mp4\n",
      "Moviepy - Building video Resources/videos/testing/notflip/0002.mp4.\n",
      "Moviepy - Writing video Resources/videos/testing/notflip/0002.mp4\n",
      "\n"
     ]
    },
    {
     "name": "stderr",
     "output_type": "stream",
     "text": [
      "                                                                                                                       \r"
     ]
    },
    {
     "name": "stdout",
     "output_type": "stream",
     "text": [
      "Moviepy - Done !\n",
      "Moviepy - video ready Resources/videos/testing/notflip/0002.mp4\n",
      "Moviepy - Building video Resources/videos/testing/notflip/0002.mp4.\n",
      "Moviepy - Writing video Resources/videos/testing/notflip/0002.mp4\n",
      "\n"
     ]
    },
    {
     "name": "stderr",
     "output_type": "stream",
     "text": [
      "                                                                                                                       \r"
     ]
    },
    {
     "name": "stdout",
     "output_type": "stream",
     "text": [
      "Moviepy - Done !\n",
      "Moviepy - video ready Resources/videos/testing/notflip/0002.mp4\n",
      "Moviepy - Building video Resources/videos/testing/notflip/0002.mp4.\n",
      "Moviepy - Writing video Resources/videos/testing/notflip/0002.mp4\n",
      "\n"
     ]
    },
    {
     "name": "stderr",
     "output_type": "stream",
     "text": [
      "                                                                                                                       \r"
     ]
    },
    {
     "name": "stdout",
     "output_type": "stream",
     "text": [
      "Moviepy - Done !\n",
      "Moviepy - video ready Resources/videos/testing/notflip/0002.mp4\n",
      "Moviepy - Building video Resources/videos/testing/notflip/0003.mp4.\n",
      "Moviepy - Writing video Resources/videos/testing/notflip/0003.mp4\n",
      "\n"
     ]
    },
    {
     "name": "stderr",
     "output_type": "stream",
     "text": [
      "                                                                                                                       \r"
     ]
    },
    {
     "name": "stdout",
     "output_type": "stream",
     "text": [
      "Moviepy - Done !\n",
      "Moviepy - video ready Resources/videos/testing/notflip/0003.mp4\n",
      "Moviepy - Building video Resources/videos/testing/notflip/0003.mp4.\n",
      "Moviepy - Writing video Resources/videos/testing/notflip/0003.mp4\n",
      "\n"
     ]
    },
    {
     "name": "stderr",
     "output_type": "stream",
     "text": [
      "                                                                                                                       \r"
     ]
    },
    {
     "name": "stdout",
     "output_type": "stream",
     "text": [
      "Moviepy - Done !\n",
      "Moviepy - video ready Resources/videos/testing/notflip/0003.mp4\n",
      "Moviepy - Building video Resources/videos/testing/notflip/0003.mp4.\n",
      "Moviepy - Writing video Resources/videos/testing/notflip/0003.mp4\n",
      "\n"
     ]
    },
    {
     "name": "stderr",
     "output_type": "stream",
     "text": [
      "                                                                                                                       \r"
     ]
    },
    {
     "name": "stdout",
     "output_type": "stream",
     "text": [
      "Moviepy - Done !\n",
      "Moviepy - video ready Resources/videos/testing/notflip/0003.mp4\n",
      "Moviepy - Building video Resources/videos/testing/notflip/0004.mp4.\n",
      "Moviepy - Writing video Resources/videos/testing/notflip/0004.mp4\n",
      "\n"
     ]
    },
    {
     "name": "stderr",
     "output_type": "stream",
     "text": [
      "                                                                                                                       \r"
     ]
    },
    {
     "name": "stdout",
     "output_type": "stream",
     "text": [
      "Moviepy - Done !\n",
      "Moviepy - video ready Resources/videos/testing/notflip/0004.mp4\n",
      "Moviepy - Building video Resources/videos/testing/notflip/0004.mp4.\n",
      "Moviepy - Writing video Resources/videos/testing/notflip/0004.mp4\n",
      "\n"
     ]
    },
    {
     "name": "stderr",
     "output_type": "stream",
     "text": [
      "                                                                                                                       \r"
     ]
    },
    {
     "name": "stdout",
     "output_type": "stream",
     "text": [
      "Moviepy - Done !\n",
      "Moviepy - video ready Resources/videos/testing/notflip/0004.mp4\n",
      "Moviepy - Building video Resources/videos/testing/notflip/0004.mp4.\n",
      "Moviepy - Writing video Resources/videos/testing/notflip/0004.mp4\n",
      "\n"
     ]
    },
    {
     "name": "stderr",
     "output_type": "stream",
     "text": [
      "                                                                                                                       \r"
     ]
    },
    {
     "name": "stdout",
     "output_type": "stream",
     "text": [
      "Moviepy - Done !\n",
      "Moviepy - video ready Resources/videos/testing/notflip/0004.mp4\n",
      "Moviepy - Building video Resources/videos/testing/notflip/0004.mp4.\n",
      "Moviepy - Writing video Resources/videos/testing/notflip/0004.mp4\n",
      "\n"
     ]
    },
    {
     "name": "stderr",
     "output_type": "stream",
     "text": [
      "                                                                                                                       \r"
     ]
    },
    {
     "name": "stdout",
     "output_type": "stream",
     "text": [
      "Moviepy - Done !\n",
      "Moviepy - video ready Resources/videos/testing/notflip/0004.mp4\n",
      "Moviepy - Building video Resources/videos/testing/notflip/0004.mp4.\n",
      "Moviepy - Writing video Resources/videos/testing/notflip/0004.mp4\n",
      "\n"
     ]
    },
    {
     "name": "stderr",
     "output_type": "stream",
     "text": [
      "                                                                                                                       \r"
     ]
    },
    {
     "name": "stdout",
     "output_type": "stream",
     "text": [
      "Moviepy - Done !\n",
      "Moviepy - video ready Resources/videos/testing/notflip/0004.mp4\n",
      "Moviepy - Building video Resources/videos/testing/notflip/0004.mp4.\n",
      "Moviepy - Writing video Resources/videos/testing/notflip/0004.mp4\n",
      "\n"
     ]
    },
    {
     "name": "stderr",
     "output_type": "stream",
     "text": [
      "                                                                                                                       \r"
     ]
    },
    {
     "name": "stdout",
     "output_type": "stream",
     "text": [
      "Moviepy - Done !\n",
      "Moviepy - video ready Resources/videos/testing/notflip/0004.mp4\n",
      "Moviepy - Building video Resources/videos/testing/notflip/0004.mp4.\n",
      "Moviepy - Writing video Resources/videos/testing/notflip/0004.mp4\n",
      "\n"
     ]
    },
    {
     "name": "stderr",
     "output_type": "stream",
     "text": [
      "                                                                                                                       \r"
     ]
    },
    {
     "name": "stdout",
     "output_type": "stream",
     "text": [
      "Moviepy - Done !\n",
      "Moviepy - video ready Resources/videos/testing/notflip/0004.mp4\n",
      "Moviepy - Building video Resources/videos/testing/notflip/0004.mp4.\n",
      "Moviepy - Writing video Resources/videos/testing/notflip/0004.mp4\n",
      "\n"
     ]
    },
    {
     "name": "stderr",
     "output_type": "stream",
     "text": [
      "                                                                                                                       \r"
     ]
    },
    {
     "name": "stdout",
     "output_type": "stream",
     "text": [
      "Moviepy - Done !\n",
      "Moviepy - video ready Resources/videos/testing/notflip/0004.mp4\n",
      "Moviepy - Building video Resources/videos/testing/notflip/0005.mp4.\n",
      "Moviepy - Writing video Resources/videos/testing/notflip/0005.mp4\n",
      "\n"
     ]
    },
    {
     "name": "stderr",
     "output_type": "stream",
     "text": [
      "                                                                                                                       \r"
     ]
    },
    {
     "name": "stdout",
     "output_type": "stream",
     "text": [
      "Moviepy - Done !\n",
      "Moviepy - video ready Resources/videos/testing/notflip/0005.mp4\n",
      "Moviepy - Building video Resources/videos/testing/notflip/0005.mp4.\n",
      "Moviepy - Writing video Resources/videos/testing/notflip/0005.mp4\n",
      "\n"
     ]
    },
    {
     "name": "stderr",
     "output_type": "stream",
     "text": [
      "                                                                                                                       \r"
     ]
    },
    {
     "name": "stdout",
     "output_type": "stream",
     "text": [
      "Moviepy - Done !\n",
      "Moviepy - video ready Resources/videos/testing/notflip/0005.mp4\n",
      "Moviepy - Building video Resources/videos/testing/notflip/0005.mp4.\n",
      "Moviepy - Writing video Resources/videos/testing/notflip/0005.mp4\n",
      "\n"
     ]
    },
    {
     "name": "stderr",
     "output_type": "stream",
     "text": [
      "                                                                                                                       \r"
     ]
    },
    {
     "name": "stdout",
     "output_type": "stream",
     "text": [
      "Moviepy - Done !\n",
      "Moviepy - video ready Resources/videos/testing/notflip/0005.mp4\n",
      "Moviepy - Building video Resources/videos/testing/notflip/0005.mp4.\n",
      "Moviepy - Writing video Resources/videos/testing/notflip/0005.mp4\n",
      "\n"
     ]
    },
    {
     "name": "stderr",
     "output_type": "stream",
     "text": [
      "                                                                                                                       \r"
     ]
    },
    {
     "name": "stdout",
     "output_type": "stream",
     "text": [
      "Moviepy - Done !\n",
      "Moviepy - video ready Resources/videos/testing/notflip/0005.mp4\n",
      "Moviepy - Building video Resources/videos/testing/notflip/0006.mp4.\n",
      "Moviepy - Writing video Resources/videos/testing/notflip/0006.mp4\n",
      "\n"
     ]
    },
    {
     "name": "stderr",
     "output_type": "stream",
     "text": [
      "                                                                                                                       \r"
     ]
    },
    {
     "name": "stdout",
     "output_type": "stream",
     "text": [
      "Moviepy - Done !\n",
      "Moviepy - video ready Resources/videos/testing/notflip/0006.mp4\n",
      "Moviepy - Building video Resources/videos/testing/notflip/0006.mp4.\n",
      "Moviepy - Writing video Resources/videos/testing/notflip/0006.mp4\n",
      "\n"
     ]
    },
    {
     "name": "stderr",
     "output_type": "stream",
     "text": [
      "                                                                                                                       \r"
     ]
    },
    {
     "name": "stdout",
     "output_type": "stream",
     "text": [
      "Moviepy - Done !\n",
      "Moviepy - video ready Resources/videos/testing/notflip/0006.mp4\n",
      "Moviepy - Building video Resources/videos/testing/notflip/0006.mp4.\n",
      "Moviepy - Writing video Resources/videos/testing/notflip/0006.mp4\n",
      "\n"
     ]
    },
    {
     "name": "stderr",
     "output_type": "stream",
     "text": [
      "                                                                                                                       \r"
     ]
    },
    {
     "name": "stdout",
     "output_type": "stream",
     "text": [
      "Moviepy - Done !\n",
      "Moviepy - video ready Resources/videos/testing/notflip/0006.mp4\n",
      "Moviepy - Building video Resources/videos/testing/notflip/0006.mp4.\n",
      "Moviepy - Writing video Resources/videos/testing/notflip/0006.mp4\n",
      "\n"
     ]
    },
    {
     "name": "stderr",
     "output_type": "stream",
     "text": [
      "                                                                                                                       \r"
     ]
    },
    {
     "name": "stdout",
     "output_type": "stream",
     "text": [
      "Moviepy - Done !\n",
      "Moviepy - video ready Resources/videos/testing/notflip/0006.mp4\n",
      "Moviepy - Building video Resources/videos/testing/notflip/0006.mp4.\n",
      "Moviepy - Writing video Resources/videos/testing/notflip/0006.mp4\n",
      "\n"
     ]
    },
    {
     "name": "stderr",
     "output_type": "stream",
     "text": [
      "                                                                                                                       \r"
     ]
    },
    {
     "name": "stdout",
     "output_type": "stream",
     "text": [
      "Moviepy - Done !\n",
      "Moviepy - video ready Resources/videos/testing/notflip/0006.mp4\n",
      "Moviepy - Building video Resources/videos/testing/notflip/0006.mp4.\n",
      "Moviepy - Writing video Resources/videos/testing/notflip/0006.mp4\n",
      "\n"
     ]
    },
    {
     "name": "stderr",
     "output_type": "stream",
     "text": [
      "                                                                                                                       \r"
     ]
    },
    {
     "name": "stdout",
     "output_type": "stream",
     "text": [
      "Moviepy - Done !\n",
      "Moviepy - video ready Resources/videos/testing/notflip/0006.mp4\n",
      "Moviepy - Building video Resources/videos/testing/notflip/0006.mp4.\n",
      "Moviepy - Writing video Resources/videos/testing/notflip/0006.mp4\n",
      "\n"
     ]
    },
    {
     "name": "stderr",
     "output_type": "stream",
     "text": [
      "                                                                                                                       \r"
     ]
    },
    {
     "name": "stdout",
     "output_type": "stream",
     "text": [
      "Moviepy - Done !\n",
      "Moviepy - video ready Resources/videos/testing/notflip/0006.mp4\n",
      "Moviepy - Building video Resources/videos/testing/notflip/0006.mp4.\n",
      "Moviepy - Writing video Resources/videos/testing/notflip/0006.mp4\n",
      "\n"
     ]
    },
    {
     "name": "stderr",
     "output_type": "stream",
     "text": [
      "                                                                                                                       \r"
     ]
    },
    {
     "name": "stdout",
     "output_type": "stream",
     "text": [
      "Moviepy - Done !\n",
      "Moviepy - video ready Resources/videos/testing/notflip/0006.mp4\n",
      "Moviepy - Building video Resources/videos/testing/notflip/0006.mp4.\n",
      "Moviepy - Writing video Resources/videos/testing/notflip/0006.mp4\n",
      "\n"
     ]
    },
    {
     "name": "stderr",
     "output_type": "stream",
     "text": [
      "                                                                                                                       \r"
     ]
    },
    {
     "name": "stdout",
     "output_type": "stream",
     "text": [
      "Moviepy - Done !\n",
      "Moviepy - video ready Resources/videos/testing/notflip/0006.mp4\n",
      "Moviepy - Building video Resources/videos/testing/notflip/0007.mp4.\n",
      "Moviepy - Writing video Resources/videos/testing/notflip/0007.mp4\n",
      "\n"
     ]
    },
    {
     "name": "stderr",
     "output_type": "stream",
     "text": [
      "                                                                                                                       \r"
     ]
    },
    {
     "name": "stdout",
     "output_type": "stream",
     "text": [
      "Moviepy - Done !\n",
      "Moviepy - video ready Resources/videos/testing/notflip/0007.mp4\n",
      "Moviepy - Building video Resources/videos/testing/notflip/0008.mp4.\n",
      "Moviepy - Writing video Resources/videos/testing/notflip/0008.mp4\n",
      "\n"
     ]
    },
    {
     "name": "stderr",
     "output_type": "stream",
     "text": [
      "                                                                                                                       \r"
     ]
    },
    {
     "name": "stdout",
     "output_type": "stream",
     "text": [
      "Moviepy - Done !\n",
      "Moviepy - video ready Resources/videos/testing/notflip/0008.mp4\n",
      "Moviepy - Building video Resources/videos/testing/notflip/0008.mp4.\n",
      "Moviepy - Writing video Resources/videos/testing/notflip/0008.mp4\n",
      "\n"
     ]
    },
    {
     "name": "stderr",
     "output_type": "stream",
     "text": [
      "                                                                                                                       \r"
     ]
    },
    {
     "name": "stdout",
     "output_type": "stream",
     "text": [
      "Moviepy - Done !\n",
      "Moviepy - video ready Resources/videos/testing/notflip/0008.mp4\n",
      "Moviepy - Building video Resources/videos/testing/notflip/0008.mp4.\n",
      "Moviepy - Writing video Resources/videos/testing/notflip/0008.mp4\n",
      "\n"
     ]
    },
    {
     "name": "stderr",
     "output_type": "stream",
     "text": [
      "                                                                                                                       \r"
     ]
    },
    {
     "name": "stdout",
     "output_type": "stream",
     "text": [
      "Moviepy - Done !\n",
      "Moviepy - video ready Resources/videos/testing/notflip/0008.mp4\n",
      "Moviepy - Building video Resources/videos/testing/notflip/0008.mp4.\n",
      "Moviepy - Writing video Resources/videos/testing/notflip/0008.mp4\n",
      "\n"
     ]
    },
    {
     "name": "stderr",
     "output_type": "stream",
     "text": [
      "                                                                                                                       \r"
     ]
    },
    {
     "name": "stdout",
     "output_type": "stream",
     "text": [
      "Moviepy - Done !\n",
      "Moviepy - video ready Resources/videos/testing/notflip/0008.mp4\n",
      "Moviepy - Building video Resources/videos/testing/notflip/0008.mp4.\n",
      "Moviepy - Writing video Resources/videos/testing/notflip/0008.mp4\n",
      "\n"
     ]
    },
    {
     "name": "stderr",
     "output_type": "stream",
     "text": [
      "                                                                                                                       \r"
     ]
    },
    {
     "name": "stdout",
     "output_type": "stream",
     "text": [
      "Moviepy - Done !\n",
      "Moviepy - video ready Resources/videos/testing/notflip/0008.mp4\n",
      "Moviepy - Building video Resources/videos/testing/notflip/0009.mp4.\n",
      "Moviepy - Writing video Resources/videos/testing/notflip/0009.mp4\n",
      "\n"
     ]
    },
    {
     "name": "stderr",
     "output_type": "stream",
     "text": [
      "                                                                                                                       \r"
     ]
    },
    {
     "name": "stdout",
     "output_type": "stream",
     "text": [
      "Moviepy - Done !\n",
      "Moviepy - video ready Resources/videos/testing/notflip/0009.mp4\n",
      "Moviepy - Building video Resources/videos/testing/notflip/0009.mp4.\n",
      "Moviepy - Writing video Resources/videos/testing/notflip/0009.mp4\n",
      "\n"
     ]
    },
    {
     "name": "stderr",
     "output_type": "stream",
     "text": [
      "                                                                                                                       \r"
     ]
    },
    {
     "name": "stdout",
     "output_type": "stream",
     "text": [
      "Moviepy - Done !\n",
      "Moviepy - video ready Resources/videos/testing/notflip/0009.mp4\n",
      "Moviepy - Building video Resources/videos/testing/notflip/0009.mp4.\n",
      "Moviepy - Writing video Resources/videos/testing/notflip/0009.mp4\n",
      "\n"
     ]
    },
    {
     "name": "stderr",
     "output_type": "stream",
     "text": [
      "                                                                                                                       \r"
     ]
    },
    {
     "name": "stdout",
     "output_type": "stream",
     "text": [
      "Moviepy - Done !\n",
      "Moviepy - video ready Resources/videos/testing/notflip/0009.mp4\n",
      "Moviepy - Building video Resources/videos/testing/notflip/0009.mp4.\n",
      "Moviepy - Writing video Resources/videos/testing/notflip/0009.mp4\n",
      "\n"
     ]
    },
    {
     "name": "stderr",
     "output_type": "stream",
     "text": [
      "                                                                                                                       \r"
     ]
    },
    {
     "name": "stdout",
     "output_type": "stream",
     "text": [
      "Moviepy - Done !\n",
      "Moviepy - video ready Resources/videos/testing/notflip/0009.mp4\n",
      "Moviepy - Building video Resources/videos/testing/notflip/0009.mp4.\n",
      "Moviepy - Writing video Resources/videos/testing/notflip/0009.mp4\n",
      "\n"
     ]
    },
    {
     "name": "stderr",
     "output_type": "stream",
     "text": [
      "                                                                                                                       \r"
     ]
    },
    {
     "name": "stdout",
     "output_type": "stream",
     "text": [
      "Moviepy - Done !\n",
      "Moviepy - video ready Resources/videos/testing/notflip/0009.mp4\n",
      "Moviepy - Building video Resources/videos/testing/notflip/0009.mp4.\n",
      "Moviepy - Writing video Resources/videos/testing/notflip/0009.mp4\n",
      "\n"
     ]
    },
    {
     "name": "stderr",
     "output_type": "stream",
     "text": [
      "                                                                                                                       \r"
     ]
    },
    {
     "name": "stdout",
     "output_type": "stream",
     "text": [
      "Moviepy - Done !\n",
      "Moviepy - video ready Resources/videos/testing/notflip/0009.mp4\n",
      "Moviepy - Building video Resources/videos/testing/notflip/0009.mp4.\n",
      "Moviepy - Writing video Resources/videos/testing/notflip/0009.mp4\n",
      "\n"
     ]
    },
    {
     "name": "stderr",
     "output_type": "stream",
     "text": [
      "                                                                                                                       \r"
     ]
    },
    {
     "name": "stdout",
     "output_type": "stream",
     "text": [
      "Moviepy - Done !\n",
      "Moviepy - video ready Resources/videos/testing/notflip/0009.mp4\n",
      "Moviepy - Building video Resources/videos/testing/notflip/0010.mp4.\n",
      "Moviepy - Writing video Resources/videos/testing/notflip/0010.mp4\n",
      "\n"
     ]
    },
    {
     "name": "stderr",
     "output_type": "stream",
     "text": [
      "                                                                                                                       \r"
     ]
    },
    {
     "name": "stdout",
     "output_type": "stream",
     "text": [
      "Moviepy - Done !\n",
      "Moviepy - video ready Resources/videos/testing/notflip/0010.mp4\n",
      "Moviepy - Building video Resources/videos/testing/notflip/0010.mp4.\n",
      "Moviepy - Writing video Resources/videos/testing/notflip/0010.mp4\n",
      "\n"
     ]
    },
    {
     "name": "stderr",
     "output_type": "stream",
     "text": [
      "                                                                                                                       \r"
     ]
    },
    {
     "name": "stdout",
     "output_type": "stream",
     "text": [
      "Moviepy - Done !\n",
      "Moviepy - video ready Resources/videos/testing/notflip/0010.mp4\n"
     ]
    }
   ],
   "source": [
    "sequence(test_notflip, ts_np)"
   ]
  },
  {
   "cell_type": "code",
   "execution_count": 94,
   "id": "c01c050f",
   "metadata": {},
   "outputs": [
    {
     "name": "stdout",
     "output_type": "stream",
     "text": [
      "class testing, validation count: 0, train count: 0\n",
      "class training, validation count: 0, train count: 0\n",
      "Total data: 2 classes for 0 files for train\n"
     ]
    }
   ],
   "source": [
    "classes = [i.split(os.path.sep)[1] for i in glob.glob('Resources/videos/*')]\n",
    "classes.sort()\n",
    "# some global params\n",
    "SIZE = (112, 112)\n",
    "CHANNELS = 3\n",
    "NBFRAME = 5\n",
    "BS = 8\n",
    "# pattern to get videos and classes\n",
    "glob_pattern='Resources/videos/{classname}/*.avi'\n",
    "# for data augmentation\n",
    "data_aug = tensorflow.keras.preprocessing.image.ImageDataGenerator(\n",
    "    zoom_range=.1,\n",
    "    horizontal_flip=True,\n",
    "    rotation_range=8,\n",
    "    width_shift_range=.2,\n",
    "    height_shift_range=.2)\n",
    "# Create video frame generator\n",
    "train = VideoFrameGenerator(\n",
    "    classes=classes, \n",
    "    glob_pattern=glob_pattern,\n",
    "    nb_frames=NBFRAME,\n",
    "    split_val=.33, \n",
    "    shuffle=True,\n",
    "    batch_size=BS,\n",
    "    target_shape=SIZE,\n",
    "    nb_channel=CHANNELS,\n",
    "    transformation=data_aug,\n",
    "    use_frame_cache=True)"
   ]
  },
  {
   "cell_type": "code",
   "execution_count": 95,
   "id": "e3b99eda",
   "metadata": {},
   "outputs": [
    {
     "name": "stdout",
     "output_type": "stream",
     "text": [
      "Total data: 2 classes for 0 files for validation\n"
     ]
    }
   ],
   "source": [
    "valid = train.get_validation_generator()"
   ]
  },
  {
   "cell_type": "code",
   "execution_count": 6,
   "id": "4dd546a4",
   "metadata": {},
   "outputs": [
    {
     "name": "stdout",
     "output_type": "stream",
     "text": [
      "64\n"
     ]
    }
   ],
   "source": [
    "import struct\n",
    "print (struct.calcsize(\"P\") * 8)"
   ]
  },
  {
   "cell_type": "code",
   "execution_count": 7,
   "id": "baa0a603",
   "metadata": {},
   "outputs": [
    {
     "data": {
      "text/plain": [
       "'2.5.0'"
      ]
     },
     "execution_count": 7,
     "metadata": {},
     "output_type": "execute_result"
    }
   ],
   "source": [
    "import tensorflow\n",
    "tensorflow.__version__\n"
   ]
  },
  {
   "cell_type": "code",
   "execution_count": 8,
   "id": "32ac1c7e",
   "metadata": {},
   "outputs": [
    {
     "name": "stdout",
     "output_type": "stream",
     "text": [
      "3.7.13\n"
     ]
    }
   ],
   "source": [
    "from platform import python_version\n",
    "print(python_version())"
   ]
  },
  {
   "cell_type": "code",
   "execution_count": 9,
   "id": "615f8796",
   "metadata": {},
   "outputs": [
    {
     "data": {
      "text/plain": [
       "'2.3.1'"
      ]
     },
     "execution_count": 9,
     "metadata": {},
     "output_type": "execute_result"
    }
   ],
   "source": [
    "import keras\n",
    "keras.__version__"
   ]
  },
  {
   "cell_type": "code",
   "execution_count": null,
   "id": "52df0212",
   "metadata": {},
   "outputs": [],
   "source": []
  }
 ],
 "metadata": {
  "kernelspec": {
   "display_name": "Python [conda env:SequenceData] *",
   "language": "python",
   "name": "conda-env-SequenceData-py"
  },
  "language_info": {
   "codemirror_mode": {
    "name": "ipython",
    "version": 3
   },
   "file_extension": ".py",
   "mimetype": "text/x-python",
   "name": "python",
   "nbconvert_exporter": "python",
   "pygments_lexer": "ipython3",
   "version": "3.7.13"
  }
 },
 "nbformat": 4,
 "nbformat_minor": 5
}
